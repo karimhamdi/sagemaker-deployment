{
 "cells": [
  {
   "cell_type": "markdown",
   "metadata": {},
   "source": [
    "# Predicting Boston Housing Prices\n",
    "\n",
    "## Using XGBoost in SageMaker (Hyperparameter Tuning)\n",
    "\n",
    "_Deep Learning Nanodegree Program | Deployment_\n",
    "\n",
    "---\n",
    "\n",
    "As an introduction to using SageMaker's High Level Python API for hyperparameter tuning, we will look again at the [Boston Housing Dataset](https://www.cs.toronto.edu/~delve/data/boston/bostonDetail.html) to predict the median value of a home in the area of Boston Mass.\n",
    "\n",
    "The documentation for the high level API can be found on the [ReadTheDocs page](http://sagemaker.readthedocs.io/en/latest/)\n",
    "\n",
    "## General Outline\n",
    "\n",
    "Typically, when using a notebook instance with SageMaker, you will proceed through the following steps. Of course, not every step will need to be done with each project. Also, there is quite a lot of room for variation in many of the steps, as you will see throughout these lessons.\n",
    "\n",
    "1. Download or otherwise retrieve the data.\n",
    "2. Process / Prepare the data.\n",
    "3. Upload the processed data to S3.\n",
    "4. Train a chosen model.\n",
    "5. Test the trained model (typically using a batch transform job).\n",
    "6. Deploy the trained model.\n",
    "7. Use the deployed model.\n",
    "\n",
    "In this notebook we will only be covering steps 1 through 5 as we are only interested in creating a tuned model and testing its performance."
   ]
  },
  {
   "cell_type": "markdown",
   "metadata": {},
   "source": [
    "## Step 0: Setting up the notebook\n",
    "\n",
    "We begin by setting up all of the necessary bits required to run our notebook. To start that means loading all of the Python modules we will need."
   ]
  },
  {
   "cell_type": "code",
   "execution_count": 1,
   "metadata": {},
   "outputs": [],
   "source": [
    "%matplotlib inline\n",
    "\n",
    "import os\n",
    "\n",
    "import numpy as np\n",
    "import pandas as pd\n",
    "\n",
    "import matplotlib.pyplot as plt\n",
    "\n",
    "from sklearn.datasets import load_boston\n",
    "import sklearn.model_selection"
   ]
  },
  {
   "cell_type": "markdown",
   "metadata": {},
   "source": [
    "In addition to the modules above, we need to import the various bits of SageMaker that we will be using. "
   ]
  },
  {
   "cell_type": "code",
   "execution_count": 2,
   "metadata": {},
   "outputs": [],
   "source": [
    "import sagemaker\n",
    "from sagemaker import get_execution_role\n",
    "from sagemaker.amazon.amazon_estimator import get_image_uri\n",
    "from sagemaker.predictor import csv_serializer\n",
    "\n",
    "# This is an object that represents the SageMaker session that we are currently operating in. This\n",
    "# object contains some useful information that we will need to access later such as our region.\n",
    "session = sagemaker.Session()\n",
    "\n",
    "# This is an object that represents the IAM role that we are currently assigned. When we construct\n",
    "# and launch the training job later we will need to tell it what IAM role it should have. Since our\n",
    "# use case is relatively simple we will simply assign the training job the role we currently have.\n",
    "role = get_execution_role()"
   ]
  },
  {
   "cell_type": "markdown",
   "metadata": {},
   "source": [
    "## Step 1: Downloading the data\n",
    "\n",
    "Fortunately, this dataset can be retrieved using sklearn and so this step is relatively straightforward."
   ]
  },
  {
   "cell_type": "code",
   "execution_count": 3,
   "metadata": {},
   "outputs": [],
   "source": [
    "boston = load_boston()"
   ]
  },
  {
   "cell_type": "markdown",
   "metadata": {},
   "source": [
    "## Step 2: Preparing and splitting the data\n",
    "\n",
    "Given that this is clean tabular data, we don't need to do any processing. However, we do need to split the rows in the dataset up into train, test and validation sets."
   ]
  },
  {
   "cell_type": "code",
   "execution_count": 4,
   "metadata": {},
   "outputs": [],
   "source": [
    "# First we package up the input data and the target variable (the median value) as pandas dataframes. This\n",
    "# will make saving the data to a file a little easier later on.\n",
    "\n",
    "X_bos_pd = pd.DataFrame(boston.data, columns=boston.feature_names)\n",
    "Y_bos_pd = pd.DataFrame(boston.target)\n",
    "\n",
    "# We split the dataset into 2/3 training and 1/3 testing sets.\n",
    "X_train, X_test, Y_train, Y_test = sklearn.model_selection.train_test_split(X_bos_pd, Y_bos_pd, test_size=0.33)\n",
    "\n",
    "# Then we split the training set further into 2/3 training and 1/3 validation sets.\n",
    "X_train, X_val, Y_train, Y_val = sklearn.model_selection.train_test_split(X_train, Y_train, test_size=0.33)"
   ]
  },
  {
   "cell_type": "markdown",
   "metadata": {},
   "source": [
    "## Step 3: Uploading the data files to S3\n",
    "\n",
    "When a training job is constructed using SageMaker, a container is executed which performs the training operation. This container is given access to data that is stored in S3. This means that we need to upload the data we want to use for training to S3. In addition, when we perform a batch transform job, SageMaker expects the input data to be stored on S3. We can use the SageMaker API to do this and hide some of the details.\n",
    "\n",
    "### Save the data locally\n",
    "\n",
    "First we need to create the test, train and validation csv files which we will then upload to S3."
   ]
  },
  {
   "cell_type": "code",
   "execution_count": 5,
   "metadata": {},
   "outputs": [],
   "source": [
    "# This is our local data directory. We need to make sure that it exists.\n",
    "data_dir = '../data/boston'\n",
    "if not os.path.exists(data_dir):\n",
    "    os.makedirs(data_dir)"
   ]
  },
  {
   "cell_type": "code",
   "execution_count": 6,
   "metadata": {},
   "outputs": [],
   "source": [
    "# We use pandas to save our test, train and validation data to csv files. Note that we make sure not to include header\n",
    "# information or an index as this is required by the built in algorithms provided by Amazon. Also, for the train and\n",
    "# validation data, it is assumed that the first entry in each row is the target variable.\n",
    "\n",
    "X_test.to_csv(os.path.join(data_dir, 'test.csv'), header=False, index=False)\n",
    "\n",
    "pd.concat([Y_val, X_val], axis=1).to_csv(os.path.join(data_dir, 'validation.csv'), header=False, index=False)\n",
    "pd.concat([Y_train, X_train], axis=1).to_csv(os.path.join(data_dir, 'train.csv'), header=False, index=False)"
   ]
  },
  {
   "cell_type": "markdown",
   "metadata": {},
   "source": [
    "### Upload to S3\n",
    "\n",
    "Since we are currently running inside of a SageMaker session, we can use the object which represents this session to upload our data to the 'default' S3 bucket. Note that it is good practice to provide a custom prefix (essentially an S3 folder) to make sure that you don't accidentally interfere with data uploaded from some other notebook or project."
   ]
  },
  {
   "cell_type": "code",
   "execution_count": 7,
   "metadata": {},
   "outputs": [],
   "source": [
    "prefix = 'boston-xgboost-tuning-HL'\n",
    "\n",
    "test_location = session.upload_data(os.path.join(data_dir, 'test.csv'), key_prefix=prefix)\n",
    "val_location = session.upload_data(os.path.join(data_dir, 'validation.csv'), key_prefix=prefix)\n",
    "train_location = session.upload_data(os.path.join(data_dir, 'train.csv'), key_prefix=prefix)"
   ]
  },
  {
   "cell_type": "markdown",
   "metadata": {},
   "source": [
    "## Step 4: Train the XGBoost model\n",
    "\n",
    "Now that we have the training and validation data uploaded to S3, we can construct our XGBoost model and train it. Unlike in the previous notebooks, instead of training a single model, we will use SageMaker's hyperparameter tuning functionality to train multiple models and use the one that performs the best on the validation set.\n",
    "\n",
    "To begin with, as in the previous approaches, we will need to construct an estimator object."
   ]
  },
  {
   "cell_type": "code",
   "execution_count": 9,
   "metadata": {},
   "outputs": [],
   "source": [
    "# As stated above, we use this utility method to construct the image name for the training container.\n",
    "container = get_image_uri(session.boto_region_name, 'xgboost', \"0.90-1\")\n",
    "\n",
    "# Now that we know which container to use, we can construct the estimator object.\n",
    "xgb = sagemaker.estimator.Estimator(container, # The name of the training container\n",
    "                                    role,      # The IAM role to use (our current role in this case)\n",
    "                                    train_instance_count=1, # The number of instances to use for training\n",
    "                                    train_instance_type='ml.m4.xlarge', # The type of instance ot use for training\n",
    "                                    output_path='s3://{}/{}/output'.format(session.default_bucket(), prefix),\n",
    "                                                                        # Where to save the output (the model artifacts)\n",
    "                                    sagemaker_session=session) # The current SageMaker session"
   ]
  },
  {
   "cell_type": "markdown",
   "metadata": {},
   "source": [
    "Before beginning the hyperparameter tuning, we should make sure to set any model specific hyperparameters that we wish to have default values. There are quite a few that can be set when using the XGBoost algorithm, below are just a few of them. If you would like to change the hyperparameters below or modify additional ones you can find additional information on the [XGBoost hyperparameter page](https://docs.aws.amazon.com/sagemaker/latest/dg/xgboost_hyperparameters.html)"
   ]
  },
  {
   "cell_type": "code",
   "execution_count": 10,
   "metadata": {},
   "outputs": [],
   "source": [
    "xgb.set_hyperparameters(max_depth=5,\n",
    "                        eta=0.2,\n",
    "                        gamma=4,\n",
    "                        min_child_weight=6)"
   ]
  },
  {
   "cell_type": "code",
   "execution_count": 12,
   "metadata": {},
   "outputs": [
    {
     "data": {
      "text/plain": [
       "{'max_depth': 5, 'eta': 0.2, 'gamma': 4, 'min_child_weight': 6}"
      ]
     },
     "execution_count": 12,
     "metadata": {},
     "output_type": "execute_result"
    }
   ],
   "source": [
    "xgb.hyperparameters()"
   ]
  },
  {
   "cell_type": "code",
   "execution_count": 13,
   "metadata": {},
   "outputs": [],
   "source": [
    "xgb.set_hyperparameters(subsample=0.8,\n",
    "                        objective='reg:squarederror',\n",
    "                        early_stopping_rounds=10,\n",
    "                        num_round=200)"
   ]
  },
  {
   "cell_type": "code",
   "execution_count": 14,
   "metadata": {},
   "outputs": [
    {
     "data": {
      "text/plain": [
       "{'max_depth': 5,\n",
       " 'eta': 0.2,\n",
       " 'gamma': 4,\n",
       " 'min_child_weight': 6,\n",
       " 'subsample': 0.8,\n",
       " 'objective': 'reg:squarederror',\n",
       " 'early_stopping_rounds': 10,\n",
       " 'num_round': 200}"
      ]
     },
     "execution_count": 14,
     "metadata": {},
     "output_type": "execute_result"
    }
   ],
   "source": [
    "xgb.hyperparameters()"
   ]
  },
  {
   "cell_type": "markdown",
   "metadata": {},
   "source": [
    "Now that we have our estimator object completely set up, it is time to create the hyperparameter tuner. To do this we need to construct a new object which contains each of the parameters we want SageMaker to tune. In this case, we wish to find the best values for the `max_depth`, `eta`, `min_child_weight`, `subsample`, and `gamma` parameters. Note that for each parameter that we want SageMaker to tune we need to specify both the *type* of the parameter and the *range* of values that parameter may take on.\n",
    "\n",
    "In addition, we specify the *number* of models to construct (`max_jobs`) and the number of those that can be trained in parallel (`max_parallel_jobs`). In the cell below we have chosen to train `20` models, of which we ask that SageMaker train `3` at a time in parallel. Note that this results in a total of `20` training jobs being executed which can take some time, in this case almost a half hour. With more complicated models this can take even longer so be aware!"
   ]
  },
  {
   "cell_type": "code",
   "execution_count": 16,
   "metadata": {},
   "outputs": [],
   "source": [
    "from sagemaker.tuner import IntegerParameter, ContinuousParameter, HyperparameterTuner\n",
    "\n",
    "xgb_hyperparameter_tuner = HyperparameterTuner(estimator = xgb, # The estimator object to use as the basis for the training jobs.\n",
    "                                               objective_metric_name = 'validation:rmse', # The metric used to compare trained models.\n",
    "                                               objective_type = 'Minimize', # Whether we wish to minimize or maximize the metric.\n",
    "                                               max_jobs = 20, # The total number of models to train\n",
    "                                               max_parallel_jobs = 3, # The number of models to train in parallel\n",
    "                                               hyperparameter_ranges = {\n",
    "                                                    'max_depth': IntegerParameter(3, 12),\n",
    "                                                    'eta'      : ContinuousParameter(0.05, 0.5),\n",
    "                                                    'min_child_weight': IntegerParameter(2, 8),\n",
    "                                                    'subsample': ContinuousParameter(0.5, 0.9),\n",
    "                                                    'gamma': ContinuousParameter(0, 10),\n",
    "                                               })"
   ]
  },
  {
   "cell_type": "markdown",
   "metadata": {},
   "source": [
    "Now that we have our hyperparameter tuner object completely set up, it is time to train it. To do this we make sure that SageMaker knows our input data is in csv format and then execute the `fit` method."
   ]
  },
  {
   "cell_type": "code",
   "execution_count": 17,
   "metadata": {},
   "outputs": [],
   "source": [
    "# This is a wrapper around the location of our train and validation data, to make sure that SageMaker\n",
    "# knows our data is in csv format.\n",
    "s3_input_train = sagemaker.s3_input(s3_data=train_location, content_type='csv')\n",
    "s3_input_validation = sagemaker.s3_input(s3_data=val_location, content_type='csv')\n",
    "\n",
    "xgb_hyperparameter_tuner.fit({'train': s3_input_train, 'validation': s3_input_validation})"
   ]
  },
  {
   "cell_type": "markdown",
   "metadata": {},
   "source": [
    "As in many of the examples we have seen so far, the `fit()` method takes care of setting up and fitting a number of different models, each with different hyperparameters. If we wish to wait for this process to finish, we can call the `wait()` method."
   ]
  },
  {
   "cell_type": "code",
   "execution_count": 18,
   "metadata": {},
   "outputs": [
    {
     "name": "stdout",
     "output_type": "stream",
     "text": [
      "..........................................................................................................................................................................................................................................................................................................!\n"
     ]
    }
   ],
   "source": [
    "xgb_hyperparameter_tuner.wait()"
   ]
  },
  {
   "cell_type": "markdown",
   "metadata": {},
   "source": [
    "Once the hyperamater tuner has finished, we can retrieve information about the best performing model. "
   ]
  },
  {
   "cell_type": "code",
   "execution_count": 19,
   "metadata": {},
   "outputs": [
    {
     "data": {
      "text/plain": [
       "'sagemaker-xgboost-200625-1019-020-8d7a1d64'"
      ]
     },
     "execution_count": 19,
     "metadata": {},
     "output_type": "execute_result"
    }
   ],
   "source": [
    "xgb_hyperparameter_tuner.best_training_job()"
   ]
  },
  {
   "cell_type": "markdown",
   "metadata": {},
   "source": [
    "In addition, since we'd like to set up a batch transform job to test the best model, we can construct a new estimator object from the results of the best training job. The `xgb_attached` object below can now be used as though we constructed an estimator with the best performing hyperparameters and then fit it to our training data."
   ]
  },
  {
   "cell_type": "code",
   "execution_count": 20,
   "metadata": {
    "scrolled": true
   },
   "outputs": [
    {
     "name": "stdout",
     "output_type": "stream",
     "text": [
      "2020-06-25 10:44:06 Starting - Preparing the instances for training\n",
      "2020-06-25 10:44:06 Downloading - Downloading input data\n",
      "2020-06-25 10:44:06 Training - Training image download completed. Training in progress.\n",
      "2020-06-25 10:44:06 Uploading - Uploading generated training model\n",
      "2020-06-25 10:44:06 Completed - Training job completed\u001b[34mINFO:sagemaker-containers:Imported framework sagemaker_xgboost_container.training\u001b[0m\n",
      "\u001b[34mINFO:sagemaker-containers:Failed to parse hyperparameter _tuning_objective_metric value validation:rmse to Json.\u001b[0m\n",
      "\u001b[34mReturning the value itself\u001b[0m\n",
      "\u001b[34mINFO:sagemaker-containers:Failed to parse hyperparameter objective value reg:squarederror to Json.\u001b[0m\n",
      "\u001b[34mReturning the value itself\u001b[0m\n",
      "\u001b[34mINFO:sagemaker-containers:No GPUs detected (normal if no gpus installed)\u001b[0m\n",
      "\u001b[34mINFO:sagemaker_xgboost_container.training:Running XGBoost Sagemaker in algorithm mode\u001b[0m\n",
      "\u001b[34mINFO:root:Determined delimiter of CSV input is ','\u001b[0m\n",
      "\u001b[34mINFO:root:Determined delimiter of CSV input is ','\u001b[0m\n",
      "\u001b[34mINFO:root:Determined delimiter of CSV input is ','\u001b[0m\n",
      "\u001b[34m[10:43:55] 227x13 matrix with 2951 entries loaded from /opt/ml/input/data/train?format=csv&label_column=0&delimiter=,\u001b[0m\n",
      "\u001b[34mINFO:root:Determined delimiter of CSV input is ','\u001b[0m\n",
      "\u001b[34m[10:43:55] 112x13 matrix with 1456 entries loaded from /opt/ml/input/data/validation?format=csv&label_column=0&delimiter=,\u001b[0m\n",
      "\u001b[34mINFO:root:Single node training.\u001b[0m\n",
      "\u001b[34mINFO:root:Setting up HPO optimized metric to be : rmse\u001b[0m\n",
      "\u001b[34mINFO:root:Train matrix has 227 rows\u001b[0m\n",
      "\u001b[34mINFO:root:Validation matrix has 112 rows\u001b[0m\n",
      "\u001b[34m[0]#011train-rmse:23.16#011validation-rmse:22.6191\u001b[0m\n",
      "\u001b[34m[1]#011train-rmse:21.8208#011validation-rmse:21.2659\u001b[0m\n",
      "\u001b[34m[2]#011train-rmse:20.5601#011validation-rmse:19.9899\u001b[0m\n",
      "\u001b[34m[3]#011train-rmse:19.3707#011validation-rmse:18.7671\u001b[0m\n",
      "\u001b[34m[4]#011train-rmse:18.3027#011validation-rmse:17.7089\u001b[0m\n",
      "\u001b[34m[5]#011train-rmse:17.2779#011validation-rmse:16.6678\u001b[0m\n",
      "\u001b[34m[6]#011train-rmse:16.3227#011validation-rmse:15.7024\u001b[0m\n",
      "\u001b[34m[7]#011train-rmse:15.3925#011validation-rmse:14.7798\u001b[0m\n",
      "\u001b[34m[8]#011train-rmse:14.5239#011validation-rmse:13.922\u001b[0m\n",
      "\u001b[34m[9]#011train-rmse:13.7#011validation-rmse:13.1087\u001b[0m\n",
      "\u001b[34m[10]#011train-rmse:12.9543#011validation-rmse:12.4048\u001b[0m\n",
      "\u001b[34m[11]#011train-rmse:12.2326#011validation-rmse:11.685\u001b[0m\n",
      "\u001b[34m[12]#011train-rmse:11.5732#011validation-rmse:11.0252\u001b[0m\n",
      "\u001b[34m[13]#011train-rmse:10.9573#011validation-rmse:10.4193\u001b[0m\n",
      "\u001b[34m[14]#011train-rmse:10.3523#011validation-rmse:9.8033\u001b[0m\n",
      "\u001b[34m[15]#011train-rmse:9.80408#011validation-rmse:9.26665\u001b[0m\n",
      "\u001b[34m[16]#011train-rmse:9.28#011validation-rmse:8.76507\u001b[0m\n",
      "\u001b[34m[17]#011train-rmse:8.80393#011validation-rmse:8.32331\u001b[0m\n",
      "\u001b[34m[18]#011train-rmse:8.3443#011validation-rmse:7.88364\u001b[0m\n",
      "\u001b[34m[19]#011train-rmse:7.91926#011validation-rmse:7.47865\u001b[0m\n",
      "\u001b[34m[20]#011train-rmse:7.51816#011validation-rmse:7.09175\u001b[0m\n",
      "\u001b[34m[21]#011train-rmse:7.12885#011validation-rmse:6.71733\u001b[0m\n",
      "\u001b[34m[22]#011train-rmse:6.77265#011validation-rmse:6.38348\u001b[0m\n",
      "\u001b[34m[23]#011train-rmse:6.43999#011validation-rmse:6.0789\u001b[0m\n",
      "\u001b[34m[24]#011train-rmse:6.12486#011validation-rmse:5.79273\u001b[0m\n",
      "\u001b[34m[25]#011train-rmse:5.83409#011validation-rmse:5.53371\u001b[0m\n",
      "\u001b[34m[26]#011train-rmse:5.57916#011validation-rmse:5.31231\u001b[0m\n",
      "\u001b[34m[27]#011train-rmse:5.32361#011validation-rmse:5.08461\u001b[0m\n",
      "\u001b[34m[28]#011train-rmse:5.08334#011validation-rmse:4.87608\u001b[0m\n",
      "\u001b[34m[29]#011train-rmse:4.85558#011validation-rmse:4.66517\u001b[0m\n",
      "\u001b[34m[30]#011train-rmse:4.64606#011validation-rmse:4.49002\u001b[0m\n",
      "\u001b[34m[31]#011train-rmse:4.45413#011validation-rmse:4.34282\u001b[0m\n",
      "\u001b[34m[32]#011train-rmse:4.26968#011validation-rmse:4.20223\u001b[0m\n",
      "\u001b[34m[33]#011train-rmse:4.10647#011validation-rmse:4.08411\u001b[0m\n",
      "\u001b[34m[34]#011train-rmse:3.96221#011validation-rmse:3.98929\u001b[0m\n",
      "\u001b[34m[35]#011train-rmse:3.81028#011validation-rmse:3.87847\u001b[0m\n",
      "\u001b[34m[36]#011train-rmse:3.66661#011validation-rmse:3.77408\u001b[0m\n",
      "\u001b[34m[37]#011train-rmse:3.53425#011validation-rmse:3.6855\u001b[0m\n",
      "\u001b[34m[38]#011train-rmse:3.4109#011validation-rmse:3.60575\u001b[0m\n",
      "\u001b[34m[39]#011train-rmse:3.29759#011validation-rmse:3.53513\u001b[0m\n",
      "\u001b[34m[40]#011train-rmse:3.19414#011validation-rmse:3.47933\u001b[0m\n",
      "\u001b[34m[41]#011train-rmse:3.10249#011validation-rmse:3.4312\u001b[0m\n",
      "\u001b[34m[42]#011train-rmse:3.00637#011validation-rmse:3.36666\u001b[0m\n",
      "\u001b[34m[43]#011train-rmse:2.91074#011validation-rmse:3.33717\u001b[0m\n",
      "\u001b[34m[44]#011train-rmse:2.82632#011validation-rmse:3.31449\u001b[0m\n",
      "\u001b[34m[45]#011train-rmse:2.74555#011validation-rmse:3.27805\u001b[0m\n",
      "\u001b[34m[46]#011train-rmse:2.67654#011validation-rmse:3.24466\u001b[0m\n",
      "\u001b[34m[47]#011train-rmse:2.6132#011validation-rmse:3.23419\u001b[0m\n",
      "\u001b[34m[48]#011train-rmse:2.55861#011validation-rmse:3.20671\u001b[0m\n",
      "\u001b[34m[49]#011train-rmse:2.48996#011validation-rmse:3.17367\u001b[0m\n",
      "\u001b[34m[50]#011train-rmse:2.43313#011validation-rmse:3.16187\u001b[0m\n",
      "\u001b[34m[51]#011train-rmse:2.3706#011validation-rmse:3.14141\u001b[0m\n",
      "\u001b[34m[52]#011train-rmse:2.31201#011validation-rmse:3.12637\u001b[0m\n",
      "\u001b[34m[53]#011train-rmse:2.26184#011validation-rmse:3.11149\u001b[0m\n",
      "\u001b[34m[54]#011train-rmse:2.22113#011validation-rmse:3.09614\u001b[0m\n",
      "\u001b[34m[55]#011train-rmse:2.17442#011validation-rmse:3.07937\u001b[0m\n",
      "\u001b[34m[56]#011train-rmse:2.13789#011validation-rmse:3.05845\u001b[0m\n",
      "\u001b[34m[57]#011train-rmse:2.10578#011validation-rmse:3.04068\u001b[0m\n",
      "\u001b[34m[58]#011train-rmse:2.07003#011validation-rmse:3.0317\u001b[0m\n",
      "\u001b[34m[59]#011train-rmse:2.03344#011validation-rmse:3.01768\u001b[0m\n",
      "\u001b[34m[60]#011train-rmse:1.99889#011validation-rmse:3.01118\u001b[0m\n",
      "\u001b[34m[61]#011train-rmse:1.96492#011validation-rmse:3.00654\u001b[0m\n",
      "\u001b[34m[62]#011train-rmse:1.93538#011validation-rmse:2.99685\u001b[0m\n",
      "\u001b[34m[63]#011train-rmse:1.90491#011validation-rmse:2.98596\u001b[0m\n",
      "\u001b[34m[64]#011train-rmse:1.88739#011validation-rmse:2.98012\u001b[0m\n",
      "\u001b[34m[65]#011train-rmse:1.86202#011validation-rmse:2.98908\u001b[0m\n",
      "\u001b[34m[66]#011train-rmse:1.84544#011validation-rmse:2.98719\u001b[0m\n",
      "\u001b[34m[67]#011train-rmse:1.82333#011validation-rmse:2.98115\u001b[0m\n",
      "\u001b[34m[68]#011train-rmse:1.80294#011validation-rmse:2.97782\u001b[0m\n",
      "\u001b[34m[69]#011train-rmse:1.78703#011validation-rmse:2.97858\u001b[0m\n",
      "\u001b[34m[70]#011train-rmse:1.7606#011validation-rmse:2.97827\u001b[0m\n",
      "\u001b[34m[71]#011train-rmse:1.7345#011validation-rmse:2.97778\u001b[0m\n",
      "\u001b[34m[72]#011train-rmse:1.7167#011validation-rmse:2.97758\u001b[0m\n",
      "\u001b[34m[73]#011train-rmse:1.69847#011validation-rmse:2.97709\u001b[0m\n",
      "\u001b[34m[74]#011train-rmse:1.6788#011validation-rmse:2.97038\u001b[0m\n",
      "\u001b[34m[75]#011train-rmse:1.6627#011validation-rmse:2.9682\u001b[0m\n",
      "\u001b[34m[76]#011train-rmse:1.6473#011validation-rmse:2.96371\u001b[0m\n",
      "\u001b[34m[77]#011train-rmse:1.62844#011validation-rmse:2.95939\u001b[0m\n",
      "\u001b[34m[78]#011train-rmse:1.60072#011validation-rmse:2.95429\u001b[0m\n",
      "\u001b[34m[79]#011train-rmse:1.58336#011validation-rmse:2.94734\u001b[0m\n",
      "\u001b[34m[80]#011train-rmse:1.57116#011validation-rmse:2.94915\u001b[0m\n",
      "\u001b[34m[81]#011train-rmse:1.55181#011validation-rmse:2.94763\u001b[0m\n",
      "\u001b[34m[82]#011train-rmse:1.54637#011validation-rmse:2.95527\u001b[0m\n",
      "\u001b[34m[83]#011train-rmse:1.53884#011validation-rmse:2.95784\u001b[0m\n",
      "\u001b[34m[84]#011train-rmse:1.5296#011validation-rmse:2.96064\u001b[0m\n",
      "\u001b[34m[85]#011train-rmse:1.51503#011validation-rmse:2.96376\u001b[0m\n",
      "\u001b[34m[86]#011train-rmse:1.50348#011validation-rmse:2.96631\u001b[0m\n",
      "\u001b[34m[87]#011train-rmse:1.49458#011validation-rmse:2.97001\u001b[0m\n",
      "\u001b[34m[88]#011train-rmse:1.48553#011validation-rmse:2.97221\u001b[0m\n",
      "\u001b[34m[89]#011train-rmse:1.47715#011validation-rmse:2.97601\u001b[0m\n",
      "Training seconds: 62\n",
      "Billable seconds: 62\n"
     ]
    }
   ],
   "source": [
    "xgb_attached = sagemaker.estimator.Estimator.attach(xgb_hyperparameter_tuner.best_training_job())"
   ]
  },
  {
   "cell_type": "code",
   "execution_count": 28,
   "metadata": {
    "collapsed": true
   },
   "outputs": [
    {
     "data": {
      "text/plain": [
       "{'max_depth': 5,\n",
       " 'eta': 0.2,\n",
       " 'gamma': 4,\n",
       " 'min_child_weight': 6,\n",
       " 'subsample': 0.8,\n",
       " 'objective': 'reg:squarederror',\n",
       " 'early_stopping_rounds': 10,\n",
       " 'num_round': 200}"
      ]
     },
     "execution_count": 28,
     "metadata": {},
     "output_type": "execute_result"
    }
   ],
   "source": [
    "xgb.hyperparameters()"
   ]
  },
  {
   "cell_type": "code",
   "execution_count": 27,
   "metadata": {
    "collapsed": true
   },
   "outputs": [
    {
     "data": {
      "text/plain": [
       "{'_tuning_objective_metric': 'validation:rmse',\n",
       " 'early_stopping_rounds': '10',\n",
       " 'eta': '0.06216772396903531',\n",
       " 'gamma': '5.244746809905649',\n",
       " 'max_depth': '4',\n",
       " 'min_child_weight': '2',\n",
       " 'num_round': '200',\n",
       " 'objective': 'reg:squarederror',\n",
       " 'subsample': '0.8328483849848364'}"
      ]
     },
     "execution_count": 27,
     "metadata": {},
     "output_type": "execute_result"
    }
   ],
   "source": [
    "xgb_attached.hyperparameters()"
   ]
  },
  {
   "cell_type": "markdown",
   "metadata": {},
   "source": [
    "## Step 5: Test the model\n",
    "\n",
    "Now that we have our best performing model, we can test it. To do this we will use the batch transform functionality. To start with, we need to build a transformer object from our fit model."
   ]
  },
  {
   "cell_type": "code",
   "execution_count": 21,
   "metadata": {},
   "outputs": [],
   "source": [
    "xgb_transformer = xgb_attached.transformer(instance_count = 1, instance_type = 'ml.m4.xlarge')"
   ]
  },
  {
   "cell_type": "markdown",
   "metadata": {},
   "source": [
    "Next we ask SageMaker to begin a batch transform job using our trained model and applying it to the test data we previous stored in S3. We need to make sure to provide SageMaker with the type of data that we are providing to our model, in our case `text/csv`, so that it knows how to serialize our data. In addition, we need to make sure to let SageMaker know how to split our data up into chunks if the entire data set happens to be too large to send to our model all at once.\n",
    "\n",
    "Note that when we ask SageMaker to do this it will execute the batch transform job in the background. Since we need to wait for the results of this job before we can continue, we use the `wait()` method. An added benefit of this is that we get some output from our batch transform job which lets us know if anything went wrong."
   ]
  },
  {
   "cell_type": "code",
   "execution_count": 22,
   "metadata": {},
   "outputs": [],
   "source": [
    "xgb_transformer.transform(test_location, content_type='text/csv', split_type='Line')"
   ]
  },
  {
   "cell_type": "code",
   "execution_count": 23,
   "metadata": {},
   "outputs": [
    {
     "name": "stdout",
     "output_type": "stream",
     "text": [
      "....................\u001b[34m[2020-06-25 10:47:40 +0000] [15] [INFO] Starting gunicorn 19.10.0\u001b[0m\n",
      "\u001b[34m[2020-06-25 10:47:40 +0000] [15] [INFO] Listening at: unix:/tmp/gunicorn.sock (15)\u001b[0m\n",
      "\u001b[34m[2020-06-25 10:47:40 +0000] [15] [INFO] Using worker: gevent\u001b[0m\n",
      "\u001b[34m[2020-06-25 10:47:40 +0000] [22] [INFO] Booting worker with pid: 22\u001b[0m\n",
      "\u001b[34m[2020-06-25 10:47:40 +0000] [23] [INFO] Booting worker with pid: 23\u001b[0m\n",
      "\u001b[34m[2020-06-25 10:47:40 +0000] [27] [INFO] Booting worker with pid: 27\u001b[0m\n",
      "\u001b[34m[2020-06-25 10:47:40 +0000] [28] [INFO] Booting worker with pid: 28\u001b[0m\n",
      "\u001b[34m[2020-06-25:10:48:09:INFO] No GPUs detected (normal if no gpus installed)\u001b[0m\n",
      "\u001b[34m169.254.255.130 - - [25/Jun/2020:10:48:09 +0000] \"GET /ping HTTP/1.1\" 200 0 \"-\" \"Go-http-client/1.1\"\u001b[0m\n",
      "\u001b[34m[2020-06-25:10:48:09:INFO] No GPUs detected (normal if no gpus installed)\u001b[0m\n",
      "\u001b[34m169.254.255.130 - - [25/Jun/2020:10:48:09 +0000] \"GET /execution-parameters HTTP/1.1\" 200 84 \"-\" \"Go-http-client/1.1\"\u001b[0m\n",
      "\u001b[34m[2020-06-25:10:48:09:INFO] No GPUs detected (normal if no gpus installed)\u001b[0m\n",
      "\u001b[34m[2020-06-25:10:48:09:INFO] Determined delimiter of CSV input is ','\u001b[0m\n",
      "\u001b[34m169.254.255.130 - - [25/Jun/2020:10:48:09 +0000] \"POST /invocations HTTP/1.1\" 200 3106 \"-\" \"Go-http-client/1.1\"\u001b[0m\n",
      "\u001b[35m[2020-06-25:10:48:09:INFO] No GPUs detected (normal if no gpus installed)\u001b[0m\n",
      "\u001b[35m169.254.255.130 - - [25/Jun/2020:10:48:09 +0000] \"GET /ping HTTP/1.1\" 200 0 \"-\" \"Go-http-client/1.1\"\u001b[0m\n",
      "\u001b[35m[2020-06-25:10:48:09:INFO] No GPUs detected (normal if no gpus installed)\u001b[0m\n",
      "\u001b[35m169.254.255.130 - - [25/Jun/2020:10:48:09 +0000] \"GET /execution-parameters HTTP/1.1\" 200 84 \"-\" \"Go-http-client/1.1\"\u001b[0m\n",
      "\u001b[35m[2020-06-25:10:48:09:INFO] No GPUs detected (normal if no gpus installed)\u001b[0m\n",
      "\u001b[35m[2020-06-25:10:48:09:INFO] Determined delimiter of CSV input is ','\u001b[0m\n",
      "\u001b[35m169.254.255.130 - - [25/Jun/2020:10:48:09 +0000] \"POST /invocations HTTP/1.1\" 200 3106 \"-\" \"Go-http-client/1.1\"\u001b[0m\n",
      "\u001b[32m2020-06-25T10:48:09.629:[sagemaker logs]: MaxConcurrentTransforms=4, MaxPayloadInMB=6, BatchStrategy=MULTI_RECORD\u001b[0m\n",
      "\n"
     ]
    }
   ],
   "source": [
    "xgb_transformer.wait()"
   ]
  },
  {
   "cell_type": "markdown",
   "metadata": {},
   "source": [
    "Now that the batch transform job has finished, the resulting output is stored on S3. Since we wish to analyze the output inside of our notebook we can use a bit of notebook magic to copy the output file from its S3 location and save it locally."
   ]
  },
  {
   "cell_type": "code",
   "execution_count": 24,
   "metadata": {},
   "outputs": [
    {
     "name": "stdout",
     "output_type": "stream",
     "text": [
      "Completed 3.0 KiB/3.0 KiB (49.2 KiB/s) with 1 file(s) remaining\r",
      "download: s3://sagemaker-eu-central-1-648654006923/sagemaker-xgboost-200625-1019-020-8d7a1-2020-06-25-10-44-26-178/test.csv.out to ../data/boston/test.csv.out\r\n"
     ]
    }
   ],
   "source": [
    "!aws s3 cp --recursive $xgb_transformer.output_path $data_dir"
   ]
  },
  {
   "cell_type": "markdown",
   "metadata": {},
   "source": [
    "To see how well our model works we can create a simple scatter plot between the predicted and actual values. If the model was completely accurate the resulting scatter plot would look like the line $x=y$. As we can see, our model seems to have done okay but there is room for improvement."
   ]
  },
  {
   "cell_type": "code",
   "execution_count": 25,
   "metadata": {},
   "outputs": [],
   "source": [
    "Y_pred = pd.read_csv(os.path.join(data_dir, 'test.csv.out'), header=None)"
   ]
  },
  {
   "cell_type": "code",
   "execution_count": 26,
   "metadata": {
    "collapsed": true
   },
   "outputs": [
    {
     "data": {
      "text/plain": [
       "Text(0.5, 1.0, 'Median Price vs Predicted Price')"
      ]
     },
     "execution_count": 26,
     "metadata": {},
     "output_type": "execute_result"
    },
    {
     "data": {
      "image/png": "[encoded data removed]",
      "text/plain": [
       "<Figure size 432x288 with 1 Axes>"
      ]
     },
     "metadata": {},
     "output_type": "display_data"
    }
   ],
   "source": [
    "plt.scatter(Y_test, Y_pred)\n",
    "plt.xlabel(\"Median Price\")\n",
    "plt.ylabel(\"Predicted Price\")\n",
    "plt.title(\"Median Price vs Predicted Price\")"
   ]
  },
  {
   "cell_type": "markdown",
   "metadata": {},
   "source": [
    "## Optional: Clean up\n",
    "\n",
    "The default notebook instance on SageMaker doesn't have a lot of excess disk space available. As you continue to complete and execute notebooks you will eventually fill up this disk space, leading to errors which can be difficult to diagnose. Once you are completely finished using a notebook it is a good idea to remove the files that you created along the way. Of course, you can do this from the terminal or from the notebook hub if you would like. The cell below contains some commands to clean up the created files from within the notebook."
   ]
  },
  {
   "cell_type": "code",
   "execution_count": null,
   "metadata": {},
   "outputs": [],
   "source": [
    "# First we will remove all of the files contained in the data_dir directory\n",
    "!rm $data_dir/*\n",
    "\n",
    "# And then we delete the directory itself\n",
    "!rmdir $data_dir"
   ]
  }
 ],
 "metadata": {
  "kernelspec": {
   "display_name": "conda_pytorch_p36",
   "language": "python",
   "name": "conda_pytorch_p36"
  },
  "language_info": {
   "codemirror_mode": {
    "name": "ipython",
    "version": 3
   },
   "file_extension": ".py",
   "mimetype": "text/x-python",
   "name": "python",
   "nbconvert_exporter": "python",
   "pygments_lexer": "ipython3",
   "version": "3.6.5"
  }
 },
 "nbformat": 4,
 "nbformat_minor": 2
}
