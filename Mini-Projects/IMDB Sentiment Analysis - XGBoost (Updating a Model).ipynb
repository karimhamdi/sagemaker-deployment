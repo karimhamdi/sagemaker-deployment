{
 "cells": [
  {
   "cell_type": "markdown",
   "metadata": {},
   "source": [
    "# Sentiment Analysis\n",
    "\n",
    "## Updating a Model in SageMaker\n",
    "\n",
    "_Deep Learning Nanodegree Program | Deployment_\n",
    "\n",
    "---\n",
    "\n",
    "In this notebook we will consider a situation in which a model that we constructed is no longer working as we intended. In particular, we will look at the XGBoost sentiment analysis model that we constructed earlier. In this case, however, we have some new data that our model doesn't seem to perform very well on. As a result, we will re-train our model and update an existing endpoint so that it uses our new model.\n",
    "\n",
    "This notebook starts by re-creating the XGBoost sentiment analysis model that was created in earlier notebooks. This means that you will have already seen the cells up to the end of Step 4. The new content in this notebook begins at Step 5.\n",
    "\n",
    "## Instructions\n",
    "\n",
    "Some template code has already been provided for you, and you will need to implement additional functionality to successfully complete this notebook. You will not need to modify the included code beyond what is requested. Sections that begin with '**TODO**' in the header indicate that you need to complete or implement some portion within them. Instructions will be provided for each section and the specifics of the implementation are marked in the code block with a `# TODO: ...` comment. Please be sure to read the instructions carefully!\n",
    "\n",
    "In addition to implementing code, there will be questions for you to answer which relate to the task and your implementation. Each section where you will answer a question is preceded by a '**Question:**' header. Carefully read each question and provide your answer below the '**Answer:**' header by editing the Markdown cell.\n",
    "\n",
    "> **Note**: Code and Markdown cells can be executed using the **Shift+Enter** keyboard shortcut. In addition, a cell can be edited by typically clicking it (double-click for Markdown cells) or by pressing **Enter** while it is highlighted."
   ]
  },
  {
   "cell_type": "markdown",
   "metadata": {},
   "source": [
    "## Step 1: Downloading the data\n",
    "\n",
    "The dataset we are going to use is very popular among researchers in Natural Language Processing, usually referred to as the [IMDb dataset](http://ai.stanford.edu/~amaas/data/sentiment/). It consists of movie reviews from the website [imdb.com](http://www.imdb.com/), each labeled as either '**pos**itive', if the reviewer enjoyed the film, or '**neg**ative' otherwise.\n",
    "\n",
    "> Maas, Andrew L., et al. [Learning Word Vectors for Sentiment Analysis](http://ai.stanford.edu/~amaas/data/sentiment/). In _Proceedings of the 49th Annual Meeting of the Association for Computational Linguistics: Human Language Technologies_. Association for Computational Linguistics, 2011.\n",
    "\n",
    "We begin by using some Jupyter Notebook magic to download and extract the dataset."
   ]
  },
  {
   "cell_type": "code",
   "execution_count": 1,
   "metadata": {},
   "outputs": [
    {
     "name": "stdout",
     "output_type": "stream",
     "text": [
      "mkdir: cannot create directory ‘../data’: File exists\n",
      "--2020-06-26 14:30:43--  http://ai.stanford.edu/~amaas/data/sentiment/aclImdb_v1.tar.gz\n",
      "Resolving ai.stanford.edu (ai.stanford.edu)... 171.64.68.10\n",
      "Connecting to ai.stanford.edu (ai.stanford.edu)|171.64.68.10|:80... connected.\n",
      "HTTP request sent, awaiting response... 200 OK\n",
      "Length: 84125825 (80M) [application/x-gzip]\n",
      "Saving to: ‘../data/aclImdb_v1.tar.gz’\n",
      "\n",
      "../data/aclImdb_v1. 100%[===================>]  80.23M  9.65MB/s    in 12s     \n",
      "\n",
      "2020-06-26 14:30:55 (6.95 MB/s) - ‘../data/aclImdb_v1.tar.gz’ saved [84125825/84125825]\n",
      "\n"
     ]
    }
   ],
   "source": [
    "%mkdir ../data\n",
    "!wget -O ../data/aclImdb_v1.tar.gz http://ai.stanford.edu/~amaas/data/sentiment/aclImdb_v1.tar.gz\n",
    "!tar -zxf ../data/aclImdb_v1.tar.gz -C ../data"
   ]
  },
  {
   "cell_type": "markdown",
   "metadata": {},
   "source": [
    "## Step 2: Preparing the data\n",
    "\n",
    "The data we have downloaded is split into various files, each of which contains a single review. It will be much easier going forward if we combine these individual files into two large files, one for training and one for testing."
   ]
  },
  {
   "cell_type": "code",
   "execution_count": 2,
   "metadata": {},
   "outputs": [],
   "source": [
    "import os\n",
    "import glob\n",
    "\n",
    "def read_imdb_data(data_dir='../data/aclImdb'):\n",
    "    data = {}\n",
    "    labels = {}\n",
    "    \n",
    "    for data_type in ['train', 'test']:\n",
    "        data[data_type] = {}\n",
    "        labels[data_type] = {}\n",
    "        \n",
    "        for sentiment in ['pos', 'neg']:\n",
    "            data[data_type][sentiment] = []\n",
    "            labels[data_type][sentiment] = []\n",
    "            \n",
    "            path = os.path.join(data_dir, data_type, sentiment, '*.txt')\n",
    "            files = glob.glob(path)\n",
    "            \n",
    "            for f in files:\n",
    "                with open(f) as review:\n",
    "                    data[data_type][sentiment].append(review.read())\n",
    "                    # Here we represent a positive review by '1' and a negative review by '0'\n",
    "                    labels[data_type][sentiment].append(1 if sentiment == 'pos' else 0)\n",
    "                    \n",
    "            assert len(data[data_type][sentiment]) == len(labels[data_type][sentiment]), \\\n",
    "                    \"{}/{} data size does not match labels size\".format(data_type, sentiment)\n",
    "                \n",
    "    return data, labels"
   ]
  },
  {
   "cell_type": "code",
   "execution_count": 3,
   "metadata": {},
   "outputs": [
    {
     "name": "stdout",
     "output_type": "stream",
     "text": [
      "IMDB reviews: train = 12500 pos / 12500 neg, test = 12500 pos / 12500 neg\n"
     ]
    }
   ],
   "source": [
    "data, labels = read_imdb_data()\n",
    "print(\"IMDB reviews: train = {} pos / {} neg, test = {} pos / {} neg\".format(\n",
    "            len(data['train']['pos']), len(data['train']['neg']),\n",
    "            len(data['test']['pos']), len(data['test']['neg'])))"
   ]
  },
  {
   "cell_type": "code",
   "execution_count": 4,
   "metadata": {},
   "outputs": [],
   "source": [
    "from sklearn.utils import shuffle\n",
    "\n",
    "def prepare_imdb_data(data, labels):\n",
    "    \"\"\"Prepare training and test sets from IMDb movie reviews.\"\"\"\n",
    "    \n",
    "    #Combine positive and negative reviews and labels\n",
    "    data_train = data['train']['pos'] + data['train']['neg']\n",
    "    data_test = data['test']['pos'] + data['test']['neg']\n",
    "    labels_train = labels['train']['pos'] + labels['train']['neg']\n",
    "    labels_test = labels['test']['pos'] + labels['test']['neg']\n",
    "    \n",
    "    #Shuffle reviews and corresponding labels within training and test sets\n",
    "    data_train, labels_train = shuffle(data_train, labels_train)\n",
    "    data_test, labels_test = shuffle(data_test, labels_test)\n",
    "    \n",
    "    # Return a unified training data, test data, training labels, test labets\n",
    "    return data_train, data_test, labels_train, labels_test"
   ]
  },
  {
   "cell_type": "code",
   "execution_count": 5,
   "metadata": {},
   "outputs": [
    {
     "name": "stdout",
     "output_type": "stream",
     "text": [
      "IMDb reviews (combined): train = 25000, test = 25000\n"
     ]
    }
   ],
   "source": [
    "train_X, test_X, train_y, test_y = prepare_imdb_data(data, labels)\n",
    "print(\"IMDb reviews (combined): train = {}, test = {}\".format(len(train_X), len(test_X)))"
   ]
  },
  {
   "cell_type": "code",
   "execution_count": 6,
   "metadata": {},
   "outputs": [
    {
     "data": {
      "text/plain": [
       "\"Whoever wrote the screenplay for this movie obviously never consulted any books about Lucille Ball, especially her autobiography. I've never seen so many mistakes in a biopic, ranging from her early years in Celoron and Jamestown to her later years with Desi. I could write a whole list of factual errors, but it would go on for pages. In all, I believe that Lucille Ball is one of those inimitable people who simply cannot be portrayed by anyone other than themselves. If I were Lucie Arnaz and Desi, Jr., I would be irate at how many mistakes were made in this film. The filmmakers tried hard, but the movie seems awfully sloppy to me.\""
      ]
     },
     "execution_count": 6,
     "metadata": {},
     "output_type": "execute_result"
    }
   ],
   "source": [
    "train_X[100]"
   ]
  },
  {
   "cell_type": "markdown",
   "metadata": {},
   "source": [
    "## Step 3: Processing the data\n",
    "\n",
    "Now that we have our training and testing datasets merged and ready to use, we need to start processing the raw data into something that will be useable by our machine learning algorithm. To begin with, we remove any html formatting that may appear in the reviews and perform some standard natural language processing in order to homogenize the data."
   ]
  },
  {
   "cell_type": "code",
   "execution_count": 7,
   "metadata": {},
   "outputs": [
    {
     "name": "stdout",
     "output_type": "stream",
     "text": [
      "[nltk_data] Downloading package stopwords to\n",
      "[nltk_data]     /home/ec2-user/nltk_data...\n",
      "[nltk_data]   Package stopwords is already up-to-date!\n"
     ]
    }
   ],
   "source": [
    "import nltk\n",
    "nltk.download(\"stopwords\")\n",
    "from nltk.corpus import stopwords\n",
    "from nltk.stem.porter import *\n",
    "stemmer = PorterStemmer()"
   ]
  },
  {
   "cell_type": "code",
   "execution_count": 8,
   "metadata": {},
   "outputs": [],
   "source": [
    "import re\n",
    "from bs4 import BeautifulSoup\n",
    "\n",
    "def review_to_words(review):\n",
    "    text = BeautifulSoup(review, \"html.parser\").get_text() # Remove HTML tags\n",
    "    text = re.sub(r\"[^a-zA-Z0-9]\", \" \", text.lower()) # Convert to lower case\n",
    "    words = text.split() # Split string into words\n",
    "    words = [w for w in words if w not in stopwords.words(\"english\")] # Remove stopwords\n",
    "    words = [PorterStemmer().stem(w) for w in words] # stem\n",
    "    \n",
    "    return words"
   ]
  },
  {
   "cell_type": "code",
   "execution_count": 9,
   "metadata": {
    "collapsed": true
   },
   "outputs": [
    {
     "data": {
      "text/plain": [
       "['whoever',\n",
       " 'wrote',\n",
       " 'screenplay',\n",
       " 'movi',\n",
       " 'obvious',\n",
       " 'never',\n",
       " 'consult',\n",
       " 'book',\n",
       " 'lucil',\n",
       " 'ball',\n",
       " 'especi',\n",
       " 'autobiographi',\n",
       " 'never',\n",
       " 'seen',\n",
       " 'mani',\n",
       " 'mistak',\n",
       " 'biopic',\n",
       " 'rang',\n",
       " 'earli',\n",
       " 'year',\n",
       " 'celoron',\n",
       " 'jamestown',\n",
       " 'later',\n",
       " 'year',\n",
       " 'desi',\n",
       " 'could',\n",
       " 'write',\n",
       " 'whole',\n",
       " 'list',\n",
       " 'factual',\n",
       " 'error',\n",
       " 'would',\n",
       " 'go',\n",
       " 'page',\n",
       " 'believ',\n",
       " 'lucil',\n",
       " 'ball',\n",
       " 'one',\n",
       " 'inimit',\n",
       " 'peopl',\n",
       " 'simpli',\n",
       " 'cannot',\n",
       " 'portray',\n",
       " 'anyon',\n",
       " 'luci',\n",
       " 'arnaz',\n",
       " 'desi',\n",
       " 'jr',\n",
       " 'would',\n",
       " 'irat',\n",
       " 'mani',\n",
       " 'mistak',\n",
       " 'made',\n",
       " 'film',\n",
       " 'filmmak',\n",
       " 'tri',\n",
       " 'hard',\n",
       " 'movi',\n",
       " 'seem',\n",
       " 'aw',\n",
       " 'sloppi']"
      ]
     },
     "execution_count": 9,
     "metadata": {},
     "output_type": "execute_result"
    }
   ],
   "source": [
    "review_to_words(train_X[100])"
   ]
  },
  {
   "cell_type": "code",
   "execution_count": 10,
   "metadata": {},
   "outputs": [],
   "source": [
    "import pickle\n",
    "\n",
    "cache_dir = os.path.join(\"../cache\", \"sentiment_analysis\")  # where to store cache files\n",
    "os.makedirs(cache_dir, exist_ok=True)  # ensure cache directory exists\n",
    "\n",
    "def preprocess_data(data_train, data_test, labels_train, labels_test,\n",
    "                    cache_dir=cache_dir, cache_file=\"preprocessed_data.pkl\"):\n",
    "    \"\"\"Convert each review to words; read from cache if available.\"\"\"\n",
    "\n",
    "    # If cache_file is not None, try to read from it first\n",
    "    cache_data = None\n",
    "    if cache_file is not None:\n",
    "        try:\n",
    "            with open(os.path.join(cache_dir, cache_file), \"rb\") as f:\n",
    "                cache_data = pickle.load(f)\n",
    "            print(\"Read preprocessed data from cache file:\", cache_file)\n",
    "        except:\n",
    "            pass  # unable to read from cache, but that's okay\n",
    "    \n",
    "    # If cache is missing, then do the heavy lifting\n",
    "    if cache_data is None:\n",
    "        # Preprocess training and test data to obtain words for each review\n",
    "        #words_train = list(map(review_to_words, data_train))\n",
    "        #words_test = list(map(review_to_words, data_test))\n",
    "        words_train = [review_to_words(review) for review in data_train]\n",
    "        words_test = [review_to_words(review) for review in data_test]\n",
    "        \n",
    "        # Write to cache file for future runs\n",
    "        if cache_file is not None:\n",
    "            cache_data = dict(words_train=words_train, words_test=words_test,\n",
    "                              labels_train=labels_train, labels_test=labels_test)\n",
    "            with open(os.path.join(cache_dir, cache_file), \"wb\") as f:\n",
    "                pickle.dump(cache_data, f)\n",
    "            print(\"Wrote preprocessed data to cache file:\", cache_file)\n",
    "    else:\n",
    "        # Unpack data loaded from cache file\n",
    "        words_train, words_test, labels_train, labels_test = (cache_data['words_train'],\n",
    "                cache_data['words_test'], cache_data['labels_train'], cache_data['labels_test'])\n",
    "    \n",
    "    return words_train, words_test, labels_train, labels_test"
   ]
  },
  {
   "cell_type": "code",
   "execution_count": 11,
   "metadata": {},
   "outputs": [
    {
     "name": "stdout",
     "output_type": "stream",
     "text": [
      "Read preprocessed data from cache file: preprocessed_data.pkl\n"
     ]
    }
   ],
   "source": [
    "# Preprocess data\n",
    "train_X, test_X, train_y, test_y = preprocess_data(train_X, test_X, train_y, test_y)"
   ]
  },
  {
   "cell_type": "markdown",
   "metadata": {},
   "source": [
    "### Extract Bag-of-Words features\n",
    "\n",
    "For the model we will be implementing, rather than using the reviews directly, we are going to transform each review into a Bag-of-Words feature representation. Keep in mind that 'in the wild' we will only have access to the training set so our transformer can only use the training set to construct a representation."
   ]
  },
  {
   "cell_type": "code",
   "execution_count": 12,
   "metadata": {},
   "outputs": [],
   "source": [
    "import numpy as np\n",
    "from sklearn.feature_extraction.text import CountVectorizer\n",
    "from sklearn.externals import joblib\n",
    "# joblib is an enhanced version of pickle that is more efficient for storing NumPy arrays\n",
    "\n",
    "def extract_BoW_features(words_train, words_test, vocabulary_size=5000,\n",
    "                         cache_dir=cache_dir, cache_file=\"bow_features.pkl\"):\n",
    "    \"\"\"Extract Bag-of-Words for a given set of documents, already preprocessed into words.\"\"\"\n",
    "    \n",
    "    # If cache_file is not None, try to read from it first\n",
    "    cache_data = None\n",
    "    if cache_file is not None:\n",
    "        try:\n",
    "            with open(os.path.join(cache_dir, cache_file), \"rb\") as f:\n",
    "                cache_data = joblib.load(f)\n",
    "            print(\"Read features from cache file:\", cache_file)\n",
    "        except:\n",
    "            pass  # unable to read from cache, but that's okay\n",
    "    \n",
    "    # If cache is missing, then do the heavy lifting\n",
    "    if cache_data is None:\n",
    "        # Fit a vectorizer to training documents and use it to transform them\n",
    "        # NOTE: Training documents have already been preprocessed and tokenized into words;\n",
    "        #       pass in dummy functions to skip those steps, e.g. preprocessor=lambda x: x\n",
    "        vectorizer = CountVectorizer(max_features=vocabulary_size,\n",
    "                preprocessor=lambda x: x, tokenizer=lambda x: x)  # already preprocessed\n",
    "        features_train = vectorizer.fit_transform(words_train).toarray()\n",
    "\n",
    "        # Apply the same vectorizer to transform the test documents (ignore unknown words)\n",
    "        features_test = vectorizer.transform(words_test).toarray()\n",
    "        \n",
    "        # NOTE: Remember to convert the features using .toarray() for a compact representation\n",
    "        \n",
    "        # Write to cache file for future runs (store vocabulary as well)\n",
    "        if cache_file is not None:\n",
    "            vocabulary = vectorizer.vocabulary_\n",
    "            cache_data = dict(features_train=features_train, features_test=features_test,\n",
    "                             vocabulary=vocabulary)\n",
    "            with open(os.path.join(cache_dir, cache_file), \"wb\") as f:\n",
    "                joblib.dump(cache_data, f)\n",
    "            print(\"Wrote features to cache file:\", cache_file)\n",
    "    else:\n",
    "        # Unpack data loaded from cache file\n",
    "        features_train, features_test, vocabulary = (cache_data['features_train'],\n",
    "                cache_data['features_test'], cache_data['vocabulary'])\n",
    "    \n",
    "    # Return both the extracted features as well as the vocabulary\n",
    "    return features_train, features_test, vocabulary"
   ]
  },
  {
   "cell_type": "code",
   "execution_count": 13,
   "metadata": {},
   "outputs": [
    {
     "name": "stdout",
     "output_type": "stream",
     "text": [
      "Read features from cache file: bow_features.pkl\n"
     ]
    }
   ],
   "source": [
    "# Extract Bag of Words features for both training and test datasets\n",
    "train_X, test_X, vocabulary = extract_BoW_features(train_X, test_X)"
   ]
  },
  {
   "cell_type": "code",
   "execution_count": 14,
   "metadata": {},
   "outputs": [
    {
     "data": {
      "text/plain": [
       "5000"
      ]
     },
     "execution_count": 14,
     "metadata": {},
     "output_type": "execute_result"
    }
   ],
   "source": [
    "len(train_X[100])"
   ]
  },
  {
   "cell_type": "markdown",
   "metadata": {},
   "source": [
    "## Step 4: Classification using XGBoost\n",
    "\n",
    "Now that we have created the feature representation of our training (and testing) data, it is time to start setting up and using the XGBoost classifier provided by SageMaker.\n",
    "\n",
    "### Writing the dataset\n",
    "\n",
    "The XGBoost classifier that we will be using requires the dataset to be written to a file and stored using Amazon S3. To do this, we will start by splitting the training dataset into two parts, the data we will train the model with and a validation set. Then, we will write those datasets to a file and upload the files to S3. In addition, we will write the test set input to a file and upload the file to S3. This is so that we can use SageMakers Batch Transform functionality to test our model once we've fit it."
   ]
  },
  {
   "cell_type": "code",
   "execution_count": 15,
   "metadata": {},
   "outputs": [],
   "source": [
    "import pandas as pd\n",
    "\n",
    "# Earlier we shuffled the training dataset so to make things simple we can just assign\n",
    "# the first 10 000 reviews to the validation set and use the remaining reviews for training.\n",
    "val_X = pd.DataFrame(train_X[:10000])\n",
    "train_X = pd.DataFrame(train_X[10000:])\n",
    "\n",
    "val_y = pd.DataFrame(train_y[:10000])\n",
    "train_y = pd.DataFrame(train_y[10000:])"
   ]
  },
  {
   "cell_type": "markdown",
   "metadata": {},
   "source": [
    "The documentation for the XGBoost algorithm in SageMaker requires that the saved datasets should contain no headers or index and that for the training and validation data, the label should occur first for each sample.\n",
    "\n",
    "For more information about this and other algorithms, the SageMaker developer documentation can be found on __[Amazon's website.](https://docs.aws.amazon.com/sagemaker/latest/dg/)__"
   ]
  },
  {
   "cell_type": "code",
   "execution_count": 16,
   "metadata": {},
   "outputs": [],
   "source": [
    "# First we make sure that the local directory in which we'd like to store the training and validation csv files exists.\n",
    "data_dir = '../data/sentiment_update'\n",
    "if not os.path.exists(data_dir):\n",
    "    os.makedirs(data_dir)"
   ]
  },
  {
   "cell_type": "code",
   "execution_count": 17,
   "metadata": {},
   "outputs": [],
   "source": [
    "pd.DataFrame(test_X).to_csv(os.path.join(data_dir, 'test.csv'), header=False, index=False)\n",
    "\n",
    "pd.concat([val_y, val_X], axis=1).to_csv(os.path.join(data_dir, 'validation.csv'), header=False, index=False)\n",
    "pd.concat([train_y, train_X], axis=1).to_csv(os.path.join(data_dir, 'train.csv'), header=False, index=False)"
   ]
  },
  {
   "cell_type": "code",
   "execution_count": 18,
   "metadata": {},
   "outputs": [],
   "source": [
    "# To save a bit of memory we can set text_X, train_X, val_X, train_y and val_y to None.\n",
    "\n",
    "test_X = train_X = val_X = train_y = val_y = None"
   ]
  },
  {
   "cell_type": "markdown",
   "metadata": {},
   "source": [
    "### Uploading Training / Validation files to S3\n",
    "\n",
    "Amazon's S3 service allows us to store files that can be access by both the built-in training models such as the XGBoost model we will be using as well as custom models such as the one we will see a little later.\n",
    "\n",
    "For this, and most other tasks we will be doing using SageMaker, there are two methods we could use. The first is to use the low level functionality of SageMaker which requires knowing each of the objects involved in the SageMaker environment. The second is to use the high level functionality in which certain choices have been made on the user's behalf. The low level approach benefits from allowing the user a great deal of flexibility while the high level approach makes development much quicker. For our purposes we will opt to use the high level approach although using the low-level approach is certainly an option.\n",
    "\n",
    "Recall the method `upload_data()` which is a member of object representing our current SageMaker session. What this method does is upload the data to the default bucket (which is created if it does not exist) into the path described by the key_prefix variable. To see this for yourself, once you have uploaded the data files, go to the S3 console and look to see where the files have been uploaded.\n",
    "\n",
    "For additional resources, see the __[SageMaker API documentation](http://sagemaker.readthedocs.io/en/latest/)__ and in addition the __[SageMaker Developer Guide.](https://docs.aws.amazon.com/sagemaker/latest/dg/)__"
   ]
  },
  {
   "cell_type": "code",
   "execution_count": 19,
   "metadata": {},
   "outputs": [],
   "source": [
    "import sagemaker\n",
    "\n",
    "session = sagemaker.Session() # Store the current SageMaker session\n",
    "\n",
    "# S3 prefix (which folder will we use)\n",
    "prefix = 'sentiment-update'\n",
    "\n",
    "test_location = session.upload_data(os.path.join(data_dir, 'test.csv'), key_prefix=prefix)\n",
    "val_location = session.upload_data(os.path.join(data_dir, 'validation.csv'), key_prefix=prefix)\n",
    "train_location = session.upload_data(os.path.join(data_dir, 'train.csv'), key_prefix=prefix)"
   ]
  },
  {
   "cell_type": "markdown",
   "metadata": {},
   "source": [
    "### Creating the XGBoost model\n",
    "\n",
    "Now that the data has been uploaded it is time to create the XGBoost model. To begin with, we need to do some setup. At this point it is worth discussing what a model is in SageMaker. It is easiest to think of a model of comprising three different objects in the SageMaker ecosystem, which interact with one another.\n",
    "\n",
    "- Model Artifacts\n",
    "- Training Code (Container)\n",
    "- Inference Code (Container)\n",
    "\n",
    "The Model Artifacts are what you might think of as the actual model itself. For example, if you were building a neural network, the model artifacts would be the weights of the various layers. In our case, for an XGBoost model, the artifacts are the actual trees that are created during training.\n",
    "\n",
    "The other two objects, the training code and the inference code are then used the manipulate the training artifacts. More precisely, the training code uses the training data that is provided and creates the model artifacts, while the inference code uses the model artifacts to make predictions on new data.\n",
    "\n",
    "The way that SageMaker runs the training and inference code is by making use of Docker containers. For now, think of a container as being a way of packaging code up so that dependencies aren't an issue."
   ]
  },
  {
   "cell_type": "code",
   "execution_count": 20,
   "metadata": {},
   "outputs": [],
   "source": [
    "from sagemaker import get_execution_role\n",
    "\n",
    "# Our current execution role is require when creating the model as the training\n",
    "# and inference code will need to access the model artifacts.\n",
    "role = get_execution_role()"
   ]
  },
  {
   "cell_type": "code",
   "execution_count": 41,
   "metadata": {},
   "outputs": [],
   "source": [
    "# We need to retrieve the location of the container which is provided by Amazon for using XGBoost.\n",
    "# As a matter of convenience, the training and inference code both use the same container.\n",
    "from sagemaker.amazon.amazon_estimator import get_image_uri\n",
    "\n",
    "container = get_image_uri(session.boto_region_name, 'xgboost', \"0.90-1\")"
   ]
  },
  {
   "cell_type": "code",
   "execution_count": 22,
   "metadata": {},
   "outputs": [],
   "source": [
    "# First we create a SageMaker estimator object for our model.\n",
    "xgb = sagemaker.estimator.Estimator(container, # The location of the container we wish to use\n",
    "                                    role,                                    # What is our current IAM Role\n",
    "                                    train_instance_count=1,                  # How many compute instances\n",
    "                                    train_instance_type='ml.m4.xlarge',      # What kind of compute instances\n",
    "                                    output_path='s3://{}/{}/output'.format(session.default_bucket(), prefix),\n",
    "                                    sagemaker_session=session)\n",
    "\n",
    "# And then set the algorithm specific parameters.\n",
    "xgb.set_hyperparameters(max_depth=5,\n",
    "                        eta=0.2,\n",
    "                        gamma=4,\n",
    "                        min_child_weight=6,\n",
    "                        subsample=0.8,\n",
    "                        silent=0,\n",
    "                        objective='binary:logistic',\n",
    "                        early_stopping_rounds=10,\n",
    "                        num_round=500)"
   ]
  },
  {
   "cell_type": "markdown",
   "metadata": {},
   "source": [
    "### Fit the XGBoost model\n",
    "\n",
    "Now that our model has been set up we simply need to attach the training and validation datasets and then ask SageMaker to set up the computation."
   ]
  },
  {
   "cell_type": "code",
   "execution_count": 23,
   "metadata": {},
   "outputs": [],
   "source": [
    "s3_input_train = sagemaker.s3_input(s3_data=train_location, content_type='csv')\n",
    "s3_input_validation = sagemaker.s3_input(s3_data=val_location, content_type='csv')"
   ]
  },
  {
   "cell_type": "code",
   "execution_count": 24,
   "metadata": {
    "collapsed": true
   },
   "outputs": [
    {
     "name": "stdout",
     "output_type": "stream",
     "text": [
      "2020-06-26 14:36:35 Starting - Starting the training job...\n",
      "2020-06-26 14:36:38 Starting - Launching requested ML instances......\n",
      "2020-06-26 14:37:43 Starting - Preparing the instances for training...\n",
      "2020-06-26 14:38:30 Downloading - Downloading input data...\n",
      "2020-06-26 14:39:04 Training - Training image download completed. Training in progress..\u001b[34mArguments: train\u001b[0m\n",
      "\u001b[34m[2020-06-26:14:39:04:INFO] Running standalone xgboost training.\u001b[0m\n",
      "\u001b[34m[2020-06-26:14:39:04:INFO] File size need to be processed in the node: 238.47mb. Available memory size in the node: 8471.21mb\u001b[0m\n",
      "\u001b[34m[2020-06-26:14:39:04:INFO] Determined delimiter of CSV input is ','\u001b[0m\n",
      "\u001b[34m[14:39:04] S3DistributionType set as FullyReplicated\u001b[0m\n",
      "\u001b[34m[14:39:06] 15000x5000 matrix with 75000000 entries loaded from /opt/ml/input/data/train?format=csv&label_column=0&delimiter=,\u001b[0m\n",
      "\u001b[34m[2020-06-26:14:39:06:INFO] Determined delimiter of CSV input is ','\u001b[0m\n",
      "\u001b[34m[14:39:06] S3DistributionType set as FullyReplicated\u001b[0m\n",
      "\u001b[34m[14:39:07] 10000x5000 matrix with 50000000 entries loaded from /opt/ml/input/data/validation?format=csv&label_column=0&delimiter=,\u001b[0m\n",
      "\u001b[34m[14:39:11] src/tree/updater_prune.cc:74: tree pruning end, 1 roots, 40 extra nodes, 4 pruned nodes, max_depth=5\u001b[0m\n",
      "\u001b[34m[0]#011train-error:0.2918#011validation-error:0.3043\u001b[0m\n",
      "\u001b[34mMultiple eval metrics have been passed: 'validation-error' will be used for early stopping.\n",
      "\u001b[0m\n",
      "\u001b[34mWill train until validation-error hasn't improved in 10 rounds.\u001b[0m\n",
      "\u001b[34m[14:39:12] src/tree/updater_prune.cc:74: tree pruning end, 1 roots, 38 extra nodes, 12 pruned nodes, max_depth=5\u001b[0m\n",
      "\u001b[34m[1]#011train-error:0.2778#011validation-error:0.2896\u001b[0m\n",
      "\u001b[34m[14:39:13] src/tree/updater_prune.cc:74: tree pruning end, 1 roots, 32 extra nodes, 12 pruned nodes, max_depth=5\u001b[0m\n",
      "\u001b[34m[2]#011train-error:0.2786#011validation-error:0.2925\u001b[0m\n",
      "\u001b[34m[14:39:15] src/tree/updater_prune.cc:74: tree pruning end, 1 roots, 30 extra nodes, 6 pruned nodes, max_depth=5\u001b[0m\n",
      "\u001b[34m[3]#011train-error:0.264867#011validation-error:0.2789\u001b[0m\n",
      "\u001b[34m[14:39:16] src/tree/updater_prune.cc:74: tree pruning end, 1 roots, 42 extra nodes, 14 pruned nodes, max_depth=5\u001b[0m\n",
      "\u001b[34m[4]#011train-error:0.257#011validation-error:0.2711\u001b[0m\n",
      "\u001b[34m[14:39:18] src/tree/updater_prune.cc:74: tree pruning end, 1 roots, 30 extra nodes, 4 pruned nodes, max_depth=5\u001b[0m\n",
      "\u001b[34m[5]#011train-error:0.251333#011validation-error:0.266\u001b[0m\n",
      "\u001b[34m[14:39:19] src/tree/updater_prune.cc:74: tree pruning end, 1 roots, 34 extra nodes, 0 pruned nodes, max_depth=5\u001b[0m\n",
      "\u001b[34m[6]#011train-error:0.242133#011validation-error:0.2552\u001b[0m\n",
      "\u001b[34m[14:39:20] src/tree/updater_prune.cc:74: tree pruning end, 1 roots, 38 extra nodes, 2 pruned nodes, max_depth=5\u001b[0m\n",
      "\u001b[34m[7]#011train-error:0.2352#011validation-error:0.2517\u001b[0m\n",
      "\u001b[34m[14:39:22] src/tree/updater_prune.cc:74: tree pruning end, 1 roots, 28 extra nodes, 4 pruned nodes, max_depth=5\u001b[0m\n",
      "\u001b[34m[8]#011train-error:0.235267#011validation-error:0.2483\u001b[0m\n",
      "\u001b[34m[14:39:23] src/tree/updater_prune.cc:74: tree pruning end, 1 roots, 42 extra nodes, 2 pruned nodes, max_depth=5\u001b[0m\n",
      "\u001b[34m[9]#011train-error:0.2272#011validation-error:0.2404\u001b[0m\n",
      "\u001b[34m[14:39:24] src/tree/updater_prune.cc:74: tree pruning end, 1 roots, 40 extra nodes, 4 pruned nodes, max_depth=5\u001b[0m\n",
      "\u001b[34m[10]#011train-error:0.223533#011validation-error:0.2364\u001b[0m\n",
      "\u001b[34m[14:39:25] src/tree/updater_prune.cc:74: tree pruning end, 1 roots, 32 extra nodes, 2 pruned nodes, max_depth=5\u001b[0m\n",
      "\u001b[34m[11]#011train-error:0.215667#011validation-error:0.2304\u001b[0m\n",
      "\u001b[34m[14:39:27] src/tree/updater_prune.cc:74: tree pruning end, 1 roots, 26 extra nodes, 14 pruned nodes, max_depth=5\u001b[0m\n",
      "\u001b[34m[12]#011train-error:0.213333#011validation-error:0.227\u001b[0m\n",
      "\u001b[34m[14:39:28] src/tree/updater_prune.cc:74: tree pruning end, 1 roots, 28 extra nodes, 8 pruned nodes, max_depth=5\u001b[0m\n",
      "\u001b[34m[13]#011train-error:0.208667#011validation-error:0.2237\u001b[0m\n",
      "\u001b[34m[14:39:29] src/tree/updater_prune.cc:74: tree pruning end, 1 roots, 32 extra nodes, 8 pruned nodes, max_depth=5\u001b[0m\n",
      "\u001b[34m[14]#011train-error:0.2052#011validation-error:0.2194\u001b[0m\n",
      "\u001b[34m[14:39:31] src/tree/updater_prune.cc:74: tree pruning end, 1 roots, 24 extra nodes, 6 pruned nodes, max_depth=5\u001b[0m\n",
      "\u001b[34m[15]#011train-error:0.203#011validation-error:0.2174\u001b[0m\n",
      "\u001b[34m[14:39:32] src/tree/updater_prune.cc:74: tree pruning end, 1 roots, 26 extra nodes, 12 pruned nodes, max_depth=5\u001b[0m\n",
      "\u001b[34m[16]#011train-error:0.198333#011validation-error:0.2132\u001b[0m\n",
      "\u001b[34m[14:39:33] src/tree/updater_prune.cc:74: tree pruning end, 1 roots, 28 extra nodes, 10 pruned nodes, max_depth=5\u001b[0m\n",
      "\u001b[34m[17]#011train-error:0.194533#011validation-error:0.209\u001b[0m\n",
      "\u001b[34m[14:39:34] src/tree/updater_prune.cc:74: tree pruning end, 1 roots, 22 extra nodes, 10 pruned nodes, max_depth=5\u001b[0m\n",
      "\u001b[34m[18]#011train-error:0.1918#011validation-error:0.2084\u001b[0m\n",
      "\u001b[34m[14:39:36] src/tree/updater_prune.cc:74: tree pruning end, 1 roots, 34 extra nodes, 6 pruned nodes, max_depth=5\u001b[0m\n",
      "\u001b[34m[19]#011train-error:0.1894#011validation-error:0.207\u001b[0m\n",
      "\u001b[34m[14:39:37] src/tree/updater_prune.cc:74: tree pruning end, 1 roots, 22 extra nodes, 4 pruned nodes, max_depth=5\u001b[0m\n",
      "\u001b[34m[20]#011train-error:0.187133#011validation-error:0.204\u001b[0m\n",
      "\u001b[34m[14:39:38] src/tree/updater_prune.cc:74: tree pruning end, 1 roots, 30 extra nodes, 6 pruned nodes, max_depth=5\u001b[0m\n",
      "\u001b[34m[21]#011train-error:0.185467#011validation-error:0.203\u001b[0m\n",
      "\u001b[34m[14:39:40] src/tree/updater_prune.cc:74: tree pruning end, 1 roots, 30 extra nodes, 6 pruned nodes, max_depth=5\u001b[0m\n",
      "\u001b[34m[22]#011train-error:0.182733#011validation-error:0.2005\u001b[0m\n",
      "\u001b[34m[14:39:41] src/tree/updater_prune.cc:74: tree pruning end, 1 roots, 32 extra nodes, 8 pruned nodes, max_depth=5\u001b[0m\n",
      "\u001b[34m[23]#011train-error:0.1816#011validation-error:0.1988\u001b[0m\n",
      "\u001b[34m[14:39:42] src/tree/updater_prune.cc:74: tree pruning end, 1 roots, 32 extra nodes, 10 pruned nodes, max_depth=5\u001b[0m\n",
      "\u001b[34m[24]#011train-error:0.177933#011validation-error:0.1947\u001b[0m\n",
      "\u001b[34m[14:39:43] src/tree/updater_prune.cc:74: tree pruning end, 1 roots, 16 extra nodes, 8 pruned nodes, max_depth=5\u001b[0m\n",
      "\u001b[34m[25]#011train-error:0.175933#011validation-error:0.1917\u001b[0m\n",
      "\u001b[34m[14:39:45] src/tree/updater_prune.cc:74: tree pruning end, 1 roots, 24 extra nodes, 10 pruned nodes, max_depth=5\u001b[0m\n",
      "\u001b[34m[26]#011train-error:0.1744#011validation-error:0.1909\u001b[0m\n",
      "\u001b[34m[14:39:46] src/tree/updater_prune.cc:74: tree pruning end, 1 roots, 32 extra nodes, 6 pruned nodes, max_depth=5\u001b[0m\n",
      "\u001b[34m[27]#011train-error:0.173267#011validation-error:0.1899\u001b[0m\n",
      "\u001b[34m[14:39:47] src/tree/updater_prune.cc:74: tree pruning end, 1 roots, 26 extra nodes, 14 pruned nodes, max_depth=5\u001b[0m\n",
      "\u001b[34m[28]#011train-error:0.1708#011validation-error:0.189\u001b[0m\n",
      "\u001b[34m[14:39:48] src/tree/updater_prune.cc:74: tree pruning end, 1 roots, 28 extra nodes, 10 pruned nodes, max_depth=5\u001b[0m\n",
      "\u001b[34m[29]#011train-error:0.168133#011validation-error:0.1887\u001b[0m\n",
      "\u001b[34m[14:39:50] src/tree/updater_prune.cc:74: tree pruning end, 1 roots, 24 extra nodes, 8 pruned nodes, max_depth=5\u001b[0m\n",
      "\u001b[34m[30]#011train-error:0.1672#011validation-error:0.187\u001b[0m\n",
      "\u001b[34m[14:39:51] src/tree/updater_prune.cc:74: tree pruning end, 1 roots, 24 extra nodes, 10 pruned nodes, max_depth=5\u001b[0m\n",
      "\u001b[34m[31]#011train-error:0.1668#011validation-error:0.186\u001b[0m\n",
      "\u001b[34m[14:39:52] src/tree/updater_prune.cc:74: tree pruning end, 1 roots, 24 extra nodes, 8 pruned nodes, max_depth=5\u001b[0m\n",
      "\u001b[34m[32]#011train-error:0.1654#011validation-error:0.1855\u001b[0m\n",
      "\u001b[34m[14:39:53] src/tree/updater_prune.cc:74: tree pruning end, 1 roots, 18 extra nodes, 10 pruned nodes, max_depth=5\u001b[0m\n",
      "\u001b[34m[33]#011train-error:0.163933#011validation-error:0.1854\u001b[0m\n",
      "\u001b[34m[14:39:55] src/tree/updater_prune.cc:74: tree pruning end, 1 roots, 18 extra nodes, 12 pruned nodes, max_depth=5\u001b[0m\n",
      "\u001b[34m[34]#011train-error:0.162533#011validation-error:0.1852\u001b[0m\n",
      "\u001b[34m[14:39:56] src/tree/updater_prune.cc:74: tree pruning end, 1 roots, 34 extra nodes, 8 pruned nodes, max_depth=5\u001b[0m\n",
      "\u001b[34m[35]#011train-error:0.1606#011validation-error:0.1834\u001b[0m\n",
      "\u001b[34m[14:39:57] src/tree/updater_prune.cc:74: tree pruning end, 1 roots, 32 extra nodes, 6 pruned nodes, max_depth=5\u001b[0m\n",
      "\u001b[34m[36]#011train-error:0.158333#011validation-error:0.1818\u001b[0m\n",
      "\u001b[34m[14:39:59] src/tree/updater_prune.cc:74: tree pruning end, 1 roots, 22 extra nodes, 20 pruned nodes, max_depth=5\u001b[0m\n",
      "\u001b[34m[37]#011train-error:0.157467#011validation-error:0.1804\u001b[0m\n",
      "\u001b[34m[14:40:00] src/tree/updater_prune.cc:74: tree pruning end, 1 roots, 32 extra nodes, 6 pruned nodes, max_depth=5\u001b[0m\n",
      "\u001b[34m[38]#011train-error:0.155#011validation-error:0.1807\u001b[0m\n",
      "\u001b[34m[14:40:01] src/tree/updater_prune.cc:74: tree pruning end, 1 roots, 14 extra nodes, 10 pruned nodes, max_depth=5\u001b[0m\n",
      "\u001b[34m[39]#011train-error:0.153933#011validation-error:0.1788\u001b[0m\n"
     ]
    },
    {
     "name": "stdout",
     "output_type": "stream",
     "text": [
      "\u001b[34m[14:40:03] src/tree/updater_prune.cc:74: tree pruning end, 1 roots, 26 extra nodes, 10 pruned nodes, max_depth=5\u001b[0m\n",
      "\u001b[34m[40]#011train-error:0.1526#011validation-error:0.1764\u001b[0m\n",
      "\u001b[34m[14:40:04] src/tree/updater_prune.cc:74: tree pruning end, 1 roots, 30 extra nodes, 8 pruned nodes, max_depth=5\u001b[0m\n",
      "\u001b[34m[41]#011train-error:0.152067#011validation-error:0.1741\u001b[0m\n",
      "\u001b[34m[14:40:05] src/tree/updater_prune.cc:74: tree pruning end, 1 roots, 12 extra nodes, 14 pruned nodes, max_depth=5\u001b[0m\n",
      "\u001b[34m[42]#011train-error:0.150933#011validation-error:0.1734\u001b[0m\n",
      "\u001b[34m[14:40:06] src/tree/updater_prune.cc:74: tree pruning end, 1 roots, 22 extra nodes, 8 pruned nodes, max_depth=5\u001b[0m\n",
      "\u001b[34m[43]#011train-error:0.150733#011validation-error:0.1743\u001b[0m\n",
      "\u001b[34m[14:40:08] src/tree/updater_prune.cc:74: tree pruning end, 1 roots, 24 extra nodes, 10 pruned nodes, max_depth=5\u001b[0m\n",
      "\u001b[34m[44]#011train-error:0.1492#011validation-error:0.1729\u001b[0m\n",
      "\u001b[34m[14:40:09] src/tree/updater_prune.cc:74: tree pruning end, 1 roots, 24 extra nodes, 8 pruned nodes, max_depth=5\u001b[0m\n",
      "\u001b[34m[45]#011train-error:0.147267#011validation-error:0.1736\u001b[0m\n",
      "\u001b[34m[14:40:10] src/tree/updater_prune.cc:74: tree pruning end, 1 roots, 10 extra nodes, 10 pruned nodes, max_depth=5\u001b[0m\n",
      "\u001b[34m[46]#011train-error:0.1476#011validation-error:0.1723\u001b[0m\n",
      "\u001b[34m[14:40:12] src/tree/updater_prune.cc:74: tree pruning end, 1 roots, 14 extra nodes, 12 pruned nodes, max_depth=5\u001b[0m\n",
      "\u001b[34m[47]#011train-error:0.1456#011validation-error:0.1702\u001b[0m\n",
      "\u001b[34m[14:40:13] src/tree/updater_prune.cc:74: tree pruning end, 1 roots, 32 extra nodes, 2 pruned nodes, max_depth=5\u001b[0m\n",
      "\u001b[34m[48]#011train-error:0.144067#011validation-error:0.1694\u001b[0m\n",
      "\u001b[34m[14:40:14] src/tree/updater_prune.cc:74: tree pruning end, 1 roots, 22 extra nodes, 12 pruned nodes, max_depth=5\u001b[0m\n",
      "\u001b[34m[49]#011train-error:0.142467#011validation-error:0.1691\u001b[0m\n",
      "\u001b[34m[14:40:15] src/tree/updater_prune.cc:74: tree pruning end, 1 roots, 18 extra nodes, 12 pruned nodes, max_depth=5\u001b[0m\n",
      "\u001b[34m[50]#011train-error:0.1424#011validation-error:0.1688\u001b[0m\n",
      "\u001b[34m[14:40:17] src/tree/updater_prune.cc:74: tree pruning end, 1 roots, 24 extra nodes, 6 pruned nodes, max_depth=5\u001b[0m\n",
      "\u001b[34m[51]#011train-error:0.140867#011validation-error:0.1688\u001b[0m\n",
      "\u001b[34m[14:40:18] src/tree/updater_prune.cc:74: tree pruning end, 1 roots, 16 extra nodes, 12 pruned nodes, max_depth=5\u001b[0m\n",
      "\u001b[34m[52]#011train-error:0.1402#011validation-error:0.1689\u001b[0m\n",
      "\u001b[34m[14:40:19] src/tree/updater_prune.cc:74: tree pruning end, 1 roots, 24 extra nodes, 6 pruned nodes, max_depth=5\u001b[0m\n",
      "\u001b[34m[53]#011train-error:0.1386#011validation-error:0.1674\u001b[0m\n",
      "\u001b[34m[14:40:20] src/tree/updater_prune.cc:74: tree pruning end, 1 roots, 14 extra nodes, 10 pruned nodes, max_depth=5\u001b[0m\n",
      "\u001b[34m[54]#011train-error:0.1378#011validation-error:0.1658\u001b[0m\n",
      "\u001b[34m[14:40:22] src/tree/updater_prune.cc:74: tree pruning end, 1 roots, 24 extra nodes, 4 pruned nodes, max_depth=5\u001b[0m\n",
      "\u001b[34m[55]#011train-error:0.136733#011validation-error:0.1658\u001b[0m\n",
      "\u001b[34m[14:40:23] src/tree/updater_prune.cc:74: tree pruning end, 1 roots, 28 extra nodes, 6 pruned nodes, max_depth=5\u001b[0m\n",
      "\u001b[34m[56]#011train-error:0.135933#011validation-error:0.164\u001b[0m\n",
      "\u001b[34m[14:40:24] src/tree/updater_prune.cc:74: tree pruning end, 1 roots, 24 extra nodes, 8 pruned nodes, max_depth=5\u001b[0m\n",
      "\u001b[34m[57]#011train-error:0.136333#011validation-error:0.1652\u001b[0m\n",
      "\u001b[34m[14:40:26] src/tree/updater_prune.cc:74: tree pruning end, 1 roots, 20 extra nodes, 10 pruned nodes, max_depth=5\u001b[0m\n",
      "\u001b[34m[58]#011train-error:0.1354#011validation-error:0.164\u001b[0m\n",
      "\u001b[34m[14:40:27] src/tree/updater_prune.cc:74: tree pruning end, 1 roots, 10 extra nodes, 12 pruned nodes, max_depth=5\u001b[0m\n",
      "\u001b[34m[59]#011train-error:0.135133#011validation-error:0.1634\u001b[0m\n",
      "\u001b[34m[14:40:28] src/tree/updater_prune.cc:74: tree pruning end, 1 roots, 24 extra nodes, 8 pruned nodes, max_depth=5\u001b[0m\n",
      "\u001b[34m[60]#011train-error:0.134733#011validation-error:0.1634\u001b[0m\n",
      "\u001b[34m[14:40:29] src/tree/updater_prune.cc:74: tree pruning end, 1 roots, 16 extra nodes, 2 pruned nodes, max_depth=5\u001b[0m\n",
      "\u001b[34m[61]#011train-error:0.134067#011validation-error:0.1626\u001b[0m\n",
      "\u001b[34m[14:40:31] src/tree/updater_prune.cc:74: tree pruning end, 1 roots, 22 extra nodes, 6 pruned nodes, max_depth=5\u001b[0m\n",
      "\u001b[34m[62]#011train-error:0.1336#011validation-error:0.161\u001b[0m\n",
      "\u001b[34m[14:40:32] src/tree/updater_prune.cc:74: tree pruning end, 1 roots, 16 extra nodes, 10 pruned nodes, max_depth=5\u001b[0m\n",
      "\u001b[34m[63]#011train-error:0.133133#011validation-error:0.1603\u001b[0m\n",
      "\u001b[34m[14:40:33] src/tree/updater_prune.cc:74: tree pruning end, 1 roots, 30 extra nodes, 16 pruned nodes, max_depth=5\u001b[0m\n",
      "\u001b[34m[64]#011train-error:0.130667#011validation-error:0.1599\u001b[0m\n",
      "\u001b[34m[14:40:35] src/tree/updater_prune.cc:74: tree pruning end, 1 roots, 22 extra nodes, 12 pruned nodes, max_depth=5\u001b[0m\n",
      "\u001b[34m[65]#011train-error:0.1294#011validation-error:0.1578\u001b[0m\n",
      "\u001b[34m[14:40:36] src/tree/updater_prune.cc:74: tree pruning end, 1 roots, 26 extra nodes, 16 pruned nodes, max_depth=5\u001b[0m\n",
      "\u001b[34m[66]#011train-error:0.1284#011validation-error:0.1574\u001b[0m\n",
      "\u001b[34m[14:40:37] src/tree/updater_prune.cc:74: tree pruning end, 1 roots, 24 extra nodes, 14 pruned nodes, max_depth=5\u001b[0m\n",
      "\u001b[34m[67]#011train-error:0.128133#011validation-error:0.1574\u001b[0m\n",
      "\u001b[34m[14:40:38] src/tree/updater_prune.cc:74: tree pruning end, 1 roots, 14 extra nodes, 4 pruned nodes, max_depth=5\u001b[0m\n",
      "\u001b[34m[68]#011train-error:0.1274#011validation-error:0.1571\u001b[0m\n",
      "\u001b[34m[14:40:40] src/tree/updater_prune.cc:74: tree pruning end, 1 roots, 26 extra nodes, 4 pruned nodes, max_depth=5\u001b[0m\n",
      "\u001b[34m[69]#011train-error:0.128133#011validation-error:0.1555\u001b[0m\n",
      "\u001b[34m[14:40:41] src/tree/updater_prune.cc:74: tree pruning end, 1 roots, 16 extra nodes, 12 pruned nodes, max_depth=5\u001b[0m\n",
      "\u001b[34m[70]#011train-error:0.126867#011validation-error:0.1556\u001b[0m\n",
      "\u001b[34m[14:40:42] src/tree/updater_prune.cc:74: tree pruning end, 1 roots, 12 extra nodes, 6 pruned nodes, max_depth=5\u001b[0m\n",
      "\u001b[34m[71]#011train-error:0.126333#011validation-error:0.1546\u001b[0m\n",
      "\u001b[34m[14:40:43] src/tree/updater_prune.cc:74: tree pruning end, 1 roots, 26 extra nodes, 12 pruned nodes, max_depth=5\u001b[0m\n",
      "\u001b[34m[72]#011train-error:0.125533#011validation-error:0.1554\u001b[0m\n",
      "\u001b[34m[14:40:45] src/tree/updater_prune.cc:74: tree pruning end, 1 roots, 18 extra nodes, 18 pruned nodes, max_depth=5\u001b[0m\n",
      "\u001b[34m[73]#011train-error:0.125667#011validation-error:0.1539\u001b[0m\n",
      "\u001b[34m[14:40:46] src/tree/updater_prune.cc:74: tree pruning end, 1 roots, 18 extra nodes, 4 pruned nodes, max_depth=5\u001b[0m\n",
      "\u001b[34m[74]#011train-error:0.124267#011validation-error:0.1541\u001b[0m\n",
      "\u001b[34m[14:40:47] src/tree/updater_prune.cc:74: tree pruning end, 1 roots, 22 extra nodes, 12 pruned nodes, max_depth=5\u001b[0m\n",
      "\u001b[34m[75]#011train-error:0.123867#011validation-error:0.1534\u001b[0m\n",
      "\u001b[34m[14:40:49] src/tree/updater_prune.cc:74: tree pruning end, 1 roots, 18 extra nodes, 2 pruned nodes, max_depth=5\u001b[0m\n",
      "\u001b[34m[76]#011train-error:0.123067#011validation-error:0.1511\u001b[0m\n",
      "\u001b[34m[14:40:50] src/tree/updater_prune.cc:74: tree pruning end, 1 roots, 14 extra nodes, 14 pruned nodes, max_depth=5\u001b[0m\n",
      "\u001b[34m[77]#011train-error:0.1234#011validation-error:0.1511\u001b[0m\n",
      "\u001b[34m[14:40:51] src/tree/updater_prune.cc:74: tree pruning end, 1 roots, 10 extra nodes, 2 pruned nodes, max_depth=5\u001b[0m\n",
      "\u001b[34m[78]#011train-error:0.1234#011validation-error:0.1518\u001b[0m\n",
      "\u001b[34m[14:40:52] src/tree/updater_prune.cc:74: tree pruning end, 1 roots, 18 extra nodes, 8 pruned nodes, max_depth=5\u001b[0m\n",
      "\u001b[34m[79]#011train-error:0.122733#011validation-error:0.151\u001b[0m\n",
      "\u001b[34m[14:40:54] src/tree/updater_prune.cc:74: tree pruning end, 1 roots, 20 extra nodes, 10 pruned nodes, max_depth=5\u001b[0m\n",
      "\u001b[34m[80]#011train-error:0.121733#011validation-error:0.15\u001b[0m\n",
      "\u001b[34m[14:40:55] src/tree/updater_prune.cc:74: tree pruning end, 1 roots, 20 extra nodes, 8 pruned nodes, max_depth=5\u001b[0m\n",
      "\u001b[34m[81]#011train-error:0.1208#011validation-error:0.149\u001b[0m\n",
      "\u001b[34m[14:40:56] src/tree/updater_prune.cc:74: tree pruning end, 1 roots, 14 extra nodes, 6 pruned nodes, max_depth=5\u001b[0m\n",
      "\u001b[34m[82]#011train-error:0.120667#011validation-error:0.1486\u001b[0m\n",
      "\u001b[34m[14:40:58] src/tree/updater_prune.cc:74: tree pruning end, 1 roots, 10 extra nodes, 16 pruned nodes, max_depth=5\u001b[0m\n",
      "\u001b[34m[83]#011train-error:0.119533#011validation-error:0.1484\u001b[0m\n",
      "\u001b[34m[14:40:59] src/tree/updater_prune.cc:74: tree pruning end, 1 roots, 14 extra nodes, 4 pruned nodes, max_depth=5\u001b[0m\n",
      "\u001b[34m[84]#011train-error:0.1188#011validation-error:0.1478\u001b[0m\n",
      "\u001b[34m[14:41:00] src/tree/updater_prune.cc:74: tree pruning end, 1 roots, 14 extra nodes, 10 pruned nodes, max_depth=5\u001b[0m\n",
      "\u001b[34m[85]#011train-error:0.119133#011validation-error:0.1469\u001b[0m\n",
      "\u001b[34m[14:41:01] src/tree/updater_prune.cc:74: tree pruning end, 1 roots, 12 extra nodes, 10 pruned nodes, max_depth=5\u001b[0m\n",
      "\u001b[34m[86]#011train-error:0.119467#011validation-error:0.1467\u001b[0m\n",
      "\u001b[34m[14:41:03] src/tree/updater_prune.cc:74: tree pruning end, 1 roots, 20 extra nodes, 12 pruned nodes, max_depth=5\u001b[0m\n",
      "\u001b[34m[87]#011train-error:0.1186#011validation-error:0.146\u001b[0m\n"
     ]
    },
    {
     "name": "stdout",
     "output_type": "stream",
     "text": [
      "\u001b[34m[14:41:04] src/tree/updater_prune.cc:74: tree pruning end, 1 roots, 14 extra nodes, 8 pruned nodes, max_depth=5\u001b[0m\n",
      "\u001b[34m[88]#011train-error:0.118#011validation-error:0.1461\u001b[0m\n",
      "\u001b[34m[14:41:05] src/tree/updater_prune.cc:74: tree pruning end, 1 roots, 12 extra nodes, 14 pruned nodes, max_depth=5\u001b[0m\n",
      "\u001b[34m[89]#011train-error:0.118067#011validation-error:0.1461\u001b[0m\n",
      "\u001b[34m[14:41:06] src/tree/updater_prune.cc:74: tree pruning end, 1 roots, 14 extra nodes, 8 pruned nodes, max_depth=5\u001b[0m\n",
      "\u001b[34m[90]#011train-error:0.117467#011validation-error:0.1456\u001b[0m\n",
      "\u001b[34m[14:41:08] src/tree/updater_prune.cc:74: tree pruning end, 1 roots, 12 extra nodes, 6 pruned nodes, max_depth=5\u001b[0m\n",
      "\u001b[34m[91]#011train-error:0.116667#011validation-error:0.1455\u001b[0m\n",
      "\u001b[34m[14:41:09] src/tree/updater_prune.cc:74: tree pruning end, 1 roots, 10 extra nodes, 6 pruned nodes, max_depth=5\u001b[0m\n",
      "\u001b[34m[92]#011train-error:0.116467#011validation-error:0.1454\u001b[0m\n",
      "\u001b[34m[14:41:10] src/tree/updater_prune.cc:74: tree pruning end, 1 roots, 12 extra nodes, 10 pruned nodes, max_depth=5\u001b[0m\n",
      "\u001b[34m[93]#011train-error:0.115#011validation-error:0.1449\u001b[0m\n",
      "\u001b[34m[14:41:12] src/tree/updater_prune.cc:74: tree pruning end, 1 roots, 24 extra nodes, 10 pruned nodes, max_depth=5\u001b[0m\n",
      "\u001b[34m[94]#011train-error:0.114933#011validation-error:0.1456\u001b[0m\n",
      "\u001b[34m[14:41:13] src/tree/updater_prune.cc:74: tree pruning end, 1 roots, 16 extra nodes, 10 pruned nodes, max_depth=5\u001b[0m\n",
      "\u001b[34m[95]#011train-error:0.1148#011validation-error:0.1443\u001b[0m\n",
      "\u001b[34m[14:41:14] src/tree/updater_prune.cc:74: tree pruning end, 1 roots, 18 extra nodes, 6 pruned nodes, max_depth=5\u001b[0m\n",
      "\u001b[34m[96]#011train-error:0.114467#011validation-error:0.1444\u001b[0m\n",
      "\u001b[34m[14:41:15] src/tree/updater_prune.cc:74: tree pruning end, 1 roots, 18 extra nodes, 14 pruned nodes, max_depth=5\u001b[0m\n",
      "\u001b[34m[97]#011train-error:0.113867#011validation-error:0.1438\u001b[0m\n",
      "\u001b[34m[14:41:17] src/tree/updater_prune.cc:74: tree pruning end, 1 roots, 26 extra nodes, 6 pruned nodes, max_depth=5\u001b[0m\n",
      "\u001b[34m[98]#011train-error:0.113267#011validation-error:0.1443\u001b[0m\n",
      "\u001b[34m[14:41:18] src/tree/updater_prune.cc:74: tree pruning end, 1 roots, 26 extra nodes, 6 pruned nodes, max_depth=5\u001b[0m\n",
      "\u001b[34m[99]#011train-error:0.112933#011validation-error:0.1438\u001b[0m\n",
      "\u001b[34m[14:41:19] src/tree/updater_prune.cc:74: tree pruning end, 1 roots, 20 extra nodes, 4 pruned nodes, max_depth=5\u001b[0m\n",
      "\u001b[34m[100]#011train-error:0.1124#011validation-error:0.144\u001b[0m\n",
      "\u001b[34m[14:41:20] src/tree/updater_prune.cc:74: tree pruning end, 1 roots, 12 extra nodes, 0 pruned nodes, max_depth=5\u001b[0m\n",
      "\u001b[34m[101]#011train-error:0.111667#011validation-error:0.1444\u001b[0m\n",
      "\u001b[34m[14:41:22] src/tree/updater_prune.cc:74: tree pruning end, 1 roots, 12 extra nodes, 10 pruned nodes, max_depth=5\u001b[0m\n",
      "\u001b[34m[102]#011train-error:0.111467#011validation-error:0.1442\u001b[0m\n",
      "\u001b[34m[14:41:23] src/tree/updater_prune.cc:74: tree pruning end, 1 roots, 20 extra nodes, 6 pruned nodes, max_depth=5\u001b[0m\n",
      "\u001b[34m[103]#011train-error:0.110667#011validation-error:0.1447\u001b[0m\n",
      "\u001b[34m[14:41:24] src/tree/updater_prune.cc:74: tree pruning end, 1 roots, 10 extra nodes, 14 pruned nodes, max_depth=5\u001b[0m\n",
      "\u001b[34m[104]#011train-error:0.110133#011validation-error:0.1445\u001b[0m\n",
      "\u001b[34m[14:41:26] src/tree/updater_prune.cc:74: tree pruning end, 1 roots, 24 extra nodes, 6 pruned nodes, max_depth=5\u001b[0m\n",
      "\u001b[34m[105]#011train-error:0.109733#011validation-error:0.144\u001b[0m\n",
      "\u001b[34m[14:41:27] src/tree/updater_prune.cc:74: tree pruning end, 1 roots, 18 extra nodes, 2 pruned nodes, max_depth=5\u001b[0m\n",
      "\u001b[34m[106]#011train-error:0.108867#011validation-error:0.1426\u001b[0m\n",
      "\u001b[34m[14:41:28] src/tree/updater_prune.cc:74: tree pruning end, 1 roots, 20 extra nodes, 16 pruned nodes, max_depth=5\u001b[0m\n",
      "\u001b[34m[107]#011train-error:0.108467#011validation-error:0.1434\u001b[0m\n",
      "\u001b[34m[14:41:30] src/tree/updater_prune.cc:74: tree pruning end, 1 roots, 10 extra nodes, 16 pruned nodes, max_depth=5\u001b[0m\n",
      "\u001b[34m[108]#011train-error:0.108933#011validation-error:0.1428\u001b[0m\n",
      "\u001b[34m[14:41:31] src/tree/updater_prune.cc:74: tree pruning end, 1 roots, 16 extra nodes, 16 pruned nodes, max_depth=5\u001b[0m\n",
      "\u001b[34m[109]#011train-error:0.108333#011validation-error:0.1428\u001b[0m\n",
      "\u001b[34m[14:41:32] src/tree/updater_prune.cc:74: tree pruning end, 1 roots, 12 extra nodes, 2 pruned nodes, max_depth=5\u001b[0m\n",
      "\u001b[34m[110]#011train-error:0.1076#011validation-error:0.1422\u001b[0m\n",
      "\u001b[34m[14:41:33] src/tree/updater_prune.cc:74: tree pruning end, 1 roots, 12 extra nodes, 10 pruned nodes, max_depth=5\u001b[0m\n",
      "\u001b[34m[111]#011train-error:0.107667#011validation-error:0.1422\u001b[0m\n",
      "\u001b[34m[14:41:35] src/tree/updater_prune.cc:74: tree pruning end, 1 roots, 26 extra nodes, 6 pruned nodes, max_depth=5\u001b[0m\n",
      "\u001b[34m[112]#011train-error:0.106067#011validation-error:0.1425\u001b[0m\n",
      "\u001b[34m[14:41:36] src/tree/updater_prune.cc:74: tree pruning end, 1 roots, 12 extra nodes, 10 pruned nodes, max_depth=5\u001b[0m\n",
      "\u001b[34m[113]#011train-error:0.105667#011validation-error:0.1419\u001b[0m\n",
      "\u001b[34m[14:41:37] src/tree/updater_prune.cc:74: tree pruning end, 1 roots, 16 extra nodes, 10 pruned nodes, max_depth=5\u001b[0m\n",
      "\u001b[34m[114]#011train-error:0.105267#011validation-error:0.1424\u001b[0m\n",
      "\u001b[34m[14:41:38] src/tree/updater_prune.cc:74: tree pruning end, 1 roots, 14 extra nodes, 12 pruned nodes, max_depth=5\u001b[0m\n",
      "\u001b[34m[115]#011train-error:0.104467#011validation-error:0.1417\u001b[0m\n",
      "\u001b[34m[14:41:40] src/tree/updater_prune.cc:74: tree pruning end, 1 roots, 28 extra nodes, 8 pruned nodes, max_depth=5\u001b[0m\n",
      "\u001b[34m[116]#011train-error:0.1048#011validation-error:0.1416\u001b[0m\n",
      "\u001b[34m[14:41:41] src/tree/updater_prune.cc:74: tree pruning end, 1 roots, 14 extra nodes, 8 pruned nodes, max_depth=5\u001b[0m\n",
      "\u001b[34m[117]#011train-error:0.104#011validation-error:0.1419\u001b[0m\n",
      "\u001b[34m[14:41:42] src/tree/updater_prune.cc:74: tree pruning end, 1 roots, 14 extra nodes, 6 pruned nodes, max_depth=5\u001b[0m\n",
      "\u001b[34m[118]#011train-error:0.103533#011validation-error:0.1419\u001b[0m\n",
      "\u001b[34m[14:41:43] src/tree/updater_prune.cc:74: tree pruning end, 1 roots, 10 extra nodes, 4 pruned nodes, max_depth=5\u001b[0m\n",
      "\u001b[34m[119]#011train-error:0.103#011validation-error:0.1419\u001b[0m\n",
      "\u001b[34m[14:41:45] src/tree/updater_prune.cc:74: tree pruning end, 1 roots, 18 extra nodes, 12 pruned nodes, max_depth=5\u001b[0m\n",
      "\u001b[34m[120]#011train-error:0.1028#011validation-error:0.1416\u001b[0m\n",
      "\u001b[34m[14:41:46] src/tree/updater_prune.cc:74: tree pruning end, 1 roots, 20 extra nodes, 0 pruned nodes, max_depth=5\u001b[0m\n",
      "\u001b[34m[121]#011train-error:0.102267#011validation-error:0.1416\u001b[0m\n",
      "\u001b[34m[14:41:47] src/tree/updater_prune.cc:74: tree pruning end, 1 roots, 22 extra nodes, 2 pruned nodes, max_depth=5\u001b[0m\n",
      "\u001b[34m[122]#011train-error:0.101733#011validation-error:0.1419\u001b[0m\n",
      "\u001b[34m[14:41:49] src/tree/updater_prune.cc:74: tree pruning end, 1 roots, 18 extra nodes, 8 pruned nodes, max_depth=5\u001b[0m\n",
      "\u001b[34m[123]#011train-error:0.101267#011validation-error:0.1424\u001b[0m\n",
      "\u001b[34m[14:41:50] src/tree/updater_prune.cc:74: tree pruning end, 1 roots, 14 extra nodes, 8 pruned nodes, max_depth=5\u001b[0m\n",
      "\u001b[34m[124]#011train-error:0.100467#011validation-error:0.1417\u001b[0m\n",
      "\u001b[34m[14:41:51] src/tree/updater_prune.cc:74: tree pruning end, 1 roots, 14 extra nodes, 2 pruned nodes, max_depth=5\u001b[0m\n",
      "\u001b[34m[125]#011train-error:0.100133#011validation-error:0.1417\u001b[0m\n",
      "\u001b[34m[14:41:52] src/tree/updater_prune.cc:74: tree pruning end, 1 roots, 12 extra nodes, 8 pruned nodes, max_depth=5\u001b[0m\n",
      "\u001b[34m[126]#011train-error:0.099667#011validation-error:0.1413\u001b[0m\n",
      "\u001b[34m[14:41:54] src/tree/updater_prune.cc:74: tree pruning end, 1 roots, 10 extra nodes, 10 pruned nodes, max_depth=5\u001b[0m\n",
      "\u001b[34m[127]#011train-error:0.100067#011validation-error:0.1414\u001b[0m\n",
      "\u001b[34m[14:41:55] src/tree/updater_prune.cc:74: tree pruning end, 1 roots, 10 extra nodes, 6 pruned nodes, max_depth=5\u001b[0m\n",
      "\u001b[34m[128]#011train-error:0.1002#011validation-error:0.1412\u001b[0m\n",
      "\u001b[34m[14:41:56] src/tree/updater_prune.cc:74: tree pruning end, 1 roots, 18 extra nodes, 6 pruned nodes, max_depth=5\u001b[0m\n",
      "\u001b[34m[129]#011train-error:0.099933#011validation-error:0.1412\u001b[0m\n",
      "\u001b[34m[14:41:58] src/tree/updater_prune.cc:74: tree pruning end, 1 roots, 16 extra nodes, 8 pruned nodes, max_depth=5\u001b[0m\n",
      "\u001b[34m[130]#011train-error:0.1002#011validation-error:0.1413\u001b[0m\n",
      "\u001b[34m[14:41:59] src/tree/updater_prune.cc:74: tree pruning end, 1 roots, 10 extra nodes, 4 pruned nodes, max_depth=5\u001b[0m\n",
      "\u001b[34m[131]#011train-error:0.100133#011validation-error:0.14\u001b[0m\n",
      "\u001b[34m[14:42:00] src/tree/updater_prune.cc:74: tree pruning end, 1 roots, 12 extra nodes, 2 pruned nodes, max_depth=5\u001b[0m\n",
      "\u001b[34m[132]#011train-error:0.0998#011validation-error:0.1404\u001b[0m\n",
      "\u001b[34m[14:42:01] src/tree/updater_prune.cc:74: tree pruning end, 1 roots, 18 extra nodes, 6 pruned nodes, max_depth=5\u001b[0m\n",
      "\u001b[34m[133]#011train-error:0.099533#011validation-error:0.1403\u001b[0m\n",
      "\u001b[34m[14:42:03] src/tree/updater_prune.cc:74: tree pruning end, 1 roots, 10 extra nodes, 10 pruned nodes, max_depth=5\u001b[0m\n",
      "\u001b[34m[134]#011train-error:0.0992#011validation-error:0.141\u001b[0m\n"
     ]
    },
    {
     "name": "stdout",
     "output_type": "stream",
     "text": [
      "\u001b[34m[14:42:04] src/tree/updater_prune.cc:74: tree pruning end, 1 roots, 22 extra nodes, 4 pruned nodes, max_depth=5\u001b[0m\n",
      "\u001b[34m[135]#011train-error:0.099#011validation-error:0.1392\u001b[0m\n",
      "\u001b[34m[14:42:05] src/tree/updater_prune.cc:74: tree pruning end, 1 roots, 12 extra nodes, 0 pruned nodes, max_depth=5\u001b[0m\n",
      "\u001b[34m[136]#011train-error:0.099133#011validation-error:0.1394\u001b[0m\n",
      "\u001b[34m[14:42:07] src/tree/updater_prune.cc:74: tree pruning end, 1 roots, 22 extra nodes, 6 pruned nodes, max_depth=5\u001b[0m\n",
      "\u001b[34m[137]#011train-error:0.0988#011validation-error:0.1394\u001b[0m\n",
      "\u001b[34m[14:42:08] src/tree/updater_prune.cc:74: tree pruning end, 1 roots, 20 extra nodes, 4 pruned nodes, max_depth=5\u001b[0m\n",
      "\u001b[34m[138]#011train-error:0.098667#011validation-error:0.1387\u001b[0m\n",
      "\u001b[34m[14:42:09] src/tree/updater_prune.cc:74: tree pruning end, 1 roots, 24 extra nodes, 8 pruned nodes, max_depth=5\u001b[0m\n",
      "\u001b[34m[139]#011train-error:0.097133#011validation-error:0.1386\u001b[0m\n",
      "\u001b[34m[14:42:10] src/tree/updater_prune.cc:74: tree pruning end, 1 roots, 12 extra nodes, 8 pruned nodes, max_depth=5\u001b[0m\n",
      "\u001b[34m[140]#011train-error:0.096533#011validation-error:0.1384\u001b[0m\n",
      "\u001b[34m[14:42:12] src/tree/updater_prune.cc:74: tree pruning end, 1 roots, 18 extra nodes, 12 pruned nodes, max_depth=5\u001b[0m\n",
      "\u001b[34m[141]#011train-error:0.096733#011validation-error:0.1383\u001b[0m\n",
      "\u001b[34m[14:42:13] src/tree/updater_prune.cc:74: tree pruning end, 1 roots, 12 extra nodes, 6 pruned nodes, max_depth=5\u001b[0m\n",
      "\u001b[34m[142]#011train-error:0.0966#011validation-error:0.1385\u001b[0m\n",
      "\u001b[34m[14:42:14] src/tree/updater_prune.cc:74: tree pruning end, 1 roots, 12 extra nodes, 14 pruned nodes, max_depth=5\u001b[0m\n",
      "\u001b[34m[143]#011train-error:0.0958#011validation-error:0.1387\u001b[0m\n",
      "\u001b[34m[14:42:15] src/tree/updater_prune.cc:74: tree pruning end, 1 roots, 24 extra nodes, 14 pruned nodes, max_depth=5\u001b[0m\n",
      "\u001b[34m[144]#011train-error:0.095533#011validation-error:0.1377\u001b[0m\n",
      "\u001b[34m[14:42:17] src/tree/updater_prune.cc:74: tree pruning end, 1 roots, 24 extra nodes, 18 pruned nodes, max_depth=5\u001b[0m\n",
      "\u001b[34m[145]#011train-error:0.0944#011validation-error:0.1374\u001b[0m\n",
      "\u001b[34m[14:42:18] src/tree/updater_prune.cc:74: tree pruning end, 1 roots, 20 extra nodes, 10 pruned nodes, max_depth=5\u001b[0m\n",
      "\u001b[34m[146]#011train-error:0.094067#011validation-error:0.1382\u001b[0m\n",
      "\u001b[34m[14:42:19] src/tree/updater_prune.cc:74: tree pruning end, 1 roots, 12 extra nodes, 2 pruned nodes, max_depth=5\u001b[0m\n",
      "\u001b[34m[147]#011train-error:0.094#011validation-error:0.1389\u001b[0m\n",
      "\u001b[34m[14:42:21] src/tree/updater_prune.cc:74: tree pruning end, 1 roots, 18 extra nodes, 22 pruned nodes, max_depth=5\u001b[0m\n",
      "\u001b[34m[148]#011train-error:0.093533#011validation-error:0.138\u001b[0m\n",
      "\u001b[34m[14:42:22] src/tree/updater_prune.cc:74: tree pruning end, 1 roots, 12 extra nodes, 6 pruned nodes, max_depth=5\u001b[0m\n",
      "\u001b[34m[149]#011train-error:0.093667#011validation-error:0.1377\u001b[0m\n",
      "\u001b[34m[14:42:23] src/tree/updater_prune.cc:74: tree pruning end, 1 roots, 12 extra nodes, 2 pruned nodes, max_depth=5\u001b[0m\n",
      "\u001b[34m[150]#011train-error:0.093667#011validation-error:0.1375\u001b[0m\n",
      "\u001b[34m[14:42:24] src/tree/updater_prune.cc:74: tree pruning end, 1 roots, 16 extra nodes, 6 pruned nodes, max_depth=5\u001b[0m\n",
      "\u001b[34m[151]#011train-error:0.093533#011validation-error:0.1372\u001b[0m\n",
      "\u001b[34m[14:42:26] src/tree/updater_prune.cc:74: tree pruning end, 1 roots, 12 extra nodes, 8 pruned nodes, max_depth=5\u001b[0m\n",
      "\u001b[34m[152]#011train-error:0.093267#011validation-error:0.1377\u001b[0m\n",
      "\u001b[34m[14:42:27] src/tree/updater_prune.cc:74: tree pruning end, 1 roots, 10 extra nodes, 8 pruned nodes, max_depth=5\u001b[0m\n",
      "\u001b[34m[153]#011train-error:0.093467#011validation-error:0.1383\u001b[0m\n",
      "\u001b[34m[14:42:28] src/tree/updater_prune.cc:74: tree pruning end, 1 roots, 10 extra nodes, 8 pruned nodes, max_depth=5\u001b[0m\n",
      "\u001b[34m[154]#011train-error:0.093467#011validation-error:0.1377\u001b[0m\n",
      "\u001b[34m[14:42:29] src/tree/updater_prune.cc:74: tree pruning end, 1 roots, 12 extra nodes, 10 pruned nodes, max_depth=5\u001b[0m\n",
      "\u001b[34m[155]#011train-error:0.093067#011validation-error:0.1378\u001b[0m\n",
      "\u001b[34m[14:42:31] src/tree/updater_prune.cc:74: tree pruning end, 1 roots, 16 extra nodes, 16 pruned nodes, max_depth=5\u001b[0m\n",
      "\u001b[34m[156]#011train-error:0.0926#011validation-error:0.1379\u001b[0m\n",
      "\u001b[34m[14:42:32] src/tree/updater_prune.cc:74: tree pruning end, 1 roots, 26 extra nodes, 12 pruned nodes, max_depth=5\u001b[0m\n",
      "\u001b[34m[157]#011train-error:0.0924#011validation-error:0.1388\u001b[0m\n",
      "\u001b[34m[14:42:33] src/tree/updater_prune.cc:74: tree pruning end, 1 roots, 10 extra nodes, 4 pruned nodes, max_depth=5\u001b[0m\n",
      "\u001b[34m[158]#011train-error:0.092067#011validation-error:0.1391\u001b[0m\n",
      "\u001b[34m[14:42:34] src/tree/updater_prune.cc:74: tree pruning end, 1 roots, 12 extra nodes, 8 pruned nodes, max_depth=5\u001b[0m\n",
      "\u001b[34m[159]#011train-error:0.092333#011validation-error:0.138\u001b[0m\n",
      "\u001b[34m[14:42:36] src/tree/updater_prune.cc:74: tree pruning end, 1 roots, 12 extra nodes, 6 pruned nodes, max_depth=5\u001b[0m\n",
      "\u001b[34m[160]#011train-error:0.091867#011validation-error:0.1375\u001b[0m\n",
      "\u001b[34m[14:42:37] src/tree/updater_prune.cc:74: tree pruning end, 1 roots, 12 extra nodes, 8 pruned nodes, max_depth=5\u001b[0m\n",
      "\u001b[34m[161]#011train-error:0.092067#011validation-error:0.1371\u001b[0m\n",
      "\u001b[34m[14:42:38] src/tree/updater_prune.cc:74: tree pruning end, 1 roots, 16 extra nodes, 8 pruned nodes, max_depth=5\u001b[0m\n",
      "\u001b[34m[162]#011train-error:0.092067#011validation-error:0.1369\u001b[0m\n",
      "\u001b[34m[14:42:40] src/tree/updater_prune.cc:74: tree pruning end, 1 roots, 18 extra nodes, 10 pruned nodes, max_depth=5\u001b[0m\n",
      "\u001b[34m[163]#011train-error:0.091667#011validation-error:0.136\u001b[0m\n",
      "\u001b[34m[14:42:41] src/tree/updater_prune.cc:74: tree pruning end, 1 roots, 10 extra nodes, 14 pruned nodes, max_depth=5\u001b[0m\n",
      "\u001b[34m[164]#011train-error:0.091733#011validation-error:0.136\u001b[0m\n",
      "\u001b[34m[14:42:42] src/tree/updater_prune.cc:74: tree pruning end, 1 roots, 18 extra nodes, 8 pruned nodes, max_depth=5\u001b[0m\n",
      "\u001b[34m[165]#011train-error:0.090467#011validation-error:0.1361\u001b[0m\n",
      "\u001b[34m[14:42:43] src/tree/updater_prune.cc:74: tree pruning end, 1 roots, 10 extra nodes, 6 pruned nodes, max_depth=5\u001b[0m\n",
      "\u001b[34m[166]#011train-error:0.09#011validation-error:0.1361\u001b[0m\n",
      "\u001b[34m[14:42:45] src/tree/updater_prune.cc:74: tree pruning end, 1 roots, 10 extra nodes, 8 pruned nodes, max_depth=5\u001b[0m\n",
      "\u001b[34m[167]#011train-error:0.0898#011validation-error:0.1358\u001b[0m\n",
      "\u001b[34m[14:42:46] src/tree/updater_prune.cc:74: tree pruning end, 1 roots, 20 extra nodes, 6 pruned nodes, max_depth=5\u001b[0m\n",
      "\u001b[34m[168]#011train-error:0.089067#011validation-error:0.1353\u001b[0m\n",
      "\u001b[34m[14:42:47] src/tree/updater_prune.cc:74: tree pruning end, 1 roots, 18 extra nodes, 2 pruned nodes, max_depth=5\u001b[0m\n",
      "\u001b[34m[169]#011train-error:0.0882#011validation-error:0.135\u001b[0m\n",
      "\u001b[34m[14:42:49] src/tree/updater_prune.cc:74: tree pruning end, 1 roots, 16 extra nodes, 12 pruned nodes, max_depth=5\u001b[0m\n",
      "\u001b[34m[170]#011train-error:0.088533#011validation-error:0.1345\u001b[0m\n",
      "\u001b[34m[14:42:50] src/tree/updater_prune.cc:74: tree pruning end, 1 roots, 12 extra nodes, 12 pruned nodes, max_depth=5\u001b[0m\n",
      "\u001b[34m[171]#011train-error:0.088667#011validation-error:0.1344\u001b[0m\n",
      "\u001b[34m[14:42:51] src/tree/updater_prune.cc:74: tree pruning end, 1 roots, 20 extra nodes, 18 pruned nodes, max_depth=5\u001b[0m\n",
      "\u001b[34m[172]#011train-error:0.088133#011validation-error:0.1343\u001b[0m\n",
      "\u001b[34m[14:42:52] src/tree/updater_prune.cc:74: tree pruning end, 1 roots, 10 extra nodes, 6 pruned nodes, max_depth=5\u001b[0m\n",
      "\u001b[34m[173]#011train-error:0.087467#011validation-error:0.1333\u001b[0m\n",
      "\u001b[34m[14:42:54] src/tree/updater_prune.cc:74: tree pruning end, 1 roots, 10 extra nodes, 4 pruned nodes, max_depth=5\u001b[0m\n",
      "\u001b[34m[174]#011train-error:0.0874#011validation-error:0.1335\u001b[0m\n",
      "\u001b[34m[14:42:55] src/tree/updater_prune.cc:74: tree pruning end, 1 roots, 10 extra nodes, 10 pruned nodes, max_depth=5\u001b[0m\n",
      "\u001b[34m[175]#011train-error:0.0874#011validation-error:0.1335\u001b[0m\n",
      "\u001b[34m[14:42:56] src/tree/updater_prune.cc:74: tree pruning end, 1 roots, 14 extra nodes, 12 pruned nodes, max_depth=5\u001b[0m\n",
      "\u001b[34m[176]#011train-error:0.086533#011validation-error:0.1341\u001b[0m\n",
      "\u001b[34m[14:42:57] src/tree/updater_prune.cc:74: tree pruning end, 1 roots, 12 extra nodes, 10 pruned nodes, max_depth=5\u001b[0m\n",
      "\u001b[34m[177]#011train-error:0.086533#011validation-error:0.1336\u001b[0m\n",
      "\u001b[34m[14:42:59] src/tree/updater_prune.cc:74: tree pruning end, 1 roots, 12 extra nodes, 16 pruned nodes, max_depth=5\u001b[0m\n",
      "\u001b[34m[178]#011train-error:0.0864#011validation-error:0.1334\u001b[0m\n",
      "\u001b[34m[14:43:00] src/tree/updater_prune.cc:74: tree pruning end, 1 roots, 10 extra nodes, 4 pruned nodes, max_depth=5\u001b[0m\n",
      "\u001b[34m[179]#011train-error:0.086267#011validation-error:0.1334\u001b[0m\n",
      "\u001b[34m[14:43:01] src/tree/updater_prune.cc:74: tree pruning end, 1 roots, 22 extra nodes, 8 pruned nodes, max_depth=5\u001b[0m\n",
      "\u001b[34m[180]#011train-error:0.0862#011validation-error:0.1328\u001b[0m\n",
      "\u001b[34m[14:43:03] src/tree/updater_prune.cc:74: tree pruning end, 1 roots, 18 extra nodes, 14 pruned nodes, max_depth=5\u001b[0m\n",
      "\u001b[34m[181]#011train-error:0.085933#011validation-error:0.1327\u001b[0m\n",
      "\u001b[34m[14:43:04] src/tree/updater_prune.cc:74: tree pruning end, 1 roots, 20 extra nodes, 4 pruned nodes, max_depth=5\u001b[0m\n",
      "\u001b[34m[182]#011train-error:0.0854#011validation-error:0.1332\u001b[0m\n"
     ]
    },
    {
     "name": "stdout",
     "output_type": "stream",
     "text": [
      "\u001b[34m[14:43:05] src/tree/updater_prune.cc:74: tree pruning end, 1 roots, 14 extra nodes, 8 pruned nodes, max_depth=5\u001b[0m\n",
      "\u001b[34m[183]#011train-error:0.085133#011validation-error:0.1329\u001b[0m\n",
      "\u001b[34m[14:43:06] src/tree/updater_prune.cc:74: tree pruning end, 1 roots, 12 extra nodes, 12 pruned nodes, max_depth=5\u001b[0m\n",
      "\u001b[34m[184]#011train-error:0.0856#011validation-error:0.1319\u001b[0m\n",
      "\u001b[34m[14:43:08] src/tree/updater_prune.cc:74: tree pruning end, 1 roots, 24 extra nodes, 20 pruned nodes, max_depth=5\u001b[0m\n",
      "\u001b[34m[185]#011train-error:0.084533#011validation-error:0.1323\u001b[0m\n",
      "\u001b[34m[14:43:09] src/tree/updater_prune.cc:74: tree pruning end, 1 roots, 16 extra nodes, 4 pruned nodes, max_depth=5\u001b[0m\n",
      "\u001b[34m[186]#011train-error:0.084867#011validation-error:0.1319\u001b[0m\n",
      "\u001b[34m[14:43:10] src/tree/updater_prune.cc:74: tree pruning end, 1 roots, 14 extra nodes, 4 pruned nodes, max_depth=5\u001b[0m\n",
      "\u001b[34m[187]#011train-error:0.0852#011validation-error:0.1321\u001b[0m\n",
      "\u001b[34m[14:43:11] src/tree/updater_prune.cc:74: tree pruning end, 1 roots, 12 extra nodes, 4 pruned nodes, max_depth=5\u001b[0m\n",
      "\u001b[34m[188]#011train-error:0.085#011validation-error:0.1316\u001b[0m\n",
      "\u001b[34m[14:43:13] src/tree/updater_prune.cc:74: tree pruning end, 1 roots, 10 extra nodes, 6 pruned nodes, max_depth=5\u001b[0m\n",
      "\u001b[34m[189]#011train-error:0.0848#011validation-error:0.1317\u001b[0m\n",
      "\u001b[34m[14:43:14] src/tree/updater_prune.cc:74: tree pruning end, 1 roots, 10 extra nodes, 10 pruned nodes, max_depth=5\u001b[0m\n",
      "\u001b[34m[190]#011train-error:0.084733#011validation-error:0.1312\u001b[0m\n",
      "\u001b[34m[14:43:15] src/tree/updater_prune.cc:74: tree pruning end, 1 roots, 12 extra nodes, 8 pruned nodes, max_depth=5\u001b[0m\n",
      "\u001b[34m[191]#011train-error:0.084333#011validation-error:0.1319\u001b[0m\n",
      "\u001b[34m[14:43:16] src/tree/updater_prune.cc:74: tree pruning end, 1 roots, 18 extra nodes, 8 pruned nodes, max_depth=5\u001b[0m\n",
      "\u001b[34m[192]#011train-error:0.084733#011validation-error:0.1315\u001b[0m\n",
      "\u001b[34m[14:43:18] src/tree/updater_prune.cc:74: tree pruning end, 1 roots, 12 extra nodes, 6 pruned nodes, max_depth=5\u001b[0m\n",
      "\u001b[34m[193]#011train-error:0.0844#011validation-error:0.1312\u001b[0m\n",
      "\u001b[34m[14:43:19] src/tree/updater_prune.cc:74: tree pruning end, 1 roots, 24 extra nodes, 8 pruned nodes, max_depth=5\u001b[0m\n",
      "\u001b[34m[194]#011train-error:0.083933#011validation-error:0.131\u001b[0m\n",
      "\u001b[34m[14:43:20] src/tree/updater_prune.cc:74: tree pruning end, 1 roots, 10 extra nodes, 2 pruned nodes, max_depth=5\u001b[0m\n",
      "\u001b[34m[195]#011train-error:0.083933#011validation-error:0.1308\u001b[0m\n",
      "\u001b[34m[14:43:22] src/tree/updater_prune.cc:74: tree pruning end, 1 roots, 16 extra nodes, 8 pruned nodes, max_depth=5\u001b[0m\n",
      "\u001b[34m[196]#011train-error:0.083267#011validation-error:0.1303\u001b[0m\n",
      "\u001b[34m[14:43:23] src/tree/updater_prune.cc:74: tree pruning end, 1 roots, 14 extra nodes, 6 pruned nodes, max_depth=5\u001b[0m\n",
      "\u001b[34m[197]#011train-error:0.082533#011validation-error:0.1308\u001b[0m\n",
      "\u001b[34m[14:43:24] src/tree/updater_prune.cc:74: tree pruning end, 1 roots, 10 extra nodes, 4 pruned nodes, max_depth=5\u001b[0m\n",
      "\u001b[34m[198]#011train-error:0.0822#011validation-error:0.1306\u001b[0m\n",
      "\u001b[34m[14:43:25] src/tree/updater_prune.cc:74: tree pruning end, 1 roots, 12 extra nodes, 14 pruned nodes, max_depth=5\u001b[0m\n",
      "\u001b[34m[199]#011train-error:0.082333#011validation-error:0.1307\u001b[0m\n",
      "\u001b[34m[14:43:27] src/tree/updater_prune.cc:74: tree pruning end, 1 roots, 12 extra nodes, 10 pruned nodes, max_depth=5\u001b[0m\n",
      "\u001b[34m[200]#011train-error:0.0822#011validation-error:0.1308\u001b[0m\n",
      "\u001b[34m[14:43:28] src/tree/updater_prune.cc:74: tree pruning end, 1 roots, 12 extra nodes, 4 pruned nodes, max_depth=5\u001b[0m\n",
      "\u001b[34m[201]#011train-error:0.081933#011validation-error:0.1305\u001b[0m\n",
      "\u001b[34m[14:43:29] src/tree/updater_prune.cc:74: tree pruning end, 1 roots, 18 extra nodes, 12 pruned nodes, max_depth=5\u001b[0m\n",
      "\u001b[34m[202]#011train-error:0.081533#011validation-error:0.1301\u001b[0m\n",
      "\u001b[34m[14:43:30] src/tree/updater_prune.cc:74: tree pruning end, 1 roots, 12 extra nodes, 16 pruned nodes, max_depth=5\u001b[0m\n",
      "\u001b[34m[203]#011train-error:0.081533#011validation-error:0.1297\u001b[0m\n",
      "\u001b[34m[14:43:32] src/tree/updater_prune.cc:74: tree pruning end, 1 roots, 10 extra nodes, 2 pruned nodes, max_depth=5\u001b[0m\n",
      "\u001b[34m[204]#011train-error:0.0812#011validation-error:0.1301\u001b[0m\n",
      "\u001b[34m[14:43:33] src/tree/updater_prune.cc:74: tree pruning end, 1 roots, 12 extra nodes, 10 pruned nodes, max_depth=5\u001b[0m\n",
      "\u001b[34m[205]#011train-error:0.080867#011validation-error:0.1305\u001b[0m\n",
      "\u001b[34m[14:43:34] src/tree/updater_prune.cc:74: tree pruning end, 1 roots, 10 extra nodes, 10 pruned nodes, max_depth=5\u001b[0m\n",
      "\u001b[34m[206]#011train-error:0.081067#011validation-error:0.1308\u001b[0m\n",
      "\u001b[34m[14:43:35] src/tree/updater_prune.cc:74: tree pruning end, 1 roots, 10 extra nodes, 6 pruned nodes, max_depth=5\u001b[0m\n",
      "\u001b[34m[207]#011train-error:0.081133#011validation-error:0.1308\u001b[0m\n",
      "\u001b[34m[14:43:37] src/tree/updater_prune.cc:74: tree pruning end, 1 roots, 14 extra nodes, 10 pruned nodes, max_depth=5\u001b[0m\n",
      "\u001b[34m[208]#011train-error:0.080867#011validation-error:0.1302\u001b[0m\n",
      "\u001b[34m[14:43:38] src/tree/updater_prune.cc:74: tree pruning end, 1 roots, 10 extra nodes, 12 pruned nodes, max_depth=5\u001b[0m\n",
      "\u001b[34m[209]#011train-error:0.0808#011validation-error:0.1302\u001b[0m\n",
      "\u001b[34m[14:43:39] src/tree/updater_prune.cc:74: tree pruning end, 1 roots, 12 extra nodes, 4 pruned nodes, max_depth=5\u001b[0m\n",
      "\u001b[34m[210]#011train-error:0.080733#011validation-error:0.1295\u001b[0m\n",
      "\u001b[34m[14:43:41] src/tree/updater_prune.cc:74: tree pruning end, 1 roots, 10 extra nodes, 6 pruned nodes, max_depth=5\u001b[0m\n",
      "\u001b[34m[211]#011train-error:0.080733#011validation-error:0.1295\u001b[0m\n",
      "\u001b[34m[14:43:42] src/tree/updater_prune.cc:74: tree pruning end, 1 roots, 16 extra nodes, 8 pruned nodes, max_depth=5\u001b[0m\n",
      "\u001b[34m[212]#011train-error:0.080667#011validation-error:0.1294\u001b[0m\n",
      "\u001b[34m[14:43:43] src/tree/updater_prune.cc:74: tree pruning end, 1 roots, 10 extra nodes, 20 pruned nodes, max_depth=5\u001b[0m\n",
      "\u001b[34m[213]#011train-error:0.080267#011validation-error:0.1293\u001b[0m\n",
      "\u001b[34m[14:43:44] src/tree/updater_prune.cc:74: tree pruning end, 1 roots, 12 extra nodes, 10 pruned nodes, max_depth=5\u001b[0m\n",
      "\u001b[34m[214]#011train-error:0.080733#011validation-error:0.1288\u001b[0m\n",
      "\u001b[34m[14:43:46] src/tree/updater_prune.cc:74: tree pruning end, 1 roots, 12 extra nodes, 8 pruned nodes, max_depth=5\u001b[0m\n",
      "\u001b[34m[215]#011train-error:0.0806#011validation-error:0.1288\u001b[0m\n",
      "\u001b[34m[14:43:47] src/tree/updater_prune.cc:74: tree pruning end, 1 roots, 10 extra nodes, 6 pruned nodes, max_depth=5\u001b[0m\n",
      "\u001b[34m[216]#011train-error:0.080333#011validation-error:0.1293\u001b[0m\n",
      "\u001b[34m[14:43:48] src/tree/updater_prune.cc:74: tree pruning end, 1 roots, 16 extra nodes, 14 pruned nodes, max_depth=5\u001b[0m\n",
      "\u001b[34m[217]#011train-error:0.080533#011validation-error:0.1292\u001b[0m\n",
      "\u001b[34m[14:43:49] src/tree/updater_prune.cc:74: tree pruning end, 1 roots, 12 extra nodes, 2 pruned nodes, max_depth=5\u001b[0m\n",
      "\u001b[34m[218]#011train-error:0.080933#011validation-error:0.129\u001b[0m\n",
      "\u001b[34m[14:43:51] src/tree/updater_prune.cc:74: tree pruning end, 1 roots, 12 extra nodes, 12 pruned nodes, max_depth=5\u001b[0m\n",
      "\u001b[34m[219]#011train-error:0.080733#011validation-error:0.1283\u001b[0m\n",
      "\u001b[34m[14:43:52] src/tree/updater_prune.cc:74: tree pruning end, 1 roots, 12 extra nodes, 0 pruned nodes, max_depth=5\u001b[0m\n",
      "\u001b[34m[220]#011train-error:0.080533#011validation-error:0.128\u001b[0m\n",
      "\u001b[34m[14:43:53] src/tree/updater_prune.cc:74: tree pruning end, 1 roots, 26 extra nodes, 12 pruned nodes, max_depth=5\u001b[0m\n",
      "\u001b[34m[221]#011train-error:0.079467#011validation-error:0.1282\u001b[0m\n",
      "\u001b[34m[14:43:55] src/tree/updater_prune.cc:74: tree pruning end, 1 roots, 10 extra nodes, 8 pruned nodes, max_depth=5\u001b[0m\n",
      "\u001b[34m[222]#011train-error:0.079#011validation-error:0.1286\u001b[0m\n",
      "\u001b[34m[14:43:56] src/tree/updater_prune.cc:74: tree pruning end, 1 roots, 20 extra nodes, 6 pruned nodes, max_depth=5\u001b[0m\n",
      "\u001b[34m[223]#011train-error:0.079067#011validation-error:0.1283\u001b[0m\n",
      "\u001b[34m[14:43:57] src/tree/updater_prune.cc:74: tree pruning end, 1 roots, 10 extra nodes, 6 pruned nodes, max_depth=5\u001b[0m\n",
      "\u001b[34m[224]#011train-error:0.078867#011validation-error:0.1278\u001b[0m\n",
      "\u001b[34m[14:43:58] src/tree/updater_prune.cc:74: tree pruning end, 1 roots, 10 extra nodes, 6 pruned nodes, max_depth=5\u001b[0m\n",
      "\u001b[34m[225]#011train-error:0.078733#011validation-error:0.1278\u001b[0m\n",
      "\u001b[34m[14:44:00] src/tree/updater_prune.cc:74: tree pruning end, 1 roots, 10 extra nodes, 4 pruned nodes, max_depth=5\u001b[0m\n",
      "\u001b[34m[226]#011train-error:0.078533#011validation-error:0.1274\u001b[0m\n",
      "\u001b[34m[14:44:01] src/tree/updater_prune.cc:74: tree pruning end, 1 roots, 20 extra nodes, 12 pruned nodes, max_depth=5\u001b[0m\n",
      "\u001b[34m[227]#011train-error:0.078#011validation-error:0.1276\u001b[0m\n",
      "\u001b[34m[14:44:02] src/tree/updater_prune.cc:74: tree pruning end, 1 roots, 10 extra nodes, 4 pruned nodes, max_depth=5\u001b[0m\n",
      "\u001b[34m[228]#011train-error:0.0776#011validation-error:0.1272\u001b[0m\n",
      "\u001b[34m[14:44:03] src/tree/updater_prune.cc:74: tree pruning end, 1 roots, 12 extra nodes, 18 pruned nodes, max_depth=5\u001b[0m\n",
      "\u001b[34m[229]#011train-error:0.077333#011validation-error:0.1274\u001b[0m\n",
      "\u001b[34m[14:44:05] src/tree/updater_prune.cc:74: tree pruning end, 1 roots, 16 extra nodes, 2 pruned nodes, max_depth=5\u001b[0m\n",
      "\u001b[34m[230]#011train-error:0.076667#011validation-error:0.1285\u001b[0m\n"
     ]
    },
    {
     "name": "stdout",
     "output_type": "stream",
     "text": [
      "\u001b[34m[14:44:06] src/tree/updater_prune.cc:74: tree pruning end, 1 roots, 12 extra nodes, 12 pruned nodes, max_depth=5\u001b[0m\n",
      "\u001b[34m[231]#011train-error:0.076533#011validation-error:0.129\u001b[0m\n",
      "\u001b[34m[14:44:07] src/tree/updater_prune.cc:74: tree pruning end, 1 roots, 12 extra nodes, 10 pruned nodes, max_depth=5\u001b[0m\n",
      "\u001b[34m[232]#011train-error:0.076333#011validation-error:0.1282\u001b[0m\n",
      "\u001b[34m[14:44:09] src/tree/updater_prune.cc:74: tree pruning end, 1 roots, 18 extra nodes, 14 pruned nodes, max_depth=5\u001b[0m\n",
      "\u001b[34m[233]#011train-error:0.0756#011validation-error:0.1288\u001b[0m\n",
      "\u001b[34m[14:44:10] src/tree/updater_prune.cc:74: tree pruning end, 1 roots, 24 extra nodes, 14 pruned nodes, max_depth=5\u001b[0m\n",
      "\u001b[34m[234]#011train-error:0.0752#011validation-error:0.1283\u001b[0m\n",
      "\u001b[34m[14:44:11] src/tree/updater_prune.cc:74: tree pruning end, 1 roots, 10 extra nodes, 4 pruned nodes, max_depth=5\u001b[0m\n",
      "\u001b[34m[235]#011train-error:0.075467#011validation-error:0.1283\u001b[0m\n",
      "\u001b[34m[14:44:12] src/tree/updater_prune.cc:74: tree pruning end, 1 roots, 12 extra nodes, 10 pruned nodes, max_depth=5\u001b[0m\n",
      "\u001b[34m[236]#011train-error:0.075533#011validation-error:0.1281\u001b[0m\n",
      "\u001b[34m[14:44:14] src/tree/updater_prune.cc:74: tree pruning end, 1 roots, 10 extra nodes, 4 pruned nodes, max_depth=5\u001b[0m\n",
      "\u001b[34m[237]#011train-error:0.0756#011validation-error:0.1287\u001b[0m\n",
      "\u001b[34m[14:44:15] src/tree/updater_prune.cc:74: tree pruning end, 1 roots, 12 extra nodes, 10 pruned nodes, max_depth=5\u001b[0m\n",
      "\u001b[34m[238]#011train-error:0.075467#011validation-error:0.1284\u001b[0m\n",
      "\u001b[34mStopping. Best iteration:\u001b[0m\n",
      "\u001b[34m[228]#011train-error:0.0776#011validation-error:0.1272\n",
      "\u001b[0m\n",
      "\n",
      "2020-06-26 14:44:25 Uploading - Uploading generated training model\n",
      "2020-06-26 14:44:25 Completed - Training job completed\n",
      "Training seconds: 355\n",
      "Billable seconds: 355\n"
     ]
    }
   ],
   "source": [
    "xgb.fit({'train': s3_input_train, 'validation': s3_input_validation})"
   ]
  },
  {
   "cell_type": "markdown",
   "metadata": {},
   "source": [
    "### Testing the model\n",
    "\n",
    "Now that we've fit our XGBoost model, it's time to see how well it performs. To do this we will use SageMakers Batch Transform functionality. Batch Transform is a convenient way to perform inference on a large dataset in a way that is not realtime. That is, we don't necessarily need to use our model's results immediately and instead we can peform inference on a large number of samples. An example of this in industry might be peforming an end of month report. This method of inference can also be useful to us as it means to can perform inference on our entire test set. \n",
    "\n",
    "To perform a Batch Transformation we need to first create a transformer objects from our trained estimator object."
   ]
  },
  {
   "cell_type": "code",
   "execution_count": 25,
   "metadata": {},
   "outputs": [],
   "source": [
    "xgb_transformer = xgb.transformer(instance_count = 1, instance_type = 'ml.m4.xlarge')"
   ]
  },
  {
   "cell_type": "markdown",
   "metadata": {},
   "source": [
    "Next we actually perform the transform job. When doing so we need to make sure to specify the type of data we are sending so that it is serialized correctly in the background. In our case we are providing our model with csv data so we specify `text/csv`. Also, if the test data that we have provided is too large to process all at once then we need to specify how the data file should be split up. Since each line is a single entry in our data set we tell SageMaker that it can split the input on each line."
   ]
  },
  {
   "cell_type": "code",
   "execution_count": 26,
   "metadata": {},
   "outputs": [],
   "source": [
    "xgb_transformer.transform(test_location, content_type='text/csv', split_type='Line')"
   ]
  },
  {
   "cell_type": "markdown",
   "metadata": {},
   "source": [
    "Currently the transform job is running but it is doing so in the background. Since we wish to wait until the transform job is done and we would like a bit of feedback we can run the `wait()` method."
   ]
  },
  {
   "cell_type": "code",
   "execution_count": 27,
   "metadata": {
    "collapsed": true
   },
   "outputs": [
    {
     "name": "stdout",
     "output_type": "stream",
     "text": [
      "....................\u001b[34mArguments: serve\u001b[0m\n",
      "\u001b[34m[2020-06-26 14:48:02 +0000] [1] [INFO] Starting gunicorn 19.7.1\u001b[0m\n",
      "\u001b[34m[2020-06-26 14:48:02 +0000] [1] [INFO] Listening at: http://0.0.0.0:8080 (1)\u001b[0m\n",
      "\u001b[34m[2020-06-26 14:48:02 +0000] [1] [INFO] Using worker: gevent\u001b[0m\n",
      "\u001b[34m[2020-06-26 14:48:02 +0000] [40] [INFO] Booting worker with pid: 40\u001b[0m\n",
      "\u001b[34m[2020-06-26 14:48:02 +0000] [41] [INFO] Booting worker with pid: 41\u001b[0m\n",
      "\u001b[34m[2020-06-26 14:48:02 +0000] [42] [INFO] Booting worker with pid: 42\u001b[0m\n",
      "\u001b[34m[2020-06-26 14:48:02 +0000] [43] [INFO] Booting worker with pid: 43\u001b[0m\n",
      "\u001b[34m[2020-06-26:14:48:02:INFO] Model loaded successfully for worker : 40\u001b[0m\n",
      "\u001b[34m[2020-06-26:14:48:02:INFO] Model loaded successfully for worker : 41\u001b[0m\n",
      "\u001b[34m[2020-06-26:14:48:02:INFO] Model loaded successfully for worker : 42\u001b[0m\n",
      "\u001b[34m[2020-06-26:14:48:02:INFO] Model loaded successfully for worker : 43\u001b[0m\n",
      "\u001b[34m[2020-06-26:14:48:36:INFO] Sniff delimiter as ','\u001b[0m\n",
      "\u001b[34m[2020-06-26:14:48:36:INFO] Determined delimiter of CSV input is ','\u001b[0m\n",
      "\u001b[34m[2020-06-26:14:48:36:INFO] Sniff delimiter as ','\u001b[0m\n",
      "\u001b[34m[2020-06-26:14:48:36:INFO] Determined delimiter of CSV input is ','\u001b[0m\n",
      "\u001b[34m[2020-06-26:14:48:36:INFO] Sniff delimiter as ','\u001b[0m\n",
      "\u001b[34m[2020-06-26:14:48:36:INFO] Determined delimiter of CSV input is ','\u001b[0m\n",
      "\u001b[34m[2020-06-26:14:48:37:INFO] Sniff delimiter as ','\u001b[0m\n",
      "\u001b[34m[2020-06-26:14:48:37:INFO] Determined delimiter of CSV input is ','\u001b[0m\n",
      "\u001b[34m[2020-06-26:14:48:39:INFO] Sniff delimiter as ','\u001b[0m\n",
      "\u001b[34m[2020-06-26:14:48:39:INFO] Determined delimiter of CSV input is ','\u001b[0m\n",
      "\u001b[34m[2020-06-26:14:48:39:INFO] Sniff delimiter as ','\u001b[0m\n",
      "\u001b[34m[2020-06-26:14:48:39:INFO] Determined delimiter of CSV input is ','\u001b[0m\n",
      "\u001b[34m[2020-06-26:14:48:39:INFO] Sniff delimiter as ','\u001b[0m\n",
      "\u001b[34m[2020-06-26:14:48:39:INFO] Determined delimiter of CSV input is ','\u001b[0m\n",
      "\u001b[34m[2020-06-26:14:48:40:INFO] Sniff delimiter as ','\u001b[0m\n",
      "\u001b[34m[2020-06-26:14:48:40:INFO] Determined delimiter of CSV input is ','\u001b[0m\n",
      "\u001b[32m2020-06-26T14:48:33.381:[sagemaker logs]: MaxConcurrentTransforms=4, MaxPayloadInMB=6, BatchStrategy=MULTI_RECORD\u001b[0m\n",
      "\u001b[34m[2020-06-26:14:48:41:INFO] Sniff delimiter as ','\u001b[0m\n",
      "\u001b[34m[2020-06-26:14:48:41:INFO] Determined delimiter of CSV input is ','\u001b[0m\n",
      "\u001b[35m[2020-06-26:14:48:41:INFO] Sniff delimiter as ','\u001b[0m\n",
      "\u001b[35m[2020-06-26:14:48:41:INFO] Determined delimiter of CSV input is ','\u001b[0m\n",
      "\u001b[34m[2020-06-26:14:48:42:INFO] Sniff delimiter as ','\u001b[0m\n",
      "\u001b[34m[2020-06-26:14:48:42:INFO] Determined delimiter of CSV input is ','\u001b[0m\n",
      "\u001b[34m[2020-06-26:14:48:42:INFO] Sniff delimiter as ','\u001b[0m\n",
      "\u001b[34m[2020-06-26:14:48:42:INFO] Determined delimiter of CSV input is ','\u001b[0m\n",
      "\u001b[34m[2020-06-26:14:48:42:INFO] Sniff delimiter as ','\u001b[0m\n",
      "\u001b[34m[2020-06-26:14:48:42:INFO] Determined delimiter of CSV input is ','\u001b[0m\n",
      "\u001b[35m[2020-06-26:14:48:42:INFO] Sniff delimiter as ','\u001b[0m\n",
      "\u001b[35m[2020-06-26:14:48:42:INFO] Determined delimiter of CSV input is ','\u001b[0m\n",
      "\u001b[35m[2020-06-26:14:48:42:INFO] Sniff delimiter as ','\u001b[0m\n",
      "\u001b[35m[2020-06-26:14:48:42:INFO] Determined delimiter of CSV input is ','\u001b[0m\n",
      "\u001b[35m[2020-06-26:14:48:42:INFO] Sniff delimiter as ','\u001b[0m\n",
      "\u001b[35m[2020-06-26:14:48:42:INFO] Determined delimiter of CSV input is ','\u001b[0m\n",
      "\u001b[34m[2020-06-26:14:48:44:INFO] Sniff delimiter as ','\u001b[0m\n",
      "\u001b[34m[2020-06-26:14:48:44:INFO] Determined delimiter of CSV input is ','\u001b[0m\n",
      "\u001b[34m[2020-06-26:14:48:44:INFO] Sniff delimiter as ','\u001b[0m\n",
      "\u001b[34m[2020-06-26:14:48:44:INFO] Determined delimiter of CSV input is ','\u001b[0m\n",
      "\u001b[35m[2020-06-26:14:48:44:INFO] Sniff delimiter as ','\u001b[0m\n",
      "\u001b[35m[2020-06-26:14:48:44:INFO] Determined delimiter of CSV input is ','\u001b[0m\n",
      "\u001b[35m[2020-06-26:14:48:44:INFO] Sniff delimiter as ','\u001b[0m\n",
      "\u001b[35m[2020-06-26:14:48:44:INFO] Determined delimiter of CSV input is ','\u001b[0m\n",
      "\u001b[34m[2020-06-26:14:48:45:INFO] Sniff delimiter as ','\u001b[0m\n",
      "\u001b[34m[2020-06-26:14:48:45:INFO] Determined delimiter of CSV input is ','\u001b[0m\n",
      "\u001b[34m[2020-06-26:14:48:45:INFO] Sniff delimiter as ','\u001b[0m\n",
      "\u001b[34m[2020-06-26:14:48:45:INFO] Determined delimiter of CSV input is ','\u001b[0m\n",
      "\u001b[35m[2020-06-26:14:48:45:INFO] Sniff delimiter as ','\u001b[0m\n",
      "\u001b[35m[2020-06-26:14:48:45:INFO] Determined delimiter of CSV input is ','\u001b[0m\n",
      "\u001b[35m[2020-06-26:14:48:45:INFO] Sniff delimiter as ','\u001b[0m\n",
      "\u001b[35m[2020-06-26:14:48:45:INFO] Determined delimiter of CSV input is ','\u001b[0m\n",
      "\u001b[34m[2020-06-26:14:48:45:INFO] Sniff delimiter as ','\u001b[0m\n",
      "\u001b[34m[2020-06-26:14:48:45:INFO] Determined delimiter of CSV input is ','\u001b[0m\n",
      "\u001b[35m[2020-06-26:14:48:45:INFO] Sniff delimiter as ','\u001b[0m\n",
      "\u001b[35m[2020-06-26:14:48:45:INFO] Determined delimiter of CSV input is ','\u001b[0m\n",
      "\u001b[34m[2020-06-26:14:48:47:INFO] Sniff delimiter as ','\u001b[0m\n",
      "\u001b[34m[2020-06-26:14:48:47:INFO] Determined delimiter of CSV input is ','\u001b[0m\n",
      "\u001b[34m[2020-06-26:14:48:47:INFO] Sniff delimiter as ','\u001b[0m\n",
      "\u001b[34m[2020-06-26:14:48:47:INFO] Determined delimiter of CSV input is ','\u001b[0m\n",
      "\u001b[35m[2020-06-26:14:48:47:INFO] Sniff delimiter as ','\u001b[0m\n",
      "\u001b[35m[2020-06-26:14:48:47:INFO] Determined delimiter of CSV input is ','\u001b[0m\n",
      "\u001b[35m[2020-06-26:14:48:47:INFO] Sniff delimiter as ','\u001b[0m\n",
      "\u001b[35m[2020-06-26:14:48:47:INFO] Determined delimiter of CSV input is ','\u001b[0m\n",
      "\u001b[34m[2020-06-26:14:48:49:INFO] Sniff delimiter as ','\u001b[0m\n",
      "\u001b[34m[2020-06-26:14:48:49:INFO] Determined delimiter of CSV input is ','\u001b[0m\n",
      "\u001b[34m[2020-06-26:14:48:49:INFO] Sniff delimiter as ','\u001b[0m\n",
      "\u001b[35m[2020-06-26:14:48:49:INFO] Sniff delimiter as ','\u001b[0m\n",
      "\u001b[35m[2020-06-26:14:48:49:INFO] Determined delimiter of CSV input is ','\u001b[0m\n",
      "\u001b[35m[2020-06-26:14:48:49:INFO] Sniff delimiter as ','\u001b[0m\n",
      "\u001b[34m[2020-06-26:14:48:49:INFO] Determined delimiter of CSV input is ','\u001b[0m\n",
      "\u001b[34m[2020-06-26:14:48:49:INFO] Sniff delimiter as ','\u001b[0m\n",
      "\u001b[34m[2020-06-26:14:48:49:INFO] Determined delimiter of CSV input is ','\u001b[0m\n",
      "\u001b[34m[2020-06-26:14:48:49:INFO] Sniff delimiter as ','\u001b[0m\n",
      "\u001b[34m[2020-06-26:14:48:49:INFO] Determined delimiter of CSV input is ','\u001b[0m\n",
      "\u001b[35m[2020-06-26:14:48:49:INFO] Determined delimiter of CSV input is ','\u001b[0m\n",
      "\u001b[35m[2020-06-26:14:48:49:INFO] Sniff delimiter as ','\u001b[0m\n",
      "\u001b[35m[2020-06-26:14:48:49:INFO] Determined delimiter of CSV input is ','\u001b[0m\n",
      "\u001b[35m[2020-06-26:14:48:49:INFO] Sniff delimiter as ','\u001b[0m\n",
      "\u001b[35m[2020-06-26:14:48:49:INFO] Determined delimiter of CSV input is ','\u001b[0m\n",
      "\u001b[34m[2020-06-26:14:48:51:INFO] Sniff delimiter as ','\u001b[0m\n",
      "\u001b[34m[2020-06-26:14:48:51:INFO] Determined delimiter of CSV input is ','\u001b[0m\n",
      "\u001b[34m[2020-06-26:14:48:51:INFO] Sniff delimiter as ','\u001b[0m\n",
      "\u001b[34m[2020-06-26:14:48:51:INFO] Determined delimiter of CSV input is ','\u001b[0m\n",
      "\u001b[35m[2020-06-26:14:48:51:INFO] Sniff delimiter as ','\u001b[0m\n",
      "\u001b[35m[2020-06-26:14:48:51:INFO] Determined delimiter of CSV input is ','\u001b[0m\n",
      "\u001b[35m[2020-06-26:14:48:51:INFO] Sniff delimiter as ','\u001b[0m\n",
      "\u001b[35m[2020-06-26:14:48:51:INFO] Determined delimiter of CSV input is ','\u001b[0m\n",
      "\u001b[34m[2020-06-26:14:48:51:INFO] Sniff delimiter as ','\u001b[0m\n",
      "\u001b[34m[2020-06-26:14:48:51:INFO] Determined delimiter of CSV input is ','\u001b[0m\n",
      "\u001b[35m[2020-06-26:14:48:51:INFO] Sniff delimiter as ','\u001b[0m\n",
      "\u001b[35m[2020-06-26:14:48:51:INFO] Determined delimiter of CSV input is ','\u001b[0m\n",
      "\u001b[34m[2020-06-26:14:48:51:INFO] Sniff delimiter as ','\u001b[0m\n",
      "\u001b[34m[2020-06-26:14:48:51:INFO] Determined delimiter of CSV input is ','\u001b[0m\n",
      "\u001b[35m[2020-06-26:14:48:51:INFO] Sniff delimiter as ','\u001b[0m\n",
      "\u001b[35m[2020-06-26:14:48:51:INFO] Determined delimiter of CSV input is ','\u001b[0m\n",
      "\u001b[34m[2020-06-26:14:48:53:INFO] Sniff delimiter as ','\u001b[0m\n",
      "\u001b[34m[2020-06-26:14:48:53:INFO] Determined delimiter of CSV input is ','\u001b[0m\n",
      "\u001b[35m[2020-06-26:14:48:53:INFO] Sniff delimiter as ','\u001b[0m\n",
      "\u001b[35m[2020-06-26:14:48:53:INFO] Determined delimiter of CSV input is ','\u001b[0m\n",
      "\u001b[34m[2020-06-26:14:48:54:INFO] Sniff delimiter as ','\u001b[0m\n",
      "\u001b[34m[2020-06-26:14:48:54:INFO] Determined delimiter of CSV input is ','\u001b[0m\n",
      "\u001b[34m[2020-06-26:14:48:54:INFO] Sniff delimiter as ','\u001b[0m\n",
      "\u001b[34m[2020-06-26:14:48:54:INFO] Determined delimiter of CSV input is ','\u001b[0m\n",
      "\u001b[34m[2020-06-26:14:48:54:INFO] Sniff delimiter as ','\u001b[0m\n",
      "\u001b[34m[2020-06-26:14:48:54:INFO] Determined delimiter of CSV input is ','\u001b[0m\n",
      "\u001b[35m[2020-06-26:14:48:54:INFO] Sniff delimiter as ','\u001b[0m\n",
      "\u001b[35m[2020-06-26:14:48:54:INFO] Determined delimiter of CSV input is ','\u001b[0m\n",
      "\u001b[35m[2020-06-26:14:48:54:INFO] Sniff delimiter as ','\u001b[0m\n",
      "\u001b[35m[2020-06-26:14:48:54:INFO] Determined delimiter of CSV input is ','\u001b[0m\n",
      "\u001b[35m[2020-06-26:14:48:54:INFO] Sniff delimiter as ','\u001b[0m\n",
      "\u001b[35m[2020-06-26:14:48:54:INFO] Determined delimiter of CSV input is ','\u001b[0m\n",
      "\u001b[34m[2020-06-26:14:48:56:INFO] Sniff delimiter as ','\u001b[0m\n",
      "\u001b[34m[2020-06-26:14:48:56:INFO] Determined delimiter of CSV input is ','\u001b[0m\n",
      "\u001b[34m[2020-06-26:14:48:56:INFO] Sniff delimiter as ','\u001b[0m\n",
      "\u001b[34m[2020-06-26:14:48:56:INFO] Determined delimiter of CSV input is ','\u001b[0m\n",
      "\u001b[34m[2020-06-26:14:48:56:INFO] Sniff delimiter as ','\u001b[0m\n",
      "\u001b[34m[2020-06-26:14:48:56:INFO] Determined delimiter of CSV input is ','\u001b[0m\n",
      "\u001b[34m[2020-06-26:14:48:56:INFO] Sniff delimiter as ','\u001b[0m\n",
      "\u001b[34m[2020-06-26:14:48:56:INFO] Determined delimiter of CSV input is ','\u001b[0m\n",
      "\u001b[35m[2020-06-26:14:48:56:INFO] Sniff delimiter as ','\u001b[0m\n",
      "\u001b[35m[2020-06-26:14:48:56:INFO] Determined delimiter of CSV input is ','\u001b[0m\n",
      "\u001b[35m[2020-06-26:14:48:56:INFO] Sniff delimiter as ','\u001b[0m\n",
      "\u001b[35m[2020-06-26:14:48:56:INFO] Determined delimiter of CSV input is ','\u001b[0m\n",
      "\u001b[35m[2020-06-26:14:48:56:INFO] Sniff delimiter as ','\u001b[0m\n",
      "\u001b[35m[2020-06-26:14:48:56:INFO] Determined delimiter of CSV input is ','\u001b[0m\n",
      "\u001b[35m[2020-06-26:14:48:56:INFO] Sniff delimiter as ','\u001b[0m\n",
      "\u001b[35m[2020-06-26:14:48:56:INFO] Determined delimiter of CSV input is ','\u001b[0m\n",
      "\u001b[34m[2020-06-26:14:48:58:INFO] Sniff delimiter as ','\u001b[0m\n",
      "\u001b[34m[2020-06-26:14:48:58:INFO] Determined delimiter of CSV input is ','\u001b[0m\n",
      "\u001b[35m[2020-06-26:14:48:58:INFO] Sniff delimiter as ','\u001b[0m\n",
      "\u001b[35m[2020-06-26:14:48:58:INFO] Determined delimiter of CSV input is ','\u001b[0m\n",
      "\u001b[34m[2020-06-26:14:48:58:INFO] Sniff delimiter as ','\u001b[0m\n",
      "\u001b[34m[2020-06-26:14:48:58:INFO] Determined delimiter of CSV input is ','\u001b[0m\n",
      "\u001b[34m[2020-06-26:14:48:59:INFO] Sniff delimiter as ','\u001b[0m\n",
      "\u001b[34m[2020-06-26:14:48:59:INFO] Determined delimiter of CSV input is ','\u001b[0m\n",
      "\u001b[34m[2020-06-26:14:48:59:INFO] Sniff delimiter as ','\u001b[0m\n",
      "\u001b[34m[2020-06-26:14:48:59:INFO] Determined delimiter of CSV input is ','\u001b[0m\n",
      "\u001b[35m[2020-06-26:14:48:58:INFO] Sniff delimiter as ','\u001b[0m\n",
      "\u001b[35m[2020-06-26:14:48:58:INFO] Determined delimiter of CSV input is ','\u001b[0m\n",
      "\u001b[35m[2020-06-26:14:48:59:INFO] Sniff delimiter as ','\u001b[0m\n",
      "\u001b[35m[2020-06-26:14:48:59:INFO] Determined delimiter of CSV input is ','\u001b[0m\n",
      "\u001b[35m[2020-06-26:14:48:59:INFO] Sniff delimiter as ','\u001b[0m\n",
      "\u001b[35m[2020-06-26:14:48:59:INFO] Determined delimiter of CSV input is ','\u001b[0m\n"
     ]
    },
    {
     "name": "stdout",
     "output_type": "stream",
     "text": [
      "\n"
     ]
    }
   ],
   "source": [
    "xgb_transformer.wait()"
   ]
  },
  {
   "cell_type": "markdown",
   "metadata": {},
   "source": [
    "Now the transform job has executed and the result, the estimated sentiment of each review, has been saved on S3. Since we would rather work on this file locally we can perform a bit of notebook magic to copy the file to the `data_dir`."
   ]
  },
  {
   "cell_type": "code",
   "execution_count": 28,
   "metadata": {},
   "outputs": [
    {
     "name": "stdout",
     "output_type": "stream",
     "text": [
      "download: s3://sagemaker-eu-central-1-648654006923/xgboost-2020-06-26-14-44-50-772/test.csv.out to ../data/sentiment_update/test.csv.out\n"
     ]
    }
   ],
   "source": [
    "!aws s3 cp --recursive $xgb_transformer.output_path $data_dir"
   ]
  },
  {
   "cell_type": "markdown",
   "metadata": {},
   "source": [
    "The last step is now to read in the output from our model, convert the output to something a little more usable, in this case we want the sentiment to be either `1` (positive) or `0` (negative), and then compare to the ground truth labels."
   ]
  },
  {
   "cell_type": "code",
   "execution_count": 29,
   "metadata": {},
   "outputs": [],
   "source": [
    "predictions = pd.read_csv(os.path.join(data_dir, 'test.csv.out'), header=None)\n",
    "predictions = [round(num) for num in predictions.squeeze().values]"
   ]
  },
  {
   "cell_type": "code",
   "execution_count": 30,
   "metadata": {},
   "outputs": [
    {
     "data": {
      "text/plain": [
       "0.86616"
      ]
     },
     "execution_count": 30,
     "metadata": {},
     "output_type": "execute_result"
    }
   ],
   "source": [
    "from sklearn.metrics import accuracy_score\n",
    "accuracy_score(test_y, predictions)"
   ]
  },
  {
   "cell_type": "markdown",
   "metadata": {},
   "source": [
    "## Step 5: Looking at New Data\n",
    "\n",
    "So now we have an XGBoost sentiment analysis model that we believe is working pretty well. As a result, we deployed it and we are using it in some sort of app.\n",
    "\n",
    "However, as we allow users to use our app we periodically record submitted movie reviews so that we can perform some quality control on our deployed model. Once we've accumulated enough reviews we go through them by hand and evaluate whether they are positive or negative (there are many ways you might do this in practice aside from by hand). The reason for doing this is so that we can check to see how well our model is doing."
   ]
  },
  {
   "cell_type": "code",
   "execution_count": 31,
   "metadata": {},
   "outputs": [],
   "source": [
    "import new_data\n",
    "\n",
    "new_X, new_Y = new_data.get_new_data()"
   ]
  },
  {
   "cell_type": "markdown",
   "metadata": {},
   "source": [
    "**NOTE:** Part of the fun in this notebook is trying to figure out what exactly is happening with the new data, so try not to cheat by looking in the `new_data` module. Also, the `new_data` module assumes that the cache created earlier in Step 3 is still stored in `../cache/sentiment_analysis`."
   ]
  },
  {
   "cell_type": "markdown",
   "metadata": {},
   "source": [
    "### (TODO) Testing the current model\n",
    "\n",
    "Now that we've loaded the new data, let's check to see how our current XGBoost model performs on it.\n",
    "\n",
    "First, note that the data that has been loaded has already been pre-processed so that each entry in `new_X` is a list of words that have been processed using `nltk`. However, we have not yet constructed the bag of words encoding, which we will do now.\n",
    "\n",
    "First, we use the vocabulary that we constructed earlier using the original training data to construct a `CountVectorizer` which we will use to transform our new data into its bag of words encoding.\n",
    "\n",
    "**TODO:** Create the CountVectorizer object using the vocabulary created earlier and use it to transform the new data."
   ]
  },
  {
   "cell_type": "code",
   "execution_count": 52,
   "metadata": {},
   "outputs": [],
   "source": [
    "# TODO: Create the CountVectorizer using the previously constructed vocabulary\n",
    "vectorizer = CountVectorizer(vocabulary=vocabulary, max_features=5000, tokenizer=lambda x:x, preprocessor=lambda x:x)\n",
    "\n",
    "# TODO: Transform our new data set and store the transformed data in the variable new_XV\n",
    "new_XV = vectorizer.transform(new_X).toarray()"
   ]
  },
  {
   "cell_type": "markdown",
   "metadata": {},
   "source": [
    "As a quick sanity check, we make sure that the length of each of our bag of words encoded reviews is correct. In particular, it must be the same size as the vocabulary which in our case is `5000`."
   ]
  },
  {
   "cell_type": "code",
   "execution_count": 53,
   "metadata": {},
   "outputs": [
    {
     "data": {
      "text/plain": [
       "5000"
      ]
     },
     "execution_count": 53,
     "metadata": {},
     "output_type": "execute_result"
    }
   ],
   "source": [
    "len(new_XV[100])"
   ]
  },
  {
   "cell_type": "markdown",
   "metadata": {},
   "source": [
    "Now that we've performed the data processing that is required by our model we can save it locally and then upload it to S3 so that we can construct a batch transform job in order to see how well our model is working.\n",
    "\n",
    "First, we save the data locally.\n",
    "\n",
    "**TODO:** Save the new data (after it has been transformed using the original vocabulary) to the local notebook instance."
   ]
  },
  {
   "cell_type": "code",
   "execution_count": 54,
   "metadata": {},
   "outputs": [],
   "source": [
    "# TODO: Save the data contained in new_XV locally in the data_dir with the file name new_data.csv\n",
    "\n",
    "pd.DataFrame(new_XV).to_csv(os.path.join(data_dir, 'new_data.csv'), header=False, index=False)\n"
   ]
  },
  {
   "cell_type": "markdown",
   "metadata": {},
   "source": [
    "Next, we upload the data to S3.\n",
    "\n",
    "**TODO:** Upload the csv file created above to S3."
   ]
  },
  {
   "cell_type": "code",
   "execution_count": 56,
   "metadata": {},
   "outputs": [],
   "source": [
    "# TODO: Upload the new_data.csv file contained in the data_dir folder to S3 and save the resulting\n",
    "#       URI as new_data_location\n",
    "\n",
    "new_data_location = session.upload_data(os.path.join(data_dir, \"new_data.csv\"), key_prefix=prefix)"
   ]
  },
  {
   "cell_type": "markdown",
   "metadata": {},
   "source": [
    "Then, once the new data has been uploaded to S3, we create and run the batch transform job to get our model's predictions about the sentiment of the new movie reviews.\n",
    "\n",
    "**TODO:** Using the `xgb_transformer` object that was created earlier (at the end of Step 4 to test the XGBoost model), transform the data located at `new_data_location`."
   ]
  },
  {
   "cell_type": "code",
   "execution_count": 58,
   "metadata": {},
   "outputs": [
    {
     "name": "stdout",
     "output_type": "stream",
     "text": [
      ".....................\u001b[34mArguments: serve\u001b[0m\n",
      "\u001b[34m[2020-06-26 15:33:39 +0000] [1] [INFO] Starting gunicorn 19.7.1\u001b[0m\n",
      "\u001b[34m[2020-06-26 15:33:39 +0000] [1] [INFO] Listening at: http://0.0.0.0:8080 (1)\u001b[0m\n",
      "\u001b[34m[2020-06-26 15:33:39 +0000] [1] [INFO] Using worker: gevent\u001b[0m\n",
      "\u001b[34m[2020-06-26 15:33:39 +0000] [37] [INFO] Booting worker with pid: 37\u001b[0m\n",
      "\u001b[34m[2020-06-26 15:33:39 +0000] [38] [INFO] Booting worker with pid: 38\u001b[0m\n",
      "\u001b[34m[2020-06-26 15:33:39 +0000] [39] [INFO] Booting worker with pid: 39\u001b[0m\n",
      "\u001b[34m[2020-06-26 15:33:39 +0000] [40] [INFO] Booting worker with pid: 40\u001b[0m\n",
      "\u001b[34m[2020-06-26:15:33:39:INFO] Model loaded successfully for worker : 37\u001b[0m\n",
      "\u001b[34m[2020-06-26:15:33:39:INFO] Model loaded successfully for worker : 38\u001b[0m\n",
      "\u001b[34m[2020-06-26:15:33:39:INFO] Model loaded successfully for worker : 40\u001b[0m\n",
      "\u001b[34m[2020-06-26:15:33:39:INFO] Model loaded successfully for worker : 39\u001b[0m\n",
      "\u001b[32m2020-06-26T15:33:51.822:[sagemaker logs]: MaxConcurrentTransforms=4, MaxPayloadInMB=6, BatchStrategy=MULTI_RECORD\u001b[0m\n",
      "\u001b[34m[2020-06-26:15:33:55:INFO] Sniff delimiter as ','\u001b[0m\n",
      "\u001b[34m[2020-06-26:15:33:55:INFO] Determined delimiter of CSV input is ','\u001b[0m\n",
      "\u001b[34m[2020-06-26:15:33:55:INFO] Sniff delimiter as ','\u001b[0m\n",
      "\u001b[34m[2020-06-26:15:33:55:INFO] Determined delimiter of CSV input is ','\u001b[0m\n",
      "\u001b[34m[2020-06-26:15:33:55:INFO] Sniff delimiter as ','\u001b[0m\n",
      "\u001b[34m[2020-06-26:15:33:55:INFO] Determined delimiter of CSV input is ','\u001b[0m\n",
      "\u001b[34m[2020-06-26:15:33:55:INFO] Sniff delimiter as ','\u001b[0m\n",
      "\u001b[34m[2020-06-26:15:33:55:INFO] Determined delimiter of CSV input is ','\u001b[0m\n",
      "\u001b[35m[2020-06-26:15:33:55:INFO] Sniff delimiter as ','\u001b[0m\n",
      "\u001b[35m[2020-06-26:15:33:55:INFO] Determined delimiter of CSV input is ','\u001b[0m\n",
      "\u001b[35m[2020-06-26:15:33:55:INFO] Sniff delimiter as ','\u001b[0m\n",
      "\u001b[35m[2020-06-26:15:33:55:INFO] Determined delimiter of CSV input is ','\u001b[0m\n",
      "\u001b[35m[2020-06-26:15:33:55:INFO] Sniff delimiter as ','\u001b[0m\n",
      "\u001b[35m[2020-06-26:15:33:55:INFO] Determined delimiter of CSV input is ','\u001b[0m\n",
      "\u001b[35m[2020-06-26:15:33:55:INFO] Sniff delimiter as ','\u001b[0m\n",
      "\u001b[35m[2020-06-26:15:33:55:INFO] Determined delimiter of CSV input is ','\u001b[0m\n",
      "\u001b[34m[2020-06-26:15:33:57:INFO] Sniff delimiter as ','\u001b[0m\n",
      "\u001b[34m[2020-06-26:15:33:57:INFO] Determined delimiter of CSV input is ','\u001b[0m\n",
      "\u001b[35m[2020-06-26:15:33:57:INFO] Sniff delimiter as ','\u001b[0m\n",
      "\u001b[35m[2020-06-26:15:33:57:INFO] Determined delimiter of CSV input is ','\u001b[0m\n",
      "\u001b[34m[2020-06-26:15:33:57:INFO] Sniff delimiter as ','\u001b[0m\n",
      "\u001b[34m[2020-06-26:15:33:57:INFO] Determined delimiter of CSV input is ','\u001b[0m\n",
      "\u001b[35m[2020-06-26:15:33:57:INFO] Sniff delimiter as ','\u001b[0m\n",
      "\u001b[35m[2020-06-26:15:33:57:INFO] Determined delimiter of CSV input is ','\u001b[0m\n",
      "\u001b[34m[2020-06-26:15:33:57:INFO] Sniff delimiter as ','\u001b[0m\n",
      "\u001b[34m[2020-06-26:15:33:57:INFO] Determined delimiter of CSV input is ','\u001b[0m\n",
      "\u001b[34m[2020-06-26:15:33:58:INFO] Sniff delimiter as ','\u001b[0m\n",
      "\u001b[34m[2020-06-26:15:33:58:INFO] Determined delimiter of CSV input is ','\u001b[0m\n",
      "\u001b[35m[2020-06-26:15:33:57:INFO] Sniff delimiter as ','\u001b[0m\n",
      "\u001b[35m[2020-06-26:15:33:57:INFO] Determined delimiter of CSV input is ','\u001b[0m\n",
      "\u001b[35m[2020-06-26:15:33:58:INFO] Sniff delimiter as ','\u001b[0m\n",
      "\u001b[35m[2020-06-26:15:33:58:INFO] Determined delimiter of CSV input is ','\u001b[0m\n",
      "\u001b[34m[2020-06-26:15:33:59:INFO] Sniff delimiter as ','\u001b[0m\n",
      "\u001b[34m[2020-06-26:15:33:59:INFO] Determined delimiter of CSV input is ','\u001b[0m\n",
      "\u001b[34m[2020-06-26:15:34:00:INFO] Sniff delimiter as ','\u001b[0m\n",
      "\u001b[35m[2020-06-26:15:33:59:INFO] Sniff delimiter as ','\u001b[0m\n",
      "\u001b[35m[2020-06-26:15:33:59:INFO] Determined delimiter of CSV input is ','\u001b[0m\n",
      "\u001b[35m[2020-06-26:15:34:00:INFO] Sniff delimiter as ','\u001b[0m\n",
      "\u001b[34m[2020-06-26:15:34:00:INFO] Determined delimiter of CSV input is ','\u001b[0m\n",
      "\u001b[34m[2020-06-26:15:34:00:INFO] Sniff delimiter as ','\u001b[0m\n",
      "\u001b[34m[2020-06-26:15:34:00:INFO] Determined delimiter of CSV input is ','\u001b[0m\n",
      "\u001b[34m[2020-06-26:15:34:00:INFO] Sniff delimiter as ','\u001b[0m\n",
      "\u001b[34m[2020-06-26:15:34:00:INFO] Determined delimiter of CSV input is ','\u001b[0m\n",
      "\u001b[35m[2020-06-26:15:34:00:INFO] Determined delimiter of CSV input is ','\u001b[0m\n",
      "\u001b[35m[2020-06-26:15:34:00:INFO] Sniff delimiter as ','\u001b[0m\n",
      "\u001b[35m[2020-06-26:15:34:00:INFO] Determined delimiter of CSV input is ','\u001b[0m\n",
      "\u001b[35m[2020-06-26:15:34:00:INFO] Sniff delimiter as ','\u001b[0m\n",
      "\u001b[35m[2020-06-26:15:34:00:INFO] Determined delimiter of CSV input is ','\u001b[0m\n",
      "\u001b[34m[2020-06-26:15:34:02:INFO] Sniff delimiter as ','\u001b[0m\n",
      "\u001b[34m[2020-06-26:15:34:02:INFO] Determined delimiter of CSV input is ','\u001b[0m\n",
      "\u001b[34m[2020-06-26:15:34:02:INFO] Sniff delimiter as ','\u001b[0m\n",
      "\u001b[34m[2020-06-26:15:34:02:INFO] Determined delimiter of CSV input is ','\u001b[0m\n",
      "\u001b[35m[2020-06-26:15:34:02:INFO] Sniff delimiter as ','\u001b[0m\n",
      "\u001b[35m[2020-06-26:15:34:02:INFO] Determined delimiter of CSV input is ','\u001b[0m\n",
      "\u001b[35m[2020-06-26:15:34:02:INFO] Sniff delimiter as ','\u001b[0m\n",
      "\u001b[35m[2020-06-26:15:34:02:INFO] Determined delimiter of CSV input is ','\u001b[0m\n",
      "\u001b[34m[2020-06-26:15:34:02:INFO] Sniff delimiter as ','\u001b[0m\n",
      "\u001b[34m[2020-06-26:15:34:02:INFO] Determined delimiter of CSV input is ','\u001b[0m\n",
      "\u001b[34m[2020-06-26:15:34:02:INFO] Sniff delimiter as ','\u001b[0m\n",
      "\u001b[34m[2020-06-26:15:34:02:INFO] Determined delimiter of CSV input is ','\u001b[0m\n",
      "\u001b[35m[2020-06-26:15:34:02:INFO] Sniff delimiter as ','\u001b[0m\n",
      "\u001b[35m[2020-06-26:15:34:02:INFO] Determined delimiter of CSV input is ','\u001b[0m\n",
      "\u001b[35m[2020-06-26:15:34:02:INFO] Sniff delimiter as ','\u001b[0m\n",
      "\u001b[35m[2020-06-26:15:34:02:INFO] Determined delimiter of CSV input is ','\u001b[0m\n",
      "\n",
      "\u001b[34m[2020-06-26:15:34:05:INFO] Sniff delimiter as ','\u001b[0m\n",
      "\u001b[34m[2020-06-26:15:34:05:INFO] Determined delimiter of CSV input is ','\u001b[0m\n",
      "\u001b[34m[2020-06-26:15:34:05:INFO] Sniff delimiter as ','\u001b[0m\n",
      "\u001b[34m[2020-06-26:15:34:05:INFO] Determined delimiter of CSV input is ','\u001b[0m\n",
      "\u001b[35m[2020-06-26:15:34:05:INFO] Sniff delimiter as ','\u001b[0m\n",
      "\u001b[35m[2020-06-26:15:34:05:INFO] Determined delimiter of CSV input is ','\u001b[0m\n",
      "\u001b[35m[2020-06-26:15:34:05:INFO] Sniff delimiter as ','\u001b[0m\n",
      "\u001b[35m[2020-06-26:15:34:05:INFO] Determined delimiter of CSV input is ','\u001b[0m\n",
      "\u001b[34m[2020-06-26:15:34:07:INFO] Sniff delimiter as ','\u001b[0m\n",
      "\u001b[34m[2020-06-26:15:34:07:INFO] Determined delimiter of CSV input is ','\u001b[0m\n",
      "\u001b[34m[2020-06-26:15:34:07:INFO] Sniff delimiter as ','\u001b[0m\n",
      "\u001b[34m[2020-06-26:15:34:07:INFO] Determined delimiter of CSV input is ','\u001b[0m\n",
      "\u001b[35m[2020-06-26:15:34:07:INFO] Sniff delimiter as ','\u001b[0m\n",
      "\u001b[35m[2020-06-26:15:34:07:INFO] Determined delimiter of CSV input is ','\u001b[0m\n",
      "\u001b[35m[2020-06-26:15:34:07:INFO] Sniff delimiter as ','\u001b[0m\n",
      "\u001b[35m[2020-06-26:15:34:07:INFO] Determined delimiter of CSV input is ','\u001b[0m\n",
      "\u001b[34m[2020-06-26:15:34:07:INFO] Sniff delimiter as ','\u001b[0m\n",
      "\u001b[34m[2020-06-26:15:34:07:INFO] Determined delimiter of CSV input is ','\u001b[0m\n",
      "\u001b[34m[2020-06-26:15:34:07:INFO] Sniff delimiter as ','\u001b[0m\n",
      "\u001b[34m[2020-06-26:15:34:07:INFO] Determined delimiter of CSV input is ','\u001b[0m\n",
      "\u001b[35m[2020-06-26:15:34:07:INFO] Sniff delimiter as ','\u001b[0m\n",
      "\u001b[35m[2020-06-26:15:34:07:INFO] Determined delimiter of CSV input is ','\u001b[0m\n",
      "\u001b[35m[2020-06-26:15:34:07:INFO] Sniff delimiter as ','\u001b[0m\n",
      "\u001b[35m[2020-06-26:15:34:07:INFO] Determined delimiter of CSV input is ','\u001b[0m\n",
      "\u001b[34m[2020-06-26:15:34:09:INFO] Sniff delimiter as ','\u001b[0m\n",
      "\u001b[34m[2020-06-26:15:34:09:INFO] Determined delimiter of CSV input is ','\u001b[0m\n",
      "\u001b[35m[2020-06-26:15:34:09:INFO] Sniff delimiter as ','\u001b[0m\n",
      "\u001b[35m[2020-06-26:15:34:09:INFO] Determined delimiter of CSV input is ','\u001b[0m\n",
      "\u001b[34m[2020-06-26:15:34:09:INFO] Sniff delimiter as ','\u001b[0m\n",
      "\u001b[34m[2020-06-26:15:34:09:INFO] Determined delimiter of CSV input is ','\u001b[0m\n",
      "\u001b[34m[2020-06-26:15:34:10:INFO] Sniff delimiter as ','\u001b[0m\n",
      "\u001b[34m[2020-06-26:15:34:10:INFO] Determined delimiter of CSV input is ','\u001b[0m\n",
      "\u001b[34m[2020-06-26:15:34:10:INFO] Sniff delimiter as ','\u001b[0m\n",
      "\u001b[34m[2020-06-26:15:34:10:INFO] Determined delimiter of CSV input is ','\u001b[0m\n",
      "\u001b[35m[2020-06-26:15:34:09:INFO] Sniff delimiter as ','\u001b[0m\n",
      "\u001b[35m[2020-06-26:15:34:09:INFO] Determined delimiter of CSV input is ','\u001b[0m\n",
      "\u001b[35m[2020-06-26:15:34:10:INFO] Sniff delimiter as ','\u001b[0m\n",
      "\u001b[35m[2020-06-26:15:34:10:INFO] Determined delimiter of CSV input is ','\u001b[0m\n",
      "\u001b[35m[2020-06-26:15:34:10:INFO] Sniff delimiter as ','\u001b[0m\n",
      "\u001b[35m[2020-06-26:15:34:10:INFO] Determined delimiter of CSV input is ','\u001b[0m\n",
      "\u001b[34m[2020-06-26:15:34:12:INFO] Sniff delimiter as ','\u001b[0m\n",
      "\u001b[35m[2020-06-26:15:34:12:INFO] Sniff delimiter as ','\u001b[0m\n",
      "\u001b[34m[2020-06-26:15:34:12:INFO] Determined delimiter of CSV input is ','\u001b[0m\n",
      "\u001b[34m[2020-06-26:15:34:12:INFO] Sniff delimiter as ','\u001b[0m\n",
      "\u001b[34m[2020-06-26:15:34:12:INFO] Determined delimiter of CSV input is ','\u001b[0m\n",
      "\u001b[34m[2020-06-26:15:34:12:INFO] Sniff delimiter as ','\u001b[0m\n",
      "\u001b[34m[2020-06-26:15:34:12:INFO] Determined delimiter of CSV input is ','\u001b[0m\n",
      "\u001b[35m[2020-06-26:15:34:12:INFO] Determined delimiter of CSV input is ','\u001b[0m\n",
      "\u001b[35m[2020-06-26:15:34:12:INFO] Sniff delimiter as ','\u001b[0m\n",
      "\u001b[35m[2020-06-26:15:34:12:INFO] Determined delimiter of CSV input is ','\u001b[0m\n",
      "\u001b[35m[2020-06-26:15:34:12:INFO] Sniff delimiter as ','\u001b[0m\n",
      "\u001b[35m[2020-06-26:15:34:12:INFO] Determined delimiter of CSV input is ','\u001b[0m\n",
      "\u001b[34m[2020-06-26:15:34:12:INFO] Sniff delimiter as ','\u001b[0m\n",
      "\u001b[34m[2020-06-26:15:34:12:INFO] Determined delimiter of CSV input is ','\u001b[0m\n",
      "\u001b[35m[2020-06-26:15:34:12:INFO] Sniff delimiter as ','\u001b[0m\n",
      "\u001b[35m[2020-06-26:15:34:12:INFO] Determined delimiter of CSV input is ','\u001b[0m\n",
      "\u001b[34m[2020-06-26:15:34:14:INFO] Sniff delimiter as ','\u001b[0m\n",
      "\u001b[34m[2020-06-26:15:34:14:INFO] Determined delimiter of CSV input is ','\u001b[0m\n",
      "\u001b[35m[2020-06-26:15:34:14:INFO] Sniff delimiter as ','\u001b[0m\n",
      "\u001b[35m[2020-06-26:15:34:14:INFO] Determined delimiter of CSV input is ','\u001b[0m\n"
     ]
    },
    {
     "name": "stdout",
     "output_type": "stream",
     "text": [
      "\u001b[34m[2020-06-26:15:34:15:INFO] Sniff delimiter as ','\u001b[0m\n",
      "\u001b[34m[2020-06-26:15:34:15:INFO] Determined delimiter of CSV input is ','\u001b[0m\n",
      "\u001b[34m[2020-06-26:15:34:15:INFO] Sniff delimiter as ','\u001b[0m\n",
      "\u001b[34m[2020-06-26:15:34:15:INFO] Determined delimiter of CSV input is ','\u001b[0m\n",
      "\u001b[35m[2020-06-26:15:34:15:INFO] Sniff delimiter as ','\u001b[0m\n",
      "\u001b[35m[2020-06-26:15:34:15:INFO] Determined delimiter of CSV input is ','\u001b[0m\n",
      "\u001b[35m[2020-06-26:15:34:15:INFO] Sniff delimiter as ','\u001b[0m\n",
      "\u001b[35m[2020-06-26:15:34:15:INFO] Determined delimiter of CSV input is ','\u001b[0m\n",
      "\u001b[34m[2020-06-26:15:34:16:INFO] Sniff delimiter as ','\u001b[0m\n",
      "\u001b[34m[2020-06-26:15:34:16:INFO] Determined delimiter of CSV input is ','\u001b[0m\n",
      "\u001b[34m[2020-06-26:15:34:17:INFO] Sniff delimiter as ','\u001b[0m\n",
      "\u001b[34m[2020-06-26:15:34:17:INFO] Determined delimiter of CSV input is ','\u001b[0m\n",
      "\u001b[34m[2020-06-26:15:34:17:INFO] Sniff delimiter as ','\u001b[0m\n",
      "\u001b[34m[2020-06-26:15:34:17:INFO] Determined delimiter of CSV input is ','\u001b[0m\n",
      "\u001b[34m[2020-06-26:15:34:17:INFO] Sniff delimiter as ','\u001b[0m\n",
      "\u001b[35m[2020-06-26:15:34:16:INFO] Sniff delimiter as ','\u001b[0m\n",
      "\u001b[35m[2020-06-26:15:34:16:INFO] Determined delimiter of CSV input is ','\u001b[0m\n",
      "\u001b[35m[2020-06-26:15:34:17:INFO] Sniff delimiter as ','\u001b[0m\n",
      "\u001b[35m[2020-06-26:15:34:17:INFO] Determined delimiter of CSV input is ','\u001b[0m\n",
      "\u001b[35m[2020-06-26:15:34:17:INFO] Sniff delimiter as ','\u001b[0m\n",
      "\u001b[35m[2020-06-26:15:34:17:INFO] Determined delimiter of CSV input is ','\u001b[0m\n",
      "\u001b[35m[2020-06-26:15:34:17:INFO] Sniff delimiter as ','\u001b[0m\n",
      "\u001b[34m[2020-06-26:15:34:17:INFO] Determined delimiter of CSV input is ','\u001b[0m\n",
      "\u001b[35m[2020-06-26:15:34:17:INFO] Determined delimiter of CSV input is ','\u001b[0m\n"
     ]
    }
   ],
   "source": [
    "# TODO: Using xgb_transformer, transform the new_data_location data. You may wish to **wait** until\n",
    "#       the batch transform job has finished.\n",
    "\n",
    "xgb_transformer.transform(new_data_location, content_type=\"text/csv\", split_type=\"Line\")\n",
    "                          \n",
    "xgb_transformer.wait()"
   ]
  },
  {
   "cell_type": "markdown",
   "metadata": {},
   "source": [
    "As usual, we copy the results of the batch transform job to our local instance."
   ]
  },
  {
   "cell_type": "code",
   "execution_count": 59,
   "metadata": {},
   "outputs": [
    {
     "name": "stdout",
     "output_type": "stream",
     "text": [
      "download: s3://sagemaker-eu-central-1-648654006923/xgboost-2020-06-26-15-30-18-599/new_data.csv.out to ../data/sentiment_update/new_data.csv.out\n"
     ]
    }
   ],
   "source": [
    "!aws s3 cp --recursive $xgb_transformer.output_path $data_dir"
   ]
  },
  {
   "cell_type": "markdown",
   "metadata": {},
   "source": [
    "Read in the results of the batch transform job."
   ]
  },
  {
   "cell_type": "code",
   "execution_count": 60,
   "metadata": {},
   "outputs": [],
   "source": [
    "predictions = pd.read_csv(os.path.join(data_dir, 'new_data.csv.out'), header=None)\n",
    "predictions = [round(num) for num in predictions.squeeze().values]"
   ]
  },
  {
   "cell_type": "markdown",
   "metadata": {},
   "source": [
    "And check the accuracy of our current model."
   ]
  },
  {
   "cell_type": "code",
   "execution_count": 61,
   "metadata": {},
   "outputs": [
    {
     "data": {
      "text/plain": [
       "0.74484"
      ]
     },
     "execution_count": 61,
     "metadata": {},
     "output_type": "execute_result"
    }
   ],
   "source": [
    "accuracy_score(new_Y, predictions)"
   ]
  },
  {
   "cell_type": "markdown",
   "metadata": {},
   "source": [
    "So it would appear that *something* has changed since our model is no longer (as) effective at determining the sentiment of a user provided review.\n",
    "\n",
    "In a real life scenario you would check a number of different things to see what exactly is going on. In our case, we are only going to check one and that is whether some aspect of the underlying distribution has changed. In other words, we want to see if the words that appear in our new collection of reviews matches the words that appear in the original training set. Of course, we want to narrow our scope a little bit so we will only look at the `5000` most frequently appearing words in each data set, or in other words, the vocabulary generated by each data set.\n",
    "\n",
    "Before doing that, however, let's take a look at some of the incorrectly classified reviews in the new data set.\n",
    "\n",
    "To start, we will deploy the original XGBoost model. We will then use the deployed model to infer the sentiment of some of the new reviews. This will also serve as a nice excuse to deploy our model so that we can mimic a real life scenario where we have a model that has been deployed and is being used in production.\n",
    "\n",
    "**TODO:** Deploy the XGBoost model."
   ]
  },
  {
   "cell_type": "code",
   "execution_count": 62,
   "metadata": {},
   "outputs": [
    {
     "name": "stderr",
     "output_type": "stream",
     "text": [
      "WARNING:sagemaker:Using already existing model: xgboost-2020-06-26-14-36-35-093\n"
     ]
    },
    {
     "name": "stdout",
     "output_type": "stream",
     "text": [
      "-------------!"
     ]
    }
   ],
   "source": [
    "# TODO: Deploy the model that was created earlier. Recall that the object name is 'xgb'.\n",
    "xgb_predictor = xgb.deploy(1,\"ml.m4.xlarge\")"
   ]
  },
  {
   "cell_type": "markdown",
   "metadata": {},
   "source": [
    "### Diagnose the problem\n",
    "\n",
    "Now that we have our deployed \"production\" model, we can send some of our new data to it and filter out some of the incorrectly classified reviews."
   ]
  },
  {
   "cell_type": "code",
   "execution_count": 63,
   "metadata": {},
   "outputs": [],
   "source": [
    "from sagemaker.predictor import csv_serializer\n",
    "\n",
    "# We need to tell the endpoint what format the data we are sending is in so that SageMaker can perform the serialization.\n",
    "xgb_predictor.content_type = 'text/csv'\n",
    "xgb_predictor.serializer = csv_serializer"
   ]
  },
  {
   "cell_type": "markdown",
   "metadata": {},
   "source": [
    "It will be useful to look at a few different examples of incorrectly classified reviews so we will start by creating a *generator* which we will use to iterate through some of the new reviews and find ones that are incorrect.\n",
    "\n",
    "**NOTE:** Understanding what Python generators are isn't really required for this module. The reason we use them here is so that we don't have to iterate through all of the new reviews, searching for incorrectly classified samples."
   ]
  },
  {
   "cell_type": "code",
   "execution_count": 64,
   "metadata": {},
   "outputs": [],
   "source": [
    "def get_sample(in_X, in_XV, in_Y):\n",
    "    for idx, smp in enumerate(in_X):\n",
    "        res = round(float(xgb_predictor.predict(in_XV[idx])))\n",
    "        if res != in_Y[idx]:\n",
    "            yield smp, in_Y[idx]"
   ]
  },
  {
   "cell_type": "code",
   "execution_count": 65,
   "metadata": {},
   "outputs": [],
   "source": [
    "gn = get_sample(new_X, new_XV, new_Y)"
   ]
  },
  {
   "cell_type": "markdown",
   "metadata": {},
   "source": [
    "At this point, `gn` is the *generator* which generates samples from the new data set which are not classified correctly. To get the *next* sample we simply call the `next` method on our generator."
   ]
  },
  {
   "cell_type": "code",
   "execution_count": 68,
   "metadata": {},
   "outputs": [
    {
     "name": "stdout",
     "output_type": "stream",
     "text": [
      "(['rick', 'sloan', 'allow', 'make', 'five', 'movi', 'harder', 'believ', 'cold', 'fusion', 'film', 'absolut', 'crimin', 'watch', 'movi', 'thought', 'mano', 'hand', 'fate', 'wors', 'piec', 'crap', 'ever', 'saw', 'least', 'mano', 'move', 'slowli', 'might', 'fall', 'asleep', 'therebi', 'rescu', 'eye', 'pain', 'suffer', 'greatest', 'tragedi', 'movi', 'old', 'man', 'keep', 'hobgoblin', 'lock', 'make', 'final', 'scene', 'time', 'spent', 'watch', 'movi', 'absolut', 'wast', 'life', 'banana'], 1)\n"
     ]
    }
   ],
   "source": [
    "print(next(gn))"
   ]
  },
  {
   "cell_type": "markdown",
   "metadata": {},
   "source": [
    "After looking at a few examples, maybe we decide to look at the most frequently appearing `5000` words in each data set, the original training data set and the new data set. The reason for looking at this might be that we expect the frequency of use of different words to have changed, maybe there is some new slang that has been introduced or some other artifact of popular culture that has changed the way that people write movie reviews.\n",
    "\n",
    "To do this, we start by fitting a `CountVectorizer` to the new data."
   ]
  },
  {
   "cell_type": "code",
   "execution_count": 69,
   "metadata": {},
   "outputs": [
    {
     "data": {
      "text/plain": [
       "CountVectorizer(analyzer='word', binary=False, decode_error='strict',\n",
       "        dtype=<class 'numpy.int64'>, encoding='utf-8', input='content',\n",
       "        lowercase=True, max_df=1.0, max_features=5000, min_df=1,\n",
       "        ngram_range=(1, 1),\n",
       "        preprocessor=<function <lambda> at 0x7f482ec08bf8>,\n",
       "        stop_words=None, strip_accents=None,\n",
       "        token_pattern='(?u)\\\\b\\\\w\\\\w+\\\\b',\n",
       "        tokenizer=<function <lambda> at 0x7f482f654ea0>, vocabulary=None)"
      ]
     },
     "execution_count": 69,
     "metadata": {},
     "output_type": "execute_result"
    }
   ],
   "source": [
    "new_vectorizer = CountVectorizer(max_features=5000,\n",
    "                preprocessor=lambda x: x, tokenizer=lambda x: x)\n",
    "new_vectorizer.fit(new_X)"
   ]
  },
  {
   "cell_type": "markdown",
   "metadata": {},
   "source": [
    "Now that we have this new `CountVectorizor` object, we can check to see if the corresponding vocabulary has changed between the two data sets."
   ]
  },
  {
   "cell_type": "code",
   "execution_count": 70,
   "metadata": {},
   "outputs": [],
   "source": [
    "original_vocabulary = set(vocabulary.keys())\n",
    "new_vocabulary = set(new_vectorizer.vocabulary_.keys())"
   ]
  },
  {
   "cell_type": "markdown",
   "metadata": {},
   "source": [
    "We can look at the words that were in the original vocabulary but not in the new vocabulary."
   ]
  },
  {
   "cell_type": "code",
   "execution_count": 71,
   "metadata": {},
   "outputs": [
    {
     "name": "stdout",
     "output_type": "stream",
     "text": [
      "{'victorian', 'spill', '21st', 'weari', 'ghetto', 'playboy', 'reincarn'}\n"
     ]
    }
   ],
   "source": [
    "print(original_vocabulary - new_vocabulary)"
   ]
  },
  {
   "cell_type": "markdown",
   "metadata": {},
   "source": [
    "And similarly, we can look at the words that are in the new vocabulary but which were not in the original vocabulary."
   ]
  },
  {
   "cell_type": "code",
   "execution_count": 72,
   "metadata": {},
   "outputs": [
    {
     "name": "stdout",
     "output_type": "stream",
     "text": [
      "{'masterson', 'omin', 'dubiou', 'sophi', 'optimist', 'orchestr', 'banana'}\n"
     ]
    }
   ],
   "source": [
    "print(new_vocabulary - original_vocabulary)"
   ]
  },
  {
   "cell_type": "markdown",
   "metadata": {},
   "source": [
    "These words themselves don't tell us much, however if one of these words occured with a large frequency, that might tell us something. In particular, we wouldn't really expect any of the words above to appear with too much frequency.\n",
    "\n",
    "**Question** What exactly is going on here. Not only what (if any) words appear with a larger than expected frequency but also, what does this mean? What has changed about the world that our original model no longer takes into account?\n",
    "\n",
    "**NOTE:** This is meant to be a very open ended question. To investigate you may need more cells than the one provided below. Also, there isn't really a *correct* answer, this is meant to be an opportunity to explore the data."
   ]
  },
  {
   "cell_type": "markdown",
   "metadata": {},
   "source": [
    "**Answer**\n",
    "\n",
    "\n",
    "Even if the most common words didn't change much, there might be a shift in which of the words are used in a positive or negative context. Counting out the pos vs neg associated words might prove illuminating.\n"
   ]
  },
  {
   "cell_type": "code",
   "execution_count": 87,
   "metadata": {},
   "outputs": [],
   "source": [
    "from collections import Counter \n",
    "\n",
    "total_count = Counter()\n",
    "pos_count = Counter()\n",
    "neg_count = Counter()\n",
    "\n",
    "for label, review in zip(new_Y, new_X):\n",
    "    for word in review:\n",
    "        total_count[word] +=1\n",
    "        if label:\n",
    "            pos_count[word] +=1\n",
    "        else:        \n",
    "            neg_count[word] +=1"
   ]
  },
  {
   "cell_type": "markdown",
   "metadata": {},
   "source": [
    "### (TODO) Build a new model\n",
    "\n",
    "Supposing that we believe something has changed about the underlying distribution of the words that our reviews are made up of, we need to create a new model. This way our new model will take into account whatever it is that has changed.\n",
    "\n",
    "To begin with, we will use the new vocabulary to create a bag of words encoding of the new data. We will then use this data to train a new XGBoost model.\n",
    "\n",
    "**NOTE:** Because we believe that the underlying distribution of words has changed it should follow that the original vocabulary that we used to construct a bag of words encoding of the reviews is no longer valid. This means that we need to be careful with our data. If we send an bag of words encoded review using the *original* vocabulary we should not expect any sort of meaningful results.\n",
    "\n",
    "In particular, this means that if we had deployed our XGBoost model like we did in the Web App notebook then we would need to implement this vocabulary change in the Lambda function as well."
   ]
  },
  {
   "cell_type": "code",
   "execution_count": 98,
   "metadata": {},
   "outputs": [],
   "source": [
    "new_XV = new_vectorizer.transform(new_X).toarray()"
   ]
  },
  {
   "cell_type": "markdown",
   "metadata": {},
   "source": [
    "And a quick check to make sure that the newly encoded reviews have the correct length, which should be the size of the new vocabulary which we created."
   ]
  },
  {
   "cell_type": "code",
   "execution_count": 99,
   "metadata": {},
   "outputs": [
    {
     "data": {
      "text/plain": [
       "5000"
      ]
     },
     "execution_count": 99,
     "metadata": {},
     "output_type": "execute_result"
    }
   ],
   "source": [
    "len(new_XV[0])"
   ]
  },
  {
   "cell_type": "markdown",
   "metadata": {},
   "source": [
    "Now that we have our newly encoded, newly collected data, we can split it up into a training and validation set so that we can train a new XGBoost model. As usual, we first split up the data, then save it locally and then upload it to S3."
   ]
  },
  {
   "cell_type": "code",
   "execution_count": 100,
   "metadata": {},
   "outputs": [],
   "source": [
    "import pandas as pd\n",
    "\n",
    "# Earlier we shuffled the training dataset so to make things simple we can just assign\n",
    "# the first 10 000 reviews to the validation set and use the remaining reviews for training.\n",
    "new_val_X = pd.DataFrame(new_XV[:10000])\n",
    "new_train_X = pd.DataFrame(new_XV[10000:])\n",
    "\n",
    "new_val_y = pd.DataFrame(new_Y[:10000])\n",
    "new_train_y = pd.DataFrame(new_Y[10000:])"
   ]
  },
  {
   "cell_type": "markdown",
   "metadata": {},
   "source": [
    "In order to save some memory we will effectively delete the `new_X` variable. Remember that this contained a list of reviews and each review was a list of words. Note that once this cell has been executed you will need to read the new data in again if you want to work with it."
   ]
  },
  {
   "cell_type": "code",
   "execution_count": 101,
   "metadata": {},
   "outputs": [],
   "source": [
    "new_X = None"
   ]
  },
  {
   "cell_type": "markdown",
   "metadata": {},
   "source": [
    "Next we save the new training and validation sets locally. Note that we overwrite the training and validation sets used earlier. This is mostly because the amount of space that we have available on our notebook instance is limited. Of course, you can increase this if you'd like but to do so may increase the cost of running the notebook instance."
   ]
  },
  {
   "cell_type": "code",
   "execution_count": 102,
   "metadata": {},
   "outputs": [],
   "source": [
    "pd.DataFrame(new_XV).to_csv(os.path.join(data_dir, 'new_data.csv'), header=False, index=False)\n",
    "\n",
    "pd.concat([new_val_y, new_val_X], axis=1).to_csv(os.path.join(data_dir, 'new_validation.csv'), header=False, index=False)\n",
    "pd.concat([new_train_y, new_train_X], axis=1).to_csv(os.path.join(data_dir, 'new_train.csv'), header=False, index=False)"
   ]
  },
  {
   "cell_type": "markdown",
   "metadata": {},
   "source": [
    "Now that we've saved our data to the local instance, we can safely delete the variables to save on memory."
   ]
  },
  {
   "cell_type": "code",
   "execution_count": 103,
   "metadata": {},
   "outputs": [],
   "source": [
    "new_val_y = new_val_X = new_train_y = new_train_X = new_XV = None"
   ]
  },
  {
   "cell_type": "markdown",
   "metadata": {},
   "source": [
    "Lastly, we make sure to upload the new training and validation sets to S3.\n",
    "\n",
    "**TODO:** Upload the new data as well as the new training and validation data sets to S3."
   ]
  },
  {
   "cell_type": "code",
   "execution_count": 104,
   "metadata": {},
   "outputs": [],
   "source": [
    "# TODO: Upload the new data and the new validation.csv and train.csv files in the data_dir directory to S3.\n",
    "new_data_location = session.upload_data(os.path.join(data_dir, \"new_data.csv\"), key_prefix=prefix)\n",
    "new_val_location = session.upload_data(os.path.join(data_dir, \"new_validation.csv\"), key_prefix=prefix)\n",
    "new_train_location = session.upload_data(os.path.join(data_dir, \"new_train.csv\"), key_prefix=prefix)"
   ]
  },
  {
   "cell_type": "markdown",
   "metadata": {},
   "source": [
    "Once our new training data has been uploaded to S3, we can create a new XGBoost model that will take into account the changes that have occured in our data set.\n",
    "\n",
    "**TODO:** Create a new XGBoost estimator object."
   ]
  },
  {
   "cell_type": "code",
   "execution_count": 105,
   "metadata": {},
   "outputs": [],
   "source": [
    "# TODO: First, create a SageMaker estimator object for our model.\n",
    "new_xgb = sagemaker.estimator.Estimator(container, role, \n",
    "                                        train_instance_count=1,                  # How many compute instances\n",
    "                                        train_instance_type='ml.m4.xlarge',      # What kind of compute instances\n",
    "                                        output_path='s3://{}/{}/output'.format(session.default_bucket(), prefix),\n",
    "                                        sagemaker_session=session)\n",
    "\n",
    "\n",
    "# TODO: Then set the algorithm specific parameters. You may wish to use the same parameters that were\n",
    "#       used when training the original model.\n",
    "new_xgb.set_hyperparameters(max_depth=5,\n",
    "                            eta=0.2,\n",
    "                            gamma=4,\n",
    "                            min_child_weight=6,\n",
    "                            subsample=0.8,\n",
    "                            silent=0,\n",
    "                            objective='binary:logistic',\n",
    "                            early_stopping_rounds=10,\n",
    "                            num_round=500)\n"
   ]
  },
  {
   "cell_type": "markdown",
   "metadata": {},
   "source": [
    "Once the model has been created, we can train it with our new data.\n",
    "\n",
    "**TODO:** Train the new XGBoost model."
   ]
  },
  {
   "cell_type": "code",
   "execution_count": 106,
   "metadata": {},
   "outputs": [],
   "source": [
    "# TODO: First, make sure that you create s3 input objects so that SageMaker knows where to\n",
    "#       find the training and validation data.\n",
    "s3_new_input_train = sagemaker.s3_input(s3_data=new_train_location, content_type='csv')\n",
    "s3_new_input_validation = sagemaker.s3_input(s3_data=new_val_location, content_type='csv')"
   ]
  },
  {
   "cell_type": "code",
   "execution_count": 119,
   "metadata": {},
   "outputs": [
    {
     "name": "stdout",
     "output_type": "stream",
     "text": [
      "2020-06-26 17:36:17 Starting - Starting the training job...\n",
      "2020-06-26 17:36:19 Starting - Launching requested ML instances.........\n",
      "2020-06-26 17:37:51 Starting - Preparing the instances for training...\n",
      "2020-06-26 17:38:38 Downloading - Downloading input data...\n",
      "2020-06-26 17:39:08 Training - Downloading the training image...\n",
      "2020-06-26 17:39:32 Training - Training image download completed. Training in progress.\u001b[34mINFO:sagemaker-containers:Imported framework sagemaker_xgboost_container.training\u001b[0m\n",
      "\u001b[34mINFO:sagemaker-containers:Failed to parse hyperparameter objective value binary:logistic to Json.\u001b[0m\n",
      "\u001b[34mReturning the value itself\u001b[0m\n",
      "\u001b[34mINFO:sagemaker-containers:No GPUs detected (normal if no gpus installed)\u001b[0m\n",
      "\u001b[34mINFO:sagemaker_xgboost_container.training:Running XGBoost Sagemaker in algorithm mode\u001b[0m\n",
      "\u001b[34mINFO:root:Determined delimiter of CSV input is ','\u001b[0m\n",
      "\u001b[34mINFO:root:Determined delimiter of CSV input is ','\u001b[0m\n",
      "\u001b[34mINFO:root:Determined delimiter of CSV input is ','\u001b[0m\n",
      "\u001b[34m[17:39:36] 15000x5000 matrix with 75000000 entries loaded from /opt/ml/input/data/train?format=csv&label_column=0&delimiter=,\u001b[0m\n",
      "\u001b[34mINFO:root:Determined delimiter of CSV input is ','\u001b[0m\n",
      "\u001b[34m[17:39:37] 10000x5000 matrix with 50000000 entries loaded from /opt/ml/input/data/validation?format=csv&label_column=0&delimiter=,\u001b[0m\n",
      "\u001b[34mINFO:root:Single node training.\u001b[0m\n",
      "\u001b[34mINFO:root:Train matrix has 15000 rows\u001b[0m\n",
      "\u001b[34mINFO:root:Validation matrix has 10000 rows\u001b[0m\n",
      "\u001b[34m[0]#011train-error:0.302467#011validation-error:0.314\u001b[0m\n",
      "\u001b[34m[1]#011train-error:0.286933#011validation-error:0.2979\u001b[0m\n",
      "\u001b[34m[2]#011train-error:0.2898#011validation-error:0.303\u001b[0m\n",
      "\u001b[34m[3]#011train-error:0.2822#011validation-error:0.297\u001b[0m\n",
      "\u001b[34m[4]#011train-error:0.2744#011validation-error:0.2854\u001b[0m\n",
      "\u001b[34m[5]#011train-error:0.265667#011validation-error:0.2772\u001b[0m\n",
      "\u001b[34m[6]#011train-error:0.2526#011validation-error:0.268\u001b[0m\n",
      "\u001b[34m[7]#011train-error:0.2426#011validation-error:0.2617\u001b[0m\n",
      "\u001b[34m[8]#011train-error:0.2394#011validation-error:0.2573\u001b[0m\n",
      "\u001b[34m[9]#011train-error:0.230333#011validation-error:0.2474\u001b[0m\n",
      "\u001b[34m[10]#011train-error:0.2244#011validation-error:0.2422\u001b[0m\n",
      "\u001b[34m[11]#011train-error:0.2238#011validation-error:0.2404\u001b[0m\n",
      "\u001b[34m[12]#011train-error:0.217933#011validation-error:0.2369\u001b[0m\n",
      "\u001b[34m[13]#011train-error:0.2168#011validation-error:0.2354\u001b[0m\n",
      "\u001b[34m[14]#011train-error:0.2124#011validation-error:0.2294\u001b[0m\n",
      "\u001b[34m[15]#011train-error:0.208667#011validation-error:0.2271\u001b[0m\n",
      "\u001b[34m[16]#011train-error:0.208267#011validation-error:0.2249\u001b[0m\n",
      "\u001b[34m[17]#011train-error:0.205733#011validation-error:0.2211\u001b[0m\n",
      "\u001b[34m[18]#011train-error:0.203733#011validation-error:0.2179\u001b[0m\n",
      "\u001b[34m[19]#011train-error:0.200733#011validation-error:0.2135\u001b[0m\n",
      "\u001b[34m[20]#011train-error:0.199333#011validation-error:0.2157\u001b[0m\n",
      "\u001b[34m[21]#011train-error:0.198067#011validation-error:0.2134\u001b[0m\n",
      "\u001b[34m[22]#011train-error:0.194867#011validation-error:0.2124\u001b[0m\n",
      "\u001b[34m[23]#011train-error:0.192867#011validation-error:0.209\u001b[0m\n",
      "\u001b[34m[24]#011train-error:0.191#011validation-error:0.2086\u001b[0m\n",
      "\u001b[34m[25]#011train-error:0.189333#011validation-error:0.2057\u001b[0m\n",
      "\u001b[34m[26]#011train-error:0.187#011validation-error:0.2024\u001b[0m\n",
      "\u001b[34m[27]#011train-error:0.1848#011validation-error:0.2006\u001b[0m\n",
      "\u001b[34m[28]#011train-error:0.1844#011validation-error:0.1998\u001b[0m\n",
      "\u001b[34m[29]#011train-error:0.181267#011validation-error:0.1973\u001b[0m\n",
      "\u001b[34m[30]#011train-error:0.179733#011validation-error:0.1967\u001b[0m\n",
      "\u001b[34m[31]#011train-error:0.177667#011validation-error:0.1955\u001b[0m\n",
      "\u001b[34m[32]#011train-error:0.177267#011validation-error:0.1945\u001b[0m\n",
      "\u001b[34m[33]#011train-error:0.174333#011validation-error:0.1926\u001b[0m\n",
      "\u001b[34m[34]#011train-error:0.174333#011validation-error:0.1933\u001b[0m\n",
      "\u001b[34m[35]#011train-error:0.172067#011validation-error:0.1933\u001b[0m\n",
      "\u001b[34m[36]#011train-error:0.1714#011validation-error:0.1927\u001b[0m\n",
      "\u001b[34m[37]#011train-error:0.1692#011validation-error:0.191\u001b[0m\n",
      "\u001b[34m[38]#011train-error:0.167867#011validation-error:0.1915\u001b[0m\n",
      "\u001b[34m[39]#011train-error:0.166333#011validation-error:0.1883\u001b[0m\n",
      "\u001b[34m[40]#011train-error:0.164867#011validation-error:0.1884\u001b[0m\n",
      "\u001b[34m[41]#011train-error:0.1632#011validation-error:0.1878\u001b[0m\n",
      "\u001b[34m[42]#011train-error:0.162133#011validation-error:0.1865\u001b[0m\n",
      "\u001b[34m[43]#011train-error:0.1604#011validation-error:0.1856\u001b[0m\n",
      "\u001b[34m[44]#011train-error:0.159467#011validation-error:0.1836\u001b[0m\n",
      "\u001b[34m[45]#011train-error:0.1586#011validation-error:0.1851\u001b[0m\n",
      "\u001b[34m[46]#011train-error:0.157867#011validation-error:0.1848\u001b[0m\n",
      "\u001b[34m[47]#011train-error:0.156467#011validation-error:0.1839\u001b[0m\n",
      "\u001b[34m[48]#011train-error:0.1552#011validation-error:0.1832\u001b[0m\n",
      "\u001b[34m[49]#011train-error:0.153733#011validation-error:0.1848\u001b[0m\n",
      "\u001b[34m[50]#011train-error:0.153#011validation-error:0.183\u001b[0m\n",
      "\u001b[34m[51]#011train-error:0.152933#011validation-error:0.1822\u001b[0m\n",
      "\u001b[34m[52]#011train-error:0.152467#011validation-error:0.1813\u001b[0m\n",
      "\u001b[34m[53]#011train-error:0.151533#011validation-error:0.181\u001b[0m\n",
      "\u001b[34m[54]#011train-error:0.150933#011validation-error:0.1801\u001b[0m\n",
      "\u001b[34m[55]#011train-error:0.151533#011validation-error:0.1812\u001b[0m\n",
      "\u001b[34m[56]#011train-error:0.151067#011validation-error:0.1817\u001b[0m\n",
      "\u001b[34m[57]#011train-error:0.151333#011validation-error:0.1817\u001b[0m\n",
      "\u001b[34m[58]#011train-error:0.150267#011validation-error:0.182\u001b[0m\n",
      "\u001b[34m[59]#011train-error:0.148733#011validation-error:0.1807\u001b[0m\n",
      "\u001b[34m[60]#011train-error:0.1484#011validation-error:0.1806\u001b[0m\n",
      "\u001b[34m[61]#011train-error:0.1482#011validation-error:0.1805\u001b[0m\n",
      "\u001b[34m[62]#011train-error:0.1468#011validation-error:0.1798\u001b[0m\n",
      "\u001b[34m[63]#011train-error:0.146#011validation-error:0.18\u001b[0m\n",
      "\u001b[34m[64]#011train-error:0.1448#011validation-error:0.1791\u001b[0m\n",
      "\u001b[34m[65]#011train-error:0.143667#011validation-error:0.1784\u001b[0m\n",
      "\u001b[34m[66]#011train-error:0.143467#011validation-error:0.1783\u001b[0m\n",
      "\u001b[34m[67]#011train-error:0.1422#011validation-error:0.1774\u001b[0m\n",
      "\u001b[34m[68]#011train-error:0.140867#011validation-error:0.1787\u001b[0m\n",
      "\u001b[34m[69]#011train-error:0.139933#011validation-error:0.1776\u001b[0m\n",
      "\u001b[34m[70]#011train-error:0.1396#011validation-error:0.178\u001b[0m\n",
      "\u001b[34m[71]#011train-error:0.138067#011validation-error:0.1782\u001b[0m\n",
      "\u001b[34m[72]#011train-error:0.1374#011validation-error:0.1773\u001b[0m\n",
      "\u001b[34m[73]#011train-error:0.137333#011validation-error:0.1771\u001b[0m\n",
      "\u001b[34m[74]#011train-error:0.136667#011validation-error:0.1765\u001b[0m\n",
      "\u001b[34m[75]#011train-error:0.1356#011validation-error:0.1749\u001b[0m\n",
      "\u001b[34m[76]#011train-error:0.135267#011validation-error:0.1752\u001b[0m\n",
      "\u001b[34m[77]#011train-error:0.134533#011validation-error:0.1758\u001b[0m\n",
      "\u001b[34m[78]#011train-error:0.134133#011validation-error:0.1754\u001b[0m\n",
      "\u001b[34m[79]#011train-error:0.132733#011validation-error:0.1753\u001b[0m\n",
      "\u001b[34m[80]#011train-error:0.1318#011validation-error:0.175\u001b[0m\n",
      "\u001b[34m[81]#011train-error:0.131533#011validation-error:0.1753\u001b[0m\n",
      "\u001b[34m[82]#011train-error:0.131067#011validation-error:0.1752\u001b[0m\n",
      "\u001b[34m[83]#011train-error:0.130933#011validation-error:0.1743\u001b[0m\n",
      "\u001b[34m[84]#011train-error:0.1294#011validation-error:0.1745\u001b[0m\n",
      "\u001b[34m[85]#011train-error:0.129133#011validation-error:0.1733\u001b[0m\n",
      "\u001b[34m[86]#011train-error:0.129133#011validation-error:0.1732\u001b[0m\n",
      "\u001b[34m[87]#011train-error:0.1286#011validation-error:0.1736\u001b[0m\n",
      "\u001b[34m[88]#011train-error:0.128133#011validation-error:0.1739\u001b[0m\n",
      "\u001b[34m[89]#011train-error:0.128133#011validation-error:0.1735\u001b[0m\n",
      "\u001b[34m[90]#011train-error:0.127867#011validation-error:0.1727\u001b[0m\n",
      "\u001b[34m[91]#011train-error:0.128467#011validation-error:0.1727\u001b[0m\n",
      "\u001b[34m[92]#011train-error:0.128467#011validation-error:0.1722\u001b[0m\n",
      "\u001b[34m[93]#011train-error:0.128#011validation-error:0.1719\u001b[0m\n",
      "\u001b[34m[94]#011train-error:0.127933#011validation-error:0.1719\u001b[0m\n",
      "\u001b[34m[95]#011train-error:0.1276#011validation-error:0.1723\u001b[0m\n",
      "\u001b[34m[96]#011train-error:0.127#011validation-error:0.1721\u001b[0m\n",
      "\u001b[34m[97]#011train-error:0.1266#011validation-error:0.1721\u001b[0m\n",
      "\u001b[34m[98]#011train-error:0.125933#011validation-error:0.1722\u001b[0m\n",
      "\u001b[34m[99]#011train-error:0.125267#011validation-error:0.1733\u001b[0m\n",
      "\u001b[34m[100]#011train-error:0.124267#011validation-error:0.1726\u001b[0m\n",
      "\u001b[34m[101]#011train-error:0.1242#011validation-error:0.1729\u001b[0m\n",
      "\u001b[34m[102]#011train-error:0.124067#011validation-error:0.1729\u001b[0m\n",
      "\u001b[34m[103]#011train-error:0.1234#011validation-error:0.1724\u001b[0m\n",
      "\n",
      "2020-06-26 17:41:43 Uploading - Uploading generated training model\n",
      "2020-06-26 17:41:43 Completed - Training job completed\n"
     ]
    },
    {
     "name": "stdout",
     "output_type": "stream",
     "text": [
      "Training seconds: 185\n",
      "Billable seconds: 185\n"
     ]
    }
   ],
   "source": [
    "# TODO: Using the new validation and training data, 'fit' your new model.\n",
    "new_xgb.fit({\"train\":s3_new_input_train, \"validation\":s3_new_input_validation})"
   ]
  },
  {
   "cell_type": "markdown",
   "metadata": {},
   "source": [
    "### (TODO) Check the new model\n",
    "\n",
    "So now we have a new XGBoost model that we believe more accurately represents the state of the world at this time, at least in how it relates to the sentiment analysis problem that we are working on. The next step is to double check that our model is performing reasonably.\n",
    "\n",
    "To do this, we will first test our model on the new data.\n",
    "\n",
    "**Note:** In practice this is a pretty bad idea. We already trained our model on the new data, so testing it shouldn't really tell us much. In fact, this is sort of a textbook example of leakage. We are only doing it here so that we have a numerical baseline.\n",
    "\n",
    "**Question:** How might you address the leakage problem?"
   ]
  },
  {
   "cell_type": "markdown",
   "metadata": {},
   "source": [
    "**answer**: By a/b testing it with future user input before switching the old with the new model."
   ]
  },
  {
   "cell_type": "markdown",
   "metadata": {},
   "source": [
    "First, we create a new transformer based on our new XGBoost model.\n",
    "\n",
    "**TODO:** Create a transformer object from the newly created XGBoost model."
   ]
  },
  {
   "cell_type": "code",
   "execution_count": 120,
   "metadata": {
    "scrolled": true
   },
   "outputs": [],
   "source": [
    "# TODO: Create a transformer object from the new_xgb model\n",
    "new_xgb_transformer = new_xgb.transformer(1,\"ml.m4.xlarge\")"
   ]
  },
  {
   "cell_type": "markdown",
   "metadata": {},
   "source": [
    "Next we test our model on the new data.\n",
    "\n",
    "**TODO:** Use the transformer object to transform the new data (stored in the `new_data_location` variable)"
   ]
  },
  {
   "cell_type": "code",
   "execution_count": 123,
   "metadata": {},
   "outputs": [
    {
     "name": "stdout",
     "output_type": "stream",
     "text": [
      "......................\u001b[34m[2020-06-26 17:57:27 +0000] [15] [INFO] Starting gunicorn 19.10.0\u001b[0m\n",
      "\u001b[34m[2020-06-26 17:57:27 +0000] [15] [INFO] Listening at: unix:/tmp/gunicorn.sock (15)\u001b[0m\n",
      "\u001b[34m[2020-06-26 17:57:27 +0000] [15] [INFO] Using worker: gevent\u001b[0m\n",
      "\u001b[34m[2020-06-26 17:57:27 +0000] [22] [INFO] Booting worker with pid: 22\u001b[0m\n",
      "\u001b[34m[2020-06-26 17:57:27 +0000] [23] [INFO] Booting worker with pid: 23\u001b[0m\n",
      "\u001b[34m[2020-06-26 17:57:27 +0000] [27] [INFO] Booting worker with pid: 27\u001b[0m\n",
      "\u001b[34m[2020-06-26 17:57:27 +0000] [28] [INFO] Booting worker with pid: 28\u001b[0m\n",
      "\u001b[34m[2020-06-26:17:57:49:INFO] No GPUs detected (normal if no gpus installed)\u001b[0m\n",
      "\u001b[34m169.254.255.130 - - [26/Jun/2020:17:57:49 +0000] \"GET /ping HTTP/1.1\" 200 0 \"-\" \"Go-http-client/1.1\"\u001b[0m\n",
      "\u001b[34m169.254.255.130 - - [26/Jun/2020:17:57:49 +0000] \"GET /execution-parameters HTTP/1.1\" 200 84 \"-\" \"Go-http-client/1.1\"\u001b[0m\n",
      "\u001b[35m[2020-06-26:17:57:49:INFO] No GPUs detected (normal if no gpus installed)\u001b[0m\n",
      "\u001b[35m169.254.255.130 - - [26/Jun/2020:17:57:49 +0000] \"GET /ping HTTP/1.1\" 200 0 \"-\" \"Go-http-client/1.1\"\u001b[0m\n",
      "\u001b[35m169.254.255.130 - - [26/Jun/2020:17:57:49 +0000] \"GET /execution-parameters HTTP/1.1\" 200 84 \"-\" \"Go-http-client/1.1\"\u001b[0m\n",
      "\u001b[32m2020-06-26T17:57:49.700:[sagemaker logs]: MaxConcurrentTransforms=4, MaxPayloadInMB=6, BatchStrategy=MULTI_RECORD\u001b[0m\n",
      "\u001b[34m[2020-06-26:17:57:52:INFO] No GPUs detected (normal if no gpus installed)\u001b[0m\n",
      "\u001b[34m[2020-06-26:17:57:52:INFO] Determined delimiter of CSV input is ','\u001b[0m\n",
      "\u001b[34m[2020-06-26:17:57:52:INFO] No GPUs detected (normal if no gpus installed)\u001b[0m\n",
      "\u001b[35m[2020-06-26:17:57:52:INFO] No GPUs detected (normal if no gpus installed)\u001b[0m\n",
      "\u001b[35m[2020-06-26:17:57:52:INFO] Determined delimiter of CSV input is ','\u001b[0m\n",
      "\u001b[35m[2020-06-26:17:57:52:INFO] No GPUs detected (normal if no gpus installed)\u001b[0m\n",
      "\u001b[34m[2020-06-26:17:57:52:INFO] Determined delimiter of CSV input is ','\u001b[0m\n",
      "\u001b[35m[2020-06-26:17:57:52:INFO] Determined delimiter of CSV input is ','\u001b[0m\n",
      "\u001b[34m[2020-06-26:17:57:52:INFO] No GPUs detected (normal if no gpus installed)\u001b[0m\n",
      "\u001b[34m[2020-06-26:17:57:52:INFO] Determined delimiter of CSV input is ','\u001b[0m\n",
      "\u001b[34m[2020-06-26:17:57:52:INFO] Determined delimiter of CSV input is ','\u001b[0m\n",
      "\u001b[35m[2020-06-26:17:57:52:INFO] No GPUs detected (normal if no gpus installed)\u001b[0m\n",
      "\u001b[35m[2020-06-26:17:57:52:INFO] Determined delimiter of CSV input is ','\u001b[0m\n",
      "\u001b[35m[2020-06-26:17:57:52:INFO] Determined delimiter of CSV input is ','\u001b[0m\n",
      "\u001b[34m169.254.255.130 - - [26/Jun/2020:17:57:55 +0000] \"POST /invocations HTTP/1.1\" 200 12115 \"-\" \"Go-http-client/1.1\"\u001b[0m\n",
      "\u001b[34m[2020-06-26:17:57:56:INFO] Determined delimiter of CSV input is ','\u001b[0m\n",
      "\u001b[34m169.254.255.130 - - [26/Jun/2020:17:57:56 +0000] \"POST /invocations HTTP/1.1\" 200 12119 \"-\" \"Go-http-client/1.1\"\u001b[0m\n",
      "\u001b[34m169.254.255.130 - - [26/Jun/2020:17:57:56 +0000] \"POST /invocations HTTP/1.1\" 200 12090 \"-\" \"Go-http-client/1.1\"\u001b[0m\n",
      "\u001b[34m169.254.255.130 - - [26/Jun/2020:17:57:56 +0000] \"POST /invocations HTTP/1.1\" 200 12115 \"-\" \"Go-http-client/1.1\"\u001b[0m\n",
      "\u001b[34m[2020-06-26:17:57:56:INFO] Determined delimiter of CSV input is ','\u001b[0m\n",
      "\u001b[34m[2020-06-26:17:57:56:INFO] Determined delimiter of CSV input is ','\u001b[0m\n",
      "\u001b[35m169.254.255.130 - - [26/Jun/2020:17:57:55 +0000] \"POST /invocations HTTP/1.1\" 200 12115 \"-\" \"Go-http-client/1.1\"\u001b[0m\n",
      "\u001b[35m[2020-06-26:17:57:56:INFO] Determined delimiter of CSV input is ','\u001b[0m\n",
      "\u001b[35m169.254.255.130 - - [26/Jun/2020:17:57:56 +0000] \"POST /invocations HTTP/1.1\" 200 12119 \"-\" \"Go-http-client/1.1\"\u001b[0m\n",
      "\u001b[35m169.254.255.130 - - [26/Jun/2020:17:57:56 +0000] \"POST /invocations HTTP/1.1\" 200 12090 \"-\" \"Go-http-client/1.1\"\u001b[0m\n",
      "\u001b[35m169.254.255.130 - - [26/Jun/2020:17:57:56 +0000] \"POST /invocations HTTP/1.1\" 200 12115 \"-\" \"Go-http-client/1.1\"\u001b[0m\n",
      "\u001b[35m[2020-06-26:17:57:56:INFO] Determined delimiter of CSV input is ','\u001b[0m\n",
      "\u001b[35m[2020-06-26:17:57:56:INFO] Determined delimiter of CSV input is ','\u001b[0m\n",
      "\u001b[34m[2020-06-26:17:57:56:INFO] Determined delimiter of CSV input is ','\u001b[0m\n",
      "\u001b[35m[2020-06-26:17:57:56:INFO] Determined delimiter of CSV input is ','\u001b[0m\n",
      "\u001b[34m169.254.255.130 - - [26/Jun/2020:17:57:59 +0000] \"POST /invocations HTTP/1.1\" 200 12126 \"-\" \"Go-http-client/1.1\"\u001b[0m\n",
      "\u001b[34m169.254.255.130 - - [26/Jun/2020:17:57:59 +0000] \"POST /invocations HTTP/1.1\" 200 12126 \"-\" \"Go-http-client/1.1\"\u001b[0m\n",
      "\u001b[35m169.254.255.130 - - [26/Jun/2020:17:57:59 +0000] \"POST /invocations HTTP/1.1\" 200 12126 \"-\" \"Go-http-client/1.1\"\u001b[0m\n",
      "\u001b[35m169.254.255.130 - - [26/Jun/2020:17:57:59 +0000] \"POST /invocations HTTP/1.1\" 200 12126 \"-\" \"Go-http-client/1.1\"\u001b[0m\n",
      "\u001b[34m[2020-06-26:17:57:59:INFO] Determined delimiter of CSV input is ','\u001b[0m\n",
      "\u001b[34m169.254.255.130 - - [26/Jun/2020:17:57:59 +0000] \"POST /invocations HTTP/1.1\" 200 12123 \"-\" \"Go-http-client/1.1\"\u001b[0m\n",
      "\u001b[34m[2020-06-26:17:58:00:INFO] Determined delimiter of CSV input is ','\u001b[0m\n",
      "\u001b[34m169.254.255.130 - - [26/Jun/2020:17:58:00 +0000] \"POST /invocations HTTP/1.1\" 200 12115 \"-\" \"Go-http-client/1.1\"\u001b[0m\n",
      "\u001b[34m[2020-06-26:17:58:00:INFO] Determined delimiter of CSV input is ','\u001b[0m\n",
      "\u001b[34m[2020-06-26:17:58:00:INFO] Determined delimiter of CSV input is ','\u001b[0m\n",
      "\u001b[35m[2020-06-26:17:57:59:INFO] Determined delimiter of CSV input is ','\u001b[0m\n",
      "\u001b[35m169.254.255.130 - - [26/Jun/2020:17:57:59 +0000] \"POST /invocations HTTP/1.1\" 200 12123 \"-\" \"Go-http-client/1.1\"\u001b[0m\n",
      "\u001b[35m[2020-06-26:17:58:00:INFO] Determined delimiter of CSV input is ','\u001b[0m\n",
      "\u001b[35m169.254.255.130 - - [26/Jun/2020:17:58:00 +0000] \"POST /invocations HTTP/1.1\" 200 12115 \"-\" \"Go-http-client/1.1\"\u001b[0m\n",
      "\u001b[35m[2020-06-26:17:58:00:INFO] Determined delimiter of CSV input is ','\u001b[0m\n",
      "\u001b[35m[2020-06-26:17:58:00:INFO] Determined delimiter of CSV input is ','\u001b[0m\n",
      "\u001b[34m[2020-06-26:17:58:03:INFO] Determined delimiter of CSV input is ','\u001b[0m\n",
      "\u001b[34m[2020-06-26:17:58:03:INFO] Determined delimiter of CSV input is ','\u001b[0m\n",
      "\u001b[35m[2020-06-26:17:58:03:INFO] Determined delimiter of CSV input is ','\u001b[0m\n",
      "\u001b[35m[2020-06-26:17:58:03:INFO] Determined delimiter of CSV input is ','\u001b[0m\n",
      "\u001b[34m169.254.255.130 - - [26/Jun/2020:17:58:06 +0000] \"POST /invocations HTTP/1.1\" 200 12102 \"-\" \"Go-http-client/1.1\"\u001b[0m\n",
      "\u001b[34m169.254.255.130 - - [26/Jun/2020:17:58:07 +0000] \"POST /invocations HTTP/1.1\" 200 12073 \"-\" \"Go-http-client/1.1\"\u001b[0m\n",
      "\u001b[34m[2020-06-26:17:58:07:INFO] Determined delimiter of CSV input is ','\u001b[0m\n",
      "\u001b[34m[2020-06-26:17:58:07:INFO] Determined delimiter of CSV input is ','\u001b[0m\n",
      "\u001b[34m169.254.255.130 - - [26/Jun/2020:17:58:07 +0000] \"POST /invocations HTTP/1.1\" 200 12085 \"-\" \"Go-http-client/1.1\"\u001b[0m\n",
      "\u001b[34m169.254.255.130 - - [26/Jun/2020:17:58:07 +0000] \"POST /invocations HTTP/1.1\" 200 12090 \"-\" \"Go-http-client/1.1\"\u001b[0m\n",
      "\u001b[34m[2020-06-26:17:58:07:INFO] Determined delimiter of CSV input is ','\u001b[0m\n",
      "\u001b[34m[2020-06-26:17:58:07:INFO] Determined delimiter of CSV input is ','\u001b[0m\n",
      "\u001b[35m169.254.255.130 - - [26/Jun/2020:17:58:06 +0000] \"POST /invocations HTTP/1.1\" 200 12102 \"-\" \"Go-http-client/1.1\"\u001b[0m\n",
      "\u001b[35m169.254.255.130 - - [26/Jun/2020:17:58:07 +0000] \"POST /invocations HTTP/1.1\" 200 12073 \"-\" \"Go-http-client/1.1\"\u001b[0m\n",
      "\u001b[35m[2020-06-26:17:58:07:INFO] Determined delimiter of CSV input is ','\u001b[0m\n",
      "\u001b[35m[2020-06-26:17:58:07:INFO] Determined delimiter of CSV input is ','\u001b[0m\n",
      "\u001b[35m169.254.255.130 - - [26/Jun/2020:17:58:07 +0000] \"POST /invocations HTTP/1.1\" 200 12085 \"-\" \"Go-http-client/1.1\"\u001b[0m\n",
      "\u001b[35m169.254.255.130 - - [26/Jun/2020:17:58:07 +0000] \"POST /invocations HTTP/1.1\" 200 12090 \"-\" \"Go-http-client/1.1\"\u001b[0m\n",
      "\u001b[35m[2020-06-26:17:58:07:INFO] Determined delimiter of CSV input is ','\u001b[0m\n",
      "\u001b[35m[2020-06-26:17:58:07:INFO] Determined delimiter of CSV input is ','\u001b[0m\n",
      "\u001b[34m169.254.255.130 - - [26/Jun/2020:17:58:10 +0000] \"POST /invocations HTTP/1.1\" 200 12111 \"-\" \"Go-http-client/1.1\"\u001b[0m\n",
      "\u001b[34m169.254.255.130 - - [26/Jun/2020:17:58:10 +0000] \"POST /invocations HTTP/1.1\" 200 12120 \"-\" \"Go-http-client/1.1\"\u001b[0m\n",
      "\u001b[35m169.254.255.130 - - [26/Jun/2020:17:58:10 +0000] \"POST /invocations HTTP/1.1\" 200 12111 \"-\" \"Go-http-client/1.1\"\u001b[0m\n",
      "\u001b[35m169.254.255.130 - - [26/Jun/2020:17:58:10 +0000] \"POST /invocations HTTP/1.1\" 200 12120 \"-\" \"Go-http-client/1.1\"\u001b[0m\n",
      "\u001b[34m[2020-06-26:17:58:10:INFO] Determined delimiter of CSV input is ','\u001b[0m\n",
      "\u001b[34m[2020-06-26:17:58:10:INFO] Determined delimiter of CSV input is ','\u001b[0m\n",
      "\u001b[35m[2020-06-26:17:58:10:INFO] Determined delimiter of CSV input is ','\u001b[0m\n",
      "\u001b[35m[2020-06-26:17:58:10:INFO] Determined delimiter of CSV input is ','\u001b[0m\n",
      "\u001b[34m169.254.255.130 - - [26/Jun/2020:17:58:11 +0000] \"POST /invocations HTTP/1.1\" 200 12087 \"-\" \"Go-http-client/1.1\"\u001b[0m\n",
      "\u001b[34m169.254.255.130 - - [26/Jun/2020:17:58:11 +0000] \"POST /invocations HTTP/1.1\" 200 12118 \"-\" \"Go-http-client/1.1\"\u001b[0m\n",
      "\u001b[34m[2020-06-26:17:58:11:INFO] Determined delimiter of CSV input is ','\u001b[0m\n",
      "\u001b[34m[2020-06-26:17:58:11:INFO] Determined delimiter of CSV input is ','\u001b[0m\n",
      "\u001b[35m169.254.255.130 - - [26/Jun/2020:17:58:11 +0000] \"POST /invocations HTTP/1.1\" 200 12087 \"-\" \"Go-http-client/1.1\"\u001b[0m\n",
      "\u001b[35m169.254.255.130 - - [26/Jun/2020:17:58:11 +0000] \"POST /invocations HTTP/1.1\" 200 12118 \"-\" \"Go-http-client/1.1\"\u001b[0m\n",
      "\u001b[35m[2020-06-26:17:58:11:INFO] Determined delimiter of CSV input is ','\u001b[0m\n",
      "\u001b[35m[2020-06-26:17:58:11:INFO] Determined delimiter of CSV input is ','\u001b[0m\n",
      "\u001b[34m169.254.255.130 - - [26/Jun/2020:17:58:14 +0000] \"POST /invocations HTTP/1.1\" 200 12103 \"-\" \"Go-http-client/1.1\"\u001b[0m\n",
      "\u001b[34m169.254.255.130 - - [26/Jun/2020:17:58:14 +0000] \"POST /invocations HTTP/1.1\" 200 12123 \"-\" \"Go-http-client/1.1\"\u001b[0m\n",
      "\u001b[34m[2020-06-26:17:58:14:INFO] Determined delimiter of CSV input is ','\u001b[0m\n",
      "\u001b[34m[2020-06-26:17:58:14:INFO] Determined delimiter of CSV input is ','\u001b[0m\n",
      "\u001b[34m169.254.255.130 - - [26/Jun/2020:17:58:14 +0000] \"POST /invocations HTTP/1.1\" 200 12129 \"-\" \"Go-http-client/1.1\"\u001b[0m\n",
      "\u001b[35m169.254.255.130 - - [26/Jun/2020:17:58:14 +0000] \"POST /invocations HTTP/1.1\" 200 12103 \"-\" \"Go-http-client/1.1\"\u001b[0m\n",
      "\u001b[35m169.254.255.130 - - [26/Jun/2020:17:58:14 +0000] \"POST /invocations HTTP/1.1\" 200 12123 \"-\" \"Go-http-client/1.1\"\u001b[0m\n",
      "\u001b[35m[2020-06-26:17:58:14:INFO] Determined delimiter of CSV input is ','\u001b[0m\n",
      "\u001b[35m[2020-06-26:17:58:14:INFO] Determined delimiter of CSV input is ','\u001b[0m\n",
      "\u001b[35m169.254.255.130 - - [26/Jun/2020:17:58:14 +0000] \"POST /invocations HTTP/1.1\" 200 12129 \"-\" \"Go-http-client/1.1\"\u001b[0m\n"
     ]
    },
    {
     "name": "stdout",
     "output_type": "stream",
     "text": [
      "\u001b[34m[2020-06-26:17:58:17:INFO] Determined delimiter of CSV input is ','\u001b[0m\n",
      "\u001b[34m[2020-06-26:17:58:18:INFO] Determined delimiter of CSV input is ','\u001b[0m\n",
      "\u001b[34m169.254.255.130 - - [26/Jun/2020:17:58:18 +0000] \"POST /invocations HTTP/1.1\" 200 12113 \"-\" \"Go-http-client/1.1\"\u001b[0m\n",
      "\u001b[34m[2020-06-26:17:58:18:INFO] Determined delimiter of CSV input is ','\u001b[0m\n",
      "\u001b[34m169.254.255.130 - - [26/Jun/2020:17:58:18 +0000] \"POST /invocations HTTP/1.1\" 200 12092 \"-\" \"Go-http-client/1.1\"\u001b[0m\n",
      "\u001b[34m[2020-06-26:17:58:18:INFO] Determined delimiter of CSV input is ','\u001b[0m\n",
      "\u001b[35m[2020-06-26:17:58:17:INFO] Determined delimiter of CSV input is ','\u001b[0m\n",
      "\u001b[35m[2020-06-26:17:58:18:INFO] Determined delimiter of CSV input is ','\u001b[0m\n",
      "\u001b[35m169.254.255.130 - - [26/Jun/2020:17:58:18 +0000] \"POST /invocations HTTP/1.1\" 200 12113 \"-\" \"Go-http-client/1.1\"\u001b[0m\n",
      "\u001b[35m[2020-06-26:17:58:18:INFO] Determined delimiter of CSV input is ','\u001b[0m\n",
      "\u001b[35m169.254.255.130 - - [26/Jun/2020:17:58:18 +0000] \"POST /invocations HTTP/1.1\" 200 12092 \"-\" \"Go-http-client/1.1\"\u001b[0m\n",
      "\u001b[35m[2020-06-26:17:58:18:INFO] Determined delimiter of CSV input is ','\u001b[0m\n",
      "\n",
      "\u001b[34m169.254.255.130 - - [26/Jun/2020:17:58:21 +0000] \"POST /invocations HTTP/1.1\" 200 12095 \"-\" \"Go-http-client/1.1\"\u001b[0m\n",
      "\u001b[34m[2020-06-26:17:58:22:INFO] Determined delimiter of CSV input is ','\u001b[0m\n",
      "\u001b[34m169.254.255.130 - - [26/Jun/2020:17:58:22 +0000] \"POST /invocations HTTP/1.1\" 200 12125 \"-\" \"Go-http-client/1.1\"\u001b[0m\n",
      "\u001b[34m[2020-06-26:17:58:22:INFO] Determined delimiter of CSV input is ','\u001b[0m\n",
      "\u001b[35m169.254.255.130 - - [26/Jun/2020:17:58:21 +0000] \"POST /invocations HTTP/1.1\" 200 12095 \"-\" \"Go-http-client/1.1\"\u001b[0m\n",
      "\u001b[35m[2020-06-26:17:58:22:INFO] Determined delimiter of CSV input is ','\u001b[0m\n",
      "\u001b[35m169.254.255.130 - - [26/Jun/2020:17:58:22 +0000] \"POST /invocations HTTP/1.1\" 200 12125 \"-\" \"Go-http-client/1.1\"\u001b[0m\n",
      "\u001b[35m[2020-06-26:17:58:22:INFO] Determined delimiter of CSV input is ','\u001b[0m\n",
      "\u001b[34m169.254.255.130 - - [26/Jun/2020:17:58:25 +0000] \"POST /invocations HTTP/1.1\" 200 12153 \"-\" \"Go-http-client/1.1\"\u001b[0m\n",
      "\u001b[34m169.254.255.130 - - [26/Jun/2020:17:58:25 +0000] \"POST /invocations HTTP/1.1\" 200 12120 \"-\" \"Go-http-client/1.1\"\u001b[0m\n",
      "\u001b[34m[2020-06-26:17:58:25:INFO] Determined delimiter of CSV input is ','\u001b[0m\n",
      "\u001b[34m[2020-06-26:17:58:25:INFO] Determined delimiter of CSV input is ','\u001b[0m\n",
      "\u001b[34m169.254.255.130 - - [26/Jun/2020:17:58:25 +0000] \"POST /invocations HTTP/1.1\" 200 12117 \"-\" \"Go-http-client/1.1\"\u001b[0m\n",
      "\u001b[34m[2020-06-26:17:58:25:INFO] Determined delimiter of CSV input is ','\u001b[0m\n",
      "\u001b[34m169.254.255.130 - - [26/Jun/2020:17:58:25 +0000] \"POST /invocations HTTP/1.1\" 200 12133 \"-\" \"Go-http-client/1.1\"\u001b[0m\n",
      "\u001b[35m169.254.255.130 - - [26/Jun/2020:17:58:25 +0000] \"POST /invocations HTTP/1.1\" 200 12153 \"-\" \"Go-http-client/1.1\"\u001b[0m\n",
      "\u001b[35m169.254.255.130 - - [26/Jun/2020:17:58:25 +0000] \"POST /invocations HTTP/1.1\" 200 12120 \"-\" \"Go-http-client/1.1\"\u001b[0m\n",
      "\u001b[35m[2020-06-26:17:58:25:INFO] Determined delimiter of CSV input is ','\u001b[0m\n",
      "\u001b[35m[2020-06-26:17:58:25:INFO] Determined delimiter of CSV input is ','\u001b[0m\n",
      "\u001b[35m169.254.255.130 - - [26/Jun/2020:17:58:25 +0000] \"POST /invocations HTTP/1.1\" 200 12117 \"-\" \"Go-http-client/1.1\"\u001b[0m\n",
      "\u001b[35m[2020-06-26:17:58:25:INFO] Determined delimiter of CSV input is ','\u001b[0m\n",
      "\u001b[35m169.254.255.130 - - [26/Jun/2020:17:58:25 +0000] \"POST /invocations HTTP/1.1\" 200 12133 \"-\" \"Go-http-client/1.1\"\u001b[0m\n",
      "\u001b[34m[2020-06-26:17:58:25:INFO] Determined delimiter of CSV input is ','\u001b[0m\n",
      "\u001b[35m[2020-06-26:17:58:25:INFO] Determined delimiter of CSV input is ','\u001b[0m\n",
      "\u001b[34m169.254.255.130 - - [26/Jun/2020:17:58:28 +0000] \"POST /invocations HTTP/1.1\" 200 9052 \"-\" \"Go-http-client/1.1\"\u001b[0m\n",
      "\u001b[35m169.254.255.130 - - [26/Jun/2020:17:58:28 +0000] \"POST /invocations HTTP/1.1\" 200 9052 \"-\" \"Go-http-client/1.1\"\u001b[0m\n",
      "\u001b[34m169.254.255.130 - - [26/Jun/2020:17:58:28 +0000] \"POST /invocations HTTP/1.1\" 200 12109 \"-\" \"Go-http-client/1.1\"\u001b[0m\n",
      "\u001b[34m169.254.255.130 - - [26/Jun/2020:17:58:28 +0000] \"POST /invocations HTTP/1.1\" 200 12113 \"-\" \"Go-http-client/1.1\"\u001b[0m\n",
      "\u001b[34m169.254.255.130 - - [26/Jun/2020:17:58:28 +0000] \"POST /invocations HTTP/1.1\" 200 12079 \"-\" \"Go-http-client/1.1\"\u001b[0m\n",
      "\u001b[35m169.254.255.130 - - [26/Jun/2020:17:58:28 +0000] \"POST /invocations HTTP/1.1\" 200 12109 \"-\" \"Go-http-client/1.1\"\u001b[0m\n",
      "\u001b[35m169.254.255.130 - - [26/Jun/2020:17:58:28 +0000] \"POST /invocations HTTP/1.1\" 200 12113 \"-\" \"Go-http-client/1.1\"\u001b[0m\n",
      "\u001b[35m169.254.255.130 - - [26/Jun/2020:17:58:28 +0000] \"POST /invocations HTTP/1.1\" 200 12079 \"-\" \"Go-http-client/1.1\"\u001b[0m\n"
     ]
    }
   ],
   "source": [
    "# TODO: Using new_xgb_transformer, transform the new_data_location data. You may wish to\n",
    "#       'wait' for the transform job to finish.\n",
    "new_xgb_transformer.transform(new_data_location, content_type=\"text/csv\", split_type=\"Line\")\n",
    "new_xgb_transformer.wait()"
   ]
  },
  {
   "cell_type": "markdown",
   "metadata": {},
   "source": [
    "Copy the results to our local instance."
   ]
  },
  {
   "cell_type": "code",
   "execution_count": 124,
   "metadata": {},
   "outputs": [
    {
     "name": "stdout",
     "output_type": "stream",
     "text": [
      "download: s3://sagemaker-eu-central-1-648654006923/sagemaker-xgboost-2020-06-26-17-54-03-929/new_data.csv.out to ../data/sentiment_update/new_data.csv.out\n"
     ]
    }
   ],
   "source": [
    "!aws s3 cp --recursive $new_xgb_transformer.output_path $data_dir"
   ]
  },
  {
   "cell_type": "markdown",
   "metadata": {},
   "source": [
    "And see how well the model did."
   ]
  },
  {
   "cell_type": "code",
   "execution_count": 125,
   "metadata": {},
   "outputs": [],
   "source": [
    "predictions = pd.read_csv(os.path.join(data_dir, 'new_data.csv.out'), header=None)\n",
    "predictions = [round(num) for num in predictions.squeeze().values]"
   ]
  },
  {
   "cell_type": "code",
   "execution_count": 126,
   "metadata": {},
   "outputs": [
    {
     "data": {
      "text/plain": [
       "0.85444"
      ]
     },
     "execution_count": 126,
     "metadata": {},
     "output_type": "execute_result"
    }
   ],
   "source": [
    "accuracy_score(new_Y, predictions)"
   ]
  },
  {
   "cell_type": "markdown",
   "metadata": {},
   "source": [
    "As expected, since we trained the model on this data, our model performs pretty well. So, we have reason to believe that our new XGBoost model is a \"better\" model.\n",
    "\n",
    "However, before we start changing our deployed model, we should first make sure that our new model isn't too different. In other words, if our new model performed really poorly on the original test data then this might be an indication that something else has gone wrong.\n",
    "\n",
    "To start with, since we got rid of the variable that stored the original test reviews, we will read them in again from the cache that we created in Step 3. Note that we need to make sure that we read in the original test data after it has been pre-processed with `nltk` but before it has been bag of words encoded. This is because we need to use the new vocabulary instead of the original one."
   ]
  },
  {
   "cell_type": "code",
   "execution_count": 127,
   "metadata": {},
   "outputs": [
    {
     "name": "stdout",
     "output_type": "stream",
     "text": [
      "Read preprocessed data from cache file: preprocessed_data.pkl\n"
     ]
    }
   ],
   "source": [
    "cache_data = None\n",
    "with open(os.path.join(cache_dir, \"preprocessed_data.pkl\"), \"rb\") as f:\n",
    "            cache_data = pickle.load(f)\n",
    "            print(\"Read preprocessed data from cache file:\", \"preprocessed_data.pkl\")\n",
    "            \n",
    "test_X = cache_data['words_test']\n",
    "test_Y = cache_data['labels_test']\n",
    "\n",
    "# Here we set cache_data to None so that it doesn't occupy memory\n",
    "cache_data = None"
   ]
  },
  {
   "cell_type": "markdown",
   "metadata": {},
   "source": [
    "Once we've loaded the original test reviews, we need to create a bag of words encoding of them using the new vocabulary that we created, based on the new data.\n",
    "\n",
    "**TODO:** Transform the original test data using the new vocabulary."
   ]
  },
  {
   "cell_type": "code",
   "execution_count": 128,
   "metadata": {},
   "outputs": [],
   "source": [
    "# TODO: Use the new_vectorizer object that you created earlier to transform the test_X data.\n",
    "test_X = new_vectorizer.transform(test_X).toarray()"
   ]
  },
  {
   "cell_type": "markdown",
   "metadata": {},
   "source": [
    "Now that we have correctly encoded the original test data, we can write it to the local instance, upload it to S3 and test it."
   ]
  },
  {
   "cell_type": "code",
   "execution_count": 129,
   "metadata": {},
   "outputs": [],
   "source": [
    "pd.DataFrame(test_X).to_csv(os.path.join(data_dir, 'test.csv'), header=False, index=False)"
   ]
  },
  {
   "cell_type": "code",
   "execution_count": 130,
   "metadata": {},
   "outputs": [],
   "source": [
    "test_location = session.upload_data(os.path.join(data_dir, 'test.csv'), key_prefix=prefix)"
   ]
  },
  {
   "cell_type": "code",
   "execution_count": 131,
   "metadata": {
    "collapsed": true
   },
   "outputs": [
    {
     "name": "stdout",
     "output_type": "stream",
     "text": [
      "......................\u001b[34m[2020-06-26 18:04:29 +0000] [15] [INFO] Starting gunicorn 19.10.0\u001b[0m\n",
      "\u001b[34m[2020-06-26 18:04:29 +0000] [15] [INFO] Listening at: unix:/tmp/gunicorn.sock (15)\u001b[0m\n",
      "\u001b[34m[2020-06-26 18:04:29 +0000] [15] [INFO] Using worker: gevent\u001b[0m\n",
      "\u001b[34m[2020-06-26 18:04:29 +0000] [22] [INFO] Booting worker with pid: 22\u001b[0m\n",
      "\u001b[34m[2020-06-26 18:04:29 +0000] [23] [INFO] Booting worker with pid: 23\u001b[0m\n",
      "\u001b[34m[2020-06-26 18:04:29 +0000] [27] [INFO] Booting worker with pid: 27\u001b[0m\n",
      "\u001b[34m[2020-06-26 18:04:30 +0000] [31] [INFO] Booting worker with pid: 31\u001b[0m\n",
      "\u001b[34m[2020-06-26:18:04:53:INFO] No GPUs detected (normal if no gpus installed)\u001b[0m\n",
      "\u001b[34m169.254.255.130 - - [26/Jun/2020:18:04:53 +0000] \"GET /ping HTTP/1.1\" 200 0 \"-\" \"Go-http-client/1.1\"\u001b[0m\n",
      "\u001b[34m[2020-06-26:18:04:53:INFO] No GPUs detected (normal if no gpus installed)\u001b[0m\n",
      "\u001b[34m169.254.255.130 - - [26/Jun/2020:18:04:53 +0000] \"GET /execution-parameters HTTP/1.1\" 200 84 \"-\" \"Go-http-client/1.1\"\u001b[0m\n",
      "\u001b[34m[2020-06-26:18:04:56:INFO] Determined delimiter of CSV input is ','\u001b[0m\n",
      "\u001b[34m[2020-06-26:18:04:56:INFO] No GPUs detected (normal if no gpus installed)\u001b[0m\n",
      "\u001b[34m[2020-06-26:18:04:56:INFO] Determined delimiter of CSV input is ','\u001b[0m\n",
      "\u001b[34m[2020-06-26:18:04:56:INFO] No GPUs detected (normal if no gpus installed)\u001b[0m\n",
      "\u001b[34m[2020-06-26:18:04:57:INFO] Determined delimiter of CSV input is ','\u001b[0m\n",
      "\u001b[34m[2020-06-26:18:04:57:INFO] Determined delimiter of CSV input is ','\u001b[0m\n",
      "\u001b[32m2020-06-26T18:04:53.818:[sagemaker logs]: MaxConcurrentTransforms=4, MaxPayloadInMB=6, BatchStrategy=MULTI_RECORD\u001b[0m\n",
      "\u001b[34m169.254.255.130 - - [26/Jun/2020:18:04:59 +0000] \"POST /invocations HTTP/1.1\" 200 12120 \"-\" \"Go-http-client/1.1\"\u001b[0m\n",
      "\u001b[35m169.254.255.130 - - [26/Jun/2020:18:04:59 +0000] \"POST /invocations HTTP/1.1\" 200 12120 \"-\" \"Go-http-client/1.1\"\u001b[0m\n",
      "\u001b[34m169.254.255.130 - - [26/Jun/2020:18:05:00 +0000] \"POST /invocations HTTP/1.1\" 200 12121 \"-\" \"Go-http-client/1.1\"\u001b[0m\n",
      "\u001b[34m[2020-06-26:18:05:00:INFO] Determined delimiter of CSV input is ','\u001b[0m\n",
      "\u001b[34m169.254.255.130 - - [26/Jun/2020:18:05:00 +0000] \"POST /invocations HTTP/1.1\" 200 12116 \"-\" \"Go-http-client/1.1\"\u001b[0m\n",
      "\u001b[34m169.254.255.130 - - [26/Jun/2020:18:05:00 +0000] \"POST /invocations HTTP/1.1\" 200 12149 \"-\" \"Go-http-client/1.1\"\u001b[0m\n",
      "\u001b[34m[2020-06-26:18:05:00:INFO] Determined delimiter of CSV input is ','\u001b[0m\n",
      "\u001b[34m[2020-06-26:18:05:00:INFO] Determined delimiter of CSV input is ','\u001b[0m\n",
      "\u001b[34m[2020-06-26:18:05:00:INFO] Determined delimiter of CSV input is ','\u001b[0m\n",
      "\u001b[35m169.254.255.130 - - [26/Jun/2020:18:05:00 +0000] \"POST /invocations HTTP/1.1\" 200 12121 \"-\" \"Go-http-client/1.1\"\u001b[0m\n",
      "\u001b[35m[2020-06-26:18:05:00:INFO] Determined delimiter of CSV input is ','\u001b[0m\n",
      "\u001b[35m169.254.255.130 - - [26/Jun/2020:18:05:00 +0000] \"POST /invocations HTTP/1.1\" 200 12116 \"-\" \"Go-http-client/1.1\"\u001b[0m\n",
      "\u001b[35m169.254.255.130 - - [26/Jun/2020:18:05:00 +0000] \"POST /invocations HTTP/1.1\" 200 12149 \"-\" \"Go-http-client/1.1\"\u001b[0m\n",
      "\u001b[35m[2020-06-26:18:05:00:INFO] Determined delimiter of CSV input is ','\u001b[0m\n",
      "\u001b[35m[2020-06-26:18:05:00:INFO] Determined delimiter of CSV input is ','\u001b[0m\n",
      "\u001b[35m[2020-06-26:18:05:00:INFO] Determined delimiter of CSV input is ','\u001b[0m\n",
      "\u001b[34m169.254.255.130 - - [26/Jun/2020:18:05:03 +0000] \"POST /invocations HTTP/1.1\" 200 12111 \"-\" \"Go-http-client/1.1\"\u001b[0m\n",
      "\u001b[34m[2020-06-26:18:05:03:INFO] Determined delimiter of CSV input is ','\u001b[0m\n",
      "\u001b[35m169.254.255.130 - - [26/Jun/2020:18:05:03 +0000] \"POST /invocations HTTP/1.1\" 200 12111 \"-\" \"Go-http-client/1.1\"\u001b[0m\n",
      "\u001b[35m[2020-06-26:18:05:03:INFO] Determined delimiter of CSV input is ','\u001b[0m\n",
      "\u001b[34m169.254.255.130 - - [26/Jun/2020:18:05:03 +0000] \"POST /invocations HTTP/1.1\" 200 12142 \"-\" \"Go-http-client/1.1\"\u001b[0m\n",
      "\u001b[34m169.254.255.130 - - [26/Jun/2020:18:05:04 +0000] \"POST /invocations HTTP/1.1\" 200 12111 \"-\" \"Go-http-client/1.1\"\u001b[0m\n",
      "\u001b[34m169.254.255.130 - - [26/Jun/2020:18:05:04 +0000] \"POST /invocations HTTP/1.1\" 200 12123 \"-\" \"Go-http-client/1.1\"\u001b[0m\n",
      "\u001b[34m[2020-06-26:18:05:04:INFO] Determined delimiter of CSV input is ','\u001b[0m\n",
      "\u001b[34m[2020-06-26:18:05:04:INFO] Determined delimiter of CSV input is ','\u001b[0m\n",
      "\u001b[35m169.254.255.130 - - [26/Jun/2020:18:05:03 +0000] \"POST /invocations HTTP/1.1\" 200 12142 \"-\" \"Go-http-client/1.1\"\u001b[0m\n",
      "\u001b[35m169.254.255.130 - - [26/Jun/2020:18:05:04 +0000] \"POST /invocations HTTP/1.1\" 200 12111 \"-\" \"Go-http-client/1.1\"\u001b[0m\n",
      "\u001b[35m169.254.255.130 - - [26/Jun/2020:18:05:04 +0000] \"POST /invocations HTTP/1.1\" 200 12123 \"-\" \"Go-http-client/1.1\"\u001b[0m\n",
      "\u001b[35m[2020-06-26:18:05:04:INFO] Determined delimiter of CSV input is ','\u001b[0m\n",
      "\u001b[35m[2020-06-26:18:05:04:INFO] Determined delimiter of CSV input is ','\u001b[0m\n",
      "\u001b[34m[2020-06-26:18:05:04:INFO] Determined delimiter of CSV input is ','\u001b[0m\n",
      "\u001b[35m[2020-06-26:18:05:04:INFO] Determined delimiter of CSV input is ','\u001b[0m\n",
      "\u001b[34m169.254.255.130 - - [26/Jun/2020:18:05:07 +0000] \"POST /invocations HTTP/1.1\" 200 12124 \"-\" \"Go-http-client/1.1\"\u001b[0m\n",
      "\u001b[34m[2020-06-26:18:05:07:INFO] Determined delimiter of CSV input is ','\u001b[0m\n",
      "\u001b[34m169.254.255.130 - - [26/Jun/2020:18:05:07 +0000] \"POST /invocations HTTP/1.1\" 200 12120 \"-\" \"Go-http-client/1.1\"\u001b[0m\n",
      "\u001b[34m169.254.255.130 - - [26/Jun/2020:18:05:07 +0000] \"POST /invocations HTTP/1.1\" 200 12134 \"-\" \"Go-http-client/1.1\"\u001b[0m\n",
      "\u001b[35m169.254.255.130 - - [26/Jun/2020:18:05:07 +0000] \"POST /invocations HTTP/1.1\" 200 12124 \"-\" \"Go-http-client/1.1\"\u001b[0m\n",
      "\u001b[35m[2020-06-26:18:05:07:INFO] Determined delimiter of CSV input is ','\u001b[0m\n",
      "\u001b[35m169.254.255.130 - - [26/Jun/2020:18:05:07 +0000] \"POST /invocations HTTP/1.1\" 200 12120 \"-\" \"Go-http-client/1.1\"\u001b[0m\n",
      "\u001b[35m169.254.255.130 - - [26/Jun/2020:18:05:07 +0000] \"POST /invocations HTTP/1.1\" 200 12134 \"-\" \"Go-http-client/1.1\"\u001b[0m\n",
      "\u001b[34m169.254.255.130 - - [26/Jun/2020:18:05:07 +0000] \"POST /invocations HTTP/1.1\" 200 12129 \"-\" \"Go-http-client/1.1\"\u001b[0m\n",
      "\u001b[34m[2020-06-26:18:05:07:INFO] Determined delimiter of CSV input is ','\u001b[0m\n",
      "\u001b[34m[2020-06-26:18:05:07:INFO] Determined delimiter of CSV input is ','\u001b[0m\n",
      "\u001b[34m[2020-06-26:18:05:07:INFO] Determined delimiter of CSV input is ','\u001b[0m\n",
      "\u001b[35m169.254.255.130 - - [26/Jun/2020:18:05:07 +0000] \"POST /invocations HTTP/1.1\" 200 12129 \"-\" \"Go-http-client/1.1\"\u001b[0m\n",
      "\u001b[35m[2020-06-26:18:05:07:INFO] Determined delimiter of CSV input is ','\u001b[0m\n",
      "\u001b[35m[2020-06-26:18:05:07:INFO] Determined delimiter of CSV input is ','\u001b[0m\n",
      "\u001b[35m[2020-06-26:18:05:07:INFO] Determined delimiter of CSV input is ','\u001b[0m\n",
      "\u001b[34m169.254.255.130 - - [26/Jun/2020:18:05:10 +0000] \"POST /invocations HTTP/1.1\" 200 12103 \"-\" \"Go-http-client/1.1\"\u001b[0m\n",
      "\u001b[34m[2020-06-26:18:05:10:INFO] Determined delimiter of CSV input is ','\u001b[0m\n",
      "\u001b[35m169.254.255.130 - - [26/Jun/2020:18:05:10 +0000] \"POST /invocations HTTP/1.1\" 200 12103 \"-\" \"Go-http-client/1.1\"\u001b[0m\n",
      "\u001b[35m[2020-06-26:18:05:10:INFO] Determined delimiter of CSV input is ','\u001b[0m\n",
      "\u001b[34m169.254.255.130 - - [26/Jun/2020:18:05:10 +0000] \"POST /invocations HTTP/1.1\" 200 12135 \"-\" \"Go-http-client/1.1\"\u001b[0m\n",
      "\u001b[34m169.254.255.130 - - [26/Jun/2020:18:05:11 +0000] \"POST /invocations HTTP/1.1\" 200 12113 \"-\" \"Go-http-client/1.1\"\u001b[0m\n",
      "\u001b[34m169.254.255.130 - - [26/Jun/2020:18:05:11 +0000] \"POST /invocations HTTP/1.1\" 200 12134 \"-\" \"Go-http-client/1.1\"\u001b[0m\n",
      "\u001b[34m[2020-06-26:18:05:11:INFO] Determined delimiter of CSV input is ','\u001b[0m\n",
      "\u001b[34m[2020-06-26:18:05:11:INFO] Determined delimiter of CSV input is ','\u001b[0m\n",
      "\u001b[34m[2020-06-26:18:05:11:INFO] Determined delimiter of CSV input is ','\u001b[0m\n",
      "\u001b[35m169.254.255.130 - - [26/Jun/2020:18:05:10 +0000] \"POST /invocations HTTP/1.1\" 200 12135 \"-\" \"Go-http-client/1.1\"\u001b[0m\n",
      "\u001b[35m169.254.255.130 - - [26/Jun/2020:18:05:11 +0000] \"POST /invocations HTTP/1.1\" 200 12113 \"-\" \"Go-http-client/1.1\"\u001b[0m\n",
      "\u001b[35m169.254.255.130 - - [26/Jun/2020:18:05:11 +0000] \"POST /invocations HTTP/1.1\" 200 12134 \"-\" \"Go-http-client/1.1\"\u001b[0m\n",
      "\u001b[35m[2020-06-26:18:05:11:INFO] Determined delimiter of CSV input is ','\u001b[0m\n",
      "\u001b[35m[2020-06-26:18:05:11:INFO] Determined delimiter of CSV input is ','\u001b[0m\n",
      "\u001b[35m[2020-06-26:18:05:11:INFO] Determined delimiter of CSV input is ','\u001b[0m\n",
      "\u001b[34m169.254.255.130 - - [26/Jun/2020:18:05:14 +0000] \"POST /invocations HTTP/1.1\" 200 12117 \"-\" \"Go-http-client/1.1\"\u001b[0m\n",
      "\u001b[35m169.254.255.130 - - [26/Jun/2020:18:05:14 +0000] \"POST /invocations HTTP/1.1\" 200 12117 \"-\" \"Go-http-client/1.1\"\u001b[0m\n",
      "\u001b[34m[2020-06-26:18:05:14:INFO] Determined delimiter of CSV input is ','\u001b[0m\n",
      "\u001b[35m[2020-06-26:18:05:14:INFO] Determined delimiter of CSV input is ','\u001b[0m\n",
      "\u001b[34m169.254.255.130 - - [26/Jun/2020:18:05:17 +0000] \"POST /invocations HTTP/1.1\" 200 12098 \"-\" \"Go-http-client/1.1\"\u001b[0m\n",
      "\u001b[34m[2020-06-26:18:05:17:INFO] Determined delimiter of CSV input is ','\u001b[0m\n",
      "\u001b[35m169.254.255.130 - - [26/Jun/2020:18:05:17 +0000] \"POST /invocations HTTP/1.1\" 200 12098 \"-\" \"Go-http-client/1.1\"\u001b[0m\n",
      "\u001b[35m[2020-06-26:18:05:17:INFO] Determined delimiter of CSV input is ','\u001b[0m\n",
      "\u001b[34m169.254.255.130 - - [26/Jun/2020:18:05:17 +0000] \"POST /invocations HTTP/1.1\" 200 12135 \"-\" \"Go-http-client/1.1\"\u001b[0m\n",
      "\u001b[34m169.254.255.130 - - [26/Jun/2020:18:05:17 +0000] \"POST /invocations HTTP/1.1\" 200 12127 \"-\" \"Go-http-client/1.1\"\u001b[0m\n",
      "\u001b[34m[2020-06-26:18:05:18:INFO] Determined delimiter of CSV input is ','\u001b[0m\n",
      "\u001b[34m169.254.255.130 - - [26/Jun/2020:18:05:18 +0000] \"POST /invocations HTTP/1.1\" 200 12127 \"-\" \"Go-http-client/1.1\"\u001b[0m\n",
      "\u001b[34m[2020-06-26:18:05:18:INFO] Determined delimiter of CSV input is ','\u001b[0m\n",
      "\u001b[34m[2020-06-26:18:05:18:INFO] Determined delimiter of CSV input is ','\u001b[0m\n",
      "\u001b[35m169.254.255.130 - - [26/Jun/2020:18:05:17 +0000] \"POST /invocations HTTP/1.1\" 200 12135 \"-\" \"Go-http-client/1.1\"\u001b[0m\n",
      "\u001b[35m169.254.255.130 - - [26/Jun/2020:18:05:17 +0000] \"POST /invocations HTTP/1.1\" 200 12127 \"-\" \"Go-http-client/1.1\"\u001b[0m\n",
      "\u001b[35m[2020-06-26:18:05:18:INFO] Determined delimiter of CSV input is ','\u001b[0m\n",
      "\u001b[35m169.254.255.130 - - [26/Jun/2020:18:05:18 +0000] \"POST /invocations HTTP/1.1\" 200 12127 \"-\" \"Go-http-client/1.1\"\u001b[0m\n",
      "\u001b[35m[2020-06-26:18:05:18:INFO] Determined delimiter of CSV input is ','\u001b[0m\n",
      "\u001b[35m[2020-06-26:18:05:18:INFO] Determined delimiter of CSV input is ','\u001b[0m\n"
     ]
    },
    {
     "name": "stdout",
     "output_type": "stream",
     "text": [
      "\u001b[34m169.254.255.130 - - [26/Jun/2020:18:05:21 +0000] \"POST /invocations HTTP/1.1\" 200 12105 \"-\" \"Go-http-client/1.1\"\u001b[0m\n",
      "\u001b[34m[2020-06-26:18:05:22:INFO] Determined delimiter of CSV input is ','\u001b[0m\n",
      "\u001b[35m169.254.255.130 - - [26/Jun/2020:18:05:21 +0000] \"POST /invocations HTTP/1.1\" 200 12105 \"-\" \"Go-http-client/1.1\"\u001b[0m\n",
      "\u001b[35m[2020-06-26:18:05:22:INFO] Determined delimiter of CSV input is ','\u001b[0m\n",
      "\u001b[34m169.254.255.130 - - [26/Jun/2020:18:05:24 +0000] \"POST /invocations HTTP/1.1\" 200 12128 \"-\" \"Go-http-client/1.1\"\u001b[0m\n",
      "\u001b[34m[2020-06-26:18:05:24:INFO] Determined delimiter of CSV input is ','\u001b[0m\n",
      "\u001b[35m169.254.255.130 - - [26/Jun/2020:18:05:24 +0000] \"POST /invocations HTTP/1.1\" 200 12128 \"-\" \"Go-http-client/1.1\"\u001b[0m\n",
      "\u001b[35m[2020-06-26:18:05:24:INFO] Determined delimiter of CSV input is ','\u001b[0m\n",
      "\u001b[34m169.254.255.130 - - [26/Jun/2020:18:05:24 +0000] \"POST /invocations HTTP/1.1\" 200 12098 \"-\" \"Go-http-client/1.1\"\u001b[0m\n",
      "\u001b[34m[2020-06-26:18:05:25:INFO] Determined delimiter of CSV input is ','\u001b[0m\n",
      "\u001b[34m169.254.255.130 - - [26/Jun/2020:18:05:25 +0000] \"POST /invocations HTTP/1.1\" 200 12100 \"-\" \"Go-http-client/1.1\"\u001b[0m\n",
      "\u001b[34m[2020-06-26:18:05:25:INFO] Determined delimiter of CSV input is ','\u001b[0m\n",
      "\u001b[34m169.254.255.130 - - [26/Jun/2020:18:05:25 +0000] \"POST /invocations HTTP/1.1\" 200 12112 \"-\" \"Go-http-client/1.1\"\u001b[0m\n",
      "\u001b[34m[2020-06-26:18:05:25:INFO] Determined delimiter of CSV input is ','\u001b[0m\n",
      "\u001b[35m169.254.255.130 - - [26/Jun/2020:18:05:24 +0000] \"POST /invocations HTTP/1.1\" 200 12098 \"-\" \"Go-http-client/1.1\"\u001b[0m\n",
      "\u001b[35m[2020-06-26:18:05:25:INFO] Determined delimiter of CSV input is ','\u001b[0m\n",
      "\u001b[35m169.254.255.130 - - [26/Jun/2020:18:05:25 +0000] \"POST /invocations HTTP/1.1\" 200 12100 \"-\" \"Go-http-client/1.1\"\u001b[0m\n",
      "\u001b[35m[2020-06-26:18:05:25:INFO] Determined delimiter of CSV input is ','\u001b[0m\n",
      "\u001b[35m169.254.255.130 - - [26/Jun/2020:18:05:25 +0000] \"POST /invocations HTTP/1.1\" 200 12112 \"-\" \"Go-http-client/1.1\"\u001b[0m\n",
      "\u001b[35m[2020-06-26:18:05:25:INFO] Determined delimiter of CSV input is ','\u001b[0m\n",
      "\u001b[34m169.254.255.130 - - [26/Jun/2020:18:05:27 +0000] \"POST /invocations HTTP/1.1\" 200 12078 \"-\" \"Go-http-client/1.1\"\u001b[0m\n",
      "\u001b[34m[2020-06-26:18:05:28:INFO] Determined delimiter of CSV input is ','\u001b[0m\n",
      "\u001b[34m169.254.255.130 - - [26/Jun/2020:18:05:28 +0000] \"POST /invocations HTTP/1.1\" 200 12101 \"-\" \"Go-http-client/1.1\"\u001b[0m\n",
      "\u001b[34m[2020-06-26:18:05:28:INFO] Determined delimiter of CSV input is ','\u001b[0m\n",
      "\u001b[34m169.254.255.130 - - [26/Jun/2020:18:05:28 +0000] \"POST /invocations HTTP/1.1\" 200 12105 \"-\" \"Go-http-client/1.1\"\u001b[0m\n",
      "\u001b[34m169.254.255.130 - - [26/Jun/2020:18:05:28 +0000] \"POST /invocations HTTP/1.1\" 200 12099 \"-\" \"Go-http-client/1.1\"\u001b[0m\n",
      "\u001b[34m[2020-06-26:18:05:28:INFO] Determined delimiter of CSV input is ','\u001b[0m\n",
      "\u001b[35m169.254.255.130 - - [26/Jun/2020:18:05:27 +0000] \"POST /invocations HTTP/1.1\" 200 12078 \"-\" \"Go-http-client/1.1\"\u001b[0m\n",
      "\u001b[35m[2020-06-26:18:05:28:INFO] Determined delimiter of CSV input is ','\u001b[0m\n",
      "\u001b[35m169.254.255.130 - - [26/Jun/2020:18:05:28 +0000] \"POST /invocations HTTP/1.1\" 200 12101 \"-\" \"Go-http-client/1.1\"\u001b[0m\n",
      "\u001b[35m[2020-06-26:18:05:28:INFO] Determined delimiter of CSV input is ','\u001b[0m\n",
      "\u001b[35m169.254.255.130 - - [26/Jun/2020:18:05:28 +0000] \"POST /invocations HTTP/1.1\" 200 12105 \"-\" \"Go-http-client/1.1\"\u001b[0m\n",
      "\u001b[35m169.254.255.130 - - [26/Jun/2020:18:05:28 +0000] \"POST /invocations HTTP/1.1\" 200 12099 \"-\" \"Go-http-client/1.1\"\u001b[0m\n",
      "\u001b[35m[2020-06-26:18:05:28:INFO] Determined delimiter of CSV input is ','\u001b[0m\n",
      "\u001b[34m[2020-06-26:18:05:28:INFO] Determined delimiter of CSV input is ','\u001b[0m\n",
      "\u001b[35m[2020-06-26:18:05:28:INFO] Determined delimiter of CSV input is ','\u001b[0m\n",
      "\u001b[34m169.254.255.130 - - [26/Jun/2020:18:05:31 +0000] \"POST /invocations HTTP/1.1\" 200 9019 \"-\" \"Go-http-client/1.1\"\u001b[0m\n",
      "\u001b[34m169.254.255.130 - - [26/Jun/2020:18:05:31 +0000] \"POST /invocations HTTP/1.1\" 200 12112 \"-\" \"Go-http-client/1.1\"\u001b[0m\n",
      "\u001b[34m169.254.255.130 - - [26/Jun/2020:18:05:31 +0000] \"POST /invocations HTTP/1.1\" 200 12109 \"-\" \"Go-http-client/1.1\"\u001b[0m\n",
      "\u001b[34m169.254.255.130 - - [26/Jun/2020:18:05:31 +0000] \"POST /invocations HTTP/1.1\" 200 12116 \"-\" \"Go-http-client/1.1\"\u001b[0m\n",
      "\u001b[35m169.254.255.130 - - [26/Jun/2020:18:05:31 +0000] \"POST /invocations HTTP/1.1\" 200 9019 \"-\" \"Go-http-client/1.1\"\u001b[0m\n",
      "\u001b[35m169.254.255.130 - - [26/Jun/2020:18:05:31 +0000] \"POST /invocations HTTP/1.1\" 200 12112 \"-\" \"Go-http-client/1.1\"\u001b[0m\n",
      "\u001b[35m169.254.255.130 - - [26/Jun/2020:18:05:31 +0000] \"POST /invocations HTTP/1.1\" 200 12109 \"-\" \"Go-http-client/1.1\"\u001b[0m\n",
      "\u001b[35m169.254.255.130 - - [26/Jun/2020:18:05:31 +0000] \"POST /invocations HTTP/1.1\" 200 12116 \"-\" \"Go-http-client/1.1\"\u001b[0m\n",
      "\n"
     ]
    }
   ],
   "source": [
    "new_xgb_transformer.transform(test_location, content_type='text/csv', split_type='Line')\n",
    "new_xgb_transformer.wait()"
   ]
  },
  {
   "cell_type": "code",
   "execution_count": 136,
   "metadata": {},
   "outputs": [
    {
     "data": {
      "text/plain": [
       "'s3://sagemaker-eu-central-1-648654006923/sagemaker-xgboost-2020-06-26-18-01-12-814'"
      ]
     },
     "execution_count": 136,
     "metadata": {},
     "output_type": "execute_result"
    }
   ],
   "source": [
    "new_xgb_transformer.output_path"
   ]
  },
  {
   "cell_type": "code",
   "execution_count": 137,
   "metadata": {},
   "outputs": [
    {
     "data": {
      "text/plain": [
       "'../data/sentiment_update'"
      ]
     },
     "execution_count": 137,
     "metadata": {},
     "output_type": "execute_result"
    }
   ],
   "source": [
    "data_dir"
   ]
  },
  {
   "cell_type": "code",
   "execution_count": 135,
   "metadata": {
    "collapsed": true
   },
   "outputs": [
    {
     "ename": "OSError",
     "evalue": "[Errno 12] Cannot allocate memory",
     "output_type": "error",
     "traceback": [
      "\u001b[0;31m---------------------------------------------------------------------------\u001b[0m",
      "\u001b[0;31mOSError\u001b[0m                                   Traceback (most recent call last)",
      "\u001b[0;32m<ipython-input-135-1dab5f3b624f>\u001b[0m in \u001b[0;36m<module>\u001b[0;34m()\u001b[0m\n\u001b[0;32m----> 1\u001b[0;31m \u001b[0mget_ipython\u001b[0m\u001b[0;34m(\u001b[0m\u001b[0;34m)\u001b[0m\u001b[0;34m.\u001b[0m\u001b[0msystem\u001b[0m\u001b[0;34m(\u001b[0m\u001b[0;34m'aws s3 cp --recursive $new_xgb_transformer.output_path $data_dir'\u001b[0m\u001b[0;34m)\u001b[0m\u001b[0;34m\u001b[0m\u001b[0m\n\u001b[0m",
      "\u001b[0;32m~/anaconda3/envs/pytorch_p36/lib/python3.6/site-packages/IPython/core/interactiveshell.py\u001b[0m in \u001b[0;36msystem_piped\u001b[0;34m(self, cmd)\u001b[0m\n\u001b[1;32m   2259\u001b[0m         \u001b[0;31m# a non-None value would trigger :func:`sys.displayhook` calls.\u001b[0m\u001b[0;34m\u001b[0m\u001b[0;34m\u001b[0m\u001b[0m\n\u001b[1;32m   2260\u001b[0m         \u001b[0;31m# Instead, we store the exit_code in user_ns.\u001b[0m\u001b[0;34m\u001b[0m\u001b[0;34m\u001b[0m\u001b[0m\n\u001b[0;32m-> 2261\u001b[0;31m         \u001b[0mself\u001b[0m\u001b[0;34m.\u001b[0m\u001b[0muser_ns\u001b[0m\u001b[0;34m[\u001b[0m\u001b[0;34m'_exit_code'\u001b[0m\u001b[0;34m]\u001b[0m \u001b[0;34m=\u001b[0m \u001b[0msystem\u001b[0m\u001b[0;34m(\u001b[0m\u001b[0mself\u001b[0m\u001b[0;34m.\u001b[0m\u001b[0mvar_expand\u001b[0m\u001b[0;34m(\u001b[0m\u001b[0mcmd\u001b[0m\u001b[0;34m,\u001b[0m \u001b[0mdepth\u001b[0m\u001b[0;34m=\u001b[0m\u001b[0;36m1\u001b[0m\u001b[0;34m)\u001b[0m\u001b[0;34m)\u001b[0m\u001b[0;34m\u001b[0m\u001b[0m\n\u001b[0m\u001b[1;32m   2262\u001b[0m \u001b[0;34m\u001b[0m\u001b[0m\n\u001b[1;32m   2263\u001b[0m     \u001b[0;32mdef\u001b[0m \u001b[0msystem_raw\u001b[0m\u001b[0;34m(\u001b[0m\u001b[0mself\u001b[0m\u001b[0;34m,\u001b[0m \u001b[0mcmd\u001b[0m\u001b[0;34m)\u001b[0m\u001b[0;34m:\u001b[0m\u001b[0;34m\u001b[0m\u001b[0m\n",
      "\u001b[0;32m~/anaconda3/envs/pytorch_p36/lib/python3.6/site-packages/IPython/utils/_process_posix.py\u001b[0m in \u001b[0;36msystem\u001b[0;34m(self, cmd)\u001b[0m\n\u001b[1;32m    154\u001b[0m                 \u001b[0mchild\u001b[0m \u001b[0;34m=\u001b[0m \u001b[0mpexpect\u001b[0m\u001b[0;34m.\u001b[0m\u001b[0mspawnb\u001b[0m\u001b[0;34m(\u001b[0m\u001b[0mself\u001b[0m\u001b[0;34m.\u001b[0m\u001b[0msh\u001b[0m\u001b[0;34m,\u001b[0m \u001b[0margs\u001b[0m\u001b[0;34m=\u001b[0m\u001b[0;34m[\u001b[0m\u001b[0;34m'-c'\u001b[0m\u001b[0;34m,\u001b[0m \u001b[0mcmd\u001b[0m\u001b[0;34m]\u001b[0m\u001b[0;34m)\u001b[0m \u001b[0;31m# Pexpect-U\u001b[0m\u001b[0;34m\u001b[0m\u001b[0m\n\u001b[1;32m    155\u001b[0m             \u001b[0;32melse\u001b[0m\u001b[0;34m:\u001b[0m\u001b[0;34m\u001b[0m\u001b[0m\n\u001b[0;32m--> 156\u001b[0;31m                 \u001b[0mchild\u001b[0m \u001b[0;34m=\u001b[0m \u001b[0mpexpect\u001b[0m\u001b[0;34m.\u001b[0m\u001b[0mspawn\u001b[0m\u001b[0;34m(\u001b[0m\u001b[0mself\u001b[0m\u001b[0;34m.\u001b[0m\u001b[0msh\u001b[0m\u001b[0;34m,\u001b[0m \u001b[0margs\u001b[0m\u001b[0;34m=\u001b[0m\u001b[0;34m[\u001b[0m\u001b[0;34m'-c'\u001b[0m\u001b[0;34m,\u001b[0m \u001b[0mcmd\u001b[0m\u001b[0;34m]\u001b[0m\u001b[0;34m)\u001b[0m  \u001b[0;31m# Vanilla Pexpect\u001b[0m\u001b[0;34m\u001b[0m\u001b[0m\n\u001b[0m\u001b[1;32m    157\u001b[0m             \u001b[0mflush\u001b[0m \u001b[0;34m=\u001b[0m \u001b[0msys\u001b[0m\u001b[0;34m.\u001b[0m\u001b[0mstdout\u001b[0m\u001b[0;34m.\u001b[0m\u001b[0mflush\u001b[0m\u001b[0;34m\u001b[0m\u001b[0m\n\u001b[1;32m    158\u001b[0m             \u001b[0;32mwhile\u001b[0m \u001b[0;32mTrue\u001b[0m\u001b[0;34m:\u001b[0m\u001b[0;34m\u001b[0m\u001b[0m\n",
      "\u001b[0;32m~/anaconda3/envs/pytorch_p36/lib/python3.6/site-packages/pexpect/pty_spawn.py\u001b[0m in \u001b[0;36m__init__\u001b[0;34m(self, command, args, timeout, maxread, searchwindowsize, logfile, cwd, env, ignore_sighup, echo, preexec_fn, encoding, codec_errors, dimensions, use_poll)\u001b[0m\n\u001b[1;32m    202\u001b[0m             \u001b[0mself\u001b[0m\u001b[0;34m.\u001b[0m\u001b[0mname\u001b[0m \u001b[0;34m=\u001b[0m \u001b[0;34m'<pexpect factory incomplete>'\u001b[0m\u001b[0;34m\u001b[0m\u001b[0m\n\u001b[1;32m    203\u001b[0m         \u001b[0;32melse\u001b[0m\u001b[0;34m:\u001b[0m\u001b[0;34m\u001b[0m\u001b[0m\n\u001b[0;32m--> 204\u001b[0;31m             \u001b[0mself\u001b[0m\u001b[0;34m.\u001b[0m\u001b[0m_spawn\u001b[0m\u001b[0;34m(\u001b[0m\u001b[0mcommand\u001b[0m\u001b[0;34m,\u001b[0m \u001b[0margs\u001b[0m\u001b[0;34m,\u001b[0m \u001b[0mpreexec_fn\u001b[0m\u001b[0;34m,\u001b[0m \u001b[0mdimensions\u001b[0m\u001b[0;34m)\u001b[0m\u001b[0;34m\u001b[0m\u001b[0m\n\u001b[0m\u001b[1;32m    205\u001b[0m         \u001b[0mself\u001b[0m\u001b[0;34m.\u001b[0m\u001b[0muse_poll\u001b[0m \u001b[0;34m=\u001b[0m \u001b[0muse_poll\u001b[0m\u001b[0;34m\u001b[0m\u001b[0m\n\u001b[1;32m    206\u001b[0m \u001b[0;34m\u001b[0m\u001b[0m\n",
      "\u001b[0;32m~/anaconda3/envs/pytorch_p36/lib/python3.6/site-packages/pexpect/pty_spawn.py\u001b[0m in \u001b[0;36m_spawn\u001b[0;34m(self, command, args, preexec_fn, dimensions)\u001b[0m\n\u001b[1;32m    301\u001b[0m \u001b[0;34m\u001b[0m\u001b[0m\n\u001b[1;32m    302\u001b[0m         self.ptyproc = self._spawnpty(self.args, env=self.env,\n\u001b[0;32m--> 303\u001b[0;31m                                      cwd=self.cwd, **kwargs)\n\u001b[0m\u001b[1;32m    304\u001b[0m \u001b[0;34m\u001b[0m\u001b[0m\n\u001b[1;32m    305\u001b[0m         \u001b[0mself\u001b[0m\u001b[0;34m.\u001b[0m\u001b[0mpid\u001b[0m \u001b[0;34m=\u001b[0m \u001b[0mself\u001b[0m\u001b[0;34m.\u001b[0m\u001b[0mptyproc\u001b[0m\u001b[0;34m.\u001b[0m\u001b[0mpid\u001b[0m\u001b[0;34m\u001b[0m\u001b[0m\n",
      "\u001b[0;32m~/anaconda3/envs/pytorch_p36/lib/python3.6/site-packages/pexpect/pty_spawn.py\u001b[0m in \u001b[0;36m_spawnpty\u001b[0;34m(self, args, **kwargs)\u001b[0m\n\u001b[1;32m    312\u001b[0m     \u001b[0;32mdef\u001b[0m \u001b[0m_spawnpty\u001b[0m\u001b[0;34m(\u001b[0m\u001b[0mself\u001b[0m\u001b[0;34m,\u001b[0m \u001b[0margs\u001b[0m\u001b[0;34m,\u001b[0m \u001b[0;34m**\u001b[0m\u001b[0mkwargs\u001b[0m\u001b[0;34m)\u001b[0m\u001b[0;34m:\u001b[0m\u001b[0;34m\u001b[0m\u001b[0m\n\u001b[1;32m    313\u001b[0m         \u001b[0;34m'''Spawn a pty and return an instance of PtyProcess.'''\u001b[0m\u001b[0;34m\u001b[0m\u001b[0m\n\u001b[0;32m--> 314\u001b[0;31m         \u001b[0;32mreturn\u001b[0m \u001b[0mptyprocess\u001b[0m\u001b[0;34m.\u001b[0m\u001b[0mPtyProcess\u001b[0m\u001b[0;34m.\u001b[0m\u001b[0mspawn\u001b[0m\u001b[0;34m(\u001b[0m\u001b[0margs\u001b[0m\u001b[0;34m,\u001b[0m \u001b[0;34m**\u001b[0m\u001b[0mkwargs\u001b[0m\u001b[0;34m)\u001b[0m\u001b[0;34m\u001b[0m\u001b[0m\n\u001b[0m\u001b[1;32m    315\u001b[0m \u001b[0;34m\u001b[0m\u001b[0m\n\u001b[1;32m    316\u001b[0m     \u001b[0;32mdef\u001b[0m \u001b[0mclose\u001b[0m\u001b[0;34m(\u001b[0m\u001b[0mself\u001b[0m\u001b[0;34m,\u001b[0m \u001b[0mforce\u001b[0m\u001b[0;34m=\u001b[0m\u001b[0;32mTrue\u001b[0m\u001b[0;34m)\u001b[0m\u001b[0;34m:\u001b[0m\u001b[0;34m\u001b[0m\u001b[0m\n",
      "\u001b[0;32m~/anaconda3/envs/pytorch_p36/lib/python3.6/site-packages/ptyprocess/ptyprocess.py\u001b[0m in \u001b[0;36mspawn\u001b[0;34m(cls, argv, cwd, env, echo, preexec_fn, dimensions)\u001b[0m\n\u001b[1;32m    220\u001b[0m \u001b[0;34m\u001b[0m\u001b[0m\n\u001b[1;32m    221\u001b[0m         \u001b[0;32mif\u001b[0m \u001b[0muse_native_pty_fork\u001b[0m\u001b[0;34m:\u001b[0m\u001b[0;34m\u001b[0m\u001b[0m\n\u001b[0;32m--> 222\u001b[0;31m             \u001b[0mpid\u001b[0m\u001b[0;34m,\u001b[0m \u001b[0mfd\u001b[0m \u001b[0;34m=\u001b[0m \u001b[0mpty\u001b[0m\u001b[0;34m.\u001b[0m\u001b[0mfork\u001b[0m\u001b[0;34m(\u001b[0m\u001b[0;34m)\u001b[0m\u001b[0;34m\u001b[0m\u001b[0m\n\u001b[0m\u001b[1;32m    223\u001b[0m         \u001b[0;32melse\u001b[0m\u001b[0;34m:\u001b[0m\u001b[0;34m\u001b[0m\u001b[0m\n\u001b[1;32m    224\u001b[0m             \u001b[0;31m# Use internal fork_pty, for Solaris\u001b[0m\u001b[0;34m\u001b[0m\u001b[0;34m\u001b[0m\u001b[0m\n",
      "\u001b[0;32m~/anaconda3/envs/pytorch_p36/lib/python3.6/pty.py\u001b[0m in \u001b[0;36mfork\u001b[0;34m()\u001b[0m\n\u001b[1;32m     95\u001b[0m \u001b[0;34m\u001b[0m\u001b[0m\n\u001b[1;32m     96\u001b[0m     \u001b[0mmaster_fd\u001b[0m\u001b[0;34m,\u001b[0m \u001b[0mslave_fd\u001b[0m \u001b[0;34m=\u001b[0m \u001b[0mopenpty\u001b[0m\u001b[0;34m(\u001b[0m\u001b[0;34m)\u001b[0m\u001b[0;34m\u001b[0m\u001b[0m\n\u001b[0;32m---> 97\u001b[0;31m     \u001b[0mpid\u001b[0m \u001b[0;34m=\u001b[0m \u001b[0mos\u001b[0m\u001b[0;34m.\u001b[0m\u001b[0mfork\u001b[0m\u001b[0;34m(\u001b[0m\u001b[0;34m)\u001b[0m\u001b[0;34m\u001b[0m\u001b[0m\n\u001b[0m\u001b[1;32m     98\u001b[0m     \u001b[0;32mif\u001b[0m \u001b[0mpid\u001b[0m \u001b[0;34m==\u001b[0m \u001b[0mCHILD\u001b[0m\u001b[0;34m:\u001b[0m\u001b[0;34m\u001b[0m\u001b[0m\n\u001b[1;32m     99\u001b[0m         \u001b[0;31m# Establish a new session.\u001b[0m\u001b[0;34m\u001b[0m\u001b[0;34m\u001b[0m\u001b[0m\n",
      "\u001b[0;31mOSError\u001b[0m: [Errno 12] Cannot allocate memory"
     ]
    }
   ],
   "source": [
    "!aws s3 cp --recursive $new_xgb_transformer.output_path $data_dir"
   ]
  },
  {
   "cell_type": "code",
   "execution_count": 138,
   "metadata": {},
   "outputs": [],
   "source": [
    "predictions = pd.read_csv(os.path.join(data_dir, 'test.csv.out'), header=None)\n",
    "predictions = [round(num) for num in predictions.squeeze().values]"
   ]
  },
  {
   "cell_type": "code",
   "execution_count": 139,
   "metadata": {},
   "outputs": [
    {
     "data": {
      "text/plain": [
       "0.8376"
      ]
     },
     "execution_count": 139,
     "metadata": {},
     "output_type": "execute_result"
    }
   ],
   "source": [
    "accuracy_score(test_Y, predictions)"
   ]
  },
  {
   "cell_type": "markdown",
   "metadata": {},
   "source": [
    "It would appear that our new XGBoost model is performing quite well on the old test data. This gives us some indication that our new model should be put into production and replace our original model."
   ]
  },
  {
   "cell_type": "markdown",
   "metadata": {},
   "source": [
    "## Step 6: (TODO) Updating the Model\n",
    "\n",
    "So we have a new model that we'd like to use instead of one that is already deployed. Furthermore, we are assuming that the model that is already deployed is being used in some sort of application. As a result, what we want to do is update the existing endpoint so that it uses our new model.\n",
    "\n",
    "Of course, to do this we need to create an endpoint configuration for our newly created model.\n",
    "\n",
    "First, note that we can access the name of the model that we created above using the `model_name` property of the transformer. The reason for this is that in order for the transformer to create a batch transform job it needs to first create the model object inside of SageMaker. Since we've sort of already done this we should take advantage of it."
   ]
  },
  {
   "cell_type": "code",
   "execution_count": 140,
   "metadata": {},
   "outputs": [
    {
     "data": {
      "text/plain": [
       "'sagemaker-xgboost-2020-06-26-17-36-17-269'"
      ]
     },
     "execution_count": 140,
     "metadata": {},
     "output_type": "execute_result"
    }
   ],
   "source": [
    "new_xgb_transformer.model_name"
   ]
  },
  {
   "cell_type": "markdown",
   "metadata": {},
   "source": [
    "Next, we create an endpoint configuration using the low level approach of creating the dictionary object which describes the endpoint configuration we want.\n",
    "\n",
    "**TODO:** Using the low level approach, create a new endpoint configuration. Don't forget that it needs a name and that the name needs to be unique. If you get stuck, try looking at the Boston Housing Low Level Deployment tutorial notebook."
   ]
  },
  {
   "cell_type": "code",
   "execution_count": 142,
   "metadata": {},
   "outputs": [],
   "source": [
    "from time import gmtime, strftime\n",
    "\n",
    "\n",
    "# TODO: Give our endpoint configuration a name. Remember, it needs to be unique.\n",
    "new_xgb_endpoint_config_name = \"sentiment-update-xgboost-endpoint-config-\" + strftime(\"%Y-%m-%d-%H-%M-%S\", gmtime())\n",
    "\n",
    "# TODO: Using the SageMaker Client, construct the endpoint configuration.\n",
    "new_xgb_endpoint_config_info = session.sagemaker_client.create_endpoint_config(\n",
    "                            EndpointConfigName = new_xgb_endpoint_config_name,\n",
    "                            ProductionVariants = [{\n",
    "                                \"InstanceType\": \"ml.m4.xlarge\",\n",
    "                                \"InitialVariantWeight\": 1,\n",
    "                                \"InitialInstanceCount\": 1,\n",
    "                                \"ModelName\": new_xgb_transformer.model_name,\n",
    "                                \"VariantName\": \"XGB-Model\"\n",
    "                            }])"
   ]
  },
  {
   "cell_type": "markdown",
   "metadata": {},
   "source": [
    "Once the endpoint configuration has been constructed, it is a straightforward matter to ask SageMaker to update the existing endpoint so that it uses the new endpoint configuration.\n",
    "\n",
    "Of note here is that SageMaker does this in such a way that there is no downtime. Essentially, SageMaker deploys the new model and then updates the original endpoint so that it points to the newly deployed model. After that, the original model is shut down. This way, whatever app is using our endpoint won't notice that we've changed the model that is being used.\n",
    "\n",
    "**TODO:** Use the SageMaker Client to update the endpoint that you deployed earlier."
   ]
  },
  {
   "cell_type": "code",
   "execution_count": 143,
   "metadata": {},
   "outputs": [
    {
     "data": {
      "text/plain": [
       "{'EndpointArn': 'arn:aws:sagemaker:eu-central-1:648654006923:endpoint/xgboost-2020-06-26-14-36-35-093',\n",
       " 'ResponseMetadata': {'RequestId': 'f25e95e2-f259-4202-bd51-808268d464e9',\n",
       "  'HTTPStatusCode': 200,\n",
       "  'HTTPHeaders': {'x-amzn-requestid': 'f25e95e2-f259-4202-bd51-808268d464e9',\n",
       "   'content-type': 'application/x-amz-json-1.1',\n",
       "   'content-length': '102',\n",
       "   'date': 'Fri, 26 Jun 2020 18:42:11 GMT'},\n",
       "  'RetryAttempts': 0}}"
      ]
     },
     "execution_count": 143,
     "metadata": {},
     "output_type": "execute_result"
    }
   ],
   "source": [
    "# TODO: Update the xgb_predictor.endpoint so that it uses new_xgb_endpoint_config_name.\n",
    "session.sagemaker_client.update_endpoint(EndpointName=xgb_predictor.endpoint, EndpointConfigName=new_xgb_endpoint_config_name)"
   ]
  },
  {
   "cell_type": "markdown",
   "metadata": {},
   "source": [
    "And, as is generally the case with SageMaker requests, this is being done in the background so if we want to wait for it to complete we need to call the appropriate method."
   ]
  },
  {
   "cell_type": "code",
   "execution_count": null,
   "metadata": {},
   "outputs": [
    {
     "name": "stdout",
     "output_type": "stream",
     "text": [
      "--------------"
     ]
    }
   ],
   "source": [
    "session.wait_for_endpoint(xgb_predictor.endpoint)"
   ]
  },
  {
   "cell_type": "markdown",
   "metadata": {},
   "source": [
    "## Step 7: Delete the Endpoint\n",
    "\n",
    "Of course, since we are done with the deployed endpoint we need to make sure to shut it down, otherwise we will continue to be charged for it."
   ]
  },
  {
   "cell_type": "code",
   "execution_count": null,
   "metadata": {},
   "outputs": [],
   "source": [
    "xgb_predictor.delete_endpoint()"
   ]
  },
  {
   "cell_type": "markdown",
   "metadata": {},
   "source": [
    "## Some Additional Questions\n",
    "\n",
    "This notebook is a little different from the other notebooks in this module. In part, this is because it is meant to be a little bit closer to the type of problem you may face in a real world scenario. Of course, this problem is a very easy one with a prescribed solution, but there are many other interesting questions that we did not consider here and that you may wish to consider yourself.\n",
    "\n",
    "For example,\n",
    "- What other ways could the underlying distribution change?\n",
    "- Is it a good idea to re-train the model using only the new data?\n",
    "- What would change if the quantity of new data wasn't large. Say you only received 500 samples?\n"
   ]
  },
  {
   "cell_type": "markdown",
   "metadata": {},
   "source": [
    "## Optional: Clean up\n",
    "\n",
    "The default notebook instance on SageMaker doesn't have a lot of excess disk space available. As you continue to complete and execute notebooks you will eventually fill up this disk space, leading to errors which can be difficult to diagnose. Once you are completely finished using a notebook it is a good idea to remove the files that you created along the way. Of course, you can do this from the terminal or from the notebook hub if you would like. The cell below contains some commands to clean up the created files from within the notebook."
   ]
  },
  {
   "cell_type": "code",
   "execution_count": null,
   "metadata": {},
   "outputs": [],
   "source": [
    "# First we will remove all of the files contained in the data_dir directory\n",
    "!rm $data_dir/*\n",
    "\n",
    "# And then we delete the directory itself\n",
    "!rmdir $data_dir\n",
    "\n",
    "# Similarly we will remove the files in the cache_dir directory and the directory itself\n",
    "!rm $cache_dir/*\n",
    "!rmdir $cache_dir"
   ]
  },
  {
   "cell_type": "code",
   "execution_count": null,
   "metadata": {},
   "outputs": [],
   "source": []
  }
 ],
 "metadata": {
  "kernelspec": {
   "display_name": "conda_pytorch_p36",
   "language": "python",
   "name": "conda_pytorch_p36"
  },
  "language_info": {
   "codemirror_mode": {
    "name": "ipython",
    "version": 3
   },
   "file_extension": ".py",
   "mimetype": "text/x-python",
   "name": "python",
   "nbconvert_exporter": "python",
   "pygments_lexer": "ipython3",
   "version": "3.6.5"
  }
 },
 "nbformat": 4,
 "nbformat_minor": 2
}
