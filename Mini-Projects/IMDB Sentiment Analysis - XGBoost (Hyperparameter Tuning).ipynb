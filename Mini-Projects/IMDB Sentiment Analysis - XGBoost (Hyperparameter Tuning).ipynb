{
 "cells": [
  {
   "cell_type": "markdown",
   "metadata": {},
   "source": [
    "# Sentiment Analysis\n",
    "\n",
    "## Using XGBoost in SageMaker\n",
    "\n",
    "_Deep Learning Nanodegree Program | Deployment_\n",
    "\n",
    "---\n",
    "\n",
    "In this example of using Amazon's SageMaker service we will construct a random tree model to predict the sentiment of a movie review. You may have seen a version of this example in a pervious lesson although it would have been done using the sklearn package. Instead, we will be using the XGBoost package as it is provided to us by Amazon.\n",
    "\n",
    "## Instructions\n",
    "\n",
    "Some template code has already been provided for you, and you will need to implement additional functionality to successfully complete this notebook. You will not need to modify the included code beyond what is requested. Sections that begin with '**TODO**' in the header indicate that you need to complete or implement some portion within them. Instructions will be provided for each section and the specifics of the implementation are marked in the code block with a `# TODO: ...` comment. Please be sure to read the instructions carefully!\n",
    "\n",
    "In addition to implementing code, there will be questions for you to answer which relate to the task and your implementation. Each section where you will answer a question is preceded by a '**Question:**' header. Carefully read each question and provide your answer below the '**Answer:**' header by editing the Markdown cell.\n",
    "\n",
    "> **Note**: Code and Markdown cells can be executed using the **Shift+Enter** keyboard shortcut. In addition, a cell can be edited by typically clicking it (double-click for Markdown cells) or by pressing **Enter** while it is highlighted."
   ]
  },
  {
   "cell_type": "markdown",
   "metadata": {},
   "source": [
    "## Step 1: Downloading the data\n",
    "\n",
    "The dataset we are going to use is very popular among researchers in Natural Language Processing, usually referred to as the [IMDb dataset](http://ai.stanford.edu/~amaas/data/sentiment/). It consists of movie reviews from the website [imdb.com](http://www.imdb.com/), each labeled as either '**pos**itive', if the reviewer enjoyed the film, or '**neg**ative' otherwise.\n",
    "\n",
    "> Maas, Andrew L., et al. [Learning Word Vectors for Sentiment Analysis](http://ai.stanford.edu/~amaas/data/sentiment/). In _Proceedings of the 49th Annual Meeting of the Association for Computational Linguistics: Human Language Technologies_. Association for Computational Linguistics, 2011.\n",
    "\n",
    "We begin by using some Jupyter Notebook magic to download and extract the dataset."
   ]
  },
  {
   "cell_type": "code",
   "execution_count": 1,
   "metadata": {},
   "outputs": [
    {
     "name": "stdout",
     "output_type": "stream",
     "text": [
      "mkdir: cannot create directory ‘../data’: File exists\n",
      "--2020-06-25 10:44:46--  http://ai.stanford.edu/~amaas/data/sentiment/aclImdb_v1.tar.gz\n",
      "Resolving ai.stanford.edu (ai.stanford.edu)... 171.64.68.10\n",
      "Connecting to ai.stanford.edu (ai.stanford.edu)|171.64.68.10|:80... connected.\n",
      "HTTP request sent, awaiting response... 200 OK\n",
      "Length: 84125825 (80M) [application/x-gzip]\n",
      "Saving to: ‘../data/aclImdb_v1.tar.gz’\n",
      "\n",
      "../data/aclImdb_v1. 100%[===================>]  80.23M  9.56MB/s    in 10s     \n",
      "\n",
      "2020-06-25 10:44:56 (8.01 MB/s) - ‘../data/aclImdb_v1.tar.gz’ saved [84125825/84125825]\n",
      "\n"
     ]
    }
   ],
   "source": [
    "%mkdir ../data\n",
    "!wget -O ../data/aclImdb_v1.tar.gz http://ai.stanford.edu/~amaas/data/sentiment/aclImdb_v1.tar.gz\n",
    "!tar -zxf ../data/aclImdb_v1.tar.gz -C ../data"
   ]
  },
  {
   "cell_type": "markdown",
   "metadata": {},
   "source": [
    "## Step 2: Preparing the data\n",
    "\n",
    "The data we have downloaded is split into various files, each of which contains a single review. It will be much easier going forward if we combine these individual files into two large files, one for training and one for testing."
   ]
  },
  {
   "cell_type": "code",
   "execution_count": 1,
   "metadata": {},
   "outputs": [],
   "source": [
    "import os\n",
    "import glob\n",
    "\n",
    "def read_imdb_data(data_dir='../data/aclImdb'):\n",
    "    data = {}\n",
    "    labels = {}\n",
    "    \n",
    "    for data_type in ['train', 'test']:\n",
    "        data[data_type] = {}\n",
    "        labels[data_type] = {}\n",
    "        \n",
    "        for sentiment in ['pos', 'neg']:\n",
    "            data[data_type][sentiment] = []\n",
    "            labels[data_type][sentiment] = []\n",
    "            \n",
    "            path = os.path.join(data_dir, data_type, sentiment, '*.txt')\n",
    "            files = glob.glob(path)\n",
    "            \n",
    "            for f in files:\n",
    "                with open(f) as review:\n",
    "                    data[data_type][sentiment].append(review.read())\n",
    "                    # Here we represent a positive review by '1' and a negative review by '0'\n",
    "                    labels[data_type][sentiment].append(1 if sentiment == 'pos' else 0)\n",
    "                    \n",
    "            assert len(data[data_type][sentiment]) == len(labels[data_type][sentiment]), \\\n",
    "                    \"{}/{} data size does not match labels size\".format(data_type, sentiment)\n",
    "                \n",
    "    return data, labels"
   ]
  },
  {
   "cell_type": "code",
   "execution_count": 2,
   "metadata": {},
   "outputs": [
    {
     "name": "stdout",
     "output_type": "stream",
     "text": [
      "IMDB reviews: train = 12500 pos / 12500 neg, test = 12500 pos / 12500 neg\n"
     ]
    }
   ],
   "source": [
    "data, labels = read_imdb_data()\n",
    "print(\"IMDB reviews: train = {} pos / {} neg, test = {} pos / {} neg\".format(\n",
    "            len(data['train']['pos']), len(data['train']['neg']),\n",
    "            len(data['test']['pos']), len(data['test']['neg'])))"
   ]
  },
  {
   "cell_type": "code",
   "execution_count": 3,
   "metadata": {},
   "outputs": [],
   "source": [
    "from sklearn.utils import shuffle\n",
    "\n",
    "def prepare_imdb_data(data, labels):\n",
    "    \"\"\"Prepare training and test sets from IMDb movie reviews.\"\"\"\n",
    "    \n",
    "    #Combine positive and negative reviews and labels\n",
    "    data_train = data['train']['pos'] + data['train']['neg']\n",
    "    data_test = data['test']['pos'] + data['test']['neg']\n",
    "    labels_train = labels['train']['pos'] + labels['train']['neg']\n",
    "    labels_test = labels['test']['pos'] + labels['test']['neg']\n",
    "    \n",
    "    #Shuffle reviews and corresponding labels within training and test sets\n",
    "    data_train, labels_train = shuffle(data_train, labels_train)\n",
    "    data_test, labels_test = shuffle(data_test, labels_test)\n",
    "    \n",
    "    # Return a unified training data, test data, training labels, test labets\n",
    "    return data_train, data_test, labels_train, labels_test"
   ]
  },
  {
   "cell_type": "code",
   "execution_count": 4,
   "metadata": {},
   "outputs": [
    {
     "name": "stdout",
     "output_type": "stream",
     "text": [
      "IMDb reviews (combined): train = 25000, test = 25000\n"
     ]
    }
   ],
   "source": [
    "train_X, test_X, train_y, test_y = prepare_imdb_data(data, labels)\n",
    "print(\"IMDb reviews (combined): train = {}, test = {}\".format(len(train_X), len(test_X)))"
   ]
  },
  {
   "cell_type": "code",
   "execution_count": 5,
   "metadata": {},
   "outputs": [
    {
     "data": {
      "text/plain": [
       "'What was this supposed to be? A remake of Fisher King? Why do we care about Sandler\\'s character? What a slow, dreary, boring, who-gives-a-damn-about-these-people movie!!! Just simply painful to sit through, I turned it off before it was over. It\\'s so obvious that Cheadle needs help as much as Sandler; like I said: can you say \"Fisher King\"? And how does this psychotic character function in his daily life? We aren\\'t supposed to think that deeply, I guess. Why does Cheadle continue to give Sandler a chance to turn violent on him? If they were such good friends, how did they grow apart? If Cheadle is so in control, why does he keep seeking the advice of the shrink on the street? We are never told. That\\'s why Fisher King was a better film on so many levels and why this just sucks. Nearly 8 out of 10 average score? I don\\'t agree. At all. Even the top films are lucky to get such a high average rating, and this crap doesn\\'t deserve to be in the same universe with them.'"
      ]
     },
     "execution_count": 5,
     "metadata": {},
     "output_type": "execute_result"
    }
   ],
   "source": [
    "train_X[100]"
   ]
  },
  {
   "cell_type": "markdown",
   "metadata": {},
   "source": [
    "## Step 3: Processing the data\n",
    "\n",
    "Now that we have our training and testing datasets merged and ready to use, we need to start processing the raw data into something that will be useable by our machine learning algorithm. To begin with, we remove any html formatting that may appear in the reviews and perform some standard natural language processing in order to homogenize the data."
   ]
  },
  {
   "cell_type": "code",
   "execution_count": 6,
   "metadata": {},
   "outputs": [
    {
     "name": "stdout",
     "output_type": "stream",
     "text": [
      "[nltk_data] Downloading package stopwords to\n",
      "[nltk_data]     /home/ec2-user/nltk_data...\n",
      "[nltk_data]   Unzipping corpora/stopwords.zip.\n"
     ]
    }
   ],
   "source": [
    "import nltk\n",
    "nltk.download(\"stopwords\")\n",
    "from nltk.corpus import stopwords\n",
    "from nltk.stem.porter import *\n",
    "stemmer = PorterStemmer()"
   ]
  },
  {
   "cell_type": "code",
   "execution_count": 7,
   "metadata": {},
   "outputs": [],
   "source": [
    "import re\n",
    "from bs4 import BeautifulSoup\n",
    "\n",
    "def review_to_words(review):\n",
    "    text = BeautifulSoup(review, \"html.parser\").get_text() # Remove HTML tags\n",
    "    text = re.sub(r\"[^a-zA-Z0-9]\", \" \", text.lower()) # Convert to lower case\n",
    "    words = text.split() # Split string into words\n",
    "    words = [w for w in words if w not in stopwords.words(\"english\")] # Remove stopwords\n",
    "    words = [PorterStemmer().stem(w) for w in words] # stem\n",
    "    \n",
    "    return words"
   ]
  },
  {
   "cell_type": "code",
   "execution_count": 8,
   "metadata": {},
   "outputs": [],
   "source": [
    "import pickle\n",
    "\n",
    "cache_dir = os.path.join(\"../cache\", \"sentiment_analysis\")  # where to store cache files\n",
    "os.makedirs(cache_dir, exist_ok=True)  # ensure cache directory exists\n",
    "\n",
    "def preprocess_data(data_train, data_test, labels_train, labels_test,\n",
    "                    cache_dir=cache_dir, cache_file=\"preprocessed_data.pkl\"):\n",
    "    \"\"\"Convert each review to words; read from cache if available.\"\"\"\n",
    "\n",
    "    # If cache_file is not None, try to read from it first\n",
    "    cache_data = Noneb\n",
    "    if cache_file is not None:\n",
    "        try:\n",
    "            with open(os.path.join(cache_dir, cache_file), \"rb\") as f:\n",
    "                cache_data = pickle.load(f)\n",
    "            print(\"Read preprocessed data from cache file:\", cache_file)\n",
    "        except:\n",
    "            pass  # unable to read from cache, but that's okay\n",
    "    \n",
    "    # If cache is missing, then do the heavy lifting\n",
    "    if cache_data is None:\n",
    "        # Preprocess training and test data to obtain words for each review\n",
    "        #words_train = list(map(review_to_words, data_train))\n",
    "        #words_test = list(map(review_to_words, data_test))\n",
    "        words_train = [review_to_words(review) for review in data_train]\n",
    "        words_test = [review_to_words(review) for review in data_test]\n",
    "        \n",
    "        # Write to cache file for future runs\n",
    "        if cache_file is not None:\n",
    "            cache_data = dict(words_train=words_train, words_test=words_test,\n",
    "                              labels_train=labels_train, labels_test=labels_test)\n",
    "            with open(os.path.join(cache_dir, cache_file), \"wb\") as f:\n",
    "                pickle.dump(cache_data, f)\n",
    "            print(\"Wrote preprocessed data to cache file:\", cache_file)\n",
    "    else:\n",
    "        # Unpack data loaded from cache file\n",
    "        words_train, words_test, labels_train, labels_test = (cache_data['words_train'],\n",
    "                cache_data['words_test'], cache_data['labels_train'], cache_data['labels_test'])\n",
    "    \n",
    "    return words_train, words_test, labels_train, labels_test"
   ]
  },
  {
   "cell_type": "code",
   "execution_count": 61,
   "metadata": {},
   "outputs": [
    {
     "name": "stdout",
     "output_type": "stream",
     "text": [
      "Read preprocessed data from cache file: preprocessed_data.pkl\n"
     ]
    }
   ],
   "source": [
    "# Preprocess data\n",
    "train_X, test_X, train_y, test_y = preprocess_data(train_X, test_X, train_y, test_y)"
   ]
  },
  {
   "cell_type": "markdown",
   "metadata": {},
   "source": [
    "### Extract Bag-of-Words features\n",
    "\n",
    "For the model we will be implementing, rather than using the reviews directly, we are going to transform each review into a Bag-of-Words feature representation. Keep in mind that 'in the wild' we will only have access to the training set so our transformer can only use the training set to construct a representation."
   ]
  },
  {
   "cell_type": "code",
   "execution_count": 10,
   "metadata": {},
   "outputs": [],
   "source": [
    "import numpy as np\n",
    "from sklearn.feature_extraction.text import CountVectorizer\n",
    "from sklearn.externals import joblib\n",
    "# joblib is an enhanced version of pickle that is more efficient for storing NumPy arrays\n",
    "\n",
    "def extract_BoW_features(words_train, words_test, vocabulary_size=5000,\n",
    "                         cache_dir=cache_dir, cache_file=\"bow_features.pkl\"):\n",
    "    \"\"\"Extract Bag-of-Words for a given set of documents, already preprocessed into words.\"\"\"\n",
    "    \n",
    "    # If cache_file is not None, try to read from it first\n",
    "    cache_data = None\n",
    "    if cache_file is not None:\n",
    "        try:\n",
    "            with open(os.path.join(cache_dir, cache_file), \"rb\") as f:\n",
    "                cache_data = joblib.load(f)\n",
    "            print(\"Read features from cache file:\", cache_file)\n",
    "        except:\n",
    "            pass  # unable to read from cache, but that's okay\n",
    "    \n",
    "    # If cache is missing, then do the heavy lifting\n",
    "    if cache_data is None:\n",
    "        # Fit a vectorizer to training documents and use it to transform them\n",
    "        # NOTE: Training documents have already been preprocessed and tokenized into words;\n",
    "        #       pass in dummy functions to skip those steps, e.g. preprocessor=lambda x: x\n",
    "        vectorizer = CountVectorizer(max_features=vocabulary_size,\n",
    "                preprocessor=lambda x: x, tokenizer=lambda x: x)  # already preprocessed\n",
    "        features_train = vectorizer.fit_transform(words_train).toarray()\n",
    "\n",
    "        # Apply the same vectorizer to transform the test documents (ignore unknown words)\n",
    "        features_test = vectorizer.transform(words_test).toarray()\n",
    "        \n",
    "        # NOTE: Remember to convert the features using .toarray() for a compact representation\n",
    "        \n",
    "        # Write to cache file for future runs (store vocabulary as well)\n",
    "        if cache_file is not None:\n",
    "            vocabulary = vectorizer.vocabulary_\n",
    "            cache_data = dict(features_train=features_train, features_test=features_test,\n",
    "                             vocabulary=vocabulary)\n",
    "            with open(os.path.join(cache_dir, cache_file), \"wb\") as f:\n",
    "                joblib.dump(cache_data, f)\n",
    "            print(\"Wrote features to cache file:\", cache_file)\n",
    "    else:\n",
    "        # Unpack data loaded from cache file\n",
    "        features_train, features_test, vocabulary = (cache_data['features_train'],\n",
    "                cache_data['features_test'], cache_data['vocabulary'])\n",
    "    \n",
    "    # Return both the extracted features as well as the vocabulary\n",
    "    return features_train, features_test, vocabulary"
   ]
  },
  {
   "cell_type": "code",
   "execution_count": 62,
   "metadata": {},
   "outputs": [
    {
     "name": "stdout",
     "output_type": "stream",
     "text": [
      "Read features from cache file: bow_features.pkl\n"
     ]
    }
   ],
   "source": [
    "# Extract Bag of Words features for both training and test datasets\n",
    "train_X, test_X, vocabulary = extract_BoW_features(train_X, test_X)"
   ]
  },
  {
   "cell_type": "markdown",
   "metadata": {},
   "source": [
    "## Step 4: Classification using XGBoost\n",
    "\n",
    "Now that we have created the feature representation of our training (and testing) data, it is time to start setting up and using the XGBoost classifier provided by SageMaker.\n",
    "\n",
    "### Writing the dataset\n",
    "\n",
    "The XGBoost classifier that we will be using requires the dataset to be written to a file and stored using Amazon S3. To do this, we will start by splitting the training dataset into two parts, the data we will train the model with and a validation set. Then, we will write those datasets to a file and upload the files to S3. In addition, we will write the test set input to a file and upload the file to S3. This is so that we can use SageMakers Batch Transform functionality to test our model once we've fit it."
   ]
  },
  {
   "cell_type": "code",
   "execution_count": 63,
   "metadata": {},
   "outputs": [],
   "source": [
    "import pandas as pd\n",
    "\n",
    "val_X = pd.DataFrame(train_X[:10000])\n",
    "train_X = pd.DataFrame(train_X[10000:])\n",
    "\n",
    "val_y = pd.DataFrame(train_y[:10000])\n",
    "train_y = pd.DataFrame(train_y[10000:])\n",
    "\n",
    "test_y = pd.DataFrame(test_y)\n",
    "test_X = pd.DataFrame(test_X)"
   ]
  },
  {
   "cell_type": "markdown",
   "metadata": {},
   "source": [
    "The documentation for the XGBoost algorithm in SageMaker requires that the saved datasets should contain no headers or index and that for the training and validation data, the label should occur first for each sample.\n",
    "\n",
    "For more information about this and other algorithms, the SageMaker developer documentation can be found on __[Amazon's website.](https://docs.aws.amazon.com/sagemaker/latest/dg/)__"
   ]
  },
  {
   "cell_type": "code",
   "execution_count": 64,
   "metadata": {},
   "outputs": [],
   "source": [
    "# First we make sure that the local directory in which we'd like to store the training and validation csv files exists.\n",
    "data_dir = '../data/xgboost'\n",
    "if not os.path.exists(data_dir):\n",
    "    os.makedirs(data_dir)"
   ]
  },
  {
   "cell_type": "code",
   "execution_count": 65,
   "metadata": {},
   "outputs": [],
   "source": [
    "# First, save the test data to test.csv in the data_dir directory. Note that we do not save the associated ground truth\n",
    "# labels, instead we will use them later to compare with our model output.\n",
    "\n",
    "test_X.to_csv(os.path.join(data_dir, 'test.csv'), header=False, index=False)"
   ]
  },
  {
   "cell_type": "code",
   "execution_count": 66,
   "metadata": {
    "collapsed": true
   },
   "outputs": [
    {
     "ename": "MemoryError",
     "evalue": "",
     "output_type": "error",
     "traceback": [
      "\u001b[0;31m---------------------------------------------------------------------------\u001b[0m",
      "\u001b[0;31mMemoryError\u001b[0m                               Traceback (most recent call last)",
      "\u001b[0;32m<ipython-input-66-2aabcf67df64>\u001b[0m in \u001b[0;36m<module>\u001b[0;34m()\u001b[0m\n\u001b[0;32m----> 1\u001b[0;31m \u001b[0mpd\u001b[0m\u001b[0;34m.\u001b[0m\u001b[0mconcat\u001b[0m\u001b[0;34m(\u001b[0m\u001b[0;34m[\u001b[0m\u001b[0mval_y\u001b[0m\u001b[0;34m,\u001b[0m \u001b[0mval_X\u001b[0m\u001b[0;34m]\u001b[0m\u001b[0;34m,\u001b[0m \u001b[0maxis\u001b[0m\u001b[0;34m=\u001b[0m\u001b[0;36m1\u001b[0m\u001b[0;34m)\u001b[0m\u001b[0;34m.\u001b[0m\u001b[0mto_csv\u001b[0m\u001b[0;34m(\u001b[0m\u001b[0mos\u001b[0m\u001b[0;34m.\u001b[0m\u001b[0mpath\u001b[0m\u001b[0;34m.\u001b[0m\u001b[0mjoin\u001b[0m\u001b[0;34m(\u001b[0m\u001b[0mdata_dir\u001b[0m\u001b[0;34m,\u001b[0m \u001b[0;34m'validation.csv'\u001b[0m\u001b[0;34m)\u001b[0m\u001b[0;34m,\u001b[0m \u001b[0mheader\u001b[0m\u001b[0;34m=\u001b[0m\u001b[0;32mFalse\u001b[0m\u001b[0;34m,\u001b[0m \u001b[0mindex\u001b[0m\u001b[0;34m=\u001b[0m\u001b[0;32mFalse\u001b[0m\u001b[0;34m)\u001b[0m\u001b[0;34m\u001b[0m\u001b[0m\n\u001b[0m\u001b[1;32m      2\u001b[0m \u001b[0mpd\u001b[0m\u001b[0;34m.\u001b[0m\u001b[0mconcat\u001b[0m\u001b[0;34m(\u001b[0m\u001b[0;34m[\u001b[0m\u001b[0mtrain_y\u001b[0m\u001b[0;34m,\u001b[0m \u001b[0mtrain_X\u001b[0m\u001b[0;34m]\u001b[0m\u001b[0;34m,\u001b[0m \u001b[0maxis\u001b[0m\u001b[0;34m=\u001b[0m\u001b[0;36m1\u001b[0m\u001b[0;34m)\u001b[0m\u001b[0;34m.\u001b[0m\u001b[0mto_csv\u001b[0m\u001b[0;34m(\u001b[0m\u001b[0mos\u001b[0m\u001b[0;34m.\u001b[0m\u001b[0mpath\u001b[0m\u001b[0;34m.\u001b[0m\u001b[0mjoin\u001b[0m\u001b[0;34m(\u001b[0m\u001b[0mdata_dir\u001b[0m\u001b[0;34m,\u001b[0m \u001b[0;34m'train.csv'\u001b[0m\u001b[0;34m)\u001b[0m\u001b[0;34m,\u001b[0m \u001b[0mheader\u001b[0m\u001b[0;34m=\u001b[0m\u001b[0;32mFalse\u001b[0m\u001b[0;34m,\u001b[0m \u001b[0mindex\u001b[0m\u001b[0;34m=\u001b[0m\u001b[0;32mFalse\u001b[0m\u001b[0;34m)\u001b[0m\u001b[0;34m\u001b[0m\u001b[0m\n",
      "\u001b[0;32m~/anaconda3/envs/python3/lib/python3.6/site-packages/pandas/core/reshape/concat.py\u001b[0m in \u001b[0;36mconcat\u001b[0;34m(objs, axis, join, join_axes, ignore_index, keys, levels, names, verify_integrity, sort, copy)\u001b[0m\n\u001b[1;32m    227\u001b[0m                        \u001b[0mverify_integrity\u001b[0m\u001b[0;34m=\u001b[0m\u001b[0mverify_integrity\u001b[0m\u001b[0;34m,\u001b[0m\u001b[0;34m\u001b[0m\u001b[0m\n\u001b[1;32m    228\u001b[0m                        copy=copy, sort=sort)\n\u001b[0;32m--> 229\u001b[0;31m     \u001b[0;32mreturn\u001b[0m \u001b[0mop\u001b[0m\u001b[0;34m.\u001b[0m\u001b[0mget_result\u001b[0m\u001b[0;34m(\u001b[0m\u001b[0;34m)\u001b[0m\u001b[0;34m\u001b[0m\u001b[0m\n\u001b[0m\u001b[1;32m    230\u001b[0m \u001b[0;34m\u001b[0m\u001b[0m\n\u001b[1;32m    231\u001b[0m \u001b[0;34m\u001b[0m\u001b[0m\n",
      "\u001b[0;32m~/anaconda3/envs/python3/lib/python3.6/site-packages/pandas/core/reshape/concat.py\u001b[0m in \u001b[0;36mget_result\u001b[0;34m(self)\u001b[0m\n\u001b[1;32m    424\u001b[0m             new_data = concatenate_block_managers(\n\u001b[1;32m    425\u001b[0m                 \u001b[0mmgrs_indexers\u001b[0m\u001b[0;34m,\u001b[0m \u001b[0mself\u001b[0m\u001b[0;34m.\u001b[0m\u001b[0mnew_axes\u001b[0m\u001b[0;34m,\u001b[0m \u001b[0mconcat_axis\u001b[0m\u001b[0;34m=\u001b[0m\u001b[0mself\u001b[0m\u001b[0;34m.\u001b[0m\u001b[0maxis\u001b[0m\u001b[0;34m,\u001b[0m\u001b[0;34m\u001b[0m\u001b[0m\n\u001b[0;32m--> 426\u001b[0;31m                 copy=self.copy)\n\u001b[0m\u001b[1;32m    427\u001b[0m             \u001b[0;32mif\u001b[0m \u001b[0;32mnot\u001b[0m \u001b[0mself\u001b[0m\u001b[0;34m.\u001b[0m\u001b[0mcopy\u001b[0m\u001b[0;34m:\u001b[0m\u001b[0;34m\u001b[0m\u001b[0m\n\u001b[1;32m    428\u001b[0m                 \u001b[0mnew_data\u001b[0m\u001b[0;34m.\u001b[0m\u001b[0m_consolidate_inplace\u001b[0m\u001b[0;34m(\u001b[0m\u001b[0;34m)\u001b[0m\u001b[0;34m\u001b[0m\u001b[0m\n",
      "\u001b[0;32m~/anaconda3/envs/python3/lib/python3.6/site-packages/pandas/core/internals/managers.py\u001b[0m in \u001b[0;36mconcatenate_block_managers\u001b[0;34m(mgrs_indexers, axes, concat_axis, copy)\u001b[0m\n\u001b[1;32m   2050\u001b[0m             \u001b[0mvalues\u001b[0m \u001b[0;34m=\u001b[0m \u001b[0mb\u001b[0m\u001b[0;34m.\u001b[0m\u001b[0mvalues\u001b[0m\u001b[0;34m\u001b[0m\u001b[0m\n\u001b[1;32m   2051\u001b[0m             \u001b[0;32mif\u001b[0m \u001b[0mcopy\u001b[0m\u001b[0;34m:\u001b[0m\u001b[0;34m\u001b[0m\u001b[0m\n\u001b[0;32m-> 2052\u001b[0;31m                 \u001b[0mvalues\u001b[0m \u001b[0;34m=\u001b[0m \u001b[0mvalues\u001b[0m\u001b[0;34m.\u001b[0m\u001b[0mcopy\u001b[0m\u001b[0;34m(\u001b[0m\u001b[0;34m)\u001b[0m\u001b[0;34m\u001b[0m\u001b[0m\n\u001b[0m\u001b[1;32m   2053\u001b[0m             \u001b[0;32melif\u001b[0m \u001b[0;32mnot\u001b[0m \u001b[0mcopy\u001b[0m\u001b[0;34m:\u001b[0m\u001b[0;34m\u001b[0m\u001b[0m\n\u001b[1;32m   2054\u001b[0m                 \u001b[0mvalues\u001b[0m \u001b[0;34m=\u001b[0m \u001b[0mvalues\u001b[0m\u001b[0;34m.\u001b[0m\u001b[0mview\u001b[0m\u001b[0;34m(\u001b[0m\u001b[0;34m)\u001b[0m\u001b[0;34m\u001b[0m\u001b[0m\n",
      "\u001b[0;31mMemoryError\u001b[0m: "
     ]
    }
   ],
   "source": [
    "pd.concat([val_y, val_X], axis=1).to_csv(os.path.join(data_dir, 'validation.csv'), header=False, index=False)\n",
    "pd.concat([train_y, train_X], axis=1).to_csv(os.path.join(data_dir, 'train.csv'), header=False, index=False)"
   ]
  },
  {
   "cell_type": "code",
   "execution_count": 67,
   "metadata": {},
   "outputs": [],
   "source": [
    "# To save a bit of memory we can set text_X, train_X, val_X, train_y and val_y to None.\n",
    "\n",
    "train_X = val_X = train_y = val_y = None"
   ]
  },
  {
   "cell_type": "markdown",
   "metadata": {},
   "source": [
    "### Uploading Training / Validation files to S3\n",
    "\n",
    "Amazon's S3 service allows us to store files that can be access by both the built-in training models such as the XGBoost model we will be using as well as custom models such as the one we will see a little later.\n",
    "\n",
    "For this, and most other tasks we will be doing using SageMaker, there are two methods we could use. The first is to use the low level functionality of SageMaker which requires knowing each of the objects involved in the SageMaker environment. The second is to use the high level functionality in which certain choices have been made on the user's behalf. The low level approach benefits from allowing the user a great deal of flexibility while the high level approach makes development much quicker. For our purposes we will opt to use the high level approach although using the low-level approach is certainly an option.\n",
    "\n",
    "Recall the method `upload_data()` which is a member of object representing our current SageMaker session. What this method does is upload the data to the default bucket (which is created if it does not exist) into the path described by the key_prefix variable. To see this for yourself, once you have uploaded the data files, go to the S3 console and look to see where the files have been uploaded.\n",
    "\n",
    "For additional resources, see the __[SageMaker API documentation](http://sagemaker.readthedocs.io/en/latest/)__ and in addition the __[SageMaker Developer Guide.](https://docs.aws.amazon.com/sagemaker/latest/dg/)__"
   ]
  },
  {
   "cell_type": "code",
   "execution_count": 70,
   "metadata": {},
   "outputs": [],
   "source": [
    "import sagemaker\n",
    "\n",
    "session = sagemaker.Session() # Store the current SageMaker session\n",
    "\n",
    "# S3 prefix (which folder will we use)\n",
    "prefix = 'sentiment-xgboost'\n",
    "\n",
    "test_location = session.upload_data(os.path.join(data_dir, 'test.csv'), key_prefix=prefix)"
   ]
  },
  {
   "cell_type": "code",
   "execution_count": 16,
   "metadata": {},
   "outputs": [],
   "source": [
    "val_location = session.upload_data(os.path.join(data_dir, 'validation.csv'), key_prefix=prefix)\n",
    "train_location = session.upload_data(os.path.join(data_dir, 'train.csv'), key_prefix=prefix)"
   ]
  },
  {
   "cell_type": "markdown",
   "metadata": {},
   "source": [
    "### (TODO) Creating a hypertuned XGBoost model\n",
    "\n",
    "Now that the data has been uploaded it is time to create the XGBoost model. As in the Boston Housing notebook, the first step is to create an estimator object which will be used as the *base* of your hyperparameter tuning job."
   ]
  },
  {
   "cell_type": "code",
   "execution_count": 17,
   "metadata": {},
   "outputs": [],
   "source": [
    "from sagemaker import get_execution_role\n",
    "\n",
    "# Our current execution role is require when creating the model as the training\n",
    "# and inference code will need to access the model artifacts.\n",
    "role = get_execution_role()"
   ]
  },
  {
   "cell_type": "code",
   "execution_count": 20,
   "metadata": {},
   "outputs": [],
   "source": [
    "# We need to retrieve the location of the container which is provided by Amazon for using XGBoost.\n",
    "# As a matter of convenience, the training and inference code both use the same container.\n",
    "from sagemaker.amazon.amazon_estimator import get_image_uri\n",
    "\n",
    "container = get_image_uri(session.boto_region_name, 'xgboost', \"0.90-1\")"
   ]
  },
  {
   "cell_type": "code",
   "execution_count": 26,
   "metadata": {},
   "outputs": [],
   "source": [
    "# TODO: Create a SageMaker estimator using the container location determined in the previous cell.\n",
    "#       It is recommended that you use a single training instance of type ml.m4.xlarge. It is also\n",
    "#       recommended that you use 's3://{}/{}/output'.format(session.default_bucket(), prefix) as the\n",
    "#       output path.\n",
    "\n",
    "xgb = sagemaker.estimator.Estimator(container,\n",
    "                                    role,\n",
    "                                    train_instance_count=1,\n",
    "                                    train_instance_type=\"ml.m4.xlarge\",\n",
    "                                    output_path='s3://{}/{}/output'.format(session.default_bucket(), prefix),\n",
    "                                    sagemaker_session=session)\n",
    "\n",
    "# TODO: Set the XGBoost hyperparameters in the xgb object. Don't forget that in this case we have a binary\n",
    "#       label so we should be using the 'binary:logistic' objective.\n",
    "\n",
    "xgb.set_hyperparameters(max_depth=5,\n",
    "                        eta=0.2,\n",
    "                        gamma=4,\n",
    "                        min_child_weight=6,\n",
    "                        subsample=0.8,\n",
    "                        silent=0,\n",
    "                        objective='binary:logistic',\n",
    "                        early_stopping_rounds=10,\n",
    "                        num_round=500)\n"
   ]
  },
  {
   "cell_type": "markdown",
   "metadata": {},
   "source": [
    "### (TODO) Create the hyperparameter tuner\n",
    "\n",
    "Now that the base estimator has been set up we need to construct a hyperparameter tuner object which we will use to request SageMaker construct a hyperparameter tuning job.\n",
    "\n",
    "**Note:** Training a single sentiment analysis XGBoost model takes longer than training a Boston Housing XGBoost model so if you don't want the hyperparameter tuning job to take too long, make sure to not set the total number of models (jobs) too high."
   ]
  },
  {
   "cell_type": "code",
   "execution_count": 40,
   "metadata": {},
   "outputs": [],
   "source": [
    "# First, make sure to import the relevant objects used to construct the tuner\n",
    "from sagemaker.tuner import IntegerParameter, ContinuousParameter, HyperparameterTuner\n",
    "\n",
    "# TODO: Create the hyperparameter tuner object\n",
    "\n",
    "xgb_hyperparameter_tuner = HyperparameterTuner(estimator = xgb, # The estimator object to use as the basis for the training jobs.\n",
    "                                               objective_metric_name = 'validation:rmse', # The metric used to compare trained models.\n",
    "                                               objective_type = 'Minimize', # Whether we wish to minimize or maximize the metric.\n",
    "                                               max_jobs = 6, # The total number of models to train\n",
    "                                               max_parallel_jobs = 3, # The number of models to train in parallel\n",
    "                                               hyperparameter_ranges = {\n",
    "                                                    'max_depth': IntegerParameter(3, 12),\n",
    "                                                    'eta'      : ContinuousParameter(0.05, 0.5),\n",
    "                                                    'min_child_weight': IntegerParameter(2, 8),\n",
    "                                                    'subsample': ContinuousParameter(0.5, 0.9),\n",
    "                                                    'gamma': ContinuousParameter(0, 10),\n",
    "                                               })"
   ]
  },
  {
   "cell_type": "markdown",
   "metadata": {},
   "source": [
    "### Fit the hyperparameter tuner\n",
    "\n",
    "Now that the hyperparameter tuner object has been constructed, it is time to fit the various models and find the best performing model."
   ]
  },
  {
   "cell_type": "code",
   "execution_count": 42,
   "metadata": {},
   "outputs": [],
   "source": [
    "s3_input_train = sagemaker.s3_input(s3_data=train_location, content_type='csv')\n",
    "s3_input_validation = sagemaker.s3_input(s3_data=val_location, content_type='csv')"
   ]
  },
  {
   "cell_type": "code",
   "execution_count": 43,
   "metadata": {},
   "outputs": [],
   "source": [
    "xgb_hyperparameter_tuner.fit({'train': s3_input_train, 'validation': s3_input_validation})"
   ]
  },
  {
   "cell_type": "markdown",
   "metadata": {},
   "source": [
    "Remember that the tuning job is constructed and run in the background so if we want to see the progress of our training job we need to call the `wait()` method."
   ]
  },
  {
   "cell_type": "code",
   "execution_count": 44,
   "metadata": {},
   "outputs": [
    {
     "name": "stdout",
     "output_type": "stream",
     "text": [
      "..............................................................................................................................................................................................................................................................................................................................................................................................................................................................................................................................................................................................................................................................................................................................................................................................................................................................................................................................................................................................................................................................................................................................................................................................................................................................................!\n"
     ]
    }
   ],
   "source": [
    "xgb_hyperparameter_tuner.wait()"
   ]
  },
  {
   "cell_type": "markdown",
   "metadata": {},
   "source": [
    "### (TODO) Testing the model\n",
    "\n",
    "Now that we've run our hyperparameter tuning job, it's time to see how well the best performing model actually performs. To do this we will use SageMaker's Batch Transform functionality. Batch Transform is a convenient way to perform inference on a large dataset in a way that is not realtime. That is, we don't necessarily need to use our model's results immediately and instead we can peform inference on a large number of samples. An example of this in industry might be peforming an end of month report. This method of inference can also be useful to us as it means to can perform inference on our entire test set. \n",
    "\n",
    "Remember that in order to create a transformer object to perform the batch transform job, we need a trained estimator object. We can do that using the `attach()` method, creating an estimator object which is attached to the best trained job."
   ]
  },
  {
   "cell_type": "code",
   "execution_count": 46,
   "metadata": {},
   "outputs": [
    {
     "name": "stdout",
     "output_type": "stream",
     "text": [
      "2020-06-25 14:02:36 Starting - Preparing the instances for training\n",
      "2020-06-25 14:02:36 Downloading - Downloading input data\n",
      "2020-06-25 14:02:36 Training - Training image download completed. Training in progress.\n",
      "2020-06-25 14:02:36 Uploading - Uploading generated training model\n",
      "2020-06-25 14:02:36 Completed - Training job completed\u001b[34mINFO:sagemaker-containers:Imported framework sagemaker_xgboost_container.training\u001b[0m\n",
      "\u001b[34mINFO:sagemaker-containers:Failed to parse hyperparameter _tuning_objective_metric value validation:rmse to Json.\u001b[0m\n",
      "\u001b[34mReturning the value itself\u001b[0m\n",
      "\u001b[34mINFO:sagemaker-containers:Failed to parse hyperparameter objective value binary:logistic to Json.\u001b[0m\n",
      "\u001b[34mReturning the value itself\u001b[0m\n",
      "\u001b[34mINFO:sagemaker-containers:No GPUs detected (normal if no gpus installed)\u001b[0m\n",
      "\u001b[34mINFO:sagemaker_xgboost_container.training:Running XGBoost Sagemaker in algorithm mode\u001b[0m\n",
      "\u001b[34mINFO:root:Determined delimiter of CSV input is ','\u001b[0m\n",
      "\u001b[34mINFO:root:Determined delimiter of CSV input is ','\u001b[0m\n",
      "\u001b[34mINFO:root:Determined delimiter of CSV input is ','\u001b[0m\n",
      "\u001b[34m[13:45:50] 15000x5000 matrix with 75000000 entries loaded from /opt/ml/input/data/train?format=csv&label_column=0&delimiter=,\u001b[0m\n",
      "\u001b[34mINFO:root:Determined delimiter of CSV input is ','\u001b[0m\n",
      "\u001b[34m[13:45:51] 10000x5000 matrix with 50000000 entries loaded from /opt/ml/input/data/validation?format=csv&label_column=0&delimiter=,\u001b[0m\n",
      "\u001b[34mINFO:root:Single node training.\u001b[0m\n",
      "\u001b[34mINFO:root:Setting up HPO optimized metric to be : rmse\u001b[0m\n",
      "\u001b[34mINFO:root:Train matrix has 15000 rows\u001b[0m\n",
      "\u001b[34mINFO:root:Validation matrix has 10000 rows\u001b[0m\n",
      "\u001b[34m[0]#011train-rmse:0.485129#011validation-rmse:0.487355\u001b[0m\n",
      "\u001b[34m[1]#011train-rmse:0.471757#011validation-rmse:0.476157\u001b[0m\n",
      "\u001b[34m[2]#011train-rmse:0.459762#011validation-rmse:0.466378\u001b[0m\n",
      "\u001b[34m[3]#011train-rmse:0.449281#011validation-rmse:0.457808\u001b[0m\n",
      "\u001b[34m[4]#011train-rmse:0.440271#011validation-rmse:0.450462\u001b[0m\n",
      "\u001b[34m[5]#011train-rmse:0.432246#011validation-rmse:0.4443\u001b[0m\n",
      "\u001b[34m[6]#011train-rmse:0.424795#011validation-rmse:0.438568\u001b[0m\n",
      "\u001b[34m[7]#011train-rmse:0.417674#011validation-rmse:0.433201\u001b[0m\n",
      "\u001b[34m[8]#011train-rmse:0.411742#011validation-rmse:0.4285\u001b[0m\n",
      "\u001b[34m[9]#011train-rmse:0.405979#011validation-rmse:0.424145\u001b[0m\n",
      "\u001b[34m[10]#011train-rmse:0.401016#011validation-rmse:0.42004\u001b[0m\n",
      "\u001b[34m[11]#011train-rmse:0.396348#011validation-rmse:0.416787\u001b[0m\n",
      "\u001b[34m[12]#011train-rmse:0.3917#011validation-rmse:0.413551\u001b[0m\n",
      "\u001b[34m[13]#011train-rmse:0.387341#011validation-rmse:0.410313\u001b[0m\n",
      "\u001b[34m[14]#011train-rmse:0.383168#011validation-rmse:0.407239\u001b[0m\n",
      "\u001b[34m[15]#011train-rmse:0.379289#011validation-rmse:0.404692\u001b[0m\n",
      "\u001b[34m[16]#011train-rmse:0.375563#011validation-rmse:0.40181\u001b[0m\n",
      "\u001b[34m[17]#011train-rmse:0.372071#011validation-rmse:0.399167\u001b[0m\n",
      "\u001b[34m[18]#011train-rmse:0.368566#011validation-rmse:0.396949\u001b[0m\n",
      "\u001b[34m[19]#011train-rmse:0.365303#011validation-rmse:0.394243\u001b[0m\n",
      "\u001b[34m[20]#011train-rmse:0.362397#011validation-rmse:0.392022\u001b[0m\n",
      "\u001b[34m[21]#011train-rmse:0.35921#011validation-rmse:0.389757\u001b[0m\n",
      "\u001b[34m[22]#011train-rmse:0.355819#011validation-rmse:0.387816\u001b[0m\n",
      "\u001b[34m[23]#011train-rmse:0.353091#011validation-rmse:0.385638\u001b[0m\n",
      "\u001b[34m[24]#011train-rmse:0.350466#011validation-rmse:0.383769\u001b[0m\n",
      "\u001b[34m[25]#011train-rmse:0.347845#011validation-rmse:0.382057\u001b[0m\n",
      "\u001b[34m[26]#011train-rmse:0.345102#011validation-rmse:0.380263\u001b[0m\n",
      "\u001b[34m[27]#011train-rmse:0.342622#011validation-rmse:0.378407\u001b[0m\n",
      "\u001b[34m[28]#011train-rmse:0.340143#011validation-rmse:0.376945\u001b[0m\n",
      "\u001b[34m[29]#011train-rmse:0.337296#011validation-rmse:0.375204\u001b[0m\n",
      "\u001b[34m[30]#011train-rmse:0.335058#011validation-rmse:0.373731\u001b[0m\n",
      "\u001b[34m[31]#011train-rmse:0.333049#011validation-rmse:0.372333\u001b[0m\n",
      "\u001b[34m[32]#011train-rmse:0.330873#011validation-rmse:0.370888\u001b[0m\n",
      "\u001b[34m[33]#011train-rmse:0.328968#011validation-rmse:0.369432\u001b[0m\n",
      "\u001b[34m[34]#011train-rmse:0.326407#011validation-rmse:0.368023\u001b[0m\n",
      "\u001b[34m[35]#011train-rmse:0.32435#011validation-rmse:0.367035\u001b[0m\n",
      "\u001b[34m[36]#011train-rmse:0.322352#011validation-rmse:0.366039\u001b[0m\n",
      "\u001b[34m[37]#011train-rmse:0.320702#011validation-rmse:0.365051\u001b[0m\n",
      "\u001b[34m[38]#011train-rmse:0.318892#011validation-rmse:0.364043\u001b[0m\n",
      "\u001b[34m[39]#011train-rmse:0.316731#011validation-rmse:0.363236\u001b[0m\n",
      "\u001b[34m[40]#011train-rmse:0.314793#011validation-rmse:0.362387\u001b[0m\n",
      "\u001b[34m[41]#011train-rmse:0.313113#011validation-rmse:0.361366\u001b[0m\n",
      "\u001b[34m[42]#011train-rmse:0.311118#011validation-rmse:0.360227\u001b[0m\n",
      "\u001b[34m[43]#011train-rmse:0.309709#011validation-rmse:0.359281\u001b[0m\n",
      "\u001b[34m[44]#011train-rmse:0.30799#011validation-rmse:0.35836\u001b[0m\n",
      "\u001b[34m[45]#011train-rmse:0.306757#011validation-rmse:0.357508\u001b[0m\n",
      "\u001b[34m[46]#011train-rmse:0.304958#011validation-rmse:0.356674\u001b[0m\n",
      "\u001b[34m[47]#011train-rmse:0.303644#011validation-rmse:0.355743\u001b[0m\n",
      "\u001b[34m[48]#011train-rmse:0.302152#011validation-rmse:0.354664\u001b[0m\n",
      "\u001b[34m[49]#011train-rmse:0.300972#011validation-rmse:0.353861\u001b[0m\n",
      "\u001b[34m[50]#011train-rmse:0.299543#011validation-rmse:0.353062\u001b[0m\n",
      "\u001b[34m[51]#011train-rmse:0.298054#011validation-rmse:0.352343\u001b[0m\n",
      "\u001b[34m[52]#011train-rmse:0.296709#011validation-rmse:0.351664\u001b[0m\n",
      "\u001b[34m[53]#011train-rmse:0.295537#011validation-rmse:0.350997\u001b[0m\n",
      "\u001b[34m[54]#011train-rmse:0.29432#011validation-rmse:0.350069\u001b[0m\n",
      "\u001b[34m[55]#011train-rmse:0.293106#011validation-rmse:0.349407\u001b[0m\n",
      "\u001b[34m[56]#011train-rmse:0.292061#011validation-rmse:0.348839\u001b[0m\n",
      "\u001b[34m[57]#011train-rmse:0.290992#011validation-rmse:0.348063\u001b[0m\n",
      "\u001b[34m[58]#011train-rmse:0.289856#011validation-rmse:0.347489\u001b[0m\n",
      "\u001b[34m[59]#011train-rmse:0.288728#011validation-rmse:0.346796\u001b[0m\n",
      "\u001b[34m[60]#011train-rmse:0.28772#011validation-rmse:0.346112\u001b[0m\n",
      "\u001b[34m[61]#011train-rmse:0.286057#011validation-rmse:0.345317\u001b[0m\n",
      "\u001b[34m[62]#011train-rmse:0.284928#011validation-rmse:0.344644\u001b[0m\n",
      "\u001b[34m[63]#011train-rmse:0.283559#011validation-rmse:0.344037\u001b[0m\n",
      "\u001b[34m[64]#011train-rmse:0.282547#011validation-rmse:0.343588\u001b[0m\n",
      "\u001b[34m[65]#011train-rmse:0.281474#011validation-rmse:0.34301\u001b[0m\n",
      "\u001b[34m[66]#011train-rmse:0.280384#011validation-rmse:0.342329\u001b[0m\n",
      "\u001b[34m[67]#011train-rmse:0.279329#011validation-rmse:0.341849\u001b[0m\n",
      "\u001b[34m[68]#011train-rmse:0.278288#011validation-rmse:0.341407\u001b[0m\n",
      "\u001b[34m[69]#011train-rmse:0.276958#011validation-rmse:0.341038\u001b[0m\n",
      "\u001b[34m[70]#011train-rmse:0.27593#011validation-rmse:0.340445\u001b[0m\n",
      "\u001b[34m[71]#011train-rmse:0.275041#011validation-rmse:0.339869\u001b[0m\n",
      "\u001b[34m[72]#011train-rmse:0.274216#011validation-rmse:0.339422\u001b[0m\n",
      "\u001b[34m[73]#011train-rmse:0.273478#011validation-rmse:0.338897\u001b[0m\n",
      "\u001b[34m[74]#011train-rmse:0.27246#011validation-rmse:0.338289\u001b[0m\n",
      "\u001b[34m[75]#011train-rmse:0.271397#011validation-rmse:0.338062\u001b[0m\n",
      "\u001b[34m[76]#011train-rmse:0.270242#011validation-rmse:0.337594\u001b[0m\n",
      "\u001b[34m[77]#011train-rmse:0.269152#011validation-rmse:0.336989\u001b[0m\n",
      "\u001b[34m[78]#011train-rmse:0.268281#011validation-rmse:0.336445\u001b[0m\n",
      "\u001b[34m[79]#011train-rmse:0.267423#011validation-rmse:0.335977\u001b[0m\n",
      "\u001b[34m[80]#011train-rmse:0.266366#011validation-rmse:0.335552\u001b[0m\n",
      "\u001b[34m[81]#011train-rmse:0.265666#011validation-rmse:0.335079\u001b[0m\n",
      "\u001b[34m[82]#011train-rmse:0.264855#011validation-rmse:0.334698\u001b[0m\n",
      "\u001b[34m[83]#011train-rmse:0.264226#011validation-rmse:0.334322\u001b[0m\n",
      "\u001b[34m[84]#011train-rmse:0.263257#011validation-rmse:0.333747\u001b[0m\n",
      "\u001b[34m[85]#011train-rmse:0.262182#011validation-rmse:0.333536\u001b[0m\n",
      "\u001b[34m[86]#011train-rmse:0.261637#011validation-rmse:0.333226\u001b[0m\n",
      "\u001b[34m[87]#011train-rmse:0.26027#011validation-rmse:0.332671\u001b[0m\n",
      "\u001b[34m[88]#011train-rmse:0.259619#011validation-rmse:0.332257\u001b[0m\n",
      "\u001b[34m[89]#011train-rmse:0.258744#011validation-rmse:0.331774\u001b[0m\n",
      "\u001b[34m[90]#011train-rmse:0.258127#011validation-rmse:0.33137\u001b[0m\n",
      "\u001b[34m[91]#011train-rmse:0.257451#011validation-rmse:0.330949\u001b[0m\n",
      "\u001b[34m[92]#011train-rmse:0.25683#011validation-rmse:0.330649\u001b[0m\n",
      "\u001b[34m[93]#011train-rmse:0.256112#011validation-rmse:0.330187\u001b[0m\n",
      "\u001b[34m[94]#011train-rmse:0.255201#011validation-rmse:0.330025\u001b[0m\n",
      "\u001b[34m[95]#011train-rmse:0.254464#011validation-rmse:0.329762\u001b[0m\n",
      "\u001b[34m[96]#011train-rmse:0.253785#011validation-rmse:0.329475\u001b[0m\n",
      "\u001b[34m[97]#011train-rmse:0.253183#011validation-rmse:0.329136\u001b[0m\n",
      "\u001b[34m[98]#011train-rmse:0.25245#011validation-rmse:0.32881\u001b[0m\n",
      "\u001b[34m[99]#011train-rmse:0.251915#011validation-rmse:0.328418\u001b[0m\n",
      "\u001b[34m[100]#011train-rmse:0.250861#011validation-rmse:0.327979\u001b[0m\n",
      "\u001b[34m[101]#011train-rmse:0.249761#011validation-rmse:0.327602\u001b[0m\n",
      "\u001b[34m[102]#011train-rmse:0.249309#011validation-rmse:0.327243\u001b[0m\n",
      "\u001b[34m[103]#011train-rmse:0.248443#011validation-rmse:0.32703\u001b[0m\n",
      "\u001b[34m[104]#011train-rmse:0.247688#011validation-rmse:0.326642\u001b[0m\n",
      "\u001b[34m[105]#011train-rmse:0.247155#011validation-rmse:0.326411\u001b[0m\n",
      "\u001b[34m[106]#011train-rmse:0.246579#011validation-rmse:0.326144\u001b[0m\n",
      "\u001b[34m[107]#011train-rmse:0.245575#011validation-rmse:0.32583\u001b[0m\n",
      "\u001b[34m[108]#011train-rmse:0.244957#011validation-rmse:0.325588\u001b[0m\n",
      "\u001b[34m[109]#011train-rmse:0.244458#011validation-rmse:0.325326\u001b[0m\n",
      "\u001b[34m[110]#011train-rmse:0.243695#011validation-rmse:0.325049\u001b[0m\n",
      "\u001b[34m[111]#011train-rmse:0.243143#011validation-rmse:0.324768\u001b[0m\n",
      "\u001b[34m[112]#011train-rmse:0.242674#011validation-rmse:0.324505\u001b[0m\n",
      "\u001b[34m[113]#011train-rmse:0.24219#011validation-rmse:0.324276\u001b[0m\n",
      "\u001b[34m[114]#011train-rmse:0.241484#011validation-rmse:0.324113\u001b[0m\n",
      "\u001b[34m[115]#011train-rmse:0.240796#011validation-rmse:0.323905\u001b[0m\n",
      "\u001b[34m[116]#011train-rmse:0.24033#011validation-rmse:0.323637\u001b[0m\n",
      "\u001b[34m[117]#011train-rmse:0.239601#011validation-rmse:0.323378\u001b[0m\n",
      "\u001b[34m[118]#011train-rmse:0.23889#011validation-rmse:0.323157\u001b[0m\n",
      "\u001b[34m[119]#011train-rmse:0.238335#011validation-rmse:0.32284\u001b[0m\n",
      "\u001b[34m[120]#011train-rmse:0.237681#011validation-rmse:0.322557\u001b[0m\n",
      "\u001b[34m[121]#011train-rmse:0.237207#011validation-rmse:0.322194\u001b[0m\n",
      "\u001b[34m[122]#011train-rmse:0.236456#011validation-rmse:0.321977\u001b[0m\n",
      "\u001b[34m[123]#011train-rmse:0.235672#011validation-rmse:0.321782\u001b[0m\n",
      "\u001b[34m[124]#011train-rmse:0.234808#011validation-rmse:0.321597\u001b[0m\n",
      "\u001b[34m[125]#011train-rmse:0.234234#011validation-rmse:0.321508\u001b[0m\n",
      "\u001b[34m[126]#011train-rmse:0.233708#011validation-rmse:0.321328\u001b[0m\n",
      "\u001b[34m[127]#011train-rmse:0.233045#011validation-rmse:0.321155\u001b[0m\n",
      "\u001b[34m[128]#011train-rmse:0.232598#011validation-rmse:0.320771\u001b[0m\n",
      "\u001b[34m[129]#011train-rmse:0.23217#011validation-rmse:0.32041\u001b[0m\n",
      "\u001b[34m[130]#011train-rmse:0.231572#011validation-rmse:0.320128\u001b[0m\n",
      "\u001b[34m[131]#011train-rmse:0.231104#011validation-rmse:0.31993\u001b[0m\n",
      "\u001b[34m[132]#011train-rmse:0.230494#011validation-rmse:0.319782\u001b[0m\n",
      "\u001b[34m[133]#011train-rmse:0.230021#011validation-rmse:0.319699\u001b[0m\n",
      "\u001b[34m[134]#011train-rmse:0.229445#011validation-rmse:0.319643\u001b[0m\n",
      "\u001b[34m[135]#011train-rmse:0.228921#011validation-rmse:0.319422\u001b[0m\n",
      "\u001b[34m[136]#011train-rmse:0.22821#011validation-rmse:0.319365\u001b[0m\n",
      "\u001b[34m[137]#011train-rmse:0.227395#011validation-rmse:0.319211\u001b[0m\n",
      "\u001b[34m[138]#011train-rmse:0.226827#011validation-rmse:0.319026\u001b[0m\n",
      "\u001b[34m[139]#011train-rmse:0.22651#011validation-rmse:0.318946\u001b[0m\n",
      "\u001b[34m[140]#011train-rmse:0.226027#011validation-rmse:0.318728\u001b[0m\n",
      "\u001b[34m[141]#011train-rmse:0.225509#011validation-rmse:0.318462\u001b[0m\n",
      "\u001b[34m[142]#011train-rmse:0.225115#011validation-rmse:0.318211\u001b[0m\n",
      "\u001b[34m[143]#011train-rmse:0.22468#011validation-rmse:0.317914\u001b[0m\n",
      "\u001b[34m[144]#011train-rmse:0.224154#011validation-rmse:0.317651\u001b[0m\n",
      "\u001b[34m[145]#011train-rmse:0.223511#011validation-rmse:0.31743\u001b[0m\n",
      "\u001b[34m[146]#011train-rmse:0.223211#011validation-rmse:0.317243\u001b[0m\n",
      "\u001b[34m[147]#011train-rmse:0.222806#011validation-rmse:0.317225\u001b[0m\n",
      "\u001b[34m[148]#011train-rmse:0.222245#011validation-rmse:0.316896\u001b[0m\n",
      "\u001b[34m[149]#011train-rmse:0.221752#011validation-rmse:0.316785\u001b[0m\n",
      "\u001b[34m[150]#011train-rmse:0.221104#011validation-rmse:0.31669\u001b[0m\n",
      "\u001b[34m[151]#011train-rmse:0.220771#011validation-rmse:0.316555\u001b[0m\n",
      "\u001b[34m[152]#011train-rmse:0.220255#011validation-rmse:0.316318\u001b[0m\n",
      "\u001b[34m[153]#011train-rmse:0.219611#011validation-rmse:0.316042\u001b[0m\n",
      "\u001b[34m[154]#011train-rmse:0.219219#011validation-rmse:0.315931\u001b[0m\n",
      "\u001b[34m[155]#011train-rmse:0.218829#011validation-rmse:0.315771\u001b[0m\n",
      "\u001b[34m[156]#011train-rmse:0.218358#011validation-rmse:0.315535\u001b[0m\n",
      "\u001b[34m[157]#011train-rmse:0.218037#011validation-rmse:0.315399\u001b[0m\n",
      "\u001b[34m[158]#011train-rmse:0.217781#011validation-rmse:0.315266\u001b[0m\n",
      "\u001b[34m[159]#011train-rmse:0.217184#011validation-rmse:0.315023\u001b[0m\n",
      "\u001b[34m[160]#011train-rmse:0.216819#011validation-rmse:0.31485\u001b[0m\n",
      "\u001b[34m[161]#011train-rmse:0.216386#011validation-rmse:0.314706\u001b[0m\n",
      "\u001b[34m[162]#011train-rmse:0.216048#011validation-rmse:0.314574\u001b[0m\n",
      "\u001b[34m[163]#011train-rmse:0.215717#011validation-rmse:0.314427\u001b[0m\n",
      "\u001b[34m[164]#011train-rmse:0.215232#011validation-rmse:0.314288\u001b[0m\n",
      "\u001b[34m[165]#011train-rmse:0.214794#011validation-rmse:0.314081\u001b[0m\n",
      "\u001b[34m[166]#011train-rmse:0.214292#011validation-rmse:0.313946\u001b[0m\n",
      "\u001b[34m[167]#011train-rmse:0.213814#011validation-rmse:0.313818\u001b[0m\n",
      "\u001b[34m[168]#011train-rmse:0.213512#011validation-rmse:0.313656\u001b[0m\n",
      "\u001b[34m[169]#011train-rmse:0.213118#011validation-rmse:0.313563\u001b[0m\n",
      "\u001b[34m[170]#011train-rmse:0.212468#011validation-rmse:0.313275\u001b[0m\n",
      "\u001b[34m[171]#011train-rmse:0.211933#011validation-rmse:0.31323\u001b[0m\n",
      "\u001b[34m[172]#011train-rmse:0.211474#011validation-rmse:0.313058\u001b[0m\n",
      "\u001b[34m[173]#011train-rmse:0.211049#011validation-rmse:0.312893\u001b[0m\n",
      "\u001b[34m[174]#011train-rmse:0.210501#011validation-rmse:0.312765\u001b[0m\n",
      "\u001b[34m[175]#011train-rmse:0.210044#011validation-rmse:0.312575\u001b[0m\n",
      "\u001b[34m[176]#011train-rmse:0.209691#011validation-rmse:0.312557\u001b[0m\n",
      "\u001b[34m[177]#011train-rmse:0.20948#011validation-rmse:0.312396\u001b[0m\n",
      "\u001b[34m[178]#011train-rmse:0.209062#011validation-rmse:0.312296\u001b[0m\n",
      "\u001b[34m[179]#011train-rmse:0.208616#011validation-rmse:0.312208\u001b[0m\n",
      "\u001b[34m[180]#011train-rmse:0.208244#011validation-rmse:0.312099\u001b[0m\n",
      "\u001b[34m[181]#011train-rmse:0.207863#011validation-rmse:0.312055\u001b[0m\n",
      "\u001b[34m[182]#011train-rmse:0.207269#011validation-rmse:0.311928\u001b[0m\n",
      "\u001b[34m[183]#011train-rmse:0.206949#011validation-rmse:0.311789\u001b[0m\n",
      "\u001b[34m[184]#011train-rmse:0.20653#011validation-rmse:0.311727\u001b[0m\n",
      "\u001b[34m[185]#011train-rmse:0.206023#011validation-rmse:0.311689\u001b[0m\n",
      "\u001b[34m[186]#011train-rmse:0.205681#011validation-rmse:0.311728\u001b[0m\n",
      "\u001b[34m[187]#011train-rmse:0.205314#011validation-rmse:0.311576\u001b[0m\n",
      "\u001b[34m[188]#011train-rmse:0.204848#011validation-rmse:0.311507\u001b[0m\n",
      "\u001b[34m[189]#011train-rmse:0.204506#011validation-rmse:0.311421\u001b[0m\n",
      "\u001b[34m[190]#011train-rmse:0.204062#011validation-rmse:0.311328\u001b[0m\n",
      "\u001b[34m[191]#011train-rmse:0.203835#011validation-rmse:0.311167\u001b[0m\n",
      "\u001b[34m[192]#011train-rmse:0.203588#011validation-rmse:0.311022\u001b[0m\n",
      "\u001b[34m[193]#011train-rmse:0.203378#011validation-rmse:0.310889\u001b[0m\n",
      "\u001b[34m[194]#011train-rmse:0.202796#011validation-rmse:0.310708\u001b[0m\n",
      "\u001b[34m[195]#011train-rmse:0.20251#011validation-rmse:0.310604\u001b[0m\n",
      "\u001b[34m[196]#011train-rmse:0.202221#011validation-rmse:0.310506\u001b[0m\n",
      "\u001b[34m[197]#011train-rmse:0.201916#011validation-rmse:0.310314\u001b[0m\n",
      "\u001b[34m[198]#011train-rmse:0.201428#011validation-rmse:0.310352\u001b[0m\n",
      "\u001b[34m[199]#011train-rmse:0.201131#011validation-rmse:0.310279\u001b[0m\n",
      "\u001b[34m[200]#011train-rmse:0.200924#011validation-rmse:0.310214\u001b[0m\n",
      "\u001b[34m[201]#011train-rmse:0.200719#011validation-rmse:0.310118\u001b[0m\n",
      "\u001b[34m[202]#011train-rmse:0.200401#011validation-rmse:0.309948\u001b[0m\n",
      "\u001b[34m[203]#011train-rmse:0.200008#011validation-rmse:0.309848\u001b[0m\n",
      "\u001b[34m[204]#011train-rmse:0.199721#011validation-rmse:0.30978\u001b[0m\n",
      "\u001b[34m[205]#011train-rmse:0.199419#011validation-rmse:0.30971\u001b[0m\n",
      "\u001b[34m[206]#011train-rmse:0.199005#011validation-rmse:0.309613\u001b[0m\n",
      "\u001b[34m[207]#011train-rmse:0.198648#011validation-rmse:0.309488\u001b[0m\n",
      "\u001b[34m[208]#011train-rmse:0.198302#011validation-rmse:0.309312\u001b[0m\n",
      "\u001b[34m[209]#011train-rmse:0.197708#011validation-rmse:0.309227\u001b[0m\n",
      "\u001b[34m[210]#011train-rmse:0.197348#011validation-rmse:0.309143\u001b[0m\n",
      "\u001b[34m[211]#011train-rmse:0.196763#011validation-rmse:0.308962\u001b[0m\n",
      "\u001b[34m[212]#011train-rmse:0.196194#011validation-rmse:0.30901\u001b[0m\n",
      "\u001b[34m[213]#011train-rmse:0.195786#011validation-rmse:0.308893\u001b[0m\n",
      "\u001b[34m[214]#011train-rmse:0.195359#011validation-rmse:0.308926\u001b[0m\n",
      "\u001b[34m[215]#011train-rmse:0.195027#011validation-rmse:0.308752\u001b[0m\n",
      "\u001b[34m[216]#011train-rmse:0.194713#011validation-rmse:0.308658\u001b[0m\n",
      "\u001b[34m[217]#011train-rmse:0.194413#011validation-rmse:0.308632\u001b[0m\n",
      "\u001b[34m[218]#011train-rmse:0.193874#011validation-rmse:0.308475\u001b[0m\n",
      "\u001b[34m[219]#011train-rmse:0.193383#011validation-rmse:0.308426\u001b[0m\n",
      "\u001b[34m[220]#011train-rmse:0.193217#011validation-rmse:0.308418\u001b[0m\n",
      "\u001b[34m[221]#011train-rmse:0.192738#011validation-rmse:0.308262\u001b[0m\n",
      "\u001b[34m[222]#011train-rmse:0.19242#011validation-rmse:0.307983\u001b[0m\n",
      "\u001b[34m[223]#011train-rmse:0.191729#011validation-rmse:0.308022\u001b[0m\n",
      "\u001b[34m[224]#011train-rmse:0.191243#011validation-rmse:0.307936\u001b[0m\n",
      "\u001b[34m[225]#011train-rmse:0.190923#011validation-rmse:0.307828\u001b[0m\n",
      "\u001b[34m[226]#011train-rmse:0.190376#011validation-rmse:0.307734\u001b[0m\n",
      "\u001b[34m[227]#011train-rmse:0.189787#011validation-rmse:0.307679\u001b[0m\n",
      "\u001b[34m[228]#011train-rmse:0.189518#011validation-rmse:0.307676\u001b[0m\n",
      "\u001b[34m[229]#011train-rmse:0.18931#011validation-rmse:0.307489\u001b[0m\n",
      "\u001b[34m[230]#011train-rmse:0.188909#011validation-rmse:0.307495\u001b[0m\n",
      "\u001b[34m[231]#011train-rmse:0.188579#011validation-rmse:0.307398\u001b[0m\n",
      "\u001b[34m[232]#011train-rmse:0.18791#011validation-rmse:0.307423\u001b[0m\n",
      "\u001b[34m[233]#011train-rmse:0.187592#011validation-rmse:0.307259\u001b[0m\n",
      "\u001b[34m[234]#011train-rmse:0.187143#011validation-rmse:0.307293\u001b[0m\n",
      "\u001b[34m[235]#011train-rmse:0.18697#011validation-rmse:0.307201\u001b[0m\n",
      "\u001b[34m[236]#011train-rmse:0.186651#011validation-rmse:0.307174\u001b[0m\n",
      "\u001b[34m[237]#011train-rmse:0.186406#011validation-rmse:0.307094\u001b[0m\n",
      "\u001b[34m[238]#011train-rmse:0.185971#011validation-rmse:0.307063\u001b[0m\n",
      "\u001b[34m[239]#011train-rmse:0.18546#011validation-rmse:0.30701\u001b[0m\n",
      "\u001b[34m[240]#011train-rmse:0.18517#011validation-rmse:0.306989\u001b[0m\n",
      "\u001b[34m[241]#011train-rmse:0.184775#011validation-rmse:0.306801\u001b[0m\n",
      "\u001b[34m[242]#011train-rmse:0.184379#011validation-rmse:0.306775\u001b[0m\n",
      "\u001b[34m[243]#011train-rmse:0.184026#011validation-rmse:0.306691\u001b[0m\n",
      "\u001b[34m[244]#011train-rmse:0.183548#011validation-rmse:0.306565\u001b[0m\n",
      "\u001b[34m[245]#011train-rmse:0.183336#011validation-rmse:0.306503\u001b[0m\n",
      "\u001b[34m[246]#011train-rmse:0.183098#011validation-rmse:0.306382\u001b[0m\n",
      "\u001b[34m[247]#011train-rmse:0.182926#011validation-rmse:0.306317\u001b[0m\n",
      "\u001b[34m[248]#011train-rmse:0.182755#011validation-rmse:0.306185\u001b[0m\n",
      "\u001b[34m[249]#011train-rmse:0.182244#011validation-rmse:0.306125\u001b[0m\n",
      "\u001b[34m[250]#011train-rmse:0.181995#011validation-rmse:0.306152\u001b[0m\n",
      "\u001b[34m[251]#011train-rmse:0.181645#011validation-rmse:0.305956\u001b[0m\n",
      "\u001b[34m[252]#011train-rmse:0.181343#011validation-rmse:0.305823\u001b[0m\n",
      "\u001b[34m[253]#011train-rmse:0.181001#011validation-rmse:0.305829\u001b[0m\n",
      "\u001b[34m[254]#011train-rmse:0.180782#011validation-rmse:0.30586\u001b[0m\n",
      "\u001b[34m[255]#011train-rmse:0.180475#011validation-rmse:0.305697\u001b[0m\n",
      "\u001b[34m[256]#011train-rmse:0.18027#011validation-rmse:0.305668\u001b[0m\n",
      "\u001b[34m[257]#011train-rmse:0.180026#011validation-rmse:0.305625\u001b[0m\n",
      "\u001b[34m[258]#011train-rmse:0.179716#011validation-rmse:0.305532\u001b[0m\n",
      "\u001b[34m[259]#011train-rmse:0.179472#011validation-rmse:0.305381\u001b[0m\n",
      "\u001b[34m[260]#011train-rmse:0.17928#011validation-rmse:0.305317\u001b[0m\n",
      "\u001b[34m[261]#011train-rmse:0.178811#011validation-rmse:0.305254\u001b[0m\n",
      "\u001b[34m[262]#011train-rmse:0.178417#011validation-rmse:0.30517\u001b[0m\n",
      "\u001b[34m[263]#011train-rmse:0.178174#011validation-rmse:0.305071\u001b[0m\n",
      "\u001b[34m[264]#011train-rmse:0.177965#011validation-rmse:0.304915\u001b[0m\n",
      "\u001b[34m[265]#011train-rmse:0.177442#011validation-rmse:0.30486\u001b[0m\n",
      "\u001b[34m[266]#011train-rmse:0.17712#011validation-rmse:0.304815\u001b[0m\n",
      "\u001b[34m[267]#011train-rmse:0.176864#011validation-rmse:0.304696\u001b[0m\n",
      "\u001b[34m[268]#011train-rmse:0.176716#011validation-rmse:0.304611\u001b[0m\n",
      "\u001b[34m[269]#011train-rmse:0.176469#011validation-rmse:0.304534\u001b[0m\n",
      "\u001b[34m[270]#011train-rmse:0.176245#011validation-rmse:0.30439\u001b[0m\n",
      "\u001b[34m[271]#011train-rmse:0.175873#011validation-rmse:0.30425\u001b[0m\n",
      "\u001b[34m[272]#011train-rmse:0.175676#011validation-rmse:0.304103\u001b[0m\n",
      "\u001b[34m[273]#011train-rmse:0.175466#011validation-rmse:0.304053\u001b[0m\n",
      "\u001b[34m[274]#011train-rmse:0.175301#011validation-rmse:0.303892\u001b[0m\n",
      "\u001b[34m[275]#011train-rmse:0.175027#011validation-rmse:0.303865\u001b[0m\n",
      "\u001b[34m[276]#011train-rmse:0.174714#011validation-rmse:0.303791\u001b[0m\n",
      "\u001b[34m[277]#011train-rmse:0.174453#011validation-rmse:0.303811\u001b[0m\n",
      "\u001b[34m[278]#011train-rmse:0.174301#011validation-rmse:0.303743\u001b[0m\n",
      "\u001b[34m[279]#011train-rmse:0.174012#011validation-rmse:0.303748\u001b[0m\n",
      "\u001b[34m[280]#011train-rmse:0.17385#011validation-rmse:0.30371\u001b[0m\n",
      "\u001b[34m[281]#011train-rmse:0.173572#011validation-rmse:0.303643\u001b[0m\n",
      "\u001b[34m[282]#011train-rmse:0.173469#011validation-rmse:0.303589\u001b[0m\n",
      "\u001b[34m[283]#011train-rmse:0.173082#011validation-rmse:0.30348\u001b[0m\n",
      "\u001b[34m[284]#011train-rmse:0.17286#011validation-rmse:0.303404\u001b[0m\n",
      "\u001b[34m[285]#011train-rmse:0.172598#011validation-rmse:0.303239\u001b[0m\n",
      "\u001b[34m[286]#011train-rmse:0.172357#011validation-rmse:0.303229\u001b[0m\n",
      "\u001b[34m[287]#011train-rmse:0.17214#011validation-rmse:0.303209\u001b[0m\n",
      "\u001b[34m[288]#011train-rmse:0.171535#011validation-rmse:0.303126\u001b[0m\n",
      "\u001b[34m[289]#011train-rmse:0.171282#011validation-rmse:0.303016\u001b[0m\n",
      "\u001b[34m[290]#011train-rmse:0.171124#011validation-rmse:0.302922\u001b[0m\n",
      "\u001b[34m[291]#011train-rmse:0.170815#011validation-rmse:0.302868\u001b[0m\n",
      "\u001b[34m[292]#011train-rmse:0.170571#011validation-rmse:0.302808\u001b[0m\n",
      "\u001b[34m[293]#011train-rmse:0.170285#011validation-rmse:0.30275\u001b[0m\n",
      "\u001b[34m[294]#011train-rmse:0.17006#011validation-rmse:0.302741\u001b[0m\n",
      "\u001b[34m[295]#011train-rmse:0.169848#011validation-rmse:0.302701\u001b[0m\n",
      "\u001b[34m[296]#011train-rmse:0.169574#011validation-rmse:0.302672\u001b[0m\n",
      "\u001b[34m[297]#011train-rmse:0.16947#011validation-rmse:0.302662\u001b[0m\n",
      "\u001b[34m[298]#011train-rmse:0.169147#011validation-rmse:0.302682\u001b[0m\n",
      "\u001b[34m[299]#011train-rmse:0.168653#011validation-rmse:0.302724\u001b[0m\n",
      "\u001b[34m[300]#011train-rmse:0.168372#011validation-rmse:0.302736\u001b[0m\n",
      "\u001b[34m[301]#011train-rmse:0.168102#011validation-rmse:0.30266\u001b[0m\n",
      "\u001b[34m[302]#011train-rmse:0.167897#011validation-rmse:0.302522\u001b[0m\n",
      "\u001b[34m[303]#011train-rmse:0.167618#011validation-rmse:0.302475\u001b[0m\n",
      "\u001b[34m[304]#011train-rmse:0.16745#011validation-rmse:0.302431\u001b[0m\n",
      "\u001b[34m[305]#011train-rmse:0.167313#011validation-rmse:0.302392\u001b[0m\n",
      "\u001b[34m[306]#011train-rmse:0.167123#011validation-rmse:0.302363\u001b[0m\n",
      "\u001b[34m[307]#011train-rmse:0.166994#011validation-rmse:0.302281\u001b[0m\n",
      "\u001b[34m[308]#011train-rmse:0.166736#011validation-rmse:0.302235\u001b[0m\n",
      "\u001b[34m[309]#011train-rmse:0.166504#011validation-rmse:0.302091\u001b[0m\n",
      "\u001b[34m[310]#011train-rmse:0.1663#011validation-rmse:0.302072\u001b[0m\n",
      "\u001b[34m[311]#011train-rmse:0.165896#011validation-rmse:0.302108\u001b[0m\n",
      "\u001b[34m[312]#011train-rmse:0.165546#011validation-rmse:0.30216\u001b[0m\n",
      "\u001b[34m[313]#011train-rmse:0.165154#011validation-rmse:0.30201\u001b[0m\n",
      "\u001b[34m[314]#011train-rmse:0.164936#011validation-rmse:0.301972\u001b[0m\n",
      "\u001b[34m[315]#011train-rmse:0.164749#011validation-rmse:0.30196\u001b[0m\n",
      "\u001b[34m[316]#011train-rmse:0.164396#011validation-rmse:0.301936\u001b[0m\n",
      "\u001b[34m[317]#011train-rmse:0.164206#011validation-rmse:0.301933\u001b[0m\n",
      "\u001b[34m[318]#011train-rmse:0.163851#011validation-rmse:0.301907\u001b[0m\n",
      "\u001b[34m[319]#011train-rmse:0.163624#011validation-rmse:0.301964\u001b[0m\n",
      "\u001b[34m[320]#011train-rmse:0.163366#011validation-rmse:0.301901\u001b[0m\n",
      "\u001b[34m[321]#011train-rmse:0.163199#011validation-rmse:0.30192\u001b[0m\n",
      "\u001b[34m[322]#011train-rmse:0.163098#011validation-rmse:0.301821\u001b[0m\n",
      "\u001b[34m[323]#011train-rmse:0.162922#011validation-rmse:0.301761\u001b[0m\n",
      "\u001b[34m[324]#011train-rmse:0.162647#011validation-rmse:0.301604\u001b[0m\n",
      "\u001b[34m[325]#011train-rmse:0.162482#011validation-rmse:0.30156\u001b[0m\n",
      "\u001b[34m[326]#011train-rmse:0.16231#011validation-rmse:0.301499\u001b[0m\n",
      "\u001b[34m[327]#011train-rmse:0.162047#011validation-rmse:0.301438\u001b[0m\n",
      "\u001b[34m[328]#011train-rmse:0.161828#011validation-rmse:0.301378\u001b[0m\n",
      "\u001b[34m[329]#011train-rmse:0.161544#011validation-rmse:0.301249\u001b[0m\n",
      "\u001b[34m[330]#011train-rmse:0.161274#011validation-rmse:0.301251\u001b[0m\n",
      "\u001b[34m[331]#011train-rmse:0.161062#011validation-rmse:0.301223\u001b[0m\n",
      "\u001b[34m[332]#011train-rmse:0.160647#011validation-rmse:0.301102\u001b[0m\n",
      "\u001b[34m[333]#011train-rmse:0.16034#011validation-rmse:0.301015\u001b[0m\n",
      "\u001b[34m[334]#011train-rmse:0.160077#011validation-rmse:0.300958\u001b[0m\n",
      "\u001b[34m[335]#011train-rmse:0.159842#011validation-rmse:0.301008\u001b[0m\n",
      "\u001b[34m[336]#011train-rmse:0.159658#011validation-rmse:0.300942\u001b[0m\n",
      "\u001b[34m[337]#011train-rmse:0.159429#011validation-rmse:0.300858\u001b[0m\n",
      "\u001b[34m[338]#011train-rmse:0.159111#011validation-rmse:0.300922\u001b[0m\n",
      "\u001b[34m[339]#011train-rmse:0.158879#011validation-rmse:0.300972\u001b[0m\n",
      "\u001b[34m[340]#011train-rmse:0.15854#011validation-rmse:0.300974\u001b[0m\n",
      "\u001b[34m[341]#011train-rmse:0.158367#011validation-rmse:0.300871\u001b[0m\n",
      "\u001b[34m[342]#011train-rmse:0.158199#011validation-rmse:0.300741\u001b[0m\n",
      "\u001b[34m[343]#011train-rmse:0.158018#011validation-rmse:0.300609\u001b[0m\n",
      "\u001b[34m[344]#011train-rmse:0.15783#011validation-rmse:0.300578\u001b[0m\n",
      "\u001b[34m[345]#011train-rmse:0.157616#011validation-rmse:0.300541\u001b[0m\n",
      "\u001b[34m[346]#011train-rmse:0.15748#011validation-rmse:0.30049\u001b[0m\n",
      "\u001b[34m[347]#011train-rmse:0.157364#011validation-rmse:0.300497\u001b[0m\n",
      "\u001b[34m[348]#011train-rmse:0.157206#011validation-rmse:0.300409\u001b[0m\n",
      "\u001b[34m[349]#011train-rmse:0.156765#011validation-rmse:0.300358\u001b[0m\n",
      "\u001b[34m[350]#011train-rmse:0.156659#011validation-rmse:0.300252\u001b[0m\n",
      "\u001b[34m[351]#011train-rmse:0.156488#011validation-rmse:0.300228\u001b[0m\n",
      "\u001b[34m[352]#011train-rmse:0.156046#011validation-rmse:0.300149\u001b[0m\n",
      "\u001b[34m[353]#011train-rmse:0.155865#011validation-rmse:0.300179\u001b[0m\n",
      "\u001b[34m[354]#011train-rmse:0.155626#011validation-rmse:0.300145\u001b[0m\n",
      "\u001b[34m[355]#011train-rmse:0.155334#011validation-rmse:0.300099\u001b[0m\n",
      "\u001b[34m[356]#011train-rmse:0.155143#011validation-rmse:0.299809\u001b[0m\n",
      "\u001b[34m[357]#011train-rmse:0.154902#011validation-rmse:0.299858\u001b[0m\n",
      "\u001b[34m[358]#011train-rmse:0.15471#011validation-rmse:0.299827\u001b[0m\n",
      "\u001b[34m[359]#011train-rmse:0.154543#011validation-rmse:0.299728\u001b[0m\n",
      "\u001b[34m[360]#011train-rmse:0.154427#011validation-rmse:0.299677\u001b[0m\n",
      "\u001b[34m[361]#011train-rmse:0.154092#011validation-rmse:0.29961\u001b[0m\n",
      "\u001b[34m[362]#011train-rmse:0.153763#011validation-rmse:0.299546\u001b[0m\n",
      "\u001b[34m[363]#011train-rmse:0.153514#011validation-rmse:0.299524\u001b[0m\n",
      "\u001b[34m[364]#011train-rmse:0.15332#011validation-rmse:0.299442\u001b[0m\n",
      "\u001b[34m[365]#011train-rmse:0.153059#011validation-rmse:0.29942\u001b[0m\n",
      "\u001b[34m[366]#011train-rmse:0.15284#011validation-rmse:0.2994\u001b[0m\n",
      "\u001b[34m[367]#011train-rmse:0.152535#011validation-rmse:0.299381\u001b[0m\n",
      "\u001b[34m[368]#011train-rmse:0.152319#011validation-rmse:0.299285\u001b[0m\n",
      "\u001b[34m[369]#011train-rmse:0.152137#011validation-rmse:0.299252\u001b[0m\n",
      "\u001b[34m[370]#011train-rmse:0.151978#011validation-rmse:0.299191\u001b[0m\n",
      "\u001b[34m[371]#011train-rmse:0.151814#011validation-rmse:0.299167\u001b[0m\n",
      "\u001b[34m[372]#011train-rmse:0.151637#011validation-rmse:0.299192\u001b[0m\n",
      "\u001b[34m[373]#011train-rmse:0.151499#011validation-rmse:0.299256\u001b[0m\n",
      "\u001b[34m[374]#011train-rmse:0.151285#011validation-rmse:0.299219\u001b[0m\n",
      "\u001b[34m[375]#011train-rmse:0.150997#011validation-rmse:0.299167\u001b[0m\n",
      "\u001b[34m[376]#011train-rmse:0.150842#011validation-rmse:0.299201\u001b[0m\n",
      "\u001b[34m[377]#011train-rmse:0.150688#011validation-rmse:0.299116\u001b[0m\n",
      "\u001b[34m[378]#011train-rmse:0.150624#011validation-rmse:0.299096\u001b[0m\n",
      "\u001b[34m[379]#011train-rmse:0.150388#011validation-rmse:0.299025\u001b[0m\n",
      "\u001b[34m[380]#011train-rmse:0.150296#011validation-rmse:0.299003\u001b[0m\n",
      "\u001b[34m[381]#011train-rmse:0.150134#011validation-rmse:0.299021\u001b[0m\n",
      "\u001b[34m[382]#011train-rmse:0.149827#011validation-rmse:0.298988\u001b[0m\n",
      "\u001b[34m[383]#011train-rmse:0.149696#011validation-rmse:0.298961\u001b[0m\n",
      "\u001b[34m[384]#011train-rmse:0.149458#011validation-rmse:0.298798\u001b[0m\n",
      "\u001b[34m[385]#011train-rmse:0.149305#011validation-rmse:0.29879\u001b[0m\n",
      "\u001b[34m[386]#011train-rmse:0.148953#011validation-rmse:0.29886\u001b[0m\n",
      "\u001b[34m[387]#011train-rmse:0.148719#011validation-rmse:0.298951\u001b[0m\n",
      "\u001b[34m[388]#011train-rmse:0.148277#011validation-rmse:0.298891\u001b[0m\n",
      "\u001b[34m[389]#011train-rmse:0.148117#011validation-rmse:0.298932\u001b[0m\n",
      "\u001b[34m[390]#011train-rmse:0.147965#011validation-rmse:0.298911\u001b[0m\n",
      "\u001b[34m[391]#011train-rmse:0.147862#011validation-rmse:0.298814\u001b[0m\n",
      "\u001b[34m[392]#011train-rmse:0.147683#011validation-rmse:0.298801\u001b[0m\n",
      "\u001b[34m[393]#011train-rmse:0.1475#011validation-rmse:0.29877\u001b[0m\n",
      "\u001b[34m[394]#011train-rmse:0.147369#011validation-rmse:0.298718\u001b[0m\n",
      "\u001b[34m[395]#011train-rmse:0.147032#011validation-rmse:0.298652\u001b[0m\n",
      "\u001b[34m[396]#011train-rmse:0.146658#011validation-rmse:0.298632\u001b[0m\n",
      "\u001b[34m[397]#011train-rmse:0.146424#011validation-rmse:0.298745\u001b[0m\n",
      "\u001b[34m[398]#011train-rmse:0.14621#011validation-rmse:0.298739\u001b[0m\n",
      "\u001b[34m[399]#011train-rmse:0.146033#011validation-rmse:0.298768\u001b[0m\n",
      "\u001b[34m[400]#011train-rmse:0.145908#011validation-rmse:0.298709\u001b[0m\n",
      "\u001b[34m[401]#011train-rmse:0.1458#011validation-rmse:0.298714\u001b[0m\n",
      "\u001b[34m[402]#011train-rmse:0.145608#011validation-rmse:0.298708\u001b[0m\n",
      "\u001b[34m[403]#011train-rmse:0.145384#011validation-rmse:0.298669\u001b[0m\n",
      "\u001b[34m[404]#011train-rmse:0.145215#011validation-rmse:0.298642\u001b[0m\n",
      "\u001b[34m[405]#011train-rmse:0.145104#011validation-rmse:0.298669\u001b[0m\n",
      "\u001b[34m[406]#011train-rmse:0.144926#011validation-rmse:0.298677\u001b[0m\n",
      "Training seconds: 1062\n",
      "Billable seconds: 1062\n"
     ]
    }
   ],
   "source": [
    "# TODO: Create a new estimator object attached to the best training job found during hyperparameter tuning\n",
    "\n",
    "xgb_attached = sagemaker.estimator.Estimator.attach(xgb_hyperparameter_tuner.best_training_job())\n"
   ]
  },
  {
   "cell_type": "markdown",
   "metadata": {},
   "source": [
    "Now that we have an estimator object attached to the correct training job, we can proceed as we normally would and create a transformer object."
   ]
  },
  {
   "cell_type": "code",
   "execution_count": 47,
   "metadata": {},
   "outputs": [
    {
     "data": {
      "text/plain": [
       "{'max_depth': 5,\n",
       " 'eta': 0.2,\n",
       " 'gamma': 4,\n",
       " 'min_child_weight': 6,\n",
       " 'subsample': 0.8,\n",
       " 'silent': 0,\n",
       " 'objective': 'binary:logistic',\n",
       " 'early_stopping_rounds': 10,\n",
       " 'num_round': 500}"
      ]
     },
     "execution_count": 47,
     "metadata": {},
     "output_type": "execute_result"
    }
   ],
   "source": [
    "xgb.hyperparameters()"
   ]
  },
  {
   "cell_type": "code",
   "execution_count": 48,
   "metadata": {},
   "outputs": [
    {
     "data": {
      "text/plain": [
       "{'_tuning_objective_metric': 'validation:rmse',\n",
       " 'early_stopping_rounds': '10',\n",
       " 'eta': '0.0920164255845082',\n",
       " 'gamma': '0.6924354744356552',\n",
       " 'max_depth': '11',\n",
       " 'min_child_weight': '2',\n",
       " 'num_round': '500',\n",
       " 'objective': 'binary:logistic',\n",
       " 'silent': '0',\n",
       " 'subsample': '0.5600081510279385'}"
      ]
     },
     "execution_count": 48,
     "metadata": {},
     "output_type": "execute_result"
    }
   ],
   "source": [
    "xgb_attached.hyperparameters()"
   ]
  },
  {
   "cell_type": "code",
   "execution_count": 49,
   "metadata": {},
   "outputs": [],
   "source": [
    "# TODO: Create a transformer object from the attached estimator. Using an instance count of 1 and an instance type of ml.m4.xlarge\n",
    "#       should be more than enough.\n",
    "\n",
    "xgb_transformer = xgb_attached.transformer(instance_count=1, instance_type=\"ml.m4.xlarge\")\n"
   ]
  },
  {
   "cell_type": "markdown",
   "metadata": {},
   "source": [
    "Next we actually perform the transform job. When doing so we need to make sure to specify the type of data we are sending so that it is serialized correctly in the background. In our case we are providing our model with csv data so we specify `text/csv`. Also, if the test data that we have provided is too large to process all at once then we need to specify how the data file should be split up. Since each line is a single entry in our data set we tell SageMaker that it can split the input on each line."
   ]
  },
  {
   "cell_type": "code",
   "execution_count": 71,
   "metadata": {},
   "outputs": [],
   "source": [
    "# TODO: Start the transform job. Make sure to specify the content type and the split type of the test data.\n",
    "xgb_transformer.transform(test_location, content_type=\"text/csv\", split_type=\"Line\")"
   ]
  },
  {
   "cell_type": "markdown",
   "metadata": {},
   "source": [
    "Currently the transform job is running but it is doing so in the background. Since we wish to wait until the transform job is done and we would like a bit of feedback we can run the `wait()` method."
   ]
  },
  {
   "cell_type": "code",
   "execution_count": 72,
   "metadata": {},
   "outputs": [
    {
     "name": "stdout",
     "output_type": "stream",
     "text": [
      "......................\u001b[34m[2020-06-25 15:57:13 +0000] [15] [INFO] Starting gunicorn 19.10.0\u001b[0m\n",
      "\u001b[34m[2020-06-25 15:57:13 +0000] [15] [INFO] Listening at: unix:/tmp/gunicorn.sock (15)\u001b[0m\n",
      "\u001b[34m[2020-06-25 15:57:13 +0000] [15] [INFO] Using worker: gevent\u001b[0m\n",
      "\u001b[34m[2020-06-25 15:57:13 +0000] [22] [INFO] Booting worker with pid: 22\u001b[0m\n",
      "\u001b[34m[2020-06-25 15:57:13 +0000] [23] [INFO] Booting worker with pid: 23\u001b[0m\n",
      "\u001b[34m[2020-06-25 15:57:13 +0000] [27] [INFO] Booting worker with pid: 27\u001b[0m\n",
      "\u001b[34m[2020-06-25 15:57:13 +0000] [28] [INFO] Booting worker with pid: 28\u001b[0m\n",
      "\u001b[34m[2020-06-25:15:57:30:INFO] No GPUs detected (normal if no gpus installed)\u001b[0m\n",
      "\u001b[34m169.254.255.130 - - [25/Jun/2020:15:57:30 +0000] \"GET /ping HTTP/1.1\" 200 0 \"-\" \"Go-http-client/1.1\"\u001b[0m\n",
      "\u001b[34m[2020-06-25:15:57:30:INFO] No GPUs detected (normal if no gpus installed)\u001b[0m\n",
      "\u001b[34m169.254.255.130 - - [25/Jun/2020:15:57:30 +0000] \"GET /execution-parameters HTTP/1.1\" 200 84 \"-\" \"Go-http-client/1.1\"\u001b[0m\n",
      "\u001b[35m[2020-06-25:15:57:30:INFO] No GPUs detected (normal if no gpus installed)\u001b[0m\n",
      "\u001b[35m169.254.255.130 - - [25/Jun/2020:15:57:30 +0000] \"GET /ping HTTP/1.1\" 200 0 \"-\" \"Go-http-client/1.1\"\u001b[0m\n",
      "\u001b[35m[2020-06-25:15:57:30:INFO] No GPUs detected (normal if no gpus installed)\u001b[0m\n",
      "\u001b[35m169.254.255.130 - - [25/Jun/2020:15:57:30 +0000] \"GET /execution-parameters HTTP/1.1\" 200 84 \"-\" \"Go-http-client/1.1\"\u001b[0m\n",
      "\u001b[32m2020-06-25T15:57:30.062:[sagemaker logs]: MaxConcurrentTransforms=4, MaxPayloadInMB=6, BatchStrategy=MULTI_RECORD\u001b[0m\n",
      "\u001b[34m[2020-06-25:15:57:32:INFO] No GPUs detected (normal if no gpus installed)\u001b[0m\n",
      "\u001b[34m[2020-06-25:15:57:32:INFO] Determined delimiter of CSV input is ','\u001b[0m\n",
      "\u001b[34m[2020-06-25:15:57:33:INFO] No GPUs detected (normal if no gpus installed)\u001b[0m\n",
      "\u001b[34m[2020-06-25:15:57:33:INFO] Determined delimiter of CSV input is ','\u001b[0m\n",
      "\u001b[34m[2020-06-25:15:57:33:INFO] Determined delimiter of CSV input is ','\u001b[0m\n",
      "\u001b[34m[2020-06-25:15:57:33:INFO] Determined delimiter of CSV input is ','\u001b[0m\n",
      "\u001b[35m[2020-06-25:15:57:32:INFO] No GPUs detected (normal if no gpus installed)\u001b[0m\n",
      "\u001b[35m[2020-06-25:15:57:32:INFO] Determined delimiter of CSV input is ','\u001b[0m\n",
      "\u001b[35m[2020-06-25:15:57:33:INFO] No GPUs detected (normal if no gpus installed)\u001b[0m\n",
      "\u001b[35m[2020-06-25:15:57:33:INFO] Determined delimiter of CSV input is ','\u001b[0m\n",
      "\u001b[35m[2020-06-25:15:57:33:INFO] Determined delimiter of CSV input is ','\u001b[0m\n",
      "\u001b[35m[2020-06-25:15:57:33:INFO] Determined delimiter of CSV input is ','\u001b[0m\n",
      "\u001b[34m169.254.255.130 - - [25/Jun/2020:15:57:36 +0000] \"POST /invocations HTTP/1.1\" 200 12303 \"-\" \"Go-http-client/1.1\"\u001b[0m\n",
      "\u001b[34m169.254.255.130 - - [25/Jun/2020:15:57:36 +0000] \"POST /invocations HTTP/1.1\" 200 12322 \"-\" \"Go-http-client/1.1\"\u001b[0m\n",
      "\u001b[34m169.254.255.130 - - [25/Jun/2020:15:57:36 +0000] \"POST /invocations HTTP/1.1\" 200 12337 \"-\" \"Go-http-client/1.1\"\u001b[0m\n",
      "\u001b[35m169.254.255.130 - - [25/Jun/2020:15:57:36 +0000] \"POST /invocations HTTP/1.1\" 200 12303 \"-\" \"Go-http-client/1.1\"\u001b[0m\n",
      "\u001b[35m169.254.255.130 - - [25/Jun/2020:15:57:36 +0000] \"POST /invocations HTTP/1.1\" 200 12322 \"-\" \"Go-http-client/1.1\"\u001b[0m\n",
      "\u001b[35m169.254.255.130 - - [25/Jun/2020:15:57:36 +0000] \"POST /invocations HTTP/1.1\" 200 12337 \"-\" \"Go-http-client/1.1\"\u001b[0m\n",
      "\u001b[34m169.254.255.130 - - [25/Jun/2020:15:57:36 +0000] \"POST /invocations HTTP/1.1\" 200 12347 \"-\" \"Go-http-client/1.1\"\u001b[0m\n",
      "\u001b[34m[2020-06-25:15:57:36:INFO] Determined delimiter of CSV input is ','\u001b[0m\n",
      "\u001b[35m169.254.255.130 - - [25/Jun/2020:15:57:36 +0000] \"POST /invocations HTTP/1.1\" 200 12347 \"-\" \"Go-http-client/1.1\"\u001b[0m\n",
      "\u001b[35m[2020-06-25:15:57:36:INFO] Determined delimiter of CSV input is ','\u001b[0m\n",
      "\u001b[34m[2020-06-25:15:57:36:INFO] Determined delimiter of CSV input is ','\u001b[0m\n",
      "\u001b[34m[2020-06-25:15:57:36:INFO] Determined delimiter of CSV input is ','\u001b[0m\n",
      "\u001b[34m[2020-06-25:15:57:36:INFO] Determined delimiter of CSV input is ','\u001b[0m\n",
      "\u001b[35m[2020-06-25:15:57:36:INFO] Determined delimiter of CSV input is ','\u001b[0m\n",
      "\u001b[35m[2020-06-25:15:57:36:INFO] Determined delimiter of CSV input is ','\u001b[0m\n",
      "\u001b[35m[2020-06-25:15:57:36:INFO] Determined delimiter of CSV input is ','\u001b[0m\n",
      "\u001b[34m169.254.255.130 - - [25/Jun/2020:15:57:40 +0000] \"POST /invocations HTTP/1.1\" 200 12317 \"-\" \"Go-http-client/1.1\"\u001b[0m\n",
      "\u001b[34m169.254.255.130 - - [25/Jun/2020:15:57:40 +0000] \"POST /invocations HTTP/1.1\" 200 12341 \"-\" \"Go-http-client/1.1\"\u001b[0m\n",
      "\u001b[34m169.254.255.130 - - [25/Jun/2020:15:57:40 +0000] \"POST /invocations HTTP/1.1\" 200 12303 \"-\" \"Go-http-client/1.1\"\u001b[0m\n",
      "\u001b[34m[2020-06-25:15:57:40:INFO] Determined delimiter of CSV input is ','\u001b[0m\n",
      "\u001b[34m169.254.255.130 - - [25/Jun/2020:15:57:40 +0000] \"POST /invocations HTTP/1.1\" 200 12314 \"-\" \"Go-http-client/1.1\"\u001b[0m\n",
      "\u001b[34m[2020-06-25:15:57:40:INFO] Determined delimiter of CSV input is ','\u001b[0m\n",
      "\u001b[34m[2020-06-25:15:57:40:INFO] Determined delimiter of CSV input is ','\u001b[0m\n",
      "\u001b[35m169.254.255.130 - - [25/Jun/2020:15:57:40 +0000] \"POST /invocations HTTP/1.1\" 200 12317 \"-\" \"Go-http-client/1.1\"\u001b[0m\n",
      "\u001b[35m169.254.255.130 - - [25/Jun/2020:15:57:40 +0000] \"POST /invocations HTTP/1.1\" 200 12341 \"-\" \"Go-http-client/1.1\"\u001b[0m\n",
      "\u001b[35m169.254.255.130 - - [25/Jun/2020:15:57:40 +0000] \"POST /invocations HTTP/1.1\" 200 12303 \"-\" \"Go-http-client/1.1\"\u001b[0m\n",
      "\u001b[35m[2020-06-25:15:57:40:INFO] Determined delimiter of CSV input is ','\u001b[0m\n",
      "\u001b[35m169.254.255.130 - - [25/Jun/2020:15:57:40 +0000] \"POST /invocations HTTP/1.1\" 200 12314 \"-\" \"Go-http-client/1.1\"\u001b[0m\n",
      "\u001b[35m[2020-06-25:15:57:40:INFO] Determined delimiter of CSV input is ','\u001b[0m\n",
      "\u001b[35m[2020-06-25:15:57:40:INFO] Determined delimiter of CSV input is ','\u001b[0m\n",
      "\u001b[34m[2020-06-25:15:57:40:INFO] Determined delimiter of CSV input is ','\u001b[0m\n",
      "\u001b[35m[2020-06-25:15:57:40:INFO] Determined delimiter of CSV input is ','\u001b[0m\n",
      "\u001b[34m169.254.255.130 - - [25/Jun/2020:15:57:43 +0000] \"POST /invocations HTTP/1.1\" 200 12292 \"-\" \"Go-http-client/1.1\"\u001b[0m\n",
      "\u001b[35m169.254.255.130 - - [25/Jun/2020:15:57:43 +0000] \"POST /invocations HTTP/1.1\" 200 12292 \"-\" \"Go-http-client/1.1\"\u001b[0m\n",
      "\u001b[34m169.254.255.130 - - [25/Jun/2020:15:57:43 +0000] \"POST /invocations HTTP/1.1\" 200 12308 \"-\" \"Go-http-client/1.1\"\u001b[0m\n",
      "\u001b[34m[2020-06-25:15:57:43:INFO] Determined delimiter of CSV input is ','\u001b[0m\n",
      "\u001b[35m169.254.255.130 - - [25/Jun/2020:15:57:43 +0000] \"POST /invocations HTTP/1.1\" 200 12308 \"-\" \"Go-http-client/1.1\"\u001b[0m\n",
      "\u001b[35m[2020-06-25:15:57:43:INFO] Determined delimiter of CSV input is ','\u001b[0m\n",
      "\u001b[34m[2020-06-25:15:57:43:INFO] Determined delimiter of CSV input is ','\u001b[0m\n",
      "\u001b[34m169.254.255.130 - - [25/Jun/2020:15:57:43 +0000] \"POST /invocations HTTP/1.1\" 200 12288 \"-\" \"Go-http-client/1.1\"\u001b[0m\n",
      "\u001b[34m[2020-06-25:15:57:43:INFO] Determined delimiter of CSV input is ','\u001b[0m\n",
      "\u001b[34m[2020-06-25:15:57:44:INFO] Determined delimiter of CSV input is ','\u001b[0m\n",
      "\u001b[35m[2020-06-25:15:57:43:INFO] Determined delimiter of CSV input is ','\u001b[0m\n",
      "\u001b[35m169.254.255.130 - - [25/Jun/2020:15:57:43 +0000] \"POST /invocations HTTP/1.1\" 200 12288 \"-\" \"Go-http-client/1.1\"\u001b[0m\n",
      "\u001b[35m[2020-06-25:15:57:43:INFO] Determined delimiter of CSV input is ','\u001b[0m\n",
      "\u001b[35m[2020-06-25:15:57:44:INFO] Determined delimiter of CSV input is ','\u001b[0m\n",
      "\u001b[34m169.254.255.130 - - [25/Jun/2020:15:57:47 +0000] \"POST /invocations HTTP/1.1\" 200 12270 \"-\" \"Go-http-client/1.1\"\u001b[0m\n",
      "\u001b[34m169.254.255.130 - - [25/Jun/2020:15:57:47 +0000] \"POST /invocations HTTP/1.1\" 200 12302 \"-\" \"Go-http-client/1.1\"\u001b[0m\n",
      "\u001b[34m[2020-06-25:15:57:47:INFO] Determined delimiter of CSV input is ','\u001b[0m\n",
      "\u001b[34m169.254.255.130 - - [25/Jun/2020:15:57:47 +0000] \"POST /invocations HTTP/1.1\" 200 12336 \"-\" \"Go-http-client/1.1\"\u001b[0m\n",
      "\u001b[34m169.254.255.130 - - [25/Jun/2020:15:57:47 +0000] \"POST /invocations HTTP/1.1\" 200 12319 \"-\" \"Go-http-client/1.1\"\u001b[0m\n",
      "\u001b[34m[2020-06-25:15:57:47:INFO] Determined delimiter of CSV input is ','\u001b[0m\n",
      "\u001b[34m[2020-06-25:15:57:47:INFO] Determined delimiter of CSV input is ','\u001b[0m\n",
      "\u001b[34m[2020-06-25:15:57:47:INFO] Determined delimiter of CSV input is ','\u001b[0m\n",
      "\u001b[35m169.254.255.130 - - [25/Jun/2020:15:57:47 +0000] \"POST /invocations HTTP/1.1\" 200 12270 \"-\" \"Go-http-client/1.1\"\u001b[0m\n",
      "\u001b[35m169.254.255.130 - - [25/Jun/2020:15:57:47 +0000] \"POST /invocations HTTP/1.1\" 200 12302 \"-\" \"Go-http-client/1.1\"\u001b[0m\n",
      "\u001b[35m[2020-06-25:15:57:47:INFO] Determined delimiter of CSV input is ','\u001b[0m\n",
      "\u001b[35m169.254.255.130 - - [25/Jun/2020:15:57:47 +0000] \"POST /invocations HTTP/1.1\" 200 12336 \"-\" \"Go-http-client/1.1\"\u001b[0m\n",
      "\u001b[35m169.254.255.130 - - [25/Jun/2020:15:57:47 +0000] \"POST /invocations HTTP/1.1\" 200 12319 \"-\" \"Go-http-client/1.1\"\u001b[0m\n",
      "\u001b[35m[2020-06-25:15:57:47:INFO] Determined delimiter of CSV input is ','\u001b[0m\n",
      "\u001b[35m[2020-06-25:15:57:47:INFO] Determined delimiter of CSV input is ','\u001b[0m\n",
      "\u001b[35m[2020-06-25:15:57:47:INFO] Determined delimiter of CSV input is ','\u001b[0m\n"
     ]
    },
    {
     "name": "stdout",
     "output_type": "stream",
     "text": [
      "\u001b[34m169.254.255.130 - - [25/Jun/2020:15:57:53 +0000] \"POST /invocations HTTP/1.1\" 200 12283 \"-\" \"Go-http-client/1.1\"\u001b[0m\n",
      "\u001b[34m[2020-06-25:15:57:54:INFO] Determined delimiter of CSV input is ','\u001b[0m\n",
      "\u001b[34m169.254.255.130 - - [25/Jun/2020:15:57:54 +0000] \"POST /invocations HTTP/1.1\" 200 12296 \"-\" \"Go-http-client/1.1\"\u001b[0m\n",
      "\u001b[34m169.254.255.130 - - [25/Jun/2020:15:57:54 +0000] \"POST /invocations HTTP/1.1\" 200 12336 \"-\" \"Go-http-client/1.1\"\u001b[0m\n",
      "\u001b[34m169.254.255.130 - - [25/Jun/2020:15:57:54 +0000] \"POST /invocations HTTP/1.1\" 200 12328 \"-\" \"Go-http-client/1.1\"\u001b[0m\n",
      "\u001b[34m[2020-06-25:15:57:54:INFO] Determined delimiter of CSV input is ','\u001b[0m\n",
      "\u001b[34m[2020-06-25:15:57:54:INFO] Determined delimiter of CSV input is ','\u001b[0m\n",
      "\u001b[34m[2020-06-25:15:57:54:INFO] Determined delimiter of CSV input is ','\u001b[0m\n",
      "\u001b[35m169.254.255.130 - - [25/Jun/2020:15:57:53 +0000] \"POST /invocations HTTP/1.1\" 200 12283 \"-\" \"Go-http-client/1.1\"\u001b[0m\n",
      "\u001b[35m[2020-06-25:15:57:54:INFO] Determined delimiter of CSV input is ','\u001b[0m\n",
      "\u001b[35m169.254.255.130 - - [25/Jun/2020:15:57:54 +0000] \"POST /invocations HTTP/1.1\" 200 12296 \"-\" \"Go-http-client/1.1\"\u001b[0m\n",
      "\u001b[35m169.254.255.130 - - [25/Jun/2020:15:57:54 +0000] \"POST /invocations HTTP/1.1\" 200 12336 \"-\" \"Go-http-client/1.1\"\u001b[0m\n",
      "\u001b[35m169.254.255.130 - - [25/Jun/2020:15:57:54 +0000] \"POST /invocations HTTP/1.1\" 200 12328 \"-\" \"Go-http-client/1.1\"\u001b[0m\n",
      "\u001b[35m[2020-06-25:15:57:54:INFO] Determined delimiter of CSV input is ','\u001b[0m\n",
      "\u001b[35m[2020-06-25:15:57:54:INFO] Determined delimiter of CSV input is ','\u001b[0m\n",
      "\u001b[35m[2020-06-25:15:57:54:INFO] Determined delimiter of CSV input is ','\u001b[0m\n",
      "\u001b[34m169.254.255.130 - - [25/Jun/2020:15:58:00 +0000] \"POST /invocations HTTP/1.1\" 200 12320 \"-\" \"Go-http-client/1.1\"\u001b[0m\n",
      "\u001b[34m[2020-06-25:15:58:01:INFO] Determined delimiter of CSV input is ','\u001b[0m\n",
      "\u001b[34m169.254.255.130 - - [25/Jun/2020:15:58:01 +0000] \"POST /invocations HTTP/1.1\" 200 12295 \"-\" \"Go-http-client/1.1\"\u001b[0m\n",
      "\u001b[34m169.254.255.130 - - [25/Jun/2020:15:58:01 +0000] \"POST /invocations HTTP/1.1\" 200 12317 \"-\" \"Go-http-client/1.1\"\u001b[0m\n",
      "\u001b[34m[2020-06-25:15:58:01:INFO] Determined delimiter of CSV input is ','\u001b[0m\n",
      "\u001b[34m169.254.255.130 - - [25/Jun/2020:15:58:01 +0000] \"POST /invocations HTTP/1.1\" 200 12314 \"-\" \"Go-http-client/1.1\"\u001b[0m\n",
      "\u001b[34m[2020-06-25:15:58:01:INFO] Determined delimiter of CSV input is ','\u001b[0m\n",
      "\u001b[35m169.254.255.130 - - [25/Jun/2020:15:58:00 +0000] \"POST /invocations HTTP/1.1\" 200 12320 \"-\" \"Go-http-client/1.1\"\u001b[0m\n",
      "\u001b[35m[2020-06-25:15:58:01:INFO] Determined delimiter of CSV input is ','\u001b[0m\n",
      "\u001b[35m169.254.255.130 - - [25/Jun/2020:15:58:01 +0000] \"POST /invocations HTTP/1.1\" 200 12295 \"-\" \"Go-http-client/1.1\"\u001b[0m\n",
      "\u001b[35m169.254.255.130 - - [25/Jun/2020:15:58:01 +0000] \"POST /invocations HTTP/1.1\" 200 12317 \"-\" \"Go-http-client/1.1\"\u001b[0m\n",
      "\u001b[35m[2020-06-25:15:58:01:INFO] Determined delimiter of CSV input is ','\u001b[0m\n",
      "\u001b[35m169.254.255.130 - - [25/Jun/2020:15:58:01 +0000] \"POST /invocations HTTP/1.1\" 200 12314 \"-\" \"Go-http-client/1.1\"\u001b[0m\n",
      "\u001b[35m[2020-06-25:15:58:01:INFO] Determined delimiter of CSV input is ','\u001b[0m\n",
      "\u001b[34m[2020-06-25:15:58:01:INFO] Determined delimiter of CSV input is ','\u001b[0m\n",
      "\u001b[35m[2020-06-25:15:58:01:INFO] Determined delimiter of CSV input is ','\u001b[0m\n",
      "\u001b[34m169.254.255.130 - - [25/Jun/2020:15:58:04 +0000] \"POST /invocations HTTP/1.1\" 200 12265 \"-\" \"Go-http-client/1.1\"\u001b[0m\n",
      "\u001b[35m169.254.255.130 - - [25/Jun/2020:15:58:04 +0000] \"POST /invocations HTTP/1.1\" 200 12265 \"-\" \"Go-http-client/1.1\"\u001b[0m\n",
      "\u001b[34m[2020-06-25:15:58:04:INFO] Determined delimiter of CSV input is ','\u001b[0m\n",
      "\u001b[34m169.254.255.130 - - [25/Jun/2020:15:58:04 +0000] \"POST /invocations HTTP/1.1\" 200 12258 \"-\" \"Go-http-client/1.1\"\u001b[0m\n",
      "\u001b[34m169.254.255.130 - - [25/Jun/2020:15:58:05 +0000] \"POST /invocations HTTP/1.1\" 200 12318 \"-\" \"Go-http-client/1.1\"\u001b[0m\n",
      "\u001b[34m[2020-06-25:15:58:05:INFO] Determined delimiter of CSV input is ','\u001b[0m\n",
      "\u001b[34m169.254.255.130 - - [25/Jun/2020:15:58:05 +0000] \"POST /invocations HTTP/1.1\" 200 12255 \"-\" \"Go-http-client/1.1\"\u001b[0m\n",
      "\u001b[35m[2020-06-25:15:58:04:INFO] Determined delimiter of CSV input is ','\u001b[0m\n",
      "\u001b[35m169.254.255.130 - - [25/Jun/2020:15:58:04 +0000] \"POST /invocations HTTP/1.1\" 200 12258 \"-\" \"Go-http-client/1.1\"\u001b[0m\n",
      "\u001b[35m169.254.255.130 - - [25/Jun/2020:15:58:05 +0000] \"POST /invocations HTTP/1.1\" 200 12318 \"-\" \"Go-http-client/1.1\"\u001b[0m\n",
      "\u001b[35m[2020-06-25:15:58:05:INFO] Determined delimiter of CSV input is ','\u001b[0m\n",
      "\u001b[35m169.254.255.130 - - [25/Jun/2020:15:58:05 +0000] \"POST /invocations HTTP/1.1\" 200 12255 \"-\" \"Go-http-client/1.1\"\u001b[0m\n",
      "\u001b[34m[2020-06-25:15:58:05:INFO] Determined delimiter of CSV input is ','\u001b[0m\n",
      "\u001b[34m[2020-06-25:15:58:05:INFO] Determined delimiter of CSV input is ','\u001b[0m\n",
      "\u001b[35m[2020-06-25:15:58:05:INFO] Determined delimiter of CSV input is ','\u001b[0m\n",
      "\u001b[35m[2020-06-25:15:58:05:INFO] Determined delimiter of CSV input is ','\u001b[0m\n",
      "\n",
      "\u001b[34m169.254.255.130 - - [25/Jun/2020:15:58:08 +0000] \"POST /invocations HTTP/1.1\" 200 12297 \"-\" \"Go-http-client/1.1\"\u001b[0m\n",
      "\u001b[34m169.254.255.130 - - [25/Jun/2020:15:58:08 +0000] \"POST /invocations HTTP/1.1\" 200 12295 \"-\" \"Go-http-client/1.1\"\u001b[0m\n",
      "\u001b[35m169.254.255.130 - - [25/Jun/2020:15:58:08 +0000] \"POST /invocations HTTP/1.1\" 200 12297 \"-\" \"Go-http-client/1.1\"\u001b[0m\n",
      "\u001b[35m169.254.255.130 - - [25/Jun/2020:15:58:08 +0000] \"POST /invocations HTTP/1.1\" 200 12295 \"-\" \"Go-http-client/1.1\"\u001b[0m\n"
     ]
    }
   ],
   "source": [
    "xgb_transformer.wait()"
   ]
  },
  {
   "cell_type": "markdown",
   "metadata": {},
   "source": [
    "Now the transform job has executed and the result, the estimated sentiment of each review, has been saved on S3. Since we would rather work on this file locally we can perform a bit of notebook magic to copy the file to the `data_dir`."
   ]
  },
  {
   "cell_type": "code",
   "execution_count": 73,
   "metadata": {},
   "outputs": [
    {
     "name": "stdout",
     "output_type": "stream",
     "text": [
      "Completed 256.0 KiB/477.6 KiB (2.7 MiB/s) with 1 file(s) remaining\r",
      "Completed 477.6 KiB/477.6 KiB (4.8 MiB/s) with 1 file(s) remaining\r",
      "download: s3://sagemaker-eu-central-1-648654006923/sagemaker-xgboost-200625-1321-009-00c7a-2020-06-25-15-53-47-234/test.csv.out to ../data/xgboost/test.csv.out\r\n"
     ]
    }
   ],
   "source": [
    "!aws s3 cp --recursive $xgb_transformer.output_path $data_dir"
   ]
  },
  {
   "cell_type": "markdown",
   "metadata": {},
   "source": [
    "The last step is now to read in the output from our model, convert the output to something a little more usable, in this case we want the sentiment to be either `1` (positive) or `0` (negative), and then compare to the ground truth labels."
   ]
  },
  {
   "cell_type": "code",
   "execution_count": 74,
   "metadata": {},
   "outputs": [],
   "source": [
    "predictions = pd.read_csv(os.path.join(data_dir, 'test.csv.out'), header=None)\n",
    "predictions = [round(num) for num in predictions.squeeze().values]"
   ]
  },
  {
   "cell_type": "code",
   "execution_count": 75,
   "metadata": {},
   "outputs": [
    {
     "data": {
      "text/plain": [
       "0.87164"
      ]
     },
     "execution_count": 75,
     "metadata": {},
     "output_type": "execute_result"
    }
   ],
   "source": [
    "from sklearn.metrics import accuracy_score\n",
    "accuracy_score(test_y, predictions)"
   ]
  },
  {
   "cell_type": "markdown",
   "metadata": {},
   "source": [
    "## Optional: Clean up\n",
    "\n",
    "The default notebook instance on SageMaker doesn't have a lot of excess disk space available. As you continue to complete and execute notebooks you will eventually fill up this disk space, leading to errors which can be difficult to diagnose. Once you are completely finished using a notebook it is a good idea to remove the files that you created along the way. Of course, you can do this from the terminal or from the notebook hub if you would like. The cell below contains some commands to clean up the created files from within the notebook."
   ]
  },
  {
   "cell_type": "code",
   "execution_count": null,
   "metadata": {},
   "outputs": [],
   "source": [
    "# First we will remove all of the files contained in the data_dir directory\n",
    "#!rm $data_dir/*\n",
    "\n",
    "# And then we delete the directory itself\n",
    "#!rmdir $data_dir\n",
    "\n",
    "# Similarly we will remove the files in the cache_dir directory and the directory itself\n",
    "#!rm $cache_dir/*\n",
    "#!rmdir $cache_dir"
   ]
  },
  {
   "cell_type": "code",
   "execution_count": null,
   "metadata": {},
   "outputs": [],
   "source": []
  }
 ],
 "metadata": {
  "kernelspec": {
   "display_name": "conda_python3",
   "language": "python",
   "name": "conda_python3"
  },
  "language_info": {
   "codemirror_mode": {
    "name": "ipython",
    "version": 3
   },
   "file_extension": ".py",
   "mimetype": "text/x-python",
   "name": "python",
   "nbconvert_exporter": "python",
   "pygments_lexer": "ipython3",
   "version": "3.6.5"
  }
 },
 "nbformat": 4,
 "nbformat_minor": 2
}
